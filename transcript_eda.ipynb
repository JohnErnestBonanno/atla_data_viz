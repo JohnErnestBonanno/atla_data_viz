{
 "cells": [
  {
   "cell_type": "code",
   "execution_count": 1,
   "id": "6dba8e75-bed6-4579-bfca-bf453d4f16b7",
   "metadata": {},
   "outputs": [],
   "source": [
    "# imports\n",
    "\n",
    "#standard\n",
    "import pandas as pd\n",
    "#import random\n",
    "from datetime import datetime\n",
    "from pandasql import sqldf\n",
    "pysqldf = lambda q: sqldf(q,globals())\n",
    "\n",
    "#Viz\n",
    "import matplotlib.pyplot as plt\n",
    "import seaborn as sns\n",
    "import plotly.express as px\n",
    "\n",
    "#Data Pulls\n",
    "from bs4 import BeautifulSoup\n",
    "import requests\n",
    "import re"
   ]
  },
  {
   "cell_type": "code",
   "execution_count": 2,
   "id": "980e46e6-2216-47ad-a2a1-ae2f9a5fb6a3",
   "metadata": {},
   "outputs": [],
   "source": [
    "df = pd.read_csv('full_transcript.csv', index_col=0)"
   ]
  },
  {
   "cell_type": "code",
   "execution_count": 3,
   "id": "25725399-96fa-4cf4-a24d-957c65beb928",
   "metadata": {},
   "outputs": [
    {
     "data": {
      "text/html": [
       "<div>\n",
       "<style scoped>\n",
       "    .dataframe tbody tr th:only-of-type {\n",
       "        vertical-align: middle;\n",
       "    }\n",
       "\n",
       "    .dataframe tbody tr th {\n",
       "        vertical-align: top;\n",
       "    }\n",
       "\n",
       "    .dataframe thead th {\n",
       "        text-align: right;\n",
       "    }\n",
       "</style>\n",
       "<table border=\"1\" class=\"dataframe\">\n",
       "  <thead>\n",
       "    <tr style=\"text-align: right;\">\n",
       "      <th></th>\n",
       "      <th>character</th>\n",
       "      <th>dialogue</th>\n",
       "      <th>word_count</th>\n",
       "      <th>abs_episode</th>\n",
       "      <th>episode_title</th>\n",
       "      <th>season</th>\n",
       "      <th>episode_number</th>\n",
       "    </tr>\n",
       "  </thead>\n",
       "  <tbody>\n",
       "    <tr>\n",
       "      <th>0</th>\n",
       "      <td>Sokka</td>\n",
       "      <td>It's not getting away from me this time.  Watc...</td>\n",
       "      <td>19</td>\n",
       "      <td>1</td>\n",
       "      <td>The_Boy_in_the_Iceberg</td>\n",
       "      <td>1</td>\n",
       "      <td>1</td>\n",
       "    </tr>\n",
       "    <tr>\n",
       "      <th>1</th>\n",
       "      <td>Katara</td>\n",
       "      <td>Sokka, look!</td>\n",
       "      <td>2</td>\n",
       "      <td>1</td>\n",
       "      <td>The_Boy_in_the_Iceberg</td>\n",
       "      <td>1</td>\n",
       "      <td>1</td>\n",
       "    </tr>\n",
       "    <tr>\n",
       "      <th>2</th>\n",
       "      <td>Sokka</td>\n",
       "      <td>Sshh! Katara, you're going to scare it away.  ...</td>\n",
       "      <td>16</td>\n",
       "      <td>1</td>\n",
       "      <td>The_Boy_in_the_Iceberg</td>\n",
       "      <td>1</td>\n",
       "      <td>1</td>\n",
       "    </tr>\n",
       "    <tr>\n",
       "      <th>3</th>\n",
       "      <td>Katara</td>\n",
       "      <td>But, Sokka! I caught one!</td>\n",
       "      <td>5</td>\n",
       "      <td>1</td>\n",
       "      <td>The_Boy_in_the_Iceberg</td>\n",
       "      <td>1</td>\n",
       "      <td>1</td>\n",
       "    </tr>\n",
       "    <tr>\n",
       "      <th>4</th>\n",
       "      <td>Katara</td>\n",
       "      <td>Hey!</td>\n",
       "      <td>1</td>\n",
       "      <td>1</td>\n",
       "      <td>The_Boy_in_the_Iceberg</td>\n",
       "      <td>1</td>\n",
       "      <td>1</td>\n",
       "    </tr>\n",
       "  </tbody>\n",
       "</table>\n",
       "</div>"
      ],
      "text/plain": [
       "  character                                           dialogue  word_count  \\\n",
       "0     Sokka  It's not getting away from me this time.  Watc...          19   \n",
       "1    Katara                                       Sokka, look!           2   \n",
       "2     Sokka  Sshh! Katara, you're going to scare it away.  ...          16   \n",
       "3    Katara                          But, Sokka! I caught one!           5   \n",
       "4    Katara                                               Hey!           1   \n",
       "\n",
       "   abs_episode           episode_title  season  episode_number  \n",
       "0            1  The_Boy_in_the_Iceberg       1               1  \n",
       "1            1  The_Boy_in_the_Iceberg       1               1  \n",
       "2            1  The_Boy_in_the_Iceberg       1               1  \n",
       "3            1  The_Boy_in_the_Iceberg       1               1  \n",
       "4            1  The_Boy_in_the_Iceberg       1               1  "
      ]
     },
     "execution_count": 3,
     "metadata": {},
     "output_type": "execute_result"
    }
   ],
   "source": [
    "df.head()"
   ]
  },
  {
   "cell_type": "code",
   "execution_count": 4,
   "id": "d01881e3-3887-4a1c-a961-97529e9b44ef",
   "metadata": {},
   "outputs": [],
   "source": [
    "df1 = df.loc[df['abs_episode'] == 1].copy()"
   ]
  },
  {
   "cell_type": "code",
   "execution_count": 7,
   "id": "b8399458-c472-41da-bfee-0aaf60341f80",
   "metadata": {},
   "outputs": [],
   "source": [
    "df1['x_top'] = range(1, 2 * len(df1) + 1, 2)\n",
    "df1['x_bottom'] = range(1, 2 * len(df1) + 1, 2)"
   ]
  },
  {
   "cell_type": "code",
   "execution_count": 8,
   "id": "47d8550c-7367-47c6-9e4c-97ebcfdbc23c",
   "metadata": {},
   "outputs": [
    {
     "data": {
      "text/html": [
       "<div>\n",
       "<style scoped>\n",
       "    .dataframe tbody tr th:only-of-type {\n",
       "        vertical-align: middle;\n",
       "    }\n",
       "\n",
       "    .dataframe tbody tr th {\n",
       "        vertical-align: top;\n",
       "    }\n",
       "\n",
       "    .dataframe thead th {\n",
       "        text-align: right;\n",
       "    }\n",
       "</style>\n",
       "<table border=\"1\" class=\"dataframe\">\n",
       "  <thead>\n",
       "    <tr style=\"text-align: right;\">\n",
       "      <th></th>\n",
       "      <th>character</th>\n",
       "      <th>dialogue</th>\n",
       "      <th>word_count</th>\n",
       "      <th>abs_episode</th>\n",
       "      <th>episode_title</th>\n",
       "      <th>season</th>\n",
       "      <th>episode_number</th>\n",
       "      <th>x_top</th>\n",
       "      <th>x_bottom</th>\n",
       "    </tr>\n",
       "  </thead>\n",
       "  <tbody>\n",
       "    <tr>\n",
       "      <th>0</th>\n",
       "      <td>Sokka</td>\n",
       "      <td>It's not getting away from me this time.  Watc...</td>\n",
       "      <td>19</td>\n",
       "      <td>1</td>\n",
       "      <td>The_Boy_in_the_Iceberg</td>\n",
       "      <td>1</td>\n",
       "      <td>1</td>\n",
       "      <td>1</td>\n",
       "      <td>1</td>\n",
       "    </tr>\n",
       "    <tr>\n",
       "      <th>1</th>\n",
       "      <td>Katara</td>\n",
       "      <td>Sokka, look!</td>\n",
       "      <td>2</td>\n",
       "      <td>1</td>\n",
       "      <td>The_Boy_in_the_Iceberg</td>\n",
       "      <td>1</td>\n",
       "      <td>1</td>\n",
       "      <td>3</td>\n",
       "      <td>3</td>\n",
       "    </tr>\n",
       "    <tr>\n",
       "      <th>2</th>\n",
       "      <td>Sokka</td>\n",
       "      <td>Sshh! Katara, you're going to scare it away.  ...</td>\n",
       "      <td>16</td>\n",
       "      <td>1</td>\n",
       "      <td>The_Boy_in_the_Iceberg</td>\n",
       "      <td>1</td>\n",
       "      <td>1</td>\n",
       "      <td>5</td>\n",
       "      <td>5</td>\n",
       "    </tr>\n",
       "    <tr>\n",
       "      <th>3</th>\n",
       "      <td>Katara</td>\n",
       "      <td>But, Sokka! I caught one!</td>\n",
       "      <td>5</td>\n",
       "      <td>1</td>\n",
       "      <td>The_Boy_in_the_Iceberg</td>\n",
       "      <td>1</td>\n",
       "      <td>1</td>\n",
       "      <td>7</td>\n",
       "      <td>7</td>\n",
       "    </tr>\n",
       "    <tr>\n",
       "      <th>4</th>\n",
       "      <td>Katara</td>\n",
       "      <td>Hey!</td>\n",
       "      <td>1</td>\n",
       "      <td>1</td>\n",
       "      <td>The_Boy_in_the_Iceberg</td>\n",
       "      <td>1</td>\n",
       "      <td>1</td>\n",
       "      <td>9</td>\n",
       "      <td>9</td>\n",
       "    </tr>\n",
       "  </tbody>\n",
       "</table>\n",
       "</div>"
      ],
      "text/plain": [
       "  character                                           dialogue  word_count  \\\n",
       "0     Sokka  It's not getting away from me this time.  Watc...          19   \n",
       "1    Katara                                       Sokka, look!           2   \n",
       "2     Sokka  Sshh! Katara, you're going to scare it away.  ...          16   \n",
       "3    Katara                          But, Sokka! I caught one!           5   \n",
       "4    Katara                                               Hey!           1   \n",
       "\n",
       "   abs_episode           episode_title  season  episode_number  x_top  \\\n",
       "0            1  The_Boy_in_the_Iceberg       1               1      1   \n",
       "1            1  The_Boy_in_the_Iceberg       1               1      3   \n",
       "2            1  The_Boy_in_the_Iceberg       1               1      5   \n",
       "3            1  The_Boy_in_the_Iceberg       1               1      7   \n",
       "4            1  The_Boy_in_the_Iceberg       1               1      9   \n",
       "\n",
       "   x_bottom  \n",
       "0         1  \n",
       "1         3  \n",
       "2         5  \n",
       "3         7  \n",
       "4         9  "
      ]
     },
     "execution_count": 8,
     "metadata": {},
     "output_type": "execute_result"
    }
   ],
   "source": [
    "df1.head()"
   ]
  },
  {
   "cell_type": "code",
   "execution_count": 9,
   "id": "49289d85-7b05-461d-9f4b-fdf6e08a5d4f",
   "metadata": {},
   "outputs": [],
   "source": [
    "df1['y_top'] = df1['word_count']/2\n",
    "df1['y_bottom'] = df1['word_count']/2 * -1"
   ]
  },
  {
   "cell_type": "code",
   "execution_count": 10,
   "id": "9379218c-b716-4aab-af05-825dd03715a2",
   "metadata": {},
   "outputs": [
    {
     "data": {
      "text/html": [
       "<div>\n",
       "<style scoped>\n",
       "    .dataframe tbody tr th:only-of-type {\n",
       "        vertical-align: middle;\n",
       "    }\n",
       "\n",
       "    .dataframe tbody tr th {\n",
       "        vertical-align: top;\n",
       "    }\n",
       "\n",
       "    .dataframe thead th {\n",
       "        text-align: right;\n",
       "    }\n",
       "</style>\n",
       "<table border=\"1\" class=\"dataframe\">\n",
       "  <thead>\n",
       "    <tr style=\"text-align: right;\">\n",
       "      <th></th>\n",
       "      <th>character</th>\n",
       "      <th>dialogue</th>\n",
       "      <th>word_count</th>\n",
       "      <th>abs_episode</th>\n",
       "      <th>episode_title</th>\n",
       "      <th>season</th>\n",
       "      <th>episode_number</th>\n",
       "      <th>x_top</th>\n",
       "      <th>x_bottom</th>\n",
       "      <th>y_top</th>\n",
       "      <th>y_bottom</th>\n",
       "    </tr>\n",
       "  </thead>\n",
       "  <tbody>\n",
       "    <tr>\n",
       "      <th>0</th>\n",
       "      <td>Sokka</td>\n",
       "      <td>It's not getting away from me this time.  Watc...</td>\n",
       "      <td>19</td>\n",
       "      <td>1</td>\n",
       "      <td>The_Boy_in_the_Iceberg</td>\n",
       "      <td>1</td>\n",
       "      <td>1</td>\n",
       "      <td>1</td>\n",
       "      <td>1</td>\n",
       "      <td>9.5</td>\n",
       "      <td>-9.5</td>\n",
       "    </tr>\n",
       "    <tr>\n",
       "      <th>1</th>\n",
       "      <td>Katara</td>\n",
       "      <td>Sokka, look!</td>\n",
       "      <td>2</td>\n",
       "      <td>1</td>\n",
       "      <td>The_Boy_in_the_Iceberg</td>\n",
       "      <td>1</td>\n",
       "      <td>1</td>\n",
       "      <td>3</td>\n",
       "      <td>3</td>\n",
       "      <td>1.0</td>\n",
       "      <td>-1.0</td>\n",
       "    </tr>\n",
       "    <tr>\n",
       "      <th>2</th>\n",
       "      <td>Sokka</td>\n",
       "      <td>Sshh! Katara, you're going to scare it away.  ...</td>\n",
       "      <td>16</td>\n",
       "      <td>1</td>\n",
       "      <td>The_Boy_in_the_Iceberg</td>\n",
       "      <td>1</td>\n",
       "      <td>1</td>\n",
       "      <td>5</td>\n",
       "      <td>5</td>\n",
       "      <td>8.0</td>\n",
       "      <td>-8.0</td>\n",
       "    </tr>\n",
       "    <tr>\n",
       "      <th>3</th>\n",
       "      <td>Katara</td>\n",
       "      <td>But, Sokka! I caught one!</td>\n",
       "      <td>5</td>\n",
       "      <td>1</td>\n",
       "      <td>The_Boy_in_the_Iceberg</td>\n",
       "      <td>1</td>\n",
       "      <td>1</td>\n",
       "      <td>7</td>\n",
       "      <td>7</td>\n",
       "      <td>2.5</td>\n",
       "      <td>-2.5</td>\n",
       "    </tr>\n",
       "    <tr>\n",
       "      <th>4</th>\n",
       "      <td>Katara</td>\n",
       "      <td>Hey!</td>\n",
       "      <td>1</td>\n",
       "      <td>1</td>\n",
       "      <td>The_Boy_in_the_Iceberg</td>\n",
       "      <td>1</td>\n",
       "      <td>1</td>\n",
       "      <td>9</td>\n",
       "      <td>9</td>\n",
       "      <td>0.5</td>\n",
       "      <td>-0.5</td>\n",
       "    </tr>\n",
       "  </tbody>\n",
       "</table>\n",
       "</div>"
      ],
      "text/plain": [
       "  character                                           dialogue  word_count  \\\n",
       "0     Sokka  It's not getting away from me this time.  Watc...          19   \n",
       "1    Katara                                       Sokka, look!           2   \n",
       "2     Sokka  Sshh! Katara, you're going to scare it away.  ...          16   \n",
       "3    Katara                          But, Sokka! I caught one!           5   \n",
       "4    Katara                                               Hey!           1   \n",
       "\n",
       "   abs_episode           episode_title  season  episode_number  x_top  \\\n",
       "0            1  The_Boy_in_the_Iceberg       1               1      1   \n",
       "1            1  The_Boy_in_the_Iceberg       1               1      3   \n",
       "2            1  The_Boy_in_the_Iceberg       1               1      5   \n",
       "3            1  The_Boy_in_the_Iceberg       1               1      7   \n",
       "4            1  The_Boy_in_the_Iceberg       1               1      9   \n",
       "\n",
       "   x_bottom  y_top  y_bottom  \n",
       "0         1    9.5      -9.5  \n",
       "1         3    1.0      -1.0  \n",
       "2         5    8.0      -8.0  \n",
       "3         7    2.5      -2.5  \n",
       "4         9    0.5      -0.5  "
      ]
     },
     "execution_count": 10,
     "metadata": {},
     "output_type": "execute_result"
    }
   ],
   "source": [
    "df1.head()"
   ]
  },
  {
   "cell_type": "code",
   "execution_count": null,
   "id": "509749de-e795-468a-a056-bf534ec3db1f",
   "metadata": {},
   "outputs": [],
   "source": [
    "#https://stackoverflow.com/questions/55939775/succint-way-to-add-line-segments-to-plotly-graph-with-python-jupyter-notebook"
   ]
  },
  {
   "cell_type": "code",
   "execution_count": 11,
   "id": "3445c0ab-e247-4aa5-adf1-d6db882f916f",
   "metadata": {},
   "outputs": [],
   "source": [
    "import pandas as pd\n",
    "import numpy as np\n",
    "import plotly.offline as pyo\n",
    "import plotly.graph_objs as go"
   ]
  },
  {
   "cell_type": "code",
   "execution_count": 18,
   "id": "d5c30241-6cae-4cee-ada5-87c066fdbf0d",
   "metadata": {},
   "outputs": [
    {
     "data": {
      "application/vnd.plotly.v1+json": {
       "config": {
        "plotlyServerURL": "https://plot.ly"
       },
       "data": [
        {
         "marker": {
          "color": "blue"
         },
         "mode": "markers",
         "type": "scatter",
         "x": [
          1,
          3,
          5,
          7,
          9,
          11,
          13,
          15,
          17,
          19,
          21,
          23,
          25,
          27,
          29,
          31,
          33,
          35,
          37,
          39,
          41,
          43,
          45,
          47,
          49,
          51,
          53,
          55,
          57,
          59,
          61,
          63,
          65,
          67,
          69,
          71,
          73,
          75,
          77,
          79,
          81,
          83,
          85,
          87,
          89,
          91,
          93,
          95,
          97,
          99,
          101,
          103,
          105,
          107,
          109,
          111,
          113,
          115,
          117,
          119,
          121,
          123,
          125,
          127,
          129,
          131,
          133,
          135,
          137,
          139,
          141,
          143,
          145,
          147,
          149,
          151,
          153,
          155,
          157,
          159,
          161,
          163,
          165,
          167,
          169,
          171,
          173,
          175,
          177,
          179,
          181,
          183,
          185,
          187,
          189,
          191,
          193,
          195,
          197,
          199,
          201,
          203,
          205,
          207,
          209,
          211,
          213,
          215,
          217,
          219,
          221,
          223,
          225,
          227,
          229,
          231,
          233,
          235,
          237,
          239,
          241,
          243,
          245,
          247,
          249,
          251,
          253,
          255,
          257,
          259,
          261,
          263,
          265,
          267,
          269,
          271,
          273,
          275,
          277,
          279,
          281,
          283,
          285,
          287,
          289,
          291,
          293,
          295,
          297,
          299,
          301,
          303,
          305
         ],
         "y": [
          9.5,
          1,
          8,
          2.5,
          0.5,
          7,
          4,
          14,
          11,
          3,
          2,
          7.5,
          2,
          8,
          8,
          9,
          2,
          9.5,
          1.5,
          7,
          4,
          2.5,
          1,
          3,
          5.5,
          4,
          3.5,
          5.5,
          6.5,
          18,
          9.5,
          0.5,
          1,
          3.5,
          0.5,
          2,
          1.5,
          3.5,
          2.5,
          2,
          7.5,
          1.5,
          4,
          2,
          2,
          3,
          4,
          6,
          10,
          17,
          3,
          5.5,
          3,
          1.5,
          1,
          11,
          7,
          2.5,
          5,
          12,
          4.5,
          2,
          3,
          8.5,
          4,
          2,
          19.5,
          9.5,
          0.5,
          2,
          10.5,
          9,
          2.5,
          1,
          10,
          4.5,
          7.5,
          11.5,
          0.5,
          2.5,
          1.5,
          5.5,
          3.5,
          2.5,
          7.5,
          4.5,
          1,
          1,
          1,
          1,
          1.5,
          8,
          1.5,
          2.5,
          5.5,
          8,
          5.5,
          6.5,
          4.5,
          0.5,
          16.5,
          8.5,
          7,
          23,
          5,
          17,
          1.5,
          13,
          2.5,
          3,
          6,
          2.5,
          7,
          0.5,
          11,
          3.5,
          1.5,
          0.5,
          1.5,
          0.5,
          8,
          6.5,
          12.5,
          6,
          14.5,
          16,
          13.5,
          6,
          9.5,
          7.5,
          3,
          4.5,
          2.5,
          2,
          13,
          7,
          10.5,
          10,
          4,
          3.5,
          4.5,
          6,
          13.5,
          3.5,
          6.5,
          3,
          3.5,
          4,
          0.5,
          3.5,
          3,
          0.5,
          12.5
         ]
        },
        {
         "marker": {
          "color": "blue"
         },
         "mode": "markers",
         "type": "scatter",
         "x": [
          1,
          3,
          5,
          7,
          9,
          11,
          13,
          15,
          17,
          19,
          21,
          23,
          25,
          27,
          29,
          31,
          33,
          35,
          37,
          39,
          41,
          43,
          45,
          47,
          49,
          51,
          53,
          55,
          57,
          59,
          61,
          63,
          65,
          67,
          69,
          71,
          73,
          75,
          77,
          79,
          81,
          83,
          85,
          87,
          89,
          91,
          93,
          95,
          97,
          99,
          101,
          103,
          105,
          107,
          109,
          111,
          113,
          115,
          117,
          119,
          121,
          123,
          125,
          127,
          129,
          131,
          133,
          135,
          137,
          139,
          141,
          143,
          145,
          147,
          149,
          151,
          153,
          155,
          157,
          159,
          161,
          163,
          165,
          167,
          169,
          171,
          173,
          175,
          177,
          179,
          181,
          183,
          185,
          187,
          189,
          191,
          193,
          195,
          197,
          199,
          201,
          203,
          205,
          207,
          209,
          211,
          213,
          215,
          217,
          219,
          221,
          223,
          225,
          227,
          229,
          231,
          233,
          235,
          237,
          239,
          241,
          243,
          245,
          247,
          249,
          251,
          253,
          255,
          257,
          259,
          261,
          263,
          265,
          267,
          269,
          271,
          273,
          275,
          277,
          279,
          281,
          283,
          285,
          287,
          289,
          291,
          293,
          295,
          297,
          299,
          301,
          303,
          305
         ],
         "y": [
          -9.5,
          -1,
          -8,
          -2.5,
          -0.5,
          -7,
          -4,
          -14,
          -11,
          -3,
          -2,
          -7.5,
          -2,
          -8,
          -8,
          -9,
          -2,
          -9.5,
          -1.5,
          -7,
          -4,
          -2.5,
          -1,
          -3,
          -5.5,
          -4,
          -3.5,
          -5.5,
          -6.5,
          -18,
          -9.5,
          -0.5,
          -1,
          -3.5,
          -0.5,
          -2,
          -1.5,
          -3.5,
          -2.5,
          -2,
          -7.5,
          -1.5,
          -4,
          -2,
          -2,
          -3,
          -4,
          -6,
          -10,
          -17,
          -3,
          -5.5,
          -3,
          -1.5,
          -1,
          -11,
          -7,
          -2.5,
          -5,
          -12,
          -4.5,
          -2,
          -3,
          -8.5,
          -4,
          -2,
          -19.5,
          -9.5,
          -0.5,
          -2,
          -10.5,
          -9,
          -2.5,
          -1,
          -10,
          -4.5,
          -7.5,
          -11.5,
          -0.5,
          -2.5,
          -1.5,
          -5.5,
          -3.5,
          -2.5,
          -7.5,
          -4.5,
          -1,
          -1,
          -1,
          -1,
          -1.5,
          -8,
          -1.5,
          -2.5,
          -5.5,
          -8,
          -5.5,
          -6.5,
          -4.5,
          -0.5,
          -16.5,
          -8.5,
          -7,
          -23,
          -5,
          -17,
          -1.5,
          -13,
          -2.5,
          -3,
          -6,
          -2.5,
          -7,
          -0.5,
          -11,
          -3.5,
          -1.5,
          -0.5,
          -1.5,
          -0.5,
          -8,
          -6.5,
          -12.5,
          -6,
          -14.5,
          -16,
          -13.5,
          -6,
          -9.5,
          -7.5,
          -3,
          -4.5,
          -2.5,
          -2,
          -13,
          -7,
          -10.5,
          -10,
          -4,
          -3.5,
          -4.5,
          -6,
          -13.5,
          -3.5,
          -6.5,
          -3,
          -3.5,
          -4,
          -0.5,
          -3.5,
          -3,
          -0.5,
          -12.5
         ]
        }
       ],
       "layout": {
        "autosize": true,
        "shapes": [
         {
          "line": {
           "color": "grey",
           "width": 2
          },
          "type": "line",
          "x0": 1,
          "x1": 1,
          "y0": 1,
          "y1": 1
         },
         {
          "line": {
           "color": "grey",
           "width": 2
          },
          "type": "line",
          "x0": 3,
          "x1": 3,
          "y0": 2,
          "y1": 2
         },
         {
          "line": {
           "color": "grey",
           "width": 2
          },
          "type": "line",
          "x0": 5,
          "x1": 5,
          "y0": 3,
          "y1": 3
         },
         {
          "line": {
           "color": "grey",
           "width": 2
          },
          "type": "line",
          "x0": 7,
          "x1": 7,
          "y0": 4,
          "y1": 4
         },
         {
          "line": {
           "color": "grey",
           "width": 2
          },
          "type": "line",
          "x0": 9,
          "x1": 9,
          "y0": 5,
          "y1": 5
         },
         {
          "line": {
           "color": "grey",
           "width": 2
          },
          "type": "line",
          "x0": 11,
          "x1": 11,
          "y0": 6,
          "y1": 6
         },
         {
          "line": {
           "color": "grey",
           "width": 2
          },
          "type": "line",
          "x0": 13,
          "x1": 13,
          "y0": 7,
          "y1": 7
         },
         {
          "line": {
           "color": "grey",
           "width": 2
          },
          "type": "line",
          "x0": 15,
          "x1": 15,
          "y0": 8,
          "y1": 8
         },
         {
          "line": {
           "color": "grey",
           "width": 2
          },
          "type": "line",
          "x0": 17,
          "x1": 17,
          "y0": 9,
          "y1": 9
         },
         {
          "line": {
           "color": "grey",
           "width": 2
          },
          "type": "line",
          "x0": 19,
          "x1": 19,
          "y0": 10,
          "y1": 10
         },
         {
          "line": {
           "color": "grey",
           "width": 2
          },
          "type": "line",
          "x0": 21,
          "x1": 21,
          "y0": 11,
          "y1": 11
         },
         {
          "line": {
           "color": "grey",
           "width": 2
          },
          "type": "line",
          "x0": 23,
          "x1": 23,
          "y0": 12,
          "y1": 12
         },
         {
          "line": {
           "color": "grey",
           "width": 2
          },
          "type": "line",
          "x0": 25,
          "x1": 25,
          "y0": 13,
          "y1": 13
         },
         {
          "line": {
           "color": "grey",
           "width": 2
          },
          "type": "line",
          "x0": 27,
          "x1": 27,
          "y0": 14,
          "y1": 14
         },
         {
          "line": {
           "color": "grey",
           "width": 2
          },
          "type": "line",
          "x0": 29,
          "x1": 29,
          "y0": 15,
          "y1": 15
         },
         {
          "line": {
           "color": "grey",
           "width": 2
          },
          "type": "line",
          "x0": 31,
          "x1": 31,
          "y0": 16,
          "y1": 16
         },
         {
          "line": {
           "color": "grey",
           "width": 2
          },
          "type": "line",
          "x0": 33,
          "x1": 33,
          "y0": 17,
          "y1": 17
         },
         {
          "line": {
           "color": "grey",
           "width": 2
          },
          "type": "line",
          "x0": 35,
          "x1": 35,
          "y0": 18,
          "y1": 18
         },
         {
          "line": {
           "color": "grey",
           "width": 2
          },
          "type": "line",
          "x0": 37,
          "x1": 37,
          "y0": 19,
          "y1": 19
         },
         {
          "line": {
           "color": "grey",
           "width": 2
          },
          "type": "line",
          "x0": 39,
          "x1": 39,
          "y0": 20,
          "y1": 20
         },
         {
          "line": {
           "color": "grey",
           "width": 2
          },
          "type": "line",
          "x0": 41,
          "x1": 41,
          "y0": 21,
          "y1": 21
         },
         {
          "line": {
           "color": "grey",
           "width": 2
          },
          "type": "line",
          "x0": 43,
          "x1": 43,
          "y0": 22,
          "y1": 22
         },
         {
          "line": {
           "color": "grey",
           "width": 2
          },
          "type": "line",
          "x0": 45,
          "x1": 45,
          "y0": 23,
          "y1": 23
         },
         {
          "line": {
           "color": "grey",
           "width": 2
          },
          "type": "line",
          "x0": 47,
          "x1": 47,
          "y0": 24,
          "y1": 24
         },
         {
          "line": {
           "color": "grey",
           "width": 2
          },
          "type": "line",
          "x0": 49,
          "x1": 49,
          "y0": 25,
          "y1": 25
         },
         {
          "line": {
           "color": "grey",
           "width": 2
          },
          "type": "line",
          "x0": 51,
          "x1": 51,
          "y0": 26,
          "y1": 26
         },
         {
          "line": {
           "color": "grey",
           "width": 2
          },
          "type": "line",
          "x0": 53,
          "x1": 53,
          "y0": 27,
          "y1": 27
         },
         {
          "line": {
           "color": "grey",
           "width": 2
          },
          "type": "line",
          "x0": 55,
          "x1": 55,
          "y0": 28,
          "y1": 28
         },
         {
          "line": {
           "color": "grey",
           "width": 2
          },
          "type": "line",
          "x0": 57,
          "x1": 57,
          "y0": 29,
          "y1": 29
         },
         {
          "line": {
           "color": "grey",
           "width": 2
          },
          "type": "line",
          "x0": 59,
          "x1": 59,
          "y0": 30,
          "y1": 30
         },
         {
          "line": {
           "color": "grey",
           "width": 2
          },
          "type": "line",
          "x0": 61,
          "x1": 61,
          "y0": 31,
          "y1": 31
         },
         {
          "line": {
           "color": "grey",
           "width": 2
          },
          "type": "line",
          "x0": 63,
          "x1": 63,
          "y0": 32,
          "y1": 32
         },
         {
          "line": {
           "color": "grey",
           "width": 2
          },
          "type": "line",
          "x0": 65,
          "x1": 65,
          "y0": 33,
          "y1": 33
         },
         {
          "line": {
           "color": "grey",
           "width": 2
          },
          "type": "line",
          "x0": 67,
          "x1": 67,
          "y0": 34,
          "y1": 34
         },
         {
          "line": {
           "color": "grey",
           "width": 2
          },
          "type": "line",
          "x0": 69,
          "x1": 69,
          "y0": 35,
          "y1": 35
         },
         {
          "line": {
           "color": "grey",
           "width": 2
          },
          "type": "line",
          "x0": 71,
          "x1": 71,
          "y0": 36,
          "y1": 36
         },
         {
          "line": {
           "color": "grey",
           "width": 2
          },
          "type": "line",
          "x0": 73,
          "x1": 73,
          "y0": 37,
          "y1": 37
         },
         {
          "line": {
           "color": "grey",
           "width": 2
          },
          "type": "line",
          "x0": 75,
          "x1": 75,
          "y0": 38,
          "y1": 38
         },
         {
          "line": {
           "color": "grey",
           "width": 2
          },
          "type": "line",
          "x0": 77,
          "x1": 77,
          "y0": 39,
          "y1": 39
         },
         {
          "line": {
           "color": "grey",
           "width": 2
          },
          "type": "line",
          "x0": 79,
          "x1": 79,
          "y0": 40,
          "y1": 40
         },
         {
          "line": {
           "color": "grey",
           "width": 2
          },
          "type": "line",
          "x0": 81,
          "x1": 81,
          "y0": 41,
          "y1": 41
         },
         {
          "line": {
           "color": "grey",
           "width": 2
          },
          "type": "line",
          "x0": 83,
          "x1": 83,
          "y0": 42,
          "y1": 42
         },
         {
          "line": {
           "color": "grey",
           "width": 2
          },
          "type": "line",
          "x0": 85,
          "x1": 85,
          "y0": 43,
          "y1": 43
         },
         {
          "line": {
           "color": "grey",
           "width": 2
          },
          "type": "line",
          "x0": 87,
          "x1": 87,
          "y0": 44,
          "y1": 44
         },
         {
          "line": {
           "color": "grey",
           "width": 2
          },
          "type": "line",
          "x0": 89,
          "x1": 89,
          "y0": 45,
          "y1": 45
         },
         {
          "line": {
           "color": "grey",
           "width": 2
          },
          "type": "line",
          "x0": 91,
          "x1": 91,
          "y0": 46,
          "y1": 46
         },
         {
          "line": {
           "color": "grey",
           "width": 2
          },
          "type": "line",
          "x0": 93,
          "x1": 93,
          "y0": 47,
          "y1": 47
         },
         {
          "line": {
           "color": "grey",
           "width": 2
          },
          "type": "line",
          "x0": 95,
          "x1": 95,
          "y0": 48,
          "y1": 48
         },
         {
          "line": {
           "color": "grey",
           "width": 2
          },
          "type": "line",
          "x0": 97,
          "x1": 97,
          "y0": 49,
          "y1": 49
         },
         {
          "line": {
           "color": "grey",
           "width": 2
          },
          "type": "line",
          "x0": 99,
          "x1": 99,
          "y0": 50,
          "y1": 50
         },
         {
          "line": {
           "color": "grey",
           "width": 2
          },
          "type": "line",
          "x0": 101,
          "x1": 101,
          "y0": 51,
          "y1": 51
         },
         {
          "line": {
           "color": "grey",
           "width": 2
          },
          "type": "line",
          "x0": 103,
          "x1": 103,
          "y0": 52,
          "y1": 52
         },
         {
          "line": {
           "color": "grey",
           "width": 2
          },
          "type": "line",
          "x0": 105,
          "x1": 105,
          "y0": 53,
          "y1": 53
         },
         {
          "line": {
           "color": "grey",
           "width": 2
          },
          "type": "line",
          "x0": 107,
          "x1": 107,
          "y0": 54,
          "y1": 54
         },
         {
          "line": {
           "color": "grey",
           "width": 2
          },
          "type": "line",
          "x0": 109,
          "x1": 109,
          "y0": 55,
          "y1": 55
         },
         {
          "line": {
           "color": "grey",
           "width": 2
          },
          "type": "line",
          "x0": 111,
          "x1": 111,
          "y0": 56,
          "y1": 56
         },
         {
          "line": {
           "color": "grey",
           "width": 2
          },
          "type": "line",
          "x0": 113,
          "x1": 113,
          "y0": 57,
          "y1": 57
         },
         {
          "line": {
           "color": "grey",
           "width": 2
          },
          "type": "line",
          "x0": 115,
          "x1": 115,
          "y0": 58,
          "y1": 58
         },
         {
          "line": {
           "color": "grey",
           "width": 2
          },
          "type": "line",
          "x0": 117,
          "x1": 117,
          "y0": 59,
          "y1": 59
         },
         {
          "line": {
           "color": "grey",
           "width": 2
          },
          "type": "line",
          "x0": 119,
          "x1": 119,
          "y0": 60,
          "y1": 60
         },
         {
          "line": {
           "color": "grey",
           "width": 2
          },
          "type": "line",
          "x0": 121,
          "x1": 121,
          "y0": 61,
          "y1": 61
         },
         {
          "line": {
           "color": "grey",
           "width": 2
          },
          "type": "line",
          "x0": 123,
          "x1": 123,
          "y0": 62,
          "y1": 62
         },
         {
          "line": {
           "color": "grey",
           "width": 2
          },
          "type": "line",
          "x0": 125,
          "x1": 125,
          "y0": 63,
          "y1": 63
         },
         {
          "line": {
           "color": "grey",
           "width": 2
          },
          "type": "line",
          "x0": 127,
          "x1": 127,
          "y0": 64,
          "y1": 64
         },
         {
          "line": {
           "color": "grey",
           "width": 2
          },
          "type": "line",
          "x0": 129,
          "x1": 129,
          "y0": 65,
          "y1": 65
         },
         {
          "line": {
           "color": "grey",
           "width": 2
          },
          "type": "line",
          "x0": 131,
          "x1": 131,
          "y0": 66,
          "y1": 66
         },
         {
          "line": {
           "color": "grey",
           "width": 2
          },
          "type": "line",
          "x0": 133,
          "x1": 133,
          "y0": 67,
          "y1": 67
         },
         {
          "line": {
           "color": "grey",
           "width": 2
          },
          "type": "line",
          "x0": 135,
          "x1": 135,
          "y0": 68,
          "y1": 68
         },
         {
          "line": {
           "color": "grey",
           "width": 2
          },
          "type": "line",
          "x0": 137,
          "x1": 137,
          "y0": 69,
          "y1": 69
         },
         {
          "line": {
           "color": "grey",
           "width": 2
          },
          "type": "line",
          "x0": 139,
          "x1": 139,
          "y0": 70,
          "y1": 70
         },
         {
          "line": {
           "color": "grey",
           "width": 2
          },
          "type": "line",
          "x0": 141,
          "x1": 141,
          "y0": 71,
          "y1": 71
         },
         {
          "line": {
           "color": "grey",
           "width": 2
          },
          "type": "line",
          "x0": 143,
          "x1": 143,
          "y0": 72,
          "y1": 72
         },
         {
          "line": {
           "color": "grey",
           "width": 2
          },
          "type": "line",
          "x0": 145,
          "x1": 145,
          "y0": 73,
          "y1": 73
         },
         {
          "line": {
           "color": "grey",
           "width": 2
          },
          "type": "line",
          "x0": 147,
          "x1": 147,
          "y0": 74,
          "y1": 74
         },
         {
          "line": {
           "color": "grey",
           "width": 2
          },
          "type": "line",
          "x0": 149,
          "x1": 149,
          "y0": 75,
          "y1": 75
         },
         {
          "line": {
           "color": "grey",
           "width": 2
          },
          "type": "line",
          "x0": 151,
          "x1": 151,
          "y0": 76,
          "y1": 76
         },
         {
          "line": {
           "color": "grey",
           "width": 2
          },
          "type": "line",
          "x0": 153,
          "x1": 153,
          "y0": 77,
          "y1": 77
         },
         {
          "line": {
           "color": "grey",
           "width": 2
          },
          "type": "line",
          "x0": 155,
          "x1": 155,
          "y0": 78,
          "y1": 78
         },
         {
          "line": {
           "color": "grey",
           "width": 2
          },
          "type": "line",
          "x0": 157,
          "x1": 157,
          "y0": 79,
          "y1": 79
         },
         {
          "line": {
           "color": "grey",
           "width": 2
          },
          "type": "line",
          "x0": 159,
          "x1": 159,
          "y0": 80,
          "y1": 80
         },
         {
          "line": {
           "color": "grey",
           "width": 2
          },
          "type": "line",
          "x0": 161,
          "x1": 161,
          "y0": 81,
          "y1": 81
         },
         {
          "line": {
           "color": "grey",
           "width": 2
          },
          "type": "line",
          "x0": 163,
          "x1": 163,
          "y0": 82,
          "y1": 82
         },
         {
          "line": {
           "color": "grey",
           "width": 2
          },
          "type": "line",
          "x0": 165,
          "x1": 165,
          "y0": 83,
          "y1": 83
         },
         {
          "line": {
           "color": "grey",
           "width": 2
          },
          "type": "line",
          "x0": 167,
          "x1": 167,
          "y0": 84,
          "y1": 84
         },
         {
          "line": {
           "color": "grey",
           "width": 2
          },
          "type": "line",
          "x0": 169,
          "x1": 169,
          "y0": 85,
          "y1": 85
         },
         {
          "line": {
           "color": "grey",
           "width": 2
          },
          "type": "line",
          "x0": 171,
          "x1": 171,
          "y0": 86,
          "y1": 86
         },
         {
          "line": {
           "color": "grey",
           "width": 2
          },
          "type": "line",
          "x0": 173,
          "x1": 173,
          "y0": 87,
          "y1": 87
         },
         {
          "line": {
           "color": "grey",
           "width": 2
          },
          "type": "line",
          "x0": 175,
          "x1": 175,
          "y0": 88,
          "y1": 88
         },
         {
          "line": {
           "color": "grey",
           "width": 2
          },
          "type": "line",
          "x0": 177,
          "x1": 177,
          "y0": 89,
          "y1": 89
         },
         {
          "line": {
           "color": "grey",
           "width": 2
          },
          "type": "line",
          "x0": 179,
          "x1": 179,
          "y0": 90,
          "y1": 90
         },
         {
          "line": {
           "color": "grey",
           "width": 2
          },
          "type": "line",
          "x0": 181,
          "x1": 181,
          "y0": 91,
          "y1": 91
         },
         {
          "line": {
           "color": "grey",
           "width": 2
          },
          "type": "line",
          "x0": 183,
          "x1": 183,
          "y0": 92,
          "y1": 92
         },
         {
          "line": {
           "color": "grey",
           "width": 2
          },
          "type": "line",
          "x0": 185,
          "x1": 185,
          "y0": 93,
          "y1": 93
         },
         {
          "line": {
           "color": "grey",
           "width": 2
          },
          "type": "line",
          "x0": 187,
          "x1": 187,
          "y0": 94,
          "y1": 94
         },
         {
          "line": {
           "color": "grey",
           "width": 2
          },
          "type": "line",
          "x0": 189,
          "x1": 189,
          "y0": 95,
          "y1": 95
         },
         {
          "line": {
           "color": "grey",
           "width": 2
          },
          "type": "line",
          "x0": 191,
          "x1": 191,
          "y0": 96,
          "y1": 96
         },
         {
          "line": {
           "color": "grey",
           "width": 2
          },
          "type": "line",
          "x0": 193,
          "x1": 193,
          "y0": 97,
          "y1": 97
         },
         {
          "line": {
           "color": "grey",
           "width": 2
          },
          "type": "line",
          "x0": 195,
          "x1": 195,
          "y0": 98,
          "y1": 98
         },
         {
          "line": {
           "color": "grey",
           "width": 2
          },
          "type": "line",
          "x0": 197,
          "x1": 197,
          "y0": 99,
          "y1": 99
         },
         {
          "line": {
           "color": "grey",
           "width": 2
          },
          "type": "line",
          "x0": 199,
          "x1": 199,
          "y0": 100,
          "y1": 100
         },
         {
          "line": {
           "color": "grey",
           "width": 2
          },
          "type": "line",
          "x0": 201,
          "x1": 201,
          "y0": 101,
          "y1": 101
         },
         {
          "line": {
           "color": "grey",
           "width": 2
          },
          "type": "line",
          "x0": 203,
          "x1": 203,
          "y0": 102,
          "y1": 102
         },
         {
          "line": {
           "color": "grey",
           "width": 2
          },
          "type": "line",
          "x0": 205,
          "x1": 205,
          "y0": 103,
          "y1": 103
         },
         {
          "line": {
           "color": "grey",
           "width": 2
          },
          "type": "line",
          "x0": 207,
          "x1": 207,
          "y0": 104,
          "y1": 104
         },
         {
          "line": {
           "color": "grey",
           "width": 2
          },
          "type": "line",
          "x0": 209,
          "x1": 209,
          "y0": 105,
          "y1": 105
         },
         {
          "line": {
           "color": "grey",
           "width": 2
          },
          "type": "line",
          "x0": 211,
          "x1": 211,
          "y0": 106,
          "y1": 106
         },
         {
          "line": {
           "color": "grey",
           "width": 2
          },
          "type": "line",
          "x0": 213,
          "x1": 213,
          "y0": 107,
          "y1": 107
         },
         {
          "line": {
           "color": "grey",
           "width": 2
          },
          "type": "line",
          "x0": 215,
          "x1": 215,
          "y0": 108,
          "y1": 108
         },
         {
          "line": {
           "color": "grey",
           "width": 2
          },
          "type": "line",
          "x0": 217,
          "x1": 217,
          "y0": 109,
          "y1": 109
         },
         {
          "line": {
           "color": "grey",
           "width": 2
          },
          "type": "line",
          "x0": 219,
          "x1": 219,
          "y0": 110,
          "y1": 110
         },
         {
          "line": {
           "color": "grey",
           "width": 2
          },
          "type": "line",
          "x0": 221,
          "x1": 221,
          "y0": 111,
          "y1": 111
         },
         {
          "line": {
           "color": "grey",
           "width": 2
          },
          "type": "line",
          "x0": 223,
          "x1": 223,
          "y0": 112,
          "y1": 112
         },
         {
          "line": {
           "color": "grey",
           "width": 2
          },
          "type": "line",
          "x0": 225,
          "x1": 225,
          "y0": 113,
          "y1": 113
         },
         {
          "line": {
           "color": "grey",
           "width": 2
          },
          "type": "line",
          "x0": 227,
          "x1": 227,
          "y0": 114,
          "y1": 114
         },
         {
          "line": {
           "color": "grey",
           "width": 2
          },
          "type": "line",
          "x0": 229,
          "x1": 229,
          "y0": 115,
          "y1": 115
         },
         {
          "line": {
           "color": "grey",
           "width": 2
          },
          "type": "line",
          "x0": 231,
          "x1": 231,
          "y0": 116,
          "y1": 116
         },
         {
          "line": {
           "color": "grey",
           "width": 2
          },
          "type": "line",
          "x0": 233,
          "x1": 233,
          "y0": 117,
          "y1": 117
         },
         {
          "line": {
           "color": "grey",
           "width": 2
          },
          "type": "line",
          "x0": 235,
          "x1": 235,
          "y0": 118,
          "y1": 118
         },
         {
          "line": {
           "color": "grey",
           "width": 2
          },
          "type": "line",
          "x0": 237,
          "x1": 237,
          "y0": 119,
          "y1": 119
         },
         {
          "line": {
           "color": "grey",
           "width": 2
          },
          "type": "line",
          "x0": 239,
          "x1": 239,
          "y0": 120,
          "y1": 120
         },
         {
          "line": {
           "color": "grey",
           "width": 2
          },
          "type": "line",
          "x0": 241,
          "x1": 241,
          "y0": 121,
          "y1": 121
         },
         {
          "line": {
           "color": "grey",
           "width": 2
          },
          "type": "line",
          "x0": 243,
          "x1": 243,
          "y0": 122,
          "y1": 122
         },
         {
          "line": {
           "color": "grey",
           "width": 2
          },
          "type": "line",
          "x0": 245,
          "x1": 245,
          "y0": 123,
          "y1": 123
         },
         {
          "line": {
           "color": "grey",
           "width": 2
          },
          "type": "line",
          "x0": 247,
          "x1": 247,
          "y0": 124,
          "y1": 124
         },
         {
          "line": {
           "color": "grey",
           "width": 2
          },
          "type": "line",
          "x0": 249,
          "x1": 249,
          "y0": 125,
          "y1": 125
         },
         {
          "line": {
           "color": "grey",
           "width": 2
          },
          "type": "line",
          "x0": 251,
          "x1": 251,
          "y0": 126,
          "y1": 126
         },
         {
          "line": {
           "color": "grey",
           "width": 2
          },
          "type": "line",
          "x0": 253,
          "x1": 253,
          "y0": 127,
          "y1": 127
         },
         {
          "line": {
           "color": "grey",
           "width": 2
          },
          "type": "line",
          "x0": 255,
          "x1": 255,
          "y0": 128,
          "y1": 128
         },
         {
          "line": {
           "color": "grey",
           "width": 2
          },
          "type": "line",
          "x0": 257,
          "x1": 257,
          "y0": 129,
          "y1": 129
         },
         {
          "line": {
           "color": "grey",
           "width": 2
          },
          "type": "line",
          "x0": 259,
          "x1": 259,
          "y0": 130,
          "y1": 130
         },
         {
          "line": {
           "color": "grey",
           "width": 2
          },
          "type": "line",
          "x0": 261,
          "x1": 261,
          "y0": 131,
          "y1": 131
         },
         {
          "line": {
           "color": "grey",
           "width": 2
          },
          "type": "line",
          "x0": 263,
          "x1": 263,
          "y0": 132,
          "y1": 132
         },
         {
          "line": {
           "color": "grey",
           "width": 2
          },
          "type": "line",
          "x0": 265,
          "x1": 265,
          "y0": 133,
          "y1": 133
         },
         {
          "line": {
           "color": "grey",
           "width": 2
          },
          "type": "line",
          "x0": 267,
          "x1": 267,
          "y0": 134,
          "y1": 134
         },
         {
          "line": {
           "color": "grey",
           "width": 2
          },
          "type": "line",
          "x0": 269,
          "x1": 269,
          "y0": 135,
          "y1": 135
         },
         {
          "line": {
           "color": "grey",
           "width": 2
          },
          "type": "line",
          "x0": 271,
          "x1": 271,
          "y0": 136,
          "y1": 136
         },
         {
          "line": {
           "color": "grey",
           "width": 2
          },
          "type": "line",
          "x0": 273,
          "x1": 273,
          "y0": 137,
          "y1": 137
         },
         {
          "line": {
           "color": "grey",
           "width": 2
          },
          "type": "line",
          "x0": 275,
          "x1": 275,
          "y0": 138,
          "y1": 138
         },
         {
          "line": {
           "color": "grey",
           "width": 2
          },
          "type": "line",
          "x0": 277,
          "x1": 277,
          "y0": 139,
          "y1": 139
         },
         {
          "line": {
           "color": "grey",
           "width": 2
          },
          "type": "line",
          "x0": 279,
          "x1": 279,
          "y0": 140,
          "y1": 140
         },
         {
          "line": {
           "color": "grey",
           "width": 2
          },
          "type": "line",
          "x0": 281,
          "x1": 281,
          "y0": 141,
          "y1": 141
         },
         {
          "line": {
           "color": "grey",
           "width": 2
          },
          "type": "line",
          "x0": 283,
          "x1": 283,
          "y0": 142,
          "y1": 142
         },
         {
          "line": {
           "color": "grey",
           "width": 2
          },
          "type": "line",
          "x0": 285,
          "x1": 285,
          "y0": 143,
          "y1": 143
         },
         {
          "line": {
           "color": "grey",
           "width": 2
          },
          "type": "line",
          "x0": 287,
          "x1": 287,
          "y0": 144,
          "y1": 144
         },
         {
          "line": {
           "color": "grey",
           "width": 2
          },
          "type": "line",
          "x0": 289,
          "x1": 289,
          "y0": 145,
          "y1": 145
         },
         {
          "line": {
           "color": "grey",
           "width": 2
          },
          "type": "line",
          "x0": 291,
          "x1": 291,
          "y0": 146,
          "y1": 146
         },
         {
          "line": {
           "color": "grey",
           "width": 2
          },
          "type": "line",
          "x0": 293,
          "x1": 293,
          "y0": 147,
          "y1": 147
         },
         {
          "line": {
           "color": "grey",
           "width": 2
          },
          "type": "line",
          "x0": 295,
          "x1": 295,
          "y0": 148,
          "y1": 148
         },
         {
          "line": {
           "color": "grey",
           "width": 2
          },
          "type": "line",
          "x0": 297,
          "x1": 297,
          "y0": 149,
          "y1": 149
         },
         {
          "line": {
           "color": "grey",
           "width": 2
          },
          "type": "line",
          "x0": 299,
          "x1": 299,
          "y0": 150,
          "y1": 150
         },
         {
          "line": {
           "color": "grey",
           "width": 2
          },
          "type": "line",
          "x0": 301,
          "x1": 301,
          "y0": 151,
          "y1": 151
         },
         {
          "line": {
           "color": "grey",
           "width": 2
          },
          "type": "line",
          "x0": 303,
          "x1": 303,
          "y0": 152,
          "y1": 152
         },
         {
          "line": {
           "color": "grey",
           "width": 2
          },
          "type": "line",
          "x0": 305,
          "x1": 305,
          "y0": 153,
          "y1": 153
         }
        ],
        "template": {
         "data": {
          "bar": [
           {
            "error_x": {
             "color": "#2a3f5f"
            },
            "error_y": {
             "color": "#2a3f5f"
            },
            "marker": {
             "line": {
              "color": "#E5ECF6",
              "width": 0.5
             },
             "pattern": {
              "fillmode": "overlay",
              "size": 10,
              "solidity": 0.2
             }
            },
            "type": "bar"
           }
          ],
          "barpolar": [
           {
            "marker": {
             "line": {
              "color": "#E5ECF6",
              "width": 0.5
             },
             "pattern": {
              "fillmode": "overlay",
              "size": 10,
              "solidity": 0.2
             }
            },
            "type": "barpolar"
           }
          ],
          "carpet": [
           {
            "aaxis": {
             "endlinecolor": "#2a3f5f",
             "gridcolor": "white",
             "linecolor": "white",
             "minorgridcolor": "white",
             "startlinecolor": "#2a3f5f"
            },
            "baxis": {
             "endlinecolor": "#2a3f5f",
             "gridcolor": "white",
             "linecolor": "white",
             "minorgridcolor": "white",
             "startlinecolor": "#2a3f5f"
            },
            "type": "carpet"
           }
          ],
          "choropleth": [
           {
            "colorbar": {
             "outlinewidth": 0,
             "ticks": ""
            },
            "type": "choropleth"
           }
          ],
          "contour": [
           {
            "colorbar": {
             "outlinewidth": 0,
             "ticks": ""
            },
            "colorscale": [
             [
              0,
              "#0d0887"
             ],
             [
              0.1111111111111111,
              "#46039f"
             ],
             [
              0.2222222222222222,
              "#7201a8"
             ],
             [
              0.3333333333333333,
              "#9c179e"
             ],
             [
              0.4444444444444444,
              "#bd3786"
             ],
             [
              0.5555555555555556,
              "#d8576b"
             ],
             [
              0.6666666666666666,
              "#ed7953"
             ],
             [
              0.7777777777777778,
              "#fb9f3a"
             ],
             [
              0.8888888888888888,
              "#fdca26"
             ],
             [
              1,
              "#f0f921"
             ]
            ],
            "type": "contour"
           }
          ],
          "contourcarpet": [
           {
            "colorbar": {
             "outlinewidth": 0,
             "ticks": ""
            },
            "type": "contourcarpet"
           }
          ],
          "heatmap": [
           {
            "colorbar": {
             "outlinewidth": 0,
             "ticks": ""
            },
            "colorscale": [
             [
              0,
              "#0d0887"
             ],
             [
              0.1111111111111111,
              "#46039f"
             ],
             [
              0.2222222222222222,
              "#7201a8"
             ],
             [
              0.3333333333333333,
              "#9c179e"
             ],
             [
              0.4444444444444444,
              "#bd3786"
             ],
             [
              0.5555555555555556,
              "#d8576b"
             ],
             [
              0.6666666666666666,
              "#ed7953"
             ],
             [
              0.7777777777777778,
              "#fb9f3a"
             ],
             [
              0.8888888888888888,
              "#fdca26"
             ],
             [
              1,
              "#f0f921"
             ]
            ],
            "type": "heatmap"
           }
          ],
          "heatmapgl": [
           {
            "colorbar": {
             "outlinewidth": 0,
             "ticks": ""
            },
            "colorscale": [
             [
              0,
              "#0d0887"
             ],
             [
              0.1111111111111111,
              "#46039f"
             ],
             [
              0.2222222222222222,
              "#7201a8"
             ],
             [
              0.3333333333333333,
              "#9c179e"
             ],
             [
              0.4444444444444444,
              "#bd3786"
             ],
             [
              0.5555555555555556,
              "#d8576b"
             ],
             [
              0.6666666666666666,
              "#ed7953"
             ],
             [
              0.7777777777777778,
              "#fb9f3a"
             ],
             [
              0.8888888888888888,
              "#fdca26"
             ],
             [
              1,
              "#f0f921"
             ]
            ],
            "type": "heatmapgl"
           }
          ],
          "histogram": [
           {
            "marker": {
             "pattern": {
              "fillmode": "overlay",
              "size": 10,
              "solidity": 0.2
             }
            },
            "type": "histogram"
           }
          ],
          "histogram2d": [
           {
            "colorbar": {
             "outlinewidth": 0,
             "ticks": ""
            },
            "colorscale": [
             [
              0,
              "#0d0887"
             ],
             [
              0.1111111111111111,
              "#46039f"
             ],
             [
              0.2222222222222222,
              "#7201a8"
             ],
             [
              0.3333333333333333,
              "#9c179e"
             ],
             [
              0.4444444444444444,
              "#bd3786"
             ],
             [
              0.5555555555555556,
              "#d8576b"
             ],
             [
              0.6666666666666666,
              "#ed7953"
             ],
             [
              0.7777777777777778,
              "#fb9f3a"
             ],
             [
              0.8888888888888888,
              "#fdca26"
             ],
             [
              1,
              "#f0f921"
             ]
            ],
            "type": "histogram2d"
           }
          ],
          "histogram2dcontour": [
           {
            "colorbar": {
             "outlinewidth": 0,
             "ticks": ""
            },
            "colorscale": [
             [
              0,
              "#0d0887"
             ],
             [
              0.1111111111111111,
              "#46039f"
             ],
             [
              0.2222222222222222,
              "#7201a8"
             ],
             [
              0.3333333333333333,
              "#9c179e"
             ],
             [
              0.4444444444444444,
              "#bd3786"
             ],
             [
              0.5555555555555556,
              "#d8576b"
             ],
             [
              0.6666666666666666,
              "#ed7953"
             ],
             [
              0.7777777777777778,
              "#fb9f3a"
             ],
             [
              0.8888888888888888,
              "#fdca26"
             ],
             [
              1,
              "#f0f921"
             ]
            ],
            "type": "histogram2dcontour"
           }
          ],
          "mesh3d": [
           {
            "colorbar": {
             "outlinewidth": 0,
             "ticks": ""
            },
            "type": "mesh3d"
           }
          ],
          "parcoords": [
           {
            "line": {
             "colorbar": {
              "outlinewidth": 0,
              "ticks": ""
             }
            },
            "type": "parcoords"
           }
          ],
          "pie": [
           {
            "automargin": true,
            "type": "pie"
           }
          ],
          "scatter": [
           {
            "fillpattern": {
             "fillmode": "overlay",
             "size": 10,
             "solidity": 0.2
            },
            "type": "scatter"
           }
          ],
          "scatter3d": [
           {
            "line": {
             "colorbar": {
              "outlinewidth": 0,
              "ticks": ""
             }
            },
            "marker": {
             "colorbar": {
              "outlinewidth": 0,
              "ticks": ""
             }
            },
            "type": "scatter3d"
           }
          ],
          "scattercarpet": [
           {
            "marker": {
             "colorbar": {
              "outlinewidth": 0,
              "ticks": ""
             }
            },
            "type": "scattercarpet"
           }
          ],
          "scattergeo": [
           {
            "marker": {
             "colorbar": {
              "outlinewidth": 0,
              "ticks": ""
             }
            },
            "type": "scattergeo"
           }
          ],
          "scattergl": [
           {
            "marker": {
             "colorbar": {
              "outlinewidth": 0,
              "ticks": ""
             }
            },
            "type": "scattergl"
           }
          ],
          "scattermapbox": [
           {
            "marker": {
             "colorbar": {
              "outlinewidth": 0,
              "ticks": ""
             }
            },
            "type": "scattermapbox"
           }
          ],
          "scatterpolar": [
           {
            "marker": {
             "colorbar": {
              "outlinewidth": 0,
              "ticks": ""
             }
            },
            "type": "scatterpolar"
           }
          ],
          "scatterpolargl": [
           {
            "marker": {
             "colorbar": {
              "outlinewidth": 0,
              "ticks": ""
             }
            },
            "type": "scatterpolargl"
           }
          ],
          "scatterternary": [
           {
            "marker": {
             "colorbar": {
              "outlinewidth": 0,
              "ticks": ""
             }
            },
            "type": "scatterternary"
           }
          ],
          "surface": [
           {
            "colorbar": {
             "outlinewidth": 0,
             "ticks": ""
            },
            "colorscale": [
             [
              0,
              "#0d0887"
             ],
             [
              0.1111111111111111,
              "#46039f"
             ],
             [
              0.2222222222222222,
              "#7201a8"
             ],
             [
              0.3333333333333333,
              "#9c179e"
             ],
             [
              0.4444444444444444,
              "#bd3786"
             ],
             [
              0.5555555555555556,
              "#d8576b"
             ],
             [
              0.6666666666666666,
              "#ed7953"
             ],
             [
              0.7777777777777778,
              "#fb9f3a"
             ],
             [
              0.8888888888888888,
              "#fdca26"
             ],
             [
              1,
              "#f0f921"
             ]
            ],
            "type": "surface"
           }
          ],
          "table": [
           {
            "cells": {
             "fill": {
              "color": "#EBF0F8"
             },
             "line": {
              "color": "white"
             }
            },
            "header": {
             "fill": {
              "color": "#C8D4E3"
             },
             "line": {
              "color": "white"
             }
            },
            "type": "table"
           }
          ]
         },
         "layout": {
          "annotationdefaults": {
           "arrowcolor": "#2a3f5f",
           "arrowhead": 0,
           "arrowwidth": 1
          },
          "autotypenumbers": "strict",
          "coloraxis": {
           "colorbar": {
            "outlinewidth": 0,
            "ticks": ""
           }
          },
          "colorscale": {
           "diverging": [
            [
             0,
             "#8e0152"
            ],
            [
             0.1,
             "#c51b7d"
            ],
            [
             0.2,
             "#de77ae"
            ],
            [
             0.3,
             "#f1b6da"
            ],
            [
             0.4,
             "#fde0ef"
            ],
            [
             0.5,
             "#f7f7f7"
            ],
            [
             0.6,
             "#e6f5d0"
            ],
            [
             0.7,
             "#b8e186"
            ],
            [
             0.8,
             "#7fbc41"
            ],
            [
             0.9,
             "#4d9221"
            ],
            [
             1,
             "#276419"
            ]
           ],
           "sequential": [
            [
             0,
             "#0d0887"
            ],
            [
             0.1111111111111111,
             "#46039f"
            ],
            [
             0.2222222222222222,
             "#7201a8"
            ],
            [
             0.3333333333333333,
             "#9c179e"
            ],
            [
             0.4444444444444444,
             "#bd3786"
            ],
            [
             0.5555555555555556,
             "#d8576b"
            ],
            [
             0.6666666666666666,
             "#ed7953"
            ],
            [
             0.7777777777777778,
             "#fb9f3a"
            ],
            [
             0.8888888888888888,
             "#fdca26"
            ],
            [
             1,
             "#f0f921"
            ]
           ],
           "sequentialminus": [
            [
             0,
             "#0d0887"
            ],
            [
             0.1111111111111111,
             "#46039f"
            ],
            [
             0.2222222222222222,
             "#7201a8"
            ],
            [
             0.3333333333333333,
             "#9c179e"
            ],
            [
             0.4444444444444444,
             "#bd3786"
            ],
            [
             0.5555555555555556,
             "#d8576b"
            ],
            [
             0.6666666666666666,
             "#ed7953"
            ],
            [
             0.7777777777777778,
             "#fb9f3a"
            ],
            [
             0.8888888888888888,
             "#fdca26"
            ],
            [
             1,
             "#f0f921"
            ]
           ]
          },
          "colorway": [
           "#636efa",
           "#EF553B",
           "#00cc96",
           "#ab63fa",
           "#FFA15A",
           "#19d3f3",
           "#FF6692",
           "#B6E880",
           "#FF97FF",
           "#FECB52"
          ],
          "font": {
           "color": "#2a3f5f"
          },
          "geo": {
           "bgcolor": "white",
           "lakecolor": "white",
           "landcolor": "#E5ECF6",
           "showlakes": true,
           "showland": true,
           "subunitcolor": "white"
          },
          "hoverlabel": {
           "align": "left"
          },
          "hovermode": "closest",
          "mapbox": {
           "style": "light"
          },
          "paper_bgcolor": "white",
          "plot_bgcolor": "#E5ECF6",
          "polar": {
           "angularaxis": {
            "gridcolor": "white",
            "linecolor": "white",
            "ticks": ""
           },
           "bgcolor": "#E5ECF6",
           "radialaxis": {
            "gridcolor": "white",
            "linecolor": "white",
            "ticks": ""
           }
          },
          "scene": {
           "xaxis": {
            "backgroundcolor": "#E5ECF6",
            "gridcolor": "white",
            "gridwidth": 2,
            "linecolor": "white",
            "showbackground": true,
            "ticks": "",
            "zerolinecolor": "white"
           },
           "yaxis": {
            "backgroundcolor": "#E5ECF6",
            "gridcolor": "white",
            "gridwidth": 2,
            "linecolor": "white",
            "showbackground": true,
            "ticks": "",
            "zerolinecolor": "white"
           },
           "zaxis": {
            "backgroundcolor": "#E5ECF6",
            "gridcolor": "white",
            "gridwidth": 2,
            "linecolor": "white",
            "showbackground": true,
            "ticks": "",
            "zerolinecolor": "white"
           }
          },
          "shapedefaults": {
           "line": {
            "color": "#2a3f5f"
           }
          },
          "ternary": {
           "aaxis": {
            "gridcolor": "white",
            "linecolor": "white",
            "ticks": ""
           },
           "baxis": {
            "gridcolor": "white",
            "linecolor": "white",
            "ticks": ""
           },
           "bgcolor": "#E5ECF6",
           "caxis": {
            "gridcolor": "white",
            "linecolor": "white",
            "ticks": ""
           }
          },
          "title": {
           "x": 0.05
          },
          "xaxis": {
           "automargin": true,
           "gridcolor": "white",
           "linecolor": "white",
           "ticks": "",
           "title": {
            "standoff": 15
           },
           "zerolinecolor": "white",
           "zerolinewidth": 2
          },
          "yaxis": {
           "automargin": true,
           "gridcolor": "white",
           "linecolor": "white",
           "ticks": "",
           "title": {
            "standoff": 15
           },
           "zerolinecolor": "white",
           "zerolinewidth": 2
          }
         }
        },
        "title": {
         "text": "Lollipop Chart"
        },
        "xaxis": {
         "autorange": true,
         "range": [
          -17.02879769618431,
          323.0287976961843
         ],
         "type": "linear"
        },
        "yaxis": {
         "autorange": true,
         "range": [
          -36.49774436090225,
          154.05864661654135
         ],
         "type": "linear"
        }
       }
      },
      "image/png": "[encoded data removed]",
      "text/html": [
       "<div>                            <div id=\"98c9b43b-d66f-4ffe-9a32-851cec0d0653\" class=\"plotly-graph-div\" style=\"height:525px; width:100%;\"></div>            <script type=\"text/javascript\">                require([\"plotly\"], function(Plotly) {                    window.PLOTLYENV=window.PLOTLYENV || {};                                    if (document.getElementById(\"98c9b43b-d66f-4ffe-9a32-851cec0d0653\")) {                    Plotly.newPlot(                        \"98c9b43b-d66f-4ffe-9a32-851cec0d0653\",                        [{\"marker\":{\"color\":\"blue\"},\"mode\":\"markers\",\"x\":[1,3,5,7,9,11,13,15,17,19,21,23,25,27,29,31,33,35,37,39,41,43,45,47,49,51,53,55,57,59,61,63,65,67,69,71,73,75,77,79,81,83,85,87,89,91,93,95,97,99,101,103,105,107,109,111,113,115,117,119,121,123,125,127,129,131,133,135,137,139,141,143,145,147,149,151,153,155,157,159,161,163,165,167,169,171,173,175,177,179,181,183,185,187,189,191,193,195,197,199,201,203,205,207,209,211,213,215,217,219,221,223,225,227,229,231,233,235,237,239,241,243,245,247,249,251,253,255,257,259,261,263,265,267,269,271,273,275,277,279,281,283,285,287,289,291,293,295,297,299,301,303,305],\"y\":[9.5,1.0,8.0,2.5,0.5,7.0,4.0,14.0,11.0,3.0,2.0,7.5,2.0,8.0,8.0,9.0,2.0,9.5,1.5,7.0,4.0,2.5,1.0,3.0,5.5,4.0,3.5,5.5,6.5,18.0,9.5,0.5,1.0,3.5,0.5,2.0,1.5,3.5,2.5,2.0,7.5,1.5,4.0,2.0,2.0,3.0,4.0,6.0,10.0,17.0,3.0,5.5,3.0,1.5,1.0,11.0,7.0,2.5,5.0,12.0,4.5,2.0,3.0,8.5,4.0,2.0,19.5,9.5,0.5,2.0,10.5,9.0,2.5,1.0,10.0,4.5,7.5,11.5,0.5,2.5,1.5,5.5,3.5,2.5,7.5,4.5,1.0,1.0,1.0,1.0,1.5,8.0,1.5,2.5,5.5,8.0,5.5,6.5,4.5,0.5,16.5,8.5,7.0,23.0,5.0,17.0,1.5,13.0,2.5,3.0,6.0,2.5,7.0,0.5,11.0,3.5,1.5,0.5,1.5,0.5,8.0,6.5,12.5,6.0,14.5,16.0,13.5,6.0,9.5,7.5,3.0,4.5,2.5,2.0,13.0,7.0,10.5,10.0,4.0,3.5,4.5,6.0,13.5,3.5,6.5,3.0,3.5,4.0,0.5,3.5,3.0,0.5,12.5],\"type\":\"scatter\"},{\"marker\":{\"color\":\"blue\"},\"mode\":\"markers\",\"x\":[1,3,5,7,9,11,13,15,17,19,21,23,25,27,29,31,33,35,37,39,41,43,45,47,49,51,53,55,57,59,61,63,65,67,69,71,73,75,77,79,81,83,85,87,89,91,93,95,97,99,101,103,105,107,109,111,113,115,117,119,121,123,125,127,129,131,133,135,137,139,141,143,145,147,149,151,153,155,157,159,161,163,165,167,169,171,173,175,177,179,181,183,185,187,189,191,193,195,197,199,201,203,205,207,209,211,213,215,217,219,221,223,225,227,229,231,233,235,237,239,241,243,245,247,249,251,253,255,257,259,261,263,265,267,269,271,273,275,277,279,281,283,285,287,289,291,293,295,297,299,301,303,305],\"y\":[-9.5,-1.0,-8.0,-2.5,-0.5,-7.0,-4.0,-14.0,-11.0,-3.0,-2.0,-7.5,-2.0,-8.0,-8.0,-9.0,-2.0,-9.5,-1.5,-7.0,-4.0,-2.5,-1.0,-3.0,-5.5,-4.0,-3.5,-5.5,-6.5,-18.0,-9.5,-0.5,-1.0,-3.5,-0.5,-2.0,-1.5,-3.5,-2.5,-2.0,-7.5,-1.5,-4.0,-2.0,-2.0,-3.0,-4.0,-6.0,-10.0,-17.0,-3.0,-5.5,-3.0,-1.5,-1.0,-11.0,-7.0,-2.5,-5.0,-12.0,-4.5,-2.0,-3.0,-8.5,-4.0,-2.0,-19.5,-9.5,-0.5,-2.0,-10.5,-9.0,-2.5,-1.0,-10.0,-4.5,-7.5,-11.5,-0.5,-2.5,-1.5,-5.5,-3.5,-2.5,-7.5,-4.5,-1.0,-1.0,-1.0,-1.0,-1.5,-8.0,-1.5,-2.5,-5.5,-8.0,-5.5,-6.5,-4.5,-0.5,-16.5,-8.5,-7.0,-23.0,-5.0,-17.0,-1.5,-13.0,-2.5,-3.0,-6.0,-2.5,-7.0,-0.5,-11.0,-3.5,-1.5,-0.5,-1.5,-0.5,-8.0,-6.5,-12.5,-6.0,-14.5,-16.0,-13.5,-6.0,-9.5,-7.5,-3.0,-4.5,-2.5,-2.0,-13.0,-7.0,-10.5,-10.0,-4.0,-3.5,-4.5,-6.0,-13.5,-3.5,-6.5,-3.0,-3.5,-4.0,-0.5,-3.5,-3.0,-0.5,-12.5],\"type\":\"scatter\"}],                        {\"shapes\":[{\"line\":{\"color\":\"grey\",\"width\":2},\"type\":\"line\",\"x0\":1,\"x1\":1,\"y0\":1,\"y1\":1},{\"line\":{\"color\":\"grey\",\"width\":2},\"type\":\"line\",\"x0\":3,\"x1\":3,\"y0\":2,\"y1\":2},{\"line\":{\"color\":\"grey\",\"width\":2},\"type\":\"line\",\"x0\":5,\"x1\":5,\"y0\":3,\"y1\":3},{\"line\":{\"color\":\"grey\",\"width\":2},\"type\":\"line\",\"x0\":7,\"x1\":7,\"y0\":4,\"y1\":4},{\"line\":{\"color\":\"grey\",\"width\":2},\"type\":\"line\",\"x0\":9,\"x1\":9,\"y0\":5,\"y1\":5},{\"line\":{\"color\":\"grey\",\"width\":2},\"type\":\"line\",\"x0\":11,\"x1\":11,\"y0\":6,\"y1\":6},{\"line\":{\"color\":\"grey\",\"width\":2},\"type\":\"line\",\"x0\":13,\"x1\":13,\"y0\":7,\"y1\":7},{\"line\":{\"color\":\"grey\",\"width\":2},\"type\":\"line\",\"x0\":15,\"x1\":15,\"y0\":8,\"y1\":8},{\"line\":{\"color\":\"grey\",\"width\":2},\"type\":\"line\",\"x0\":17,\"x1\":17,\"y0\":9,\"y1\":9},{\"line\":{\"color\":\"grey\",\"width\":2},\"type\":\"line\",\"x0\":19,\"x1\":19,\"y0\":10,\"y1\":10},{\"line\":{\"color\":\"grey\",\"width\":2},\"type\":\"line\",\"x0\":21,\"x1\":21,\"y0\":11,\"y1\":11},{\"line\":{\"color\":\"grey\",\"width\":2},\"type\":\"line\",\"x0\":23,\"x1\":23,\"y0\":12,\"y1\":12},{\"line\":{\"color\":\"grey\",\"width\":2},\"type\":\"line\",\"x0\":25,\"x1\":25,\"y0\":13,\"y1\":13},{\"line\":{\"color\":\"grey\",\"width\":2},\"type\":\"line\",\"x0\":27,\"x1\":27,\"y0\":14,\"y1\":14},{\"line\":{\"color\":\"grey\",\"width\":2},\"type\":\"line\",\"x0\":29,\"x1\":29,\"y0\":15,\"y1\":15},{\"line\":{\"color\":\"grey\",\"width\":2},\"type\":\"line\",\"x0\":31,\"x1\":31,\"y0\":16,\"y1\":16},{\"line\":{\"color\":\"grey\",\"width\":2},\"type\":\"line\",\"x0\":33,\"x1\":33,\"y0\":17,\"y1\":17},{\"line\":{\"color\":\"grey\",\"width\":2},\"type\":\"line\",\"x0\":35,\"x1\":35,\"y0\":18,\"y1\":18},{\"line\":{\"color\":\"grey\",\"width\":2},\"type\":\"line\",\"x0\":37,\"x1\":37,\"y0\":19,\"y1\":19},{\"line\":{\"color\":\"grey\",\"width\":2},\"type\":\"line\",\"x0\":39,\"x1\":39,\"y0\":20,\"y1\":20},{\"line\":{\"color\":\"grey\",\"width\":2},\"type\":\"line\",\"x0\":41,\"x1\":41,\"y0\":21,\"y1\":21},{\"line\":{\"color\":\"grey\",\"width\":2},\"type\":\"line\",\"x0\":43,\"x1\":43,\"y0\":22,\"y1\":22},{\"line\":{\"color\":\"grey\",\"width\":2},\"type\":\"line\",\"x0\":45,\"x1\":45,\"y0\":23,\"y1\":23},{\"line\":{\"color\":\"grey\",\"width\":2},\"type\":\"line\",\"x0\":47,\"x1\":47,\"y0\":24,\"y1\":24},{\"line\":{\"color\":\"grey\",\"width\":2},\"type\":\"line\",\"x0\":49,\"x1\":49,\"y0\":25,\"y1\":25},{\"line\":{\"color\":\"grey\",\"width\":2},\"type\":\"line\",\"x0\":51,\"x1\":51,\"y0\":26,\"y1\":26},{\"line\":{\"color\":\"grey\",\"width\":2},\"type\":\"line\",\"x0\":53,\"x1\":53,\"y0\":27,\"y1\":27},{\"line\":{\"color\":\"grey\",\"width\":2},\"type\":\"line\",\"x0\":55,\"x1\":55,\"y0\":28,\"y1\":28},{\"line\":{\"color\":\"grey\",\"width\":2},\"type\":\"line\",\"x0\":57,\"x1\":57,\"y0\":29,\"y1\":29},{\"line\":{\"color\":\"grey\",\"width\":2},\"type\":\"line\",\"x0\":59,\"x1\":59,\"y0\":30,\"y1\":30},{\"line\":{\"color\":\"grey\",\"width\":2},\"type\":\"line\",\"x0\":61,\"x1\":61,\"y0\":31,\"y1\":31},{\"line\":{\"color\":\"grey\",\"width\":2},\"type\":\"line\",\"x0\":63,\"x1\":63,\"y0\":32,\"y1\":32},{\"line\":{\"color\":\"grey\",\"width\":2},\"type\":\"line\",\"x0\":65,\"x1\":65,\"y0\":33,\"y1\":33},{\"line\":{\"color\":\"grey\",\"width\":2},\"type\":\"line\",\"x0\":67,\"x1\":67,\"y0\":34,\"y1\":34},{\"line\":{\"color\":\"grey\",\"width\":2},\"type\":\"line\",\"x0\":69,\"x1\":69,\"y0\":35,\"y1\":35},{\"line\":{\"color\":\"grey\",\"width\":2},\"type\":\"line\",\"x0\":71,\"x1\":71,\"y0\":36,\"y1\":36},{\"line\":{\"color\":\"grey\",\"width\":2},\"type\":\"line\",\"x0\":73,\"x1\":73,\"y0\":37,\"y1\":37},{\"line\":{\"color\":\"grey\",\"width\":2},\"type\":\"line\",\"x0\":75,\"x1\":75,\"y0\":38,\"y1\":38},{\"line\":{\"color\":\"grey\",\"width\":2},\"type\":\"line\",\"x0\":77,\"x1\":77,\"y0\":39,\"y1\":39},{\"line\":{\"color\":\"grey\",\"width\":2},\"type\":\"line\",\"x0\":79,\"x1\":79,\"y0\":40,\"y1\":40},{\"line\":{\"color\":\"grey\",\"width\":2},\"type\":\"line\",\"x0\":81,\"x1\":81,\"y0\":41,\"y1\":41},{\"line\":{\"color\":\"grey\",\"width\":2},\"type\":\"line\",\"x0\":83,\"x1\":83,\"y0\":42,\"y1\":42},{\"line\":{\"color\":\"grey\",\"width\":2},\"type\":\"line\",\"x0\":85,\"x1\":85,\"y0\":43,\"y1\":43},{\"line\":{\"color\":\"grey\",\"width\":2},\"type\":\"line\",\"x0\":87,\"x1\":87,\"y0\":44,\"y1\":44},{\"line\":{\"color\":\"grey\",\"width\":2},\"type\":\"line\",\"x0\":89,\"x1\":89,\"y0\":45,\"y1\":45},{\"line\":{\"color\":\"grey\",\"width\":2},\"type\":\"line\",\"x0\":91,\"x1\":91,\"y0\":46,\"y1\":46},{\"line\":{\"color\":\"grey\",\"width\":2},\"type\":\"line\",\"x0\":93,\"x1\":93,\"y0\":47,\"y1\":47},{\"line\":{\"color\":\"grey\",\"width\":2},\"type\":\"line\",\"x0\":95,\"x1\":95,\"y0\":48,\"y1\":48},{\"line\":{\"color\":\"grey\",\"width\":2},\"type\":\"line\",\"x0\":97,\"x1\":97,\"y0\":49,\"y1\":49},{\"line\":{\"color\":\"grey\",\"width\":2},\"type\":\"line\",\"x0\":99,\"x1\":99,\"y0\":50,\"y1\":50},{\"line\":{\"color\":\"grey\",\"width\":2},\"type\":\"line\",\"x0\":101,\"x1\":101,\"y0\":51,\"y1\":51},{\"line\":{\"color\":\"grey\",\"width\":2},\"type\":\"line\",\"x0\":103,\"x1\":103,\"y0\":52,\"y1\":52},{\"line\":{\"color\":\"grey\",\"width\":2},\"type\":\"line\",\"x0\":105,\"x1\":105,\"y0\":53,\"y1\":53},{\"line\":{\"color\":\"grey\",\"width\":2},\"type\":\"line\",\"x0\":107,\"x1\":107,\"y0\":54,\"y1\":54},{\"line\":{\"color\":\"grey\",\"width\":2},\"type\":\"line\",\"x0\":109,\"x1\":109,\"y0\":55,\"y1\":55},{\"line\":{\"color\":\"grey\",\"width\":2},\"type\":\"line\",\"x0\":111,\"x1\":111,\"y0\":56,\"y1\":56},{\"line\":{\"color\":\"grey\",\"width\":2},\"type\":\"line\",\"x0\":113,\"x1\":113,\"y0\":57,\"y1\":57},{\"line\":{\"color\":\"grey\",\"width\":2},\"type\":\"line\",\"x0\":115,\"x1\":115,\"y0\":58,\"y1\":58},{\"line\":{\"color\":\"grey\",\"width\":2},\"type\":\"line\",\"x0\":117,\"x1\":117,\"y0\":59,\"y1\":59},{\"line\":{\"color\":\"grey\",\"width\":2},\"type\":\"line\",\"x0\":119,\"x1\":119,\"y0\":60,\"y1\":60},{\"line\":{\"color\":\"grey\",\"width\":2},\"type\":\"line\",\"x0\":121,\"x1\":121,\"y0\":61,\"y1\":61},{\"line\":{\"color\":\"grey\",\"width\":2},\"type\":\"line\",\"x0\":123,\"x1\":123,\"y0\":62,\"y1\":62},{\"line\":{\"color\":\"grey\",\"width\":2},\"type\":\"line\",\"x0\":125,\"x1\":125,\"y0\":63,\"y1\":63},{\"line\":{\"color\":\"grey\",\"width\":2},\"type\":\"line\",\"x0\":127,\"x1\":127,\"y0\":64,\"y1\":64},{\"line\":{\"color\":\"grey\",\"width\":2},\"type\":\"line\",\"x0\":129,\"x1\":129,\"y0\":65,\"y1\":65},{\"line\":{\"color\":\"grey\",\"width\":2},\"type\":\"line\",\"x0\":131,\"x1\":131,\"y0\":66,\"y1\":66},{\"line\":{\"color\":\"grey\",\"width\":2},\"type\":\"line\",\"x0\":133,\"x1\":133,\"y0\":67,\"y1\":67},{\"line\":{\"color\":\"grey\",\"width\":2},\"type\":\"line\",\"x0\":135,\"x1\":135,\"y0\":68,\"y1\":68},{\"line\":{\"color\":\"grey\",\"width\":2},\"type\":\"line\",\"x0\":137,\"x1\":137,\"y0\":69,\"y1\":69},{\"line\":{\"color\":\"grey\",\"width\":2},\"type\":\"line\",\"x0\":139,\"x1\":139,\"y0\":70,\"y1\":70},{\"line\":{\"color\":\"grey\",\"width\":2},\"type\":\"line\",\"x0\":141,\"x1\":141,\"y0\":71,\"y1\":71},{\"line\":{\"color\":\"grey\",\"width\":2},\"type\":\"line\",\"x0\":143,\"x1\":143,\"y0\":72,\"y1\":72},{\"line\":{\"color\":\"grey\",\"width\":2},\"type\":\"line\",\"x0\":145,\"x1\":145,\"y0\":73,\"y1\":73},{\"line\":{\"color\":\"grey\",\"width\":2},\"type\":\"line\",\"x0\":147,\"x1\":147,\"y0\":74,\"y1\":74},{\"line\":{\"color\":\"grey\",\"width\":2},\"type\":\"line\",\"x0\":149,\"x1\":149,\"y0\":75,\"y1\":75},{\"line\":{\"color\":\"grey\",\"width\":2},\"type\":\"line\",\"x0\":151,\"x1\":151,\"y0\":76,\"y1\":76},{\"line\":{\"color\":\"grey\",\"width\":2},\"type\":\"line\",\"x0\":153,\"x1\":153,\"y0\":77,\"y1\":77},{\"line\":{\"color\":\"grey\",\"width\":2},\"type\":\"line\",\"x0\":155,\"x1\":155,\"y0\":78,\"y1\":78},{\"line\":{\"color\":\"grey\",\"width\":2},\"type\":\"line\",\"x0\":157,\"x1\":157,\"y0\":79,\"y1\":79},{\"line\":{\"color\":\"grey\",\"width\":2},\"type\":\"line\",\"x0\":159,\"x1\":159,\"y0\":80,\"y1\":80},{\"line\":{\"color\":\"grey\",\"width\":2},\"type\":\"line\",\"x0\":161,\"x1\":161,\"y0\":81,\"y1\":81},{\"line\":{\"color\":\"grey\",\"width\":2},\"type\":\"line\",\"x0\":163,\"x1\":163,\"y0\":82,\"y1\":82},{\"line\":{\"color\":\"grey\",\"width\":2},\"type\":\"line\",\"x0\":165,\"x1\":165,\"y0\":83,\"y1\":83},{\"line\":{\"color\":\"grey\",\"width\":2},\"type\":\"line\",\"x0\":167,\"x1\":167,\"y0\":84,\"y1\":84},{\"line\":{\"color\":\"grey\",\"width\":2},\"type\":\"line\",\"x0\":169,\"x1\":169,\"y0\":85,\"y1\":85},{\"line\":{\"color\":\"grey\",\"width\":2},\"type\":\"line\",\"x0\":171,\"x1\":171,\"y0\":86,\"y1\":86},{\"line\":{\"color\":\"grey\",\"width\":2},\"type\":\"line\",\"x0\":173,\"x1\":173,\"y0\":87,\"y1\":87},{\"line\":{\"color\":\"grey\",\"width\":2},\"type\":\"line\",\"x0\":175,\"x1\":175,\"y0\":88,\"y1\":88},{\"line\":{\"color\":\"grey\",\"width\":2},\"type\":\"line\",\"x0\":177,\"x1\":177,\"y0\":89,\"y1\":89},{\"line\":{\"color\":\"grey\",\"width\":2},\"type\":\"line\",\"x0\":179,\"x1\":179,\"y0\":90,\"y1\":90},{\"line\":{\"color\":\"grey\",\"width\":2},\"type\":\"line\",\"x0\":181,\"x1\":181,\"y0\":91,\"y1\":91},{\"line\":{\"color\":\"grey\",\"width\":2},\"type\":\"line\",\"x0\":183,\"x1\":183,\"y0\":92,\"y1\":92},{\"line\":{\"color\":\"grey\",\"width\":2},\"type\":\"line\",\"x0\":185,\"x1\":185,\"y0\":93,\"y1\":93},{\"line\":{\"color\":\"grey\",\"width\":2},\"type\":\"line\",\"x0\":187,\"x1\":187,\"y0\":94,\"y1\":94},{\"line\":{\"color\":\"grey\",\"width\":2},\"type\":\"line\",\"x0\":189,\"x1\":189,\"y0\":95,\"y1\":95},{\"line\":{\"color\":\"grey\",\"width\":2},\"type\":\"line\",\"x0\":191,\"x1\":191,\"y0\":96,\"y1\":96},{\"line\":{\"color\":\"grey\",\"width\":2},\"type\":\"line\",\"x0\":193,\"x1\":193,\"y0\":97,\"y1\":97},{\"line\":{\"color\":\"grey\",\"width\":2},\"type\":\"line\",\"x0\":195,\"x1\":195,\"y0\":98,\"y1\":98},{\"line\":{\"color\":\"grey\",\"width\":2},\"type\":\"line\",\"x0\":197,\"x1\":197,\"y0\":99,\"y1\":99},{\"line\":{\"color\":\"grey\",\"width\":2},\"type\":\"line\",\"x0\":199,\"x1\":199,\"y0\":100,\"y1\":100},{\"line\":{\"color\":\"grey\",\"width\":2},\"type\":\"line\",\"x0\":201,\"x1\":201,\"y0\":101,\"y1\":101},{\"line\":{\"color\":\"grey\",\"width\":2},\"type\":\"line\",\"x0\":203,\"x1\":203,\"y0\":102,\"y1\":102},{\"line\":{\"color\":\"grey\",\"width\":2},\"type\":\"line\",\"x0\":205,\"x1\":205,\"y0\":103,\"y1\":103},{\"line\":{\"color\":\"grey\",\"width\":2},\"type\":\"line\",\"x0\":207,\"x1\":207,\"y0\":104,\"y1\":104},{\"line\":{\"color\":\"grey\",\"width\":2},\"type\":\"line\",\"x0\":209,\"x1\":209,\"y0\":105,\"y1\":105},{\"line\":{\"color\":\"grey\",\"width\":2},\"type\":\"line\",\"x0\":211,\"x1\":211,\"y0\":106,\"y1\":106},{\"line\":{\"color\":\"grey\",\"width\":2},\"type\":\"line\",\"x0\":213,\"x1\":213,\"y0\":107,\"y1\":107},{\"line\":{\"color\":\"grey\",\"width\":2},\"type\":\"line\",\"x0\":215,\"x1\":215,\"y0\":108,\"y1\":108},{\"line\":{\"color\":\"grey\",\"width\":2},\"type\":\"line\",\"x0\":217,\"x1\":217,\"y0\":109,\"y1\":109},{\"line\":{\"color\":\"grey\",\"width\":2},\"type\":\"line\",\"x0\":219,\"x1\":219,\"y0\":110,\"y1\":110},{\"line\":{\"color\":\"grey\",\"width\":2},\"type\":\"line\",\"x0\":221,\"x1\":221,\"y0\":111,\"y1\":111},{\"line\":{\"color\":\"grey\",\"width\":2},\"type\":\"line\",\"x0\":223,\"x1\":223,\"y0\":112,\"y1\":112},{\"line\":{\"color\":\"grey\",\"width\":2},\"type\":\"line\",\"x0\":225,\"x1\":225,\"y0\":113,\"y1\":113},{\"line\":{\"color\":\"grey\",\"width\":2},\"type\":\"line\",\"x0\":227,\"x1\":227,\"y0\":114,\"y1\":114},{\"line\":{\"color\":\"grey\",\"width\":2},\"type\":\"line\",\"x0\":229,\"x1\":229,\"y0\":115,\"y1\":115},{\"line\":{\"color\":\"grey\",\"width\":2},\"type\":\"line\",\"x0\":231,\"x1\":231,\"y0\":116,\"y1\":116},{\"line\":{\"color\":\"grey\",\"width\":2},\"type\":\"line\",\"x0\":233,\"x1\":233,\"y0\":117,\"y1\":117},{\"line\":{\"color\":\"grey\",\"width\":2},\"type\":\"line\",\"x0\":235,\"x1\":235,\"y0\":118,\"y1\":118},{\"line\":{\"color\":\"grey\",\"width\":2},\"type\":\"line\",\"x0\":237,\"x1\":237,\"y0\":119,\"y1\":119},{\"line\":{\"color\":\"grey\",\"width\":2},\"type\":\"line\",\"x0\":239,\"x1\":239,\"y0\":120,\"y1\":120},{\"line\":{\"color\":\"grey\",\"width\":2},\"type\":\"line\",\"x0\":241,\"x1\":241,\"y0\":121,\"y1\":121},{\"line\":{\"color\":\"grey\",\"width\":2},\"type\":\"line\",\"x0\":243,\"x1\":243,\"y0\":122,\"y1\":122},{\"line\":{\"color\":\"grey\",\"width\":2},\"type\":\"line\",\"x0\":245,\"x1\":245,\"y0\":123,\"y1\":123},{\"line\":{\"color\":\"grey\",\"width\":2},\"type\":\"line\",\"x0\":247,\"x1\":247,\"y0\":124,\"y1\":124},{\"line\":{\"color\":\"grey\",\"width\":2},\"type\":\"line\",\"x0\":249,\"x1\":249,\"y0\":125,\"y1\":125},{\"line\":{\"color\":\"grey\",\"width\":2},\"type\":\"line\",\"x0\":251,\"x1\":251,\"y0\":126,\"y1\":126},{\"line\":{\"color\":\"grey\",\"width\":2},\"type\":\"line\",\"x0\":253,\"x1\":253,\"y0\":127,\"y1\":127},{\"line\":{\"color\":\"grey\",\"width\":2},\"type\":\"line\",\"x0\":255,\"x1\":255,\"y0\":128,\"y1\":128},{\"line\":{\"color\":\"grey\",\"width\":2},\"type\":\"line\",\"x0\":257,\"x1\":257,\"y0\":129,\"y1\":129},{\"line\":{\"color\":\"grey\",\"width\":2},\"type\":\"line\",\"x0\":259,\"x1\":259,\"y0\":130,\"y1\":130},{\"line\":{\"color\":\"grey\",\"width\":2},\"type\":\"line\",\"x0\":261,\"x1\":261,\"y0\":131,\"y1\":131},{\"line\":{\"color\":\"grey\",\"width\":2},\"type\":\"line\",\"x0\":263,\"x1\":263,\"y0\":132,\"y1\":132},{\"line\":{\"color\":\"grey\",\"width\":2},\"type\":\"line\",\"x0\":265,\"x1\":265,\"y0\":133,\"y1\":133},{\"line\":{\"color\":\"grey\",\"width\":2},\"type\":\"line\",\"x0\":267,\"x1\":267,\"y0\":134,\"y1\":134},{\"line\":{\"color\":\"grey\",\"width\":2},\"type\":\"line\",\"x0\":269,\"x1\":269,\"y0\":135,\"y1\":135},{\"line\":{\"color\":\"grey\",\"width\":2},\"type\":\"line\",\"x0\":271,\"x1\":271,\"y0\":136,\"y1\":136},{\"line\":{\"color\":\"grey\",\"width\":2},\"type\":\"line\",\"x0\":273,\"x1\":273,\"y0\":137,\"y1\":137},{\"line\":{\"color\":\"grey\",\"width\":2},\"type\":\"line\",\"x0\":275,\"x1\":275,\"y0\":138,\"y1\":138},{\"line\":{\"color\":\"grey\",\"width\":2},\"type\":\"line\",\"x0\":277,\"x1\":277,\"y0\":139,\"y1\":139},{\"line\":{\"color\":\"grey\",\"width\":2},\"type\":\"line\",\"x0\":279,\"x1\":279,\"y0\":140,\"y1\":140},{\"line\":{\"color\":\"grey\",\"width\":2},\"type\":\"line\",\"x0\":281,\"x1\":281,\"y0\":141,\"y1\":141},{\"line\":{\"color\":\"grey\",\"width\":2},\"type\":\"line\",\"x0\":283,\"x1\":283,\"y0\":142,\"y1\":142},{\"line\":{\"color\":\"grey\",\"width\":2},\"type\":\"line\",\"x0\":285,\"x1\":285,\"y0\":143,\"y1\":143},{\"line\":{\"color\":\"grey\",\"width\":2},\"type\":\"line\",\"x0\":287,\"x1\":287,\"y0\":144,\"y1\":144},{\"line\":{\"color\":\"grey\",\"width\":2},\"type\":\"line\",\"x0\":289,\"x1\":289,\"y0\":145,\"y1\":145},{\"line\":{\"color\":\"grey\",\"width\":2},\"type\":\"line\",\"x0\":291,\"x1\":291,\"y0\":146,\"y1\":146},{\"line\":{\"color\":\"grey\",\"width\":2},\"type\":\"line\",\"x0\":293,\"x1\":293,\"y0\":147,\"y1\":147},{\"line\":{\"color\":\"grey\",\"width\":2},\"type\":\"line\",\"x0\":295,\"x1\":295,\"y0\":148,\"y1\":148},{\"line\":{\"color\":\"grey\",\"width\":2},\"type\":\"line\",\"x0\":297,\"x1\":297,\"y0\":149,\"y1\":149},{\"line\":{\"color\":\"grey\",\"width\":2},\"type\":\"line\",\"x0\":299,\"x1\":299,\"y0\":150,\"y1\":150},{\"line\":{\"color\":\"grey\",\"width\":2},\"type\":\"line\",\"x0\":301,\"x1\":301,\"y0\":151,\"y1\":151},{\"line\":{\"color\":\"grey\",\"width\":2},\"type\":\"line\",\"x0\":303,\"x1\":303,\"y0\":152,\"y1\":152},{\"line\":{\"color\":\"grey\",\"width\":2},\"type\":\"line\",\"x0\":305,\"x1\":305,\"y0\":153,\"y1\":153}],\"title\":{\"text\":\"Lollipop Chart\"},\"template\":{\"data\":{\"histogram2dcontour\":[{\"type\":\"histogram2dcontour\",\"colorbar\":{\"outlinewidth\":0,\"ticks\":\"\"},\"colorscale\":[[0.0,\"#0d0887\"],[0.1111111111111111,\"#46039f\"],[0.2222222222222222,\"#7201a8\"],[0.3333333333333333,\"#9c179e\"],[0.4444444444444444,\"#bd3786\"],[0.5555555555555556,\"#d8576b\"],[0.6666666666666666,\"#ed7953\"],[0.7777777777777778,\"#fb9f3a\"],[0.8888888888888888,\"#fdca26\"],[1.0,\"#f0f921\"]]}],\"choropleth\":[{\"type\":\"choropleth\",\"colorbar\":{\"outlinewidth\":0,\"ticks\":\"\"}}],\"histogram2d\":[{\"type\":\"histogram2d\",\"colorbar\":{\"outlinewidth\":0,\"ticks\":\"\"},\"colorscale\":[[0.0,\"#0d0887\"],[0.1111111111111111,\"#46039f\"],[0.2222222222222222,\"#7201a8\"],[0.3333333333333333,\"#9c179e\"],[0.4444444444444444,\"#bd3786\"],[0.5555555555555556,\"#d8576b\"],[0.6666666666666666,\"#ed7953\"],[0.7777777777777778,\"#fb9f3a\"],[0.8888888888888888,\"#fdca26\"],[1.0,\"#f0f921\"]]}],\"heatmap\":[{\"type\":\"heatmap\",\"colorbar\":{\"outlinewidth\":0,\"ticks\":\"\"},\"colorscale\":[[0.0,\"#0d0887\"],[0.1111111111111111,\"#46039f\"],[0.2222222222222222,\"#7201a8\"],[0.3333333333333333,\"#9c179e\"],[0.4444444444444444,\"#bd3786\"],[0.5555555555555556,\"#d8576b\"],[0.6666666666666666,\"#ed7953\"],[0.7777777777777778,\"#fb9f3a\"],[0.8888888888888888,\"#fdca26\"],[1.0,\"#f0f921\"]]}],\"heatmapgl\":[{\"type\":\"heatmapgl\",\"colorbar\":{\"outlinewidth\":0,\"ticks\":\"\"},\"colorscale\":[[0.0,\"#0d0887\"],[0.1111111111111111,\"#46039f\"],[0.2222222222222222,\"#7201a8\"],[0.3333333333333333,\"#9c179e\"],[0.4444444444444444,\"#bd3786\"],[0.5555555555555556,\"#d8576b\"],[0.6666666666666666,\"#ed7953\"],[0.7777777777777778,\"#fb9f3a\"],[0.8888888888888888,\"#fdca26\"],[1.0,\"#f0f921\"]]}],\"contourcarpet\":[{\"type\":\"contourcarpet\",\"colorbar\":{\"outlinewidth\":0,\"ticks\":\"\"}}],\"contour\":[{\"type\":\"contour\",\"colorbar\":{\"outlinewidth\":0,\"ticks\":\"\"},\"colorscale\":[[0.0,\"#0d0887\"],[0.1111111111111111,\"#46039f\"],[0.2222222222222222,\"#7201a8\"],[0.3333333333333333,\"#9c179e\"],[0.4444444444444444,\"#bd3786\"],[0.5555555555555556,\"#d8576b\"],[0.6666666666666666,\"#ed7953\"],[0.7777777777777778,\"#fb9f3a\"],[0.8888888888888888,\"#fdca26\"],[1.0,\"#f0f921\"]]}],\"surface\":[{\"type\":\"surface\",\"colorbar\":{\"outlinewidth\":0,\"ticks\":\"\"},\"colorscale\":[[0.0,\"#0d0887\"],[0.1111111111111111,\"#46039f\"],[0.2222222222222222,\"#7201a8\"],[0.3333333333333333,\"#9c179e\"],[0.4444444444444444,\"#bd3786\"],[0.5555555555555556,\"#d8576b\"],[0.6666666666666666,\"#ed7953\"],[0.7777777777777778,\"#fb9f3a\"],[0.8888888888888888,\"#fdca26\"],[1.0,\"#f0f921\"]]}],\"mesh3d\":[{\"type\":\"mesh3d\",\"colorbar\":{\"outlinewidth\":0,\"ticks\":\"\"}}],\"scatter\":[{\"fillpattern\":{\"fillmode\":\"overlay\",\"size\":10,\"solidity\":0.2},\"type\":\"scatter\"}],\"parcoords\":[{\"type\":\"parcoords\",\"line\":{\"colorbar\":{\"outlinewidth\":0,\"ticks\":\"\"}}}],\"scatterpolargl\":[{\"type\":\"scatterpolargl\",\"marker\":{\"colorbar\":{\"outlinewidth\":0,\"ticks\":\"\"}}}],\"bar\":[{\"error_x\":{\"color\":\"#2a3f5f\"},\"error_y\":{\"color\":\"#2a3f5f\"},\"marker\":{\"line\":{\"color\":\"#E5ECF6\",\"width\":0.5},\"pattern\":{\"fillmode\":\"overlay\",\"size\":10,\"solidity\":0.2}},\"type\":\"bar\"}],\"scattergeo\":[{\"type\":\"scattergeo\",\"marker\":{\"colorbar\":{\"outlinewidth\":0,\"ticks\":\"\"}}}],\"scatterpolar\":[{\"type\":\"scatterpolar\",\"marker\":{\"colorbar\":{\"outlinewidth\":0,\"ticks\":\"\"}}}],\"histogram\":[{\"marker\":{\"pattern\":{\"fillmode\":\"overlay\",\"size\":10,\"solidity\":0.2}},\"type\":\"histogram\"}],\"scattergl\":[{\"type\":\"scattergl\",\"marker\":{\"colorbar\":{\"outlinewidth\":0,\"ticks\":\"\"}}}],\"scatter3d\":[{\"type\":\"scatter3d\",\"line\":{\"colorbar\":{\"outlinewidth\":0,\"ticks\":\"\"}},\"marker\":{\"colorbar\":{\"outlinewidth\":0,\"ticks\":\"\"}}}],\"scattermapbox\":[{\"type\":\"scattermapbox\",\"marker\":{\"colorbar\":{\"outlinewidth\":0,\"ticks\":\"\"}}}],\"scatterternary\":[{\"type\":\"scatterternary\",\"marker\":{\"colorbar\":{\"outlinewidth\":0,\"ticks\":\"\"}}}],\"scattercarpet\":[{\"type\":\"scattercarpet\",\"marker\":{\"colorbar\":{\"outlinewidth\":0,\"ticks\":\"\"}}}],\"carpet\":[{\"aaxis\":{\"endlinecolor\":\"#2a3f5f\",\"gridcolor\":\"white\",\"linecolor\":\"white\",\"minorgridcolor\":\"white\",\"startlinecolor\":\"#2a3f5f\"},\"baxis\":{\"endlinecolor\":\"#2a3f5f\",\"gridcolor\":\"white\",\"linecolor\":\"white\",\"minorgridcolor\":\"white\",\"startlinecolor\":\"#2a3f5f\"},\"type\":\"carpet\"}],\"table\":[{\"cells\":{\"fill\":{\"color\":\"#EBF0F8\"},\"line\":{\"color\":\"white\"}},\"header\":{\"fill\":{\"color\":\"#C8D4E3\"},\"line\":{\"color\":\"white\"}},\"type\":\"table\"}],\"barpolar\":[{\"marker\":{\"line\":{\"color\":\"#E5ECF6\",\"width\":0.5},\"pattern\":{\"fillmode\":\"overlay\",\"size\":10,\"solidity\":0.2}},\"type\":\"barpolar\"}],\"pie\":[{\"automargin\":true,\"type\":\"pie\"}]},\"layout\":{\"autotypenumbers\":\"strict\",\"colorway\":[\"#636efa\",\"#EF553B\",\"#00cc96\",\"#ab63fa\",\"#FFA15A\",\"#19d3f3\",\"#FF6692\",\"#B6E880\",\"#FF97FF\",\"#FECB52\"],\"font\":{\"color\":\"#2a3f5f\"},\"hovermode\":\"closest\",\"hoverlabel\":{\"align\":\"left\"},\"paper_bgcolor\":\"white\",\"plot_bgcolor\":\"#E5ECF6\",\"polar\":{\"bgcolor\":\"#E5ECF6\",\"angularaxis\":{\"gridcolor\":\"white\",\"linecolor\":\"white\",\"ticks\":\"\"},\"radialaxis\":{\"gridcolor\":\"white\",\"linecolor\":\"white\",\"ticks\":\"\"}},\"ternary\":{\"bgcolor\":\"#E5ECF6\",\"aaxis\":{\"gridcolor\":\"white\",\"linecolor\":\"white\",\"ticks\":\"\"},\"baxis\":{\"gridcolor\":\"white\",\"linecolor\":\"white\",\"ticks\":\"\"},\"caxis\":{\"gridcolor\":\"white\",\"linecolor\":\"white\",\"ticks\":\"\"}},\"coloraxis\":{\"colorbar\":{\"outlinewidth\":0,\"ticks\":\"\"}},\"colorscale\":{\"sequential\":[[0.0,\"#0d0887\"],[0.1111111111111111,\"#46039f\"],[0.2222222222222222,\"#7201a8\"],[0.3333333333333333,\"#9c179e\"],[0.4444444444444444,\"#bd3786\"],[0.5555555555555556,\"#d8576b\"],[0.6666666666666666,\"#ed7953\"],[0.7777777777777778,\"#fb9f3a\"],[0.8888888888888888,\"#fdca26\"],[1.0,\"#f0f921\"]],\"sequentialminus\":[[0.0,\"#0d0887\"],[0.1111111111111111,\"#46039f\"],[0.2222222222222222,\"#7201a8\"],[0.3333333333333333,\"#9c179e\"],[0.4444444444444444,\"#bd3786\"],[0.5555555555555556,\"#d8576b\"],[0.6666666666666666,\"#ed7953\"],[0.7777777777777778,\"#fb9f3a\"],[0.8888888888888888,\"#fdca26\"],[1.0,\"#f0f921\"]],\"diverging\":[[0,\"#8e0152\"],[0.1,\"#c51b7d\"],[0.2,\"#de77ae\"],[0.3,\"#f1b6da\"],[0.4,\"#fde0ef\"],[0.5,\"#f7f7f7\"],[0.6,\"#e6f5d0\"],[0.7,\"#b8e186\"],[0.8,\"#7fbc41\"],[0.9,\"#4d9221\"],[1,\"#276419\"]]},\"xaxis\":{\"gridcolor\":\"white\",\"linecolor\":\"white\",\"ticks\":\"\",\"title\":{\"standoff\":15},\"zerolinecolor\":\"white\",\"automargin\":true,\"zerolinewidth\":2},\"yaxis\":{\"gridcolor\":\"white\",\"linecolor\":\"white\",\"ticks\":\"\",\"title\":{\"standoff\":15},\"zerolinecolor\":\"white\",\"automargin\":true,\"zerolinewidth\":2},\"scene\":{\"xaxis\":{\"backgroundcolor\":\"#E5ECF6\",\"gridcolor\":\"white\",\"linecolor\":\"white\",\"showbackground\":true,\"ticks\":\"\",\"zerolinecolor\":\"white\",\"gridwidth\":2},\"yaxis\":{\"backgroundcolor\":\"#E5ECF6\",\"gridcolor\":\"white\",\"linecolor\":\"white\",\"showbackground\":true,\"ticks\":\"\",\"zerolinecolor\":\"white\",\"gridwidth\":2},\"zaxis\":{\"backgroundcolor\":\"#E5ECF6\",\"gridcolor\":\"white\",\"linecolor\":\"white\",\"showbackground\":true,\"ticks\":\"\",\"zerolinecolor\":\"white\",\"gridwidth\":2}},\"shapedefaults\":{\"line\":{\"color\":\"#2a3f5f\"}},\"annotationdefaults\":{\"arrowcolor\":\"#2a3f5f\",\"arrowhead\":0,\"arrowwidth\":1},\"geo\":{\"bgcolor\":\"white\",\"landcolor\":\"#E5ECF6\",\"subunitcolor\":\"white\",\"showland\":true,\"showlakes\":true,\"lakecolor\":\"white\"},\"title\":{\"x\":0.05},\"mapbox\":{\"style\":\"light\"}}}},                        {\"responsive\": true}                    ).then(function(){\n",
       "                            \n",
       "var gd = document.getElementById('98c9b43b-d66f-4ffe-9a32-851cec0d0653');\n",
       "var x = new MutationObserver(function (mutations, observer) {{\n",
       "        var display = window.getComputedStyle(gd).display;\n",
       "        if (!display || display === 'none') {{\n",
       "            console.log([gd, 'removed!']);\n",
       "            Plotly.purge(gd);\n",
       "            observer.disconnect();\n",
       "        }}\n",
       "}});\n",
       "\n",
       "// Listen for the removal of the full notebook cells\n",
       "var notebookContainer = gd.closest('#notebook-container');\n",
       "if (notebookContainer) {{\n",
       "    x.observe(notebookContainer, {childList: true});\n",
       "}}\n",
       "\n",
       "// Listen for the clearing of the current output cell\n",
       "var outputEl = gd.closest('.output');\n",
       "if (outputEl) {{\n",
       "    x.observe(outputEl, {childList: true});\n",
       "}}\n",
       "\n",
       "                        })                };                });            </script>        </div>"
      ]
     },
     "metadata": {},
     "output_type": "display_data"
    }
   ],
   "source": [
    "data1 = go.Scatter(\n",
    "        x=df1['x_top'],\n",
    "        y=df1['y_top'],\n",
    "        mode='markers',\n",
    "        marker=dict(color='blue')\n",
    ")\n",
    "    \n",
    "data2 = go.Scatter(\n",
    "        x=df1['x_bottom'],\n",
    "        y=df1['y_bottom'],\n",
    "        mode='markers',\n",
    "        marker=dict(color='blue')\n",
    ")\n",
    "\n",
    "shapes=[dict(\n",
    "        type='line',\n",
    "        x0 = df1['x_top'].loc[i],\n",
    "        y0 = i + 1,\n",
    "        x1 = df1['x_bottom'].loc[i],\n",
    "        y1 = i + 1,\n",
    "        line = dict(\n",
    "            color = 'grey',\n",
    "            width = 2\n",
    "        )\n",
    "    ) for i in range(len(df1['x_top']))]\n",
    "\n",
    "layout = go.Layout(\n",
    "    shapes = shapes,\n",
    "    title='Lollipop Chart')\n",
    "\n",
    "\n",
    "fig = go.Figure([data1, data2], layout)\n",
    "fig.show()\n"
   ]
  },
  {
   "cell_type": "code",
   "execution_count": null,
   "id": "05c926b3-f0fc-4c55-946c-07e0098e4e8c",
   "metadata": {},
   "outputs": [],
   "source": [
    "import plotly.express as px\n",
    "\n",
    "# Sample data\n",
    "data = {'x_values': [1, 2, 3, 4, 5],\n",
    "        'y_values': [10, 20, 15, 25, 30]}\n",
    "\n",
    "# Create a DataFrame\n",
    "df = pd.DataFrame(data)\n",
    "\n",
    "# Create a line chart\n",
    "fig = px.line(df, x='x_values', y='y_values', title='Sample Line Chart')\n",
    "\n",
    "# Display the figure\n",
    "fig.show()"
   ]
  },
  {
   "cell_type": "code",
   "execution_count": null,
   "id": "ed7cf514-48e1-456c-9c0b-d1d3b27a8a1b",
   "metadata": {},
   "outputs": [],
   "source": []
  }
 ],
 "metadata": {
  "kernelspec": {
   "display_name": "Python 3 (ipykernel)",
   "language": "python",
   "name": "python3"
  },
  "language_info": {
   "codemirror_mode": {
    "name": "ipython",
    "version": 3
   },
   "file_extension": ".py",
   "mimetype": "text/x-python",
   "name": "python",
   "nbconvert_exporter": "python",
   "pygments_lexer": "ipython3",
   "version": "3.9.13"
  }
 },
 "nbformat": 4,
 "nbformat_minor": 5
}
