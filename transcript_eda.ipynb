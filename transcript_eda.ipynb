{
 "cells": [
  {
   "cell_type": "markdown",
   "id": "36e9e205-be63-4ff3-bbe6-8866bc3652b3",
   "metadata": {},
   "source": [
    "Original Inspiration\n",
    "* https://towardsdatascience.com/a-designers-guide-to-visualize-a-text-dataset-1d534756e914 "
   ]
  },
  {
   "cell_type": "code",
   "execution_count": 1,
   "id": "6dba8e75-bed6-4579-bfca-bf453d4f16b7",
   "metadata": {},
   "outputs": [],
   "source": [
    "# imports\n",
    "\n",
    "#standard\n",
    "import pandas as pd\n",
    "#import random\n",
    "from datetime import datetime\n",
    "from pandasql import sqldf\n",
    "pysqldf = lambda q: sqldf(q,globals())\n",
    "\n",
    "#Viz\n",
    "import matplotlib.pyplot as plt\n",
    "import seaborn as sns\n",
    "import plotly.express as px\n",
    "\n",
    "#Data Pulls\n",
    "from bs4 import BeautifulSoup\n",
    "import requests\n",
    "import re"
   ]
  },
  {
   "cell_type": "code",
   "execution_count": 2,
   "id": "980e46e6-2216-47ad-a2a1-ae2f9a5fb6a3",
   "metadata": {},
   "outputs": [],
   "source": [
    "df = pd.read_csv('full_transcript.csv', index_col=0)"
   ]
  },
  {
   "cell_type": "code",
   "execution_count": 3,
   "id": "25725399-96fa-4cf4-a24d-957c65beb928",
   "metadata": {},
   "outputs": [
    {
     "data": {
      "text/html": [
       "<div>\n",
       "<style scoped>\n",
       "    .dataframe tbody tr th:only-of-type {\n",
       "        vertical-align: middle;\n",
       "    }\n",
       "\n",
       "    .dataframe tbody tr th {\n",
       "        vertical-align: top;\n",
       "    }\n",
       "\n",
       "    .dataframe thead th {\n",
       "        text-align: right;\n",
       "    }\n",
       "</style>\n",
       "<table border=\"1\" class=\"dataframe\">\n",
       "  <thead>\n",
       "    <tr style=\"text-align: right;\">\n",
       "      <th></th>\n",
       "      <th>character</th>\n",
       "      <th>dialogue</th>\n",
       "      <th>word_count</th>\n",
       "      <th>abs_episode</th>\n",
       "      <th>episode_title</th>\n",
       "      <th>season</th>\n",
       "      <th>episode_number</th>\n",
       "    </tr>\n",
       "  </thead>\n",
       "  <tbody>\n",
       "    <tr>\n",
       "      <th>0</th>\n",
       "      <td>Sokka</td>\n",
       "      <td>It's not getting away from me this time.  Watc...</td>\n",
       "      <td>19</td>\n",
       "      <td>1</td>\n",
       "      <td>The_Boy_in_the_Iceberg</td>\n",
       "      <td>1</td>\n",
       "      <td>1</td>\n",
       "    </tr>\n",
       "    <tr>\n",
       "      <th>1</th>\n",
       "      <td>Katara</td>\n",
       "      <td>Sokka, look!</td>\n",
       "      <td>2</td>\n",
       "      <td>1</td>\n",
       "      <td>The_Boy_in_the_Iceberg</td>\n",
       "      <td>1</td>\n",
       "      <td>1</td>\n",
       "    </tr>\n",
       "    <tr>\n",
       "      <th>2</th>\n",
       "      <td>Sokka</td>\n",
       "      <td>Sshh! Katara, you're going to scare it away.  ...</td>\n",
       "      <td>16</td>\n",
       "      <td>1</td>\n",
       "      <td>The_Boy_in_the_Iceberg</td>\n",
       "      <td>1</td>\n",
       "      <td>1</td>\n",
       "    </tr>\n",
       "    <tr>\n",
       "      <th>3</th>\n",
       "      <td>Katara</td>\n",
       "      <td>But, Sokka! I caught one!</td>\n",
       "      <td>5</td>\n",
       "      <td>1</td>\n",
       "      <td>The_Boy_in_the_Iceberg</td>\n",
       "      <td>1</td>\n",
       "      <td>1</td>\n",
       "    </tr>\n",
       "    <tr>\n",
       "      <th>4</th>\n",
       "      <td>Katara</td>\n",
       "      <td>Hey!</td>\n",
       "      <td>1</td>\n",
       "      <td>1</td>\n",
       "      <td>The_Boy_in_the_Iceberg</td>\n",
       "      <td>1</td>\n",
       "      <td>1</td>\n",
       "    </tr>\n",
       "  </tbody>\n",
       "</table>\n",
       "</div>"
      ],
      "text/plain": [
       "  character                                           dialogue  word_count  \\\n",
       "0     Sokka  It's not getting away from me this time.  Watc...          19   \n",
       "1    Katara                                       Sokka, look!           2   \n",
       "2     Sokka  Sshh! Katara, you're going to scare it away.  ...          16   \n",
       "3    Katara                          But, Sokka! I caught one!           5   \n",
       "4    Katara                                               Hey!           1   \n",
       "\n",
       "   abs_episode           episode_title  season  episode_number  \n",
       "0            1  The_Boy_in_the_Iceberg       1               1  \n",
       "1            1  The_Boy_in_the_Iceberg       1               1  \n",
       "2            1  The_Boy_in_the_Iceberg       1               1  \n",
       "3            1  The_Boy_in_the_Iceberg       1               1  \n",
       "4            1  The_Boy_in_the_Iceberg       1               1  "
      ]
     },
     "execution_count": 3,
     "metadata": {},
     "output_type": "execute_result"
    }
   ],
   "source": [
    "df.head()"
   ]
  },
  {
   "cell_type": "code",
   "execution_count": 4,
   "id": "d01881e3-3887-4a1c-a961-97529e9b44ef",
   "metadata": {},
   "outputs": [],
   "source": [
    "df1 = df.loc[df['abs_episode'] == 1].copy()"
   ]
  },
  {
   "cell_type": "code",
   "execution_count": 5,
   "id": "b8399458-c472-41da-bfee-0aaf60341f80",
   "metadata": {},
   "outputs": [],
   "source": [
    "df1['x_top'] = range(1, 2 * len(df1) + 1, 2)\n",
    "df1['x_bottom'] = range(1, 2 * len(df1) + 1, 2)"
   ]
  },
  {
   "cell_type": "code",
   "execution_count": 7,
   "id": "30cc3e9c-6346-4ac1-a327-c79c9c817fd2",
   "metadata": {},
   "outputs": [],
   "source": [
    "df1['y_top'] = df1['word_count']/2\n",
    "df1['y_bottom'] = df1['word_count']/2 * -1"
   ]
  },
  {
   "cell_type": "code",
   "execution_count": 8,
   "id": "c282c3d9-8a17-440a-9734-69b68c8aa2f1",
   "metadata": {},
   "outputs": [
    {
     "data": {
      "text/html": [
       "<div>\n",
       "<style scoped>\n",
       "    .dataframe tbody tr th:only-of-type {\n",
       "        vertical-align: middle;\n",
       "    }\n",
       "\n",
       "    .dataframe tbody tr th {\n",
       "        vertical-align: top;\n",
       "    }\n",
       "\n",
       "    .dataframe thead th {\n",
       "        text-align: right;\n",
       "    }\n",
       "</style>\n",
       "<table border=\"1\" class=\"dataframe\">\n",
       "  <thead>\n",
       "    <tr style=\"text-align: right;\">\n",
       "      <th></th>\n",
       "      <th>character</th>\n",
       "      <th>dialogue</th>\n",
       "      <th>word_count</th>\n",
       "      <th>abs_episode</th>\n",
       "      <th>episode_title</th>\n",
       "      <th>season</th>\n",
       "      <th>episode_number</th>\n",
       "      <th>x_top</th>\n",
       "      <th>x_bottom</th>\n",
       "      <th>y_top</th>\n",
       "      <th>y_bottom</th>\n",
       "    </tr>\n",
       "  </thead>\n",
       "  <tbody>\n",
       "    <tr>\n",
       "      <th>0</th>\n",
       "      <td>Sokka</td>\n",
       "      <td>It's not getting away from me this time.  Watc...</td>\n",
       "      <td>19</td>\n",
       "      <td>1</td>\n",
       "      <td>The_Boy_in_the_Iceberg</td>\n",
       "      <td>1</td>\n",
       "      <td>1</td>\n",
       "      <td>1</td>\n",
       "      <td>1</td>\n",
       "      <td>9.5</td>\n",
       "      <td>-9.5</td>\n",
       "    </tr>\n",
       "    <tr>\n",
       "      <th>1</th>\n",
       "      <td>Katara</td>\n",
       "      <td>Sokka, look!</td>\n",
       "      <td>2</td>\n",
       "      <td>1</td>\n",
       "      <td>The_Boy_in_the_Iceberg</td>\n",
       "      <td>1</td>\n",
       "      <td>1</td>\n",
       "      <td>3</td>\n",
       "      <td>3</td>\n",
       "      <td>1.0</td>\n",
       "      <td>-1.0</td>\n",
       "    </tr>\n",
       "    <tr>\n",
       "      <th>2</th>\n",
       "      <td>Sokka</td>\n",
       "      <td>Sshh! Katara, you're going to scare it away.  ...</td>\n",
       "      <td>16</td>\n",
       "      <td>1</td>\n",
       "      <td>The_Boy_in_the_Iceberg</td>\n",
       "      <td>1</td>\n",
       "      <td>1</td>\n",
       "      <td>5</td>\n",
       "      <td>5</td>\n",
       "      <td>8.0</td>\n",
       "      <td>-8.0</td>\n",
       "    </tr>\n",
       "    <tr>\n",
       "      <th>3</th>\n",
       "      <td>Katara</td>\n",
       "      <td>But, Sokka! I caught one!</td>\n",
       "      <td>5</td>\n",
       "      <td>1</td>\n",
       "      <td>The_Boy_in_the_Iceberg</td>\n",
       "      <td>1</td>\n",
       "      <td>1</td>\n",
       "      <td>7</td>\n",
       "      <td>7</td>\n",
       "      <td>2.5</td>\n",
       "      <td>-2.5</td>\n",
       "    </tr>\n",
       "    <tr>\n",
       "      <th>4</th>\n",
       "      <td>Katara</td>\n",
       "      <td>Hey!</td>\n",
       "      <td>1</td>\n",
       "      <td>1</td>\n",
       "      <td>The_Boy_in_the_Iceberg</td>\n",
       "      <td>1</td>\n",
       "      <td>1</td>\n",
       "      <td>9</td>\n",
       "      <td>9</td>\n",
       "      <td>0.5</td>\n",
       "      <td>-0.5</td>\n",
       "    </tr>\n",
       "  </tbody>\n",
       "</table>\n",
       "</div>"
      ],
      "text/plain": [
       "  character                                           dialogue  word_count  \\\n",
       "0     Sokka  It's not getting away from me this time.  Watc...          19   \n",
       "1    Katara                                       Sokka, look!           2   \n",
       "2     Sokka  Sshh! Katara, you're going to scare it away.  ...          16   \n",
       "3    Katara                          But, Sokka! I caught one!           5   \n",
       "4    Katara                                               Hey!           1   \n",
       "\n",
       "   abs_episode           episode_title  season  episode_number  x_top  \\\n",
       "0            1  The_Boy_in_the_Iceberg       1               1      1   \n",
       "1            1  The_Boy_in_the_Iceberg       1               1      3   \n",
       "2            1  The_Boy_in_the_Iceberg       1               1      5   \n",
       "3            1  The_Boy_in_the_Iceberg       1               1      7   \n",
       "4            1  The_Boy_in_the_Iceberg       1               1      9   \n",
       "\n",
       "   x_bottom  y_top  y_bottom  \n",
       "0         1    9.5      -9.5  \n",
       "1         3    1.0      -1.0  \n",
       "2         5    8.0      -8.0  \n",
       "3         7    2.5      -2.5  \n",
       "4         9    0.5      -0.5  "
      ]
     },
     "execution_count": 8,
     "metadata": {},
     "output_type": "execute_result"
    }
   ],
   "source": [
    "df1.head()"
   ]
  },
  {
   "cell_type": "code",
   "execution_count": 19,
   "id": "972f6317-9f72-478e-b845-bd1d73984da2",
   "metadata": {},
   "outputs": [
    {
     "data": {
      "application/vnd.plotly.v1+json": {
       "config": {
        "plotlyServerURL": "https://plot.ly"
       },
       "data": [
        {
         "hoverinfo": "text",
         "hovertext": "Sokka: It's not getting away from me this time.  Watch and learn, Katara. This is how you catch a fish.",
         "line": {
          "color": "#595B77",
          "width": 2
         },
         "mode": "lines",
         "showlegend": false,
         "type": "scatter",
         "x": [
          1,
          1
         ],
         "y": [
          9.5,
          -9.5
         ]
        },
        {
         "hoverinfo": "text",
         "hovertext": "Katara: Sokka, look!",
         "line": {
          "color": "#595B77",
          "width": 2
         },
         "mode": "lines",
         "showlegend": false,
         "type": "scatter",
         "x": [
          3,
          3
         ],
         "y": [
          1,
          -1
         ]
        },
        {
         "hoverinfo": "text",
         "hovertext": "Sokka: Sshh! Katara, you're going to scare it away.  Mmmm ... I can already smell it cookin'.",
         "line": {
          "color": "#595B77",
          "width": 2
         },
         "mode": "lines",
         "showlegend": false,
         "type": "scatter",
         "x": [
          5,
          5
         ],
         "y": [
          8,
          -8
         ]
        },
        {
         "hoverinfo": "text",
         "hovertext": "Katara: But, Sokka! I caught one!",
         "line": {
          "color": "#595B77",
          "width": 2
         },
         "mode": "lines",
         "showlegend": false,
         "type": "scatter",
         "x": [
          7,
          7
         ],
         "y": [
          2.5,
          -2.5
         ]
        },
        {
         "hoverinfo": "text",
         "hovertext": "Katara: Hey!",
         "line": {
          "color": "#595B77",
          "width": 2
         },
         "mode": "lines",
         "showlegend": false,
         "type": "scatter",
         "x": [
          9,
          9
         ],
         "y": [
          0.5,
          -0.5
         ]
        },
        {
         "hoverinfo": "text",
         "hovertext": "Sokka: Why is it that every time you play with magic water, I get soaked?",
         "line": {
          "color": "#595B77",
          "width": 2
         },
         "mode": "lines",
         "showlegend": false,
         "type": "scatter",
         "x": [
          11,
          11
         ],
         "y": [
          7,
          -7
         ]
        },
        {
         "hoverinfo": "text",
         "hovertext": "Katara: It's not \"magic\", it's waterbending! And it's ...",
         "line": {
          "color": "#595B77",
          "width": 2
         },
         "mode": "lines",
         "showlegend": false,
         "type": "scatter",
         "x": [
          13,
          13
         ],
         "y": [
          4,
          -4
         ]
        },
        {
         "hoverinfo": "text",
         "hovertext": "Sokka: Yeah, yeah, \"an ancient art unique to our culture\", blah, blah, blah. Look, I'm just saying  that if I had weird powers, I'd keep my weirdness to myself.",
         "line": {
          "color": "#595B77",
          "width": 2
         },
         "mode": "lines",
         "showlegend": false,
         "type": "scatter",
         "x": [
          15,
          15
         ],
         "y": [
          14,
          -14
         ]
        },
        {
         "hoverinfo": "text",
         "hovertext": "Katara: You're calling me weird? I'm not the one who makes muscles at myself every time I see my reflection in the water!",
         "line": {
          "color": "#595B77",
          "width": 2
         },
         "mode": "lines",
         "showlegend": false,
         "type": "scatter",
         "x": [
          17,
          17
         ],
         "y": [
          11,
          -11
         ]
        },
        {
         "hoverinfo": "text",
         "hovertext": "Katara: Watch out! Go left! Go left!",
         "line": {
          "color": "#595B77",
          "width": 2
         },
         "mode": "lines",
         "showlegend": false,
         "type": "scatter",
         "x": [
          19,
          19
         ],
         "y": [
          3,
          -3
         ]
        },
        {
         "hoverinfo": "text",
         "hovertext": "Katara: You call that left?",
         "line": {
          "color": "#595B77",
          "width": 2
         },
         "mode": "lines",
         "showlegend": false,
         "type": "scatter",
         "x": [
          21,
          21
         ],
         "y": [
          2,
          -2
         ]
        },
        {
         "hoverinfo": "text",
         "hovertext": "Sokka: You don't like my steering? Well, maybe you should've  waterbended us out of the ice.",
         "line": {
          "color": "#595B77",
          "width": 2
         },
         "mode": "lines",
         "showlegend": false,
         "type": "scatter",
         "x": [
          23,
          23
         ],
         "y": [
          7.5,
          -7.5
         ]
        },
        {
         "hoverinfo": "text",
         "hovertext": "Katara: So it's my fault?",
         "line": {
          "color": "#595B77",
          "width": 2
         },
         "mode": "lines",
         "showlegend": false,
         "type": "scatter",
         "x": [
          25,
          25
         ],
         "y": [
          2,
          -2
         ]
        },
        {
         "hoverinfo": "text",
         "hovertext": "Sokka: I knew I should've left you home!  Leave it to a girl to screw things up!",
         "line": {
          "color": "#595B77",
          "width": 2
         },
         "mode": "lines",
         "showlegend": false,
         "type": "scatter",
         "x": [
          27,
          27
         ],
         "y": [
          8,
          -8
         ]
        },
        {
         "hoverinfo": "text",
         "hovertext": "Katara: You are the most sexist,  immature,  nut brained ...  I'm embarrassed  to be related to you!",
         "line": {
          "color": "#595B77",
          "width": 2
         },
         "mode": "lines",
         "showlegend": false,
         "type": "scatter",
         "x": [
          29,
          29
         ],
         "y": [
          8,
          -8
         ]
        },
        {
         "hoverinfo": "text",
         "hovertext": "Katara: Ever since mom died,  I've been doing all the work around camp while you've been off playing soldier!",
         "line": {
          "color": "#595B77",
          "width": 2
         },
         "mode": "lines",
         "showlegend": false,
         "type": "scatter",
         "x": [
          31,
          31
         ],
         "y": [
          9,
          -9
         ]
        },
        {
         "hoverinfo": "text",
         "hovertext": "Sokka: Uh ... Katara ...",
         "line": {
          "color": "#595B77",
          "width": 2
         },
         "mode": "lines",
         "showlegend": false,
         "type": "scatter",
         "x": [
          33,
          33
         ],
         "y": [
          2,
          -2
         ]
        },
        {
         "hoverinfo": "text",
         "hovertext": "Katara: I even wash all the clothes! Have you ever smelled your dirty socks? Let me tell you, not pleasant!",
         "line": {
          "color": "#595B77",
          "width": 2
         },
         "mode": "lines",
         "showlegend": false,
         "type": "scatter",
         "x": [
          35,
          35
         ],
         "y": [
          9.5,
          -9.5
         ]
        },
        {
         "hoverinfo": "text",
         "hovertext": "Sokka: Katara, settle down!",
         "line": {
          "color": "#595B77",
          "width": 2
         },
         "mode": "lines",
         "showlegend": false,
         "type": "scatter",
         "x": [
          37,
          37
         ],
         "y": [
          1.5,
          -1.5
         ]
        },
        {
         "hoverinfo": "text",
         "hovertext": "Katara: NO! THAT’S IT!! I’m done helping you. From now on,  you’re ON YOUR OWN!",
         "line": {
          "color": "#595B77",
          "width": 2
         },
         "mode": "lines",
         "showlegend": false,
         "type": "scatter",
         "x": [
          39,
          39
         ],
         "y": [
          7,
          -7
         ]
        },
        {
         "hoverinfo": "text",
         "hovertext": "Sokka: Okay, you've gone from \"weird\" to \"freakish\",  Katara.",
         "line": {
          "color": "#595B77",
          "width": 2
         },
         "mode": "lines",
         "showlegend": false,
         "type": "scatter",
         "x": [
          41,
          41
         ],
         "y": [
          4,
          -4
         ]
        },
        {
         "hoverinfo": "text",
         "hovertext": "Katara: You mean I did that?",
         "line": {
          "color": "#595B77",
          "width": 2
         },
         "mode": "lines",
         "showlegend": false,
         "type": "scatter",
         "x": [
          43,
          43
         ],
         "y": [
          2.5,
          -2.5
         ]
        },
        {
         "hoverinfo": "text",
         "hovertext": "Sokka: Yep.  Congratulations.",
         "line": {
          "color": "#595B77",
          "width": 2
         },
         "mode": "lines",
         "showlegend": false,
         "type": "scatter",
         "x": [
          45,
          45
         ],
         "y": [
          1,
          -1
         ]
        },
        {
         "hoverinfo": "text",
         "hovertext": "Katara: He's alive! We have to help!",
         "line": {
          "color": "#595B77",
          "width": 2
         },
         "mode": "lines",
         "showlegend": false,
         "type": "scatter",
         "x": [
          47,
          47
         ],
         "y": [
          3,
          -3
         ]
        },
        {
         "hoverinfo": "text",
         "hovertext": "Sokka: Katara, get back here!  We don't know what that thing is!",
         "line": {
          "color": "#595B77",
          "width": 2
         },
         "mode": "lines",
         "showlegend": false,
         "type": "scatter",
         "x": [
          49,
          49
         ],
         "y": [
          5.5,
          -5.5
         ]
        },
        {
         "hoverinfo": "text",
         "hovertext": "Zuko: Finally!  Uncle, do you realize what this means?!",
         "line": {
          "color": "#595B77",
          "width": 2
         },
         "mode": "lines",
         "showlegend": false,
         "type": "scatter",
         "x": [
          51,
          51
         ],
         "y": [
          4,
          -4
         ]
        },
        {
         "hoverinfo": "text",
         "hovertext": "Iroh: I won't get to finish my game?",
         "line": {
          "color": "#595B77",
          "width": 2
         },
         "mode": "lines",
         "showlegend": false,
         "type": "scatter",
         "x": [
          53,
          53
         ],
         "y": [
          3.5,
          -3.5
         ]
        },
        {
         "hoverinfo": "text",
         "hovertext": "Zuko: It means my search is about to come to an end.",
         "line": {
          "color": "#595B77",
          "width": 2
         },
         "mode": "lines",
         "showlegend": false,
         "type": "scatter",
         "x": [
          55,
          55
         ],
         "y": [
          5.5,
          -5.5
         ]
        },
        {
         "hoverinfo": "text",
         "hovertext": "Zuko: That light came from an incredibly powerful source!  It has to be him!",
         "line": {
          "color": "#595B77",
          "width": 2
         },
         "mode": "lines",
         "showlegend": false,
         "type": "scatter",
         "x": [
          57,
          57
         ],
         "y": [
          6.5,
          -6.5
         ]
        },
        {
         "hoverinfo": "text",
         "hovertext": "Iroh: Or it's just the celestial lights. We've been down this road before, Prince Zuko.  I don't want you to get too excited over nothing.  Please, sit. Why don't you enjoy a cup of calming Jasmine tea?",
         "line": {
          "color": "#595B77",
          "width": 2
         },
         "mode": "lines",
         "showlegend": false,
         "type": "scatter",
         "x": [
          59,
          59
         ],
         "y": [
          18,
          -18
         ]
        },
        {
         "hoverinfo": "text",
         "hovertext": "Zuko: I don't need any calming tea! I need to capture the Avatar! Helmsman, head a course for the light!",
         "line": {
          "color": "#595B77",
          "width": 2
         },
         "mode": "lines",
         "showlegend": false,
         "type": "scatter",
         "x": [
          61,
          61
         ],
         "y": [
          9.5,
          -9.5
         ]
        },
        {
         "hoverinfo": "text",
         "hovertext": "Sokka: Stop!",
         "line": {
          "color": "#595B77",
          "width": 2
         },
         "mode": "lines",
         "showlegend": false,
         "type": "scatter",
         "x": [
          63,
          63
         ],
         "y": [
          0.5,
          -0.5
         ]
        },
        {
         "hoverinfo": "text",
         "hovertext": "Katara: Stop it!",
         "line": {
          "color": "#595B77",
          "width": 2
         },
         "mode": "lines",
         "showlegend": false,
         "type": "scatter",
         "x": [
          65,
          65
         ],
         "y": [
          1,
          -1
         ]
        },
        {
         "hoverinfo": "text",
         "hovertext": "Aang: I need to ask you something ...",
         "line": {
          "color": "#595B77",
          "width": 2
         },
         "mode": "lines",
         "showlegend": false,
         "type": "scatter",
         "x": [
          67,
          67
         ],
         "y": [
          3.5,
          -3.5
         ]
        },
        {
         "hoverinfo": "text",
         "hovertext": "Katara: What?",
         "line": {
          "color": "#595B77",
          "width": 2
         },
         "mode": "lines",
         "showlegend": false,
         "type": "scatter",
         "x": [
          69,
          69
         ],
         "y": [
          0.5,
          -0.5
         ]
        },
        {
         "hoverinfo": "text",
         "hovertext": "Aang: Please ... come closer.",
         "line": {
          "color": "#595B77",
          "width": 2
         },
         "mode": "lines",
         "showlegend": false,
         "type": "scatter",
         "x": [
          71,
          71
         ],
         "y": [
          2,
          -2
         ]
        },
        {
         "hoverinfo": "text",
         "hovertext": "Katara: What is it?",
         "line": {
          "color": "#595B77",
          "width": 2
         },
         "mode": "lines",
         "showlegend": false,
         "type": "scatter",
         "x": [
          73,
          73
         ],
         "y": [
          1.5,
          -1.5
         ]
        },
        {
         "hoverinfo": "text",
         "hovertext": "Aang: Will you go penguin sledding with me?",
         "line": {
          "color": "#595B77",
          "width": 2
         },
         "mode": "lines",
         "showlegend": false,
         "type": "scatter",
         "x": [
          75,
          75
         ],
         "y": [
          3.5,
          -3.5
         ]
        },
        {
         "hoverinfo": "text",
         "hovertext": "Katara: Uh, sure ... I-I guess.",
         "line": {
          "color": "#595B77",
          "width": 2
         },
         "mode": "lines",
         "showlegend": false,
         "type": "scatter",
         "x": [
          77,
          77
         ],
         "y": [
          2.5,
          -2.5
         ]
        },
        {
         "hoverinfo": "text",
         "hovertext": "Aang: What's going on here?",
         "line": {
          "color": "#595B77",
          "width": 2
         },
         "mode": "lines",
         "showlegend": false,
         "type": "scatter",
         "x": [
          79,
          79
         ],
         "y": [
          2,
          -2
         ]
        },
        {
         "hoverinfo": "text",
         "hovertext": "Sokka: You tell us!  How did you get in the ice? And why aren't you frozen?",
         "line": {
          "color": "#595B77",
          "width": 2
         },
         "mode": "lines",
         "showlegend": false,
         "type": "scatter",
         "x": [
          81,
          81
         ],
         "y": [
          7.5,
          -7.5
         ]
        },
        {
         "hoverinfo": "text",
         "hovertext": "Aang: I'm not sure.",
         "line": {
          "color": "#595B77",
          "width": 2
         },
         "mode": "lines",
         "showlegend": false,
         "type": "scatter",
         "x": [
          83,
          83
         ],
         "y": [
          1.5,
          -1.5
         ]
        },
        {
         "hoverinfo": "text",
         "hovertext": "Aang: Appa! Are you all right?  Wake up, buddy.",
         "line": {
          "color": "#595B77",
          "width": 2
         },
         "mode": "lines",
         "showlegend": false,
         "type": "scatter",
         "x": [
          85,
          85
         ],
         "y": [
          4,
          -4
         ]
        },
        {
         "hoverinfo": "text",
         "hovertext": "Aang: Ha, ha! You're okay!",
         "line": {
          "color": "#595B77",
          "width": 2
         },
         "mode": "lines",
         "showlegend": false,
         "type": "scatter",
         "x": [
          87,
          87
         ],
         "y": [
          2,
          -2
         ]
        },
        {
         "hoverinfo": "text",
         "hovertext": "Sokka: What is that thing?",
         "line": {
          "color": "#595B77",
          "width": 2
         },
         "mode": "lines",
         "showlegend": false,
         "type": "scatter",
         "x": [
          89,
          89
         ],
         "y": [
          2,
          -2
         ]
        },
        {
         "hoverinfo": "text",
         "hovertext": "Aang: This is Appa, my flying bison.",
         "line": {
          "color": "#595B77",
          "width": 2
         },
         "mode": "lines",
         "showlegend": false,
         "type": "scatter",
         "x": [
          91,
          91
         ],
         "y": [
          3,
          -3
         ]
        },
        {
         "hoverinfo": "text",
         "hovertext": "Sokka: Right, and this is Katara, my flying sister.",
         "line": {
          "color": "#595B77",
          "width": 2
         },
         "mode": "lines",
         "showlegend": false,
         "type": "scatter",
         "x": [
          93,
          93
         ],
         "y": [
          4,
          -4
         ]
        },
        {
         "hoverinfo": "text",
         "hovertext": "Aang: Don't worry, it'll wash out.  So do you guys live around here?",
         "line": {
          "color": "#595B77",
          "width": 2
         },
         "mode": "lines",
         "showlegend": false,
         "type": "scatter",
         "x": [
          95,
          95
         ],
         "y": [
          6,
          -6
         ]
        },
        {
         "hoverinfo": "text",
         "hovertext": "Sokka: Don't answer that! Did you see that crazy bolt of light?! He was probably trying to signal the Fire Navy!",
         "line": {
          "color": "#595B77",
          "width": 2
         },
         "mode": "lines",
         "showlegend": false,
         "type": "scatter",
         "x": [
          97,
          97
         ],
         "y": [
          10,
          -10
         ]
        },
        {
         "hoverinfo": "text",
         "hovertext": "Katara: Oh yeah, I'm sure he's a spy for the Fire Navy. You can tell by that evil look in his eye.  The paranoid one is my brother, Sokka. You never told us your name.",
         "line": {
          "color": "#595B77",
          "width": 2
         },
         "mode": "lines",
         "showlegend": false,
         "type": "scatter",
         "x": [
          99,
          99
         ],
         "y": [
          17,
          -17
         ]
        },
        {
         "hoverinfo": "text",
         "hovertext": "Aang: I'm A ... a-a-a-Achoo!  I'm Aang.",
         "line": {
          "color": "#595B77",
          "width": 2
         },
         "mode": "lines",
         "showlegend": false,
         "type": "scatter",
         "x": [
          101,
          101
         ],
         "y": [
          3,
          -3
         ]
        },
        {
         "hoverinfo": "text",
         "hovertext": "Sokka: You just sneezed ...  and flew ten feet in the air!",
         "line": {
          "color": "#595B77",
          "width": 2
         },
         "mode": "lines",
         "showlegend": false,
         "type": "scatter",
         "x": [
          103,
          103
         ],
         "y": [
          5.5,
          -5.5
         ]
        },
        {
         "hoverinfo": "text",
         "hovertext": "Aang: Really? It felt higher than that.",
         "line": {
          "color": "#595B77",
          "width": 2
         },
         "mode": "lines",
         "showlegend": false,
         "type": "scatter",
         "x": [
          105,
          105
         ],
         "y": [
          3,
          -3
         ]
        },
        {
         "hoverinfo": "text",
         "hovertext": "Katara: You're an airbender!",
         "line": {
          "color": "#595B77",
          "width": 2
         },
         "mode": "lines",
         "showlegend": false,
         "type": "scatter",
         "x": [
          107,
          107
         ],
         "y": [
          1.5,
          -1.5
         ]
        },
        {
         "hoverinfo": "text",
         "hovertext": "Aang: Sure am!",
         "line": {
          "color": "#595B77",
          "width": 2
         },
         "mode": "lines",
         "showlegend": false,
         "type": "scatter",
         "x": [
          109,
          109
         ],
         "y": [
          1,
          -1
         ]
        },
        {
         "hoverinfo": "text",
         "hovertext": "Sokka: Giant light beams, flying bison, airbenders ...  I think I got midnight sun madness. I'm going home to where stuff makes sense.",
         "line": {
          "color": "#595B77",
          "width": 2
         },
         "mode": "lines",
         "showlegend": false,
         "type": "scatter",
         "x": [
          111,
          111
         ],
         "y": [
          11,
          -11
         ]
        },
        {
         "hoverinfo": "text",
         "hovertext": "Aang: Well, if you guys are stuck, Appa and I can give you a lift.",
         "line": {
          "color": "#595B77",
          "width": 2
         },
         "mode": "lines",
         "showlegend": false,
         "type": "scatter",
         "x": [
          113,
          113
         ],
         "y": [
          7,
          -7
         ]
        },
        {
         "hoverinfo": "text",
         "hovertext": "Katara: We'd love a ride! Thanks!",
         "line": {
          "color": "#595B77",
          "width": 2
         },
         "mode": "lines",
         "showlegend": false,
         "type": "scatter",
         "x": [
          115,
          115
         ],
         "y": [
          2.5,
          -2.5
         ]
        },
        {
         "hoverinfo": "text",
         "hovertext": "Sokka: Oh no! I'm not getting on that fluffy snot monster!",
         "line": {
          "color": "#595B77",
          "width": 2
         },
         "mode": "lines",
         "showlegend": false,
         "type": "scatter",
         "x": [
          117,
          117
         ],
         "y": [
          5,
          -5
         ]
        },
        {
         "hoverinfo": "text",
         "hovertext": "Katara: Are you hoping some other kind of monster will come along and give you a ride home? You know, before you freeze to death?",
         "line": {
          "color": "#595B77",
          "width": 2
         },
         "mode": "lines",
         "showlegend": false,
         "type": "scatter",
         "x": [
          119,
          119
         ],
         "y": [
          12,
          -12
         ]
        },
        {
         "hoverinfo": "text",
         "hovertext": "Aang: Okay, first time flyers, hold on tight! Appa, yip-yip!",
         "line": {
          "color": "#595B77",
          "width": 2
         },
         "mode": "lines",
         "showlegend": false,
         "type": "scatter",
         "x": [
          121,
          121
         ],
         "y": [
          4.5,
          -4.5
         ]
        },
        {
         "hoverinfo": "text",
         "hovertext": "Aang: Come on, Appa. Yip-yip!",
         "line": {
          "color": "#595B77",
          "width": 2
         },
         "mode": "lines",
         "showlegend": false,
         "type": "scatter",
         "x": [
          123,
          123
         ],
         "y": [
          2,
          -2
         ]
        },
        {
         "hoverinfo": "text",
         "hovertext": "Sokka: Wow, that was truly amazing ...",
         "line": {
          "color": "#595B77",
          "width": 2
         },
         "mode": "lines",
         "showlegend": false,
         "type": "scatter",
         "x": [
          125,
          125
         ],
         "y": [
          3,
          -3
         ]
        },
        {
         "hoverinfo": "text",
         "hovertext": "Aang: Appa's just a little tired. A little rest and he'll be soaring through the sky. You'll see.",
         "line": {
          "color": "#595B77",
          "width": 2
         },
         "mode": "lines",
         "showlegend": false,
         "type": "scatter",
         "x": [
          127,
          127
         ],
         "y": [
          8.5,
          -8.5
         ]
        },
        {
         "hoverinfo": "text",
         "hovertext": "Katara: Why are you smiling at me like that?",
         "line": {
          "color": "#595B77",
          "width": 2
         },
         "mode": "lines",
         "showlegend": false,
         "type": "scatter",
         "x": [
          129,
          129
         ],
         "y": [
          4,
          -4
         ]
        },
        {
         "hoverinfo": "text",
         "hovertext": "Aang: Oh, I was smiling?",
         "line": {
          "color": "#595B77",
          "width": 2
         },
         "mode": "lines",
         "showlegend": false,
         "type": "scatter",
         "x": [
          131,
          131
         ],
         "y": [
          2,
          -2
         ]
        },
        {
         "hoverinfo": "text",
         "hovertext": "Iroh: I'm going to bed now.  Yep, a man needs his rest.  Prince Zuko, you need some sleep. Even if you're right, and the Avatar is alive, you won't find him. Your father, grandfather and great-grandfather all tried and failed.",
         "line": {
          "color": "#595B77",
          "width": 2
         },
         "mode": "lines",
         "showlegend": false,
         "type": "scatter",
         "x": [
          133,
          133
         ],
         "y": [
          19.5,
          -19.5
         ]
        },
        {
         "hoverinfo": "text",
         "hovertext": "Zuko: Because their honor didn't hinge on the Avatar's capture. Mine does. This coward's hundred years in hiding are over.",
         "line": {
          "color": "#595B77",
          "width": 2
         },
         "mode": "lines",
         "showlegend": false,
         "type": "scatter",
         "x": [
          135,
          135
         ],
         "y": [
          9.5,
          -9.5
         ]
        },
        {
         "hoverinfo": "text",
         "hovertext": "Katara: Hey.",
         "line": {
          "color": "#595B77",
          "width": 2
         },
         "mode": "lines",
         "showlegend": false,
         "type": "scatter",
         "x": [
          137,
          137
         ],
         "y": [
          0.5,
          -0.5
         ]
        },
        {
         "hoverinfo": "text",
         "hovertext": "Aang: Hey. What'cha thinkin' about?",
         "line": {
          "color": "#595B77",
          "width": 2
         },
         "mode": "lines",
         "showlegend": false,
         "type": "scatter",
         "x": [
          139,
          139
         ],
         "y": [
          2,
          -2
         ]
        },
        {
         "hoverinfo": "text",
         "hovertext": "Katara: I guess I was wondering, your being an airbender and all, if you had any idea what happened to the Avatar?",
         "line": {
          "color": "#595B77",
          "width": 2
         },
         "mode": "lines",
         "showlegend": false,
         "type": "scatter",
         "x": [
          141,
          141
         ],
         "y": [
          10.5,
          -10.5
         ]
        },
        {
         "hoverinfo": "text",
         "hovertext": "Aang: Oh, no. I didn't know him. I mean, I knew people that knew him, but I didn't. Sorry.",
         "line": {
          "color": "#595B77",
          "width": 2
         },
         "mode": "lines",
         "showlegend": false,
         "type": "scatter",
         "x": [
          143,
          143
         ],
         "y": [
          9,
          -9
         ]
        },
        {
         "hoverinfo": "text",
         "hovertext": "Katara: Okay. Just curious.  Good night.",
         "line": {
          "color": "#595B77",
          "width": 2
         },
         "mode": "lines",
         "showlegend": false,
         "type": "scatter",
         "x": [
          145,
          145
         ],
         "y": [
          2.5,
          -2.5
         ]
        },
        {
         "hoverinfo": "text",
         "hovertext": "Aang: Sleep tight.",
         "line": {
          "color": "#595B77",
          "width": 2
         },
         "mode": "lines",
         "showlegend": false,
         "type": "scatter",
         "x": [
          147,
          147
         ],
         "y": [
          1,
          -1
         ]
        },
        {
         "hoverinfo": "text",
         "hovertext": "Katara: Aang? Aang! Wake up.  It's okay, we're in the village now! Come on, get ready.  Everyone's waiting to meet you.",
         "line": {
          "color": "#595B77",
          "width": 2
         },
         "mode": "lines",
         "showlegend": false,
         "type": "scatter",
         "x": [
          149,
          149
         ],
         "y": [
          10,
          -10
         ]
        },
        {
         "hoverinfo": "text",
         "hovertext": "Katara: Aang, this is the entire village.  Entire village, Aang.",
         "line": {
          "color": "#595B77",
          "width": 2
         },
         "mode": "lines",
         "showlegend": false,
         "type": "scatter",
         "x": [
          151,
          151
         ],
         "y": [
          4.5,
          -4.5
         ]
        },
        {
         "hoverinfo": "text",
         "hovertext": "Aang: Uh, why are they all looking at me like that? Did Appa sneeze on me?",
         "line": {
          "color": "#595B77",
          "width": 2
         },
         "mode": "lines",
         "showlegend": false,
         "type": "scatter",
         "x": [
          153,
          153
         ],
         "y": [
          7.5,
          -7.5
         ]
        },
        {
         "hoverinfo": "text",
         "hovertext": "Kanna: Well, no one has seen an airbender in a hundred years. We thought they were extinct, until my granddaughter and grandson found you.",
         "line": {
          "color": "#595B77",
          "width": 2
         },
         "mode": "lines",
         "showlegend": false,
         "type": "scatter",
         "x": [
          155,
          155
         ],
         "y": [
          11.5,
          -11.5
         ]
        },
        {
         "hoverinfo": "text",
         "hovertext": "Aang: Extinct?",
         "line": {
          "color": "#595B77",
          "width": 2
         },
         "mode": "lines",
         "showlegend": false,
         "type": "scatter",
         "x": [
          157,
          157
         ],
         "y": [
          0.5,
          -0.5
         ]
        },
        {
         "hoverinfo": "text",
         "hovertext": "Katara: Aang, this is my grandmother.",
         "line": {
          "color": "#595B77",
          "width": 2
         },
         "mode": "lines",
         "showlegend": false,
         "type": "scatter",
         "x": [
          159,
          159
         ],
         "y": [
          2.5,
          -2.5
         ]
        },
        {
         "hoverinfo": "text",
         "hovertext": "Kanna: Call me Gran-Gran.",
         "line": {
          "color": "#595B77",
          "width": 2
         },
         "mode": "lines",
         "showlegend": false,
         "type": "scatter",
         "x": [
          161,
          161
         ],
         "y": [
          1.5,
          -1.5
         ]
        },
        {
         "hoverinfo": "text",
         "hovertext": "Sokka: What is this, a weapon? You can't stab anything with this!",
         "line": {
          "color": "#595B77",
          "width": 2
         },
         "mode": "lines",
         "showlegend": false,
         "type": "scatter",
         "x": [
          163,
          163
         ],
         "y": [
          5.5,
          -5.5
         ]
        },
        {
         "hoverinfo": "text",
         "hovertext": "Aang: It's not for stabbing! It's for airbending.",
         "line": {
          "color": "#595B77",
          "width": 2
         },
         "mode": "lines",
         "showlegend": false,
         "type": "scatter",
         "x": [
          165,
          165
         ],
         "y": [
          3.5,
          -3.5
         ]
        },
        {
         "hoverinfo": "text",
         "hovertext": "Village girl: Magic trick! Do it again!",
         "line": {
          "color": "#595B77",
          "width": 2
         },
         "mode": "lines",
         "showlegend": false,
         "type": "scatter",
         "x": [
          167,
          167
         ],
         "y": [
          2.5,
          -2.5
         ]
        },
        {
         "hoverinfo": "text",
         "hovertext": "Aang: Not magic, airbending.  It lets me control the air currents around my glider and fly.",
         "line": {
          "color": "#595B77",
          "width": 2
         },
         "mode": "lines",
         "showlegend": false,
         "type": "scatter",
         "x": [
          169,
          169
         ],
         "y": [
          7.5,
          -7.5
         ]
        },
        {
         "hoverinfo": "text",
         "hovertext": "Sokka: Ya know, last time I checked, humans can't fly!",
         "line": {
          "color": "#595B77",
          "width": 2
         },
         "mode": "lines",
         "showlegend": false,
         "type": "scatter",
         "x": [
          171,
          171
         ],
         "y": [
          4.5,
          -4.5
         ]
        },
        {
         "hoverinfo": "text",
         "hovertext": "Aang: Check again!",
         "line": {
          "color": "#595B77",
          "width": 2
         },
         "mode": "lines",
         "showlegend": false,
         "type": "scatter",
         "x": [
          173,
          173
         ],
         "y": [
          1,
          -1
         ]
        },
        {
         "hoverinfo": "text",
         "hovertext": "Village girl: He's flying!",
         "line": {
          "color": "#595B77",
          "width": 2
         },
         "mode": "lines",
         "showlegend": false,
         "type": "scatter",
         "x": [
          175,
          175
         ],
         "y": [
          1,
          -1
         ]
        },
        {
         "hoverinfo": "text",
         "hovertext": "Village girl: It's amazing!",
         "line": {
          "color": "#595B77",
          "width": 2
         },
         "mode": "lines",
         "showlegend": false,
         "type": "scatter",
         "x": [
          177,
          177
         ],
         "y": [
          1,
          -1
         ]
        },
        {
         "hoverinfo": "text",
         "hovertext": "Sokka: My watchtower!",
         "line": {
          "color": "#595B77",
          "width": 2
         },
         "mode": "lines",
         "showlegend": false,
         "type": "scatter",
         "x": [
          179,
          179
         ],
         "y": [
          1,
          -1
         ]
        },
        {
         "hoverinfo": "text",
         "hovertext": "Katara: That was amazing!",
         "line": {
          "color": "#595B77",
          "width": 2
         },
         "mode": "lines",
         "showlegend": false,
         "type": "scatter",
         "x": [
          181,
          181
         ],
         "y": [
          1.5,
          -1.5
         ]
        },
        {
         "hoverinfo": "text",
         "hovertext": "Sokka: Great. You're an airbender, Katara's a waterbender. Together you can just waste time all day long.",
         "line": {
          "color": "#595B77",
          "width": 2
         },
         "mode": "lines",
         "showlegend": false,
         "type": "scatter",
         "x": [
          183,
          183
         ],
         "y": [
          8,
          -8
         ]
        },
        {
         "hoverinfo": "text",
         "hovertext": "Aang: You're a waterbender?",
         "line": {
          "color": "#595B77",
          "width": 2
         },
         "mode": "lines",
         "showlegend": false,
         "type": "scatter",
         "x": [
          185,
          185
         ],
         "y": [
          1.5,
          -1.5
         ]
        },
        {
         "hoverinfo": "text",
         "hovertext": "Katara: Well, sort of. Not yet.",
         "line": {
          "color": "#595B77",
          "width": 2
         },
         "mode": "lines",
         "showlegend": false,
         "type": "scatter",
         "x": [
          187,
          187
         ],
         "y": [
          2.5,
          -2.5
         ]
        },
        {
         "hoverinfo": "text",
         "hovertext": "Kanna: All right, no more playing. Come on, Katara, you have chores.",
         "line": {
          "color": "#595B77",
          "width": 2
         },
         "mode": "lines",
         "showlegend": false,
         "type": "scatter",
         "x": [
          189,
          189
         ],
         "y": [
          5.5,
          -5.5
         ]
        },
        {
         "hoverinfo": "text",
         "hovertext": "Katara: I told you, he's the real thing Gran-Gran! I finally found a bender to teach me!",
         "line": {
          "color": "#595B77",
          "width": 2
         },
         "mode": "lines",
         "showlegend": false,
         "type": "scatter",
         "x": [
          191,
          191
         ],
         "y": [
          8,
          -8
         ]
        },
        {
         "hoverinfo": "text",
         "hovertext": "Kanna: Katara, try not to put all your hopes in this boy.",
         "line": {
          "color": "#595B77",
          "width": 2
         },
         "mode": "lines",
         "showlegend": false,
         "type": "scatter",
         "x": [
          193,
          193
         ],
         "y": [
          5.5,
          -5.5
         ]
        },
        {
         "hoverinfo": "text",
         "hovertext": "Katara: But he's special! I can tell!  I sense he's filled with much wisdom.",
         "line": {
          "color": "#595B77",
          "width": 2
         },
         "mode": "lines",
         "showlegend": false,
         "type": "scatter",
         "x": [
          195,
          195
         ],
         "y": [
          6.5,
          -6.5
         ]
        },
        {
         "hoverinfo": "text",
         "hovertext": "Aang: See? Now my tongue is stuck to my staff!",
         "line": {
          "color": "#595B77",
          "width": 2
         },
         "mode": "lines",
         "showlegend": false,
         "type": "scatter",
         "x": [
          197,
          197
         ],
         "y": [
          4.5,
          -4.5
         ]
        },
        {
         "hoverinfo": "text",
         "hovertext": "Iroh: Again.",
         "line": {
          "color": "#595B77",
          "width": 2
         },
         "mode": "lines",
         "showlegend": false,
         "type": "scatter",
         "x": [
          199,
          199
         ],
         "y": [
          0.5,
          -0.5
         ]
        },
        {
         "hoverinfo": "text",
         "hovertext": "Iroh: No!  Power in firebending comes from the breath , not the muscles.  The breath becomes energy in the body. The energy extends past your limbs and becomes: fire!  Get it right this time.",
         "line": {
          "color": "#595B77",
          "width": 2
         },
         "mode": "lines",
         "showlegend": false,
         "type": "scatter",
         "x": [
          201,
          201
         ],
         "y": [
          16.5,
          -16.5
         ]
        },
        {
         "hoverinfo": "text",
         "hovertext": "Zuko: Enough! I've been drilling this sequence all day. Teach me the next set! I'm more than ready!",
         "line": {
          "color": "#595B77",
          "width": 2
         },
         "mode": "lines",
         "showlegend": false,
         "type": "scatter",
         "x": [
          203,
          203
         ],
         "y": [
          8.5,
          -8.5
         ]
        },
        {
         "hoverinfo": "text",
         "hovertext": "Iroh: No, you are impatient.  You have yet to master your basics.  Drill it again!",
         "line": {
          "color": "#595B77",
          "width": 2
         },
         "mode": "lines",
         "showlegend": false,
         "type": "scatter",
         "x": [
          205,
          205
         ],
         "y": [
          7,
          -7
         ]
        },
        {
         "hoverinfo": "text",
         "hovertext": "Zuko: The sages tell us that the Avatar is the last airbender.  He must be over a hundred years old by now. He's had a century to master the four elements! I'll need more than basic firebending to defeat him.  You will teach me the advanced set!",
         "line": {
          "color": "#595B77",
          "width": 2
         },
         "mode": "lines",
         "showlegend": false,
         "type": "scatter",
         "x": [
          207,
          207
         ],
         "y": [
          23,
          -23
         ]
        },
        {
         "hoverinfo": "text",
         "hovertext": "Iroh: Very well,  but first, I must finish my roast duck.",
         "line": {
          "color": "#595B77",
          "width": 2
         },
         "mode": "lines",
         "showlegend": false,
         "type": "scatter",
         "x": [
          209,
          209
         ],
         "y": [
          5,
          -5
         ]
        },
        {
         "hoverinfo": "text",
         "hovertext": "Sokka: Now men, it's important that you show no fear when you face a firebender.  In the Water Tribe, we fight to the last man standing! For without courage, how can we call ourselves men?",
         "line": {
          "color": "#595B77",
          "width": 2
         },
         "mode": "lines",
         "showlegend": false,
         "type": "scatter",
         "x": [
          211,
          211
         ],
         "y": [
          17,
          -17
         ]
        },
        {
         "hoverinfo": "text",
         "hovertext": "Southern Water Tribe boy: I gotta pee!",
         "line": {
          "color": "#595B77",
          "width": 2
         },
         "mode": "lines",
         "showlegend": false,
         "type": "scatter",
         "x": [
          213,
          213
         ],
         "y": [
          1.5,
          -1.5
         ]
        },
        {
         "hoverinfo": "text",
         "hovertext": "Sokka: Listen! Until your fathers return from the War, they're counting on you to be the men of this tribe, and that means no potty breaks !",
         "line": {
          "color": "#595B77",
          "width": 2
         },
         "mode": "lines",
         "showlegend": false,
         "type": "scatter",
         "x": [
          215,
          215
         ],
         "y": [
          13,
          -13
         ]
        },
        {
         "hoverinfo": "text",
         "hovertext": "Southern Water Tribe boy: But I really gotta go!",
         "line": {
          "color": "#595B77",
          "width": 2
         },
         "mode": "lines",
         "showlegend": false,
         "type": "scatter",
         "x": [
          217,
          217
         ],
         "y": [
          2.5,
          -2.5
         ]
        },
        {
         "hoverinfo": "text",
         "hovertext": "Sokka: Okay, who else has to go?",
         "line": {
          "color": "#595B77",
          "width": 2
         },
         "mode": "lines",
         "showlegend": false,
         "type": "scatter",
         "x": [
          219,
          219
         ],
         "y": [
          3,
          -3
         ]
        },
        {
         "hoverinfo": "text",
         "hovertext": "Katara: Have you seen Aang? Gran-Gran said he disappeared over an hour ago.",
         "line": {
          "color": "#595B77",
          "width": 2
         },
         "mode": "lines",
         "showlegend": false,
         "type": "scatter",
         "x": [
          221,
          221
         ],
         "y": [
          6,
          -6
         ]
        },
        {
         "hoverinfo": "text",
         "hovertext": "Aang: Wow! Everything freezes in there!",
         "line": {
          "color": "#595B77",
          "width": 2
         },
         "mode": "lines",
         "showlegend": false,
         "type": "scatter",
         "x": [
          223,
          223
         ],
         "y": [
          2.5,
          -2.5
         ]
        },
        {
         "hoverinfo": "text",
         "hovertext": "Sokka: Uh!  Katara, get him out of here! This lesson is for warriors only !",
         "line": {
          "color": "#595B77",
          "width": 2
         },
         "mode": "lines",
         "showlegend": false,
         "type": "scatter",
         "x": [
          225,
          225
         ],
         "y": [
          7,
          -7
         ]
        },
        {
         "hoverinfo": "text",
         "hovertext": "Village boy: Whee!",
         "line": {
          "color": "#595B77",
          "width": 2
         },
         "mode": "lines",
         "showlegend": false,
         "type": "scatter",
         "x": [
          227,
          227
         ],
         "y": [
          0.5,
          -0.5
         ]
        },
        {
         "hoverinfo": "text",
         "hovertext": "Sokka: Stop! Stop it right now!  What's wrong with you?! We don't have time for fun and games with the War going on!",
         "line": {
          "color": "#595B77",
          "width": 2
         },
         "mode": "lines",
         "showlegend": false,
         "type": "scatter",
         "x": [
          229,
          229
         ],
         "y": [
          11,
          -11
         ]
        },
        {
         "hoverinfo": "text",
         "hovertext": "Aang: What war? What are you talking about?",
         "line": {
          "color": "#595B77",
          "width": 2
         },
         "mode": "lines",
         "showlegend": false,
         "type": "scatter",
         "x": [
          231,
          231
         ],
         "y": [
          3.5,
          -3.5
         ]
        },
        {
         "hoverinfo": "text",
         "hovertext": "Sokka: You're kidding, right?",
         "line": {
          "color": "#595B77",
          "width": 2
         },
         "mode": "lines",
         "showlegend": false,
         "type": "scatter",
         "x": [
          233,
          233
         ],
         "y": [
          1.5,
          -1.5
         ]
        },
        {
         "hoverinfo": "text",
         "hovertext": "Aang: Penguin!",
         "line": {
          "color": "#595B77",
          "width": 2
         },
         "mode": "lines",
         "showlegend": false,
         "type": "scatter",
         "x": [
          235,
          235
         ],
         "y": [
          0.5,
          -0.5
         ]
        },
        {
         "hoverinfo": "text",
         "hovertext": "Sokka: He's kidding, right?",
         "line": {
          "color": "#595B77",
          "width": 2
         },
         "mode": "lines",
         "showlegend": false,
         "type": "scatter",
         "x": [
          237,
          237
         ],
         "y": [
          1.5,
          -1.5
         ]
        },
        {
         "hoverinfo": "text",
         "hovertext": "Katara: Aang?",
         "line": {
          "color": "#595B77",
          "width": 2
         },
         "mode": "lines",
         "showlegend": false,
         "type": "scatter",
         "x": [
          239,
          239
         ],
         "y": [
          0.5,
          -0.5
         ]
        },
        {
         "hoverinfo": "text",
         "hovertext": "Aang: Hey, come on little guy. Wanna go sledding?  Heh heh. I have a way with animals.",
         "line": {
          "color": "#595B77",
          "width": 2
         },
         "mode": "lines",
         "showlegend": false,
         "type": "scatter",
         "x": [
          241,
          241
         ],
         "y": [
          8,
          -8
         ]
        },
        {
         "hoverinfo": "text",
         "hovertext": "Katara: Hehehe, Aang, I'll help you catch a penguin if you teach me waterbending.",
         "line": {
          "color": "#595B77",
          "width": 2
         },
         "mode": "lines",
         "showlegend": false,
         "type": "scatter",
         "x": [
          243,
          243
         ],
         "y": [
          6.5,
          -6.5
         ]
        },
        {
         "hoverinfo": "text",
         "hovertext": "Aang: You got a deal! Just one little problem ...  I'm an airbender, not a waterbender. Isn't there someone in your tribe who can teach you?",
         "line": {
          "color": "#595B77",
          "width": 2
         },
         "mode": "lines",
         "showlegend": false,
         "type": "scatter",
         "x": [
          245,
          245
         ],
         "y": [
          12.5,
          -12.5
         ]
        },
        {
         "hoverinfo": "text",
         "hovertext": "Katara: No. You're looking at the only waterbender in the whole South Pole.",
         "line": {
          "color": "#595B77",
          "width": 2
         },
         "mode": "lines",
         "showlegend": false,
         "type": "scatter",
         "x": [
          247,
          247
         ],
         "y": [
          6,
          -6
         ]
        },
        {
         "hoverinfo": "text",
         "hovertext": "Aang: This isn't right. A waterbender needs to master water.  What about the North Pole? There's another Water Tribe up there, right? Maybe they have waterbenders who could teach you.",
         "line": {
          "color": "#595B77",
          "width": 2
         },
         "mode": "lines",
         "showlegend": false,
         "type": "scatter",
         "x": [
          249,
          249
         ],
         "y": [
          14.5,
          -14.5
         ]
        },
        {
         "hoverinfo": "text",
         "hovertext": "Katara: Maybe, but we haven't had contact with our sister tribe in a long time. It's not exactly \"turn right at the second glacier\". It's on the other side of the world .",
         "line": {
          "color": "#595B77",
          "width": 2
         },
         "mode": "lines",
         "showlegend": false,
         "type": "scatter",
         "x": [
          251,
          251
         ],
         "y": [
          16,
          -16
         ]
        },
        {
         "hoverinfo": "text",
         "hovertext": "Aang: But you forget, I have a flying bison.  Appa and I can personally fly you to the North Pole. Katara, we're going to find you a master!",
         "line": {
          "color": "#595B77",
          "width": 2
         },
         "mode": "lines",
         "showlegend": false,
         "type": "scatter",
         "x": [
          253,
          253
         ],
         "y": [
          13.5,
          -13.5
         ]
        },
        {
         "hoverinfo": "text",
         "hovertext": "Katara: That's ... I mean, I don't know. I've never left home before.",
         "line": {
          "color": "#595B77",
          "width": 2
         },
         "mode": "lines",
         "showlegend": false,
         "type": "scatter",
         "x": [
          255,
          255
         ],
         "y": [
          6,
          -6
         ]
        },
        {
         "hoverinfo": "text",
         "hovertext": "Aang: Well, you think about it, but in the meantime, can you teach me to catch one of these penguins?",
         "line": {
          "color": "#595B77",
          "width": 2
         },
         "mode": "lines",
         "showlegend": false,
         "type": "scatter",
         "x": [
          257,
          257
         ],
         "y": [
          9.5,
          -9.5
         ]
        },
        {
         "hoverinfo": "text",
         "hovertext": "Katara: Okay, listen closely my young pupil.  Catching penguins is an ancient and sacred art.  Observe!",
         "line": {
          "color": "#595B77",
          "width": 2
         },
         "mode": "lines",
         "showlegend": false,
         "type": "scatter",
         "x": [
          259,
          259
         ],
         "y": [
          7.5,
          -7.5
         ]
        },
        {
         "hoverinfo": "text",
         "hovertext": "Aang: Hi hi hi! Ha, ha, ha!",
         "line": {
          "color": "#595B77",
          "width": 2
         },
         "mode": "lines",
         "showlegend": false,
         "type": "scatter",
         "x": [
          261,
          261
         ],
         "y": [
          3,
          -3
         ]
        },
        {
         "hoverinfo": "text",
         "hovertext": "Katara: I haven't done this since I was a kid!",
         "line": {
          "color": "#595B77",
          "width": 2
         },
         "mode": "lines",
         "showlegend": false,
         "type": "scatter",
         "x": [
          263,
          263
         ],
         "y": [
          4.5,
          -4.5
         ]
        },
        {
         "hoverinfo": "text",
         "hovertext": "Aang: You still are a kid!",
         "line": {
          "color": "#595B77",
          "width": 2
         },
         "mode": "lines",
         "showlegend": false,
         "type": "scatter",
         "x": [
          265,
          265
         ],
         "y": [
          2.5,
          -2.5
         ]
        },
        {
         "hoverinfo": "text",
         "hovertext": "Aang: Whoa! What is that?",
         "line": {
          "color": "#595B77",
          "width": 2
         },
         "mode": "lines",
         "showlegend": false,
         "type": "scatter",
         "x": [
          267,
          267
         ],
         "y": [
          2,
          -2
         ]
        },
        {
         "hoverinfo": "text",
         "hovertext": "Katara: A Fire Navy ship. And a very bad memory for my people.  Aang, stop! We're not allowed to go near it! The ship could be booby-trapped!",
         "line": {
          "color": "#595B77",
          "width": 2
         },
         "mode": "lines",
         "showlegend": false,
         "type": "scatter",
         "x": [
          269,
          269
         ],
         "y": [
          13,
          -13
         ]
        },
        {
         "hoverinfo": "text",
         "hovertext": "Aang: If you want to be a bender, you have to let go of fear.",
         "line": {
          "color": "#595B77",
          "width": 2
         },
         "mode": "lines",
         "showlegend": false,
         "type": "scatter",
         "x": [
          271,
          271
         ],
         "y": [
          7,
          -7
         ]
        },
        {
         "hoverinfo": "text",
         "hovertext": "Katara: This ship has haunted my tribe since Gran-Gran was a little girl.  It was part of the Fire Nation's first attacks.",
         "line": {
          "color": "#595B77",
          "width": 2
         },
         "mode": "lines",
         "showlegend": false,
         "type": "scatter",
         "x": [
          273,
          273
         ],
         "y": [
          10.5,
          -10.5
         ]
        },
        {
         "hoverinfo": "text",
         "hovertext": "Aang: Okay, back up. I have friends all over the world, even in the Fire Nation.  I've never seen any war.",
         "line": {
          "color": "#595B77",
          "width": 2
         },
         "mode": "lines",
         "showlegend": false,
         "type": "scatter",
         "x": [
          275,
          275
         ],
         "y": [
          10,
          -10
         ]
        },
        {
         "hoverinfo": "text",
         "hovertext": "Katara: Aang, how long were you in that iceberg?",
         "line": {
          "color": "#595B77",
          "width": 2
         },
         "mode": "lines",
         "showlegend": false,
         "type": "scatter",
         "x": [
          277,
          277
         ],
         "y": [
          4,
          -4
         ]
        },
        {
         "hoverinfo": "text",
         "hovertext": "Aang: I don't know. A few days, maybe?",
         "line": {
          "color": "#595B77",
          "width": 2
         },
         "mode": "lines",
         "showlegend": false,
         "type": "scatter",
         "x": [
          279,
          279
         ],
         "y": [
          3.5,
          -3.5
         ]
        },
        {
         "hoverinfo": "text",
         "hovertext": "Katara: I think it was more like a hundred years!",
         "line": {
          "color": "#595B77",
          "width": 2
         },
         "mode": "lines",
         "showlegend": false,
         "type": "scatter",
         "x": [
          281,
          281
         ],
         "y": [
          4.5,
          -4.5
         ]
        },
        {
         "hoverinfo": "text",
         "hovertext": "Aang: What?! That's impossible! Do I look like a hundred-twelve-year-old man to you?",
         "line": {
          "color": "#595B77",
          "width": 2
         },
         "mode": "lines",
         "showlegend": false,
         "type": "scatter",
         "x": [
          283,
          283
         ],
         "y": [
          6,
          -6
         ]
        },
        {
         "hoverinfo": "text",
         "hovertext": "Katara: Think about it. The War is a century old. You don't know about it because, somehow, you were in there the whole time!  It's the only explanation.",
         "line": {
          "color": "#595B77",
          "width": 2
         },
         "mode": "lines",
         "showlegend": false,
         "type": "scatter",
         "x": [
          285,
          285
         ],
         "y": [
          13.5,
          -13.5
         ]
        },
        {
         "hoverinfo": "text",
         "hovertext": "Aang: A hundred years!  I can't believe it.",
         "line": {
          "color": "#595B77",
          "width": 2
         },
         "mode": "lines",
         "showlegend": false,
         "type": "scatter",
         "x": [
          287,
          287
         ],
         "y": [
          3.5,
          -3.5
         ]
        },
        {
         "hoverinfo": "text",
         "hovertext": "Katara: I'm sorry, Aang. Maybe somehow there's a bright side to all this ...",
         "line": {
          "color": "#595B77",
          "width": 2
         },
         "mode": "lines",
         "showlegend": false,
         "type": "scatter",
         "x": [
          289,
          289
         ],
         "y": [
          6.5,
          -6.5
         ]
        },
        {
         "hoverinfo": "text",
         "hovertext": "Aang: I did get to meet you.",
         "line": {
          "color": "#595B77",
          "width": 2
         },
         "mode": "lines",
         "showlegend": false,
         "type": "scatter",
         "x": [
          291,
          291
         ],
         "y": [
          3,
          -3
         ]
        },
        {
         "hoverinfo": "text",
         "hovertext": "Katara: Come on, let's get out of here.",
         "line": {
          "color": "#595B77",
          "width": 2
         },
         "mode": "lines",
         "showlegend": false,
         "type": "scatter",
         "x": [
          293,
          293
         ],
         "y": [
          3.5,
          -3.5
         ]
        },
        {
         "hoverinfo": "text",
         "hovertext": "Katara: Aang, let's head back, this place is creepy.",
         "line": {
          "color": "#595B77",
          "width": 2
         },
         "mode": "lines",
         "showlegend": false,
         "type": "scatter",
         "x": [
          295,
          295
         ],
         "y": [
          4,
          -4
         ]
        },
        {
         "hoverinfo": "text",
         "hovertext": "Aang: Huh?",
         "line": {
          "color": "#595B77",
          "width": 2
         },
         "mode": "lines",
         "showlegend": false,
         "type": "scatter",
         "x": [
          297,
          297
         ],
         "y": [
          0.5,
          -0.5
         ]
        },
        {
         "hoverinfo": "text",
         "hovertext": "Aang: What's that you said about booby traps?",
         "line": {
          "color": "#595B77",
          "width": 2
         },
         "mode": "lines",
         "showlegend": false,
         "type": "scatter",
         "x": [
          299,
          299
         ],
         "y": [
          3.5,
          -3.5
         ]
        },
        {
         "hoverinfo": "text",
         "hovertext": "Aang: Uh oh ...  Hold on tight!",
         "line": {
          "color": "#595B77",
          "width": 2
         },
         "mode": "lines",
         "showlegend": false,
         "type": "scatter",
         "x": [
          301,
          301
         ],
         "y": [
          3,
          -3
         ]
        },
        {
         "hoverinfo": "text",
         "hovertext": "Katara: Aaah!",
         "line": {
          "color": "#595B77",
          "width": 2
         },
         "mode": "lines",
         "showlegend": false,
         "type": "scatter",
         "x": [
          303,
          303
         ],
         "y": [
          0.5,
          -0.5
         ]
        },
        {
         "hoverinfo": "text",
         "hovertext": "Zuko: The last airbender!  Quite agile for his old age.  Wake my uncle! Tell him I found the Avatar.  As well as his hiding place ...",
         "line": {
          "color": "#595B77",
          "width": 2
         },
         "mode": "lines",
         "showlegend": false,
         "type": "scatter",
         "x": [
          305,
          305
         ],
         "y": [
          12.5,
          -12.5
         ]
        }
       ],
       "layout": {
        "autosize": true,
        "margin": {
         "b": 0,
         "l": 0,
         "r": 0,
         "t": 0
        },
        "plot_bgcolor": "white",
        "template": {
         "data": {
          "bar": [
           {
            "error_x": {
             "color": "#2a3f5f"
            },
            "error_y": {
             "color": "#2a3f5f"
            },
            "marker": {
             "line": {
              "color": "#E5ECF6",
              "width": 0.5
             },
             "pattern": {
              "fillmode": "overlay",
              "size": 10,
              "solidity": 0.2
             }
            },
            "type": "bar"
           }
          ],
          "barpolar": [
           {
            "marker": {
             "line": {
              "color": "#E5ECF6",
              "width": 0.5
             },
             "pattern": {
              "fillmode": "overlay",
              "size": 10,
              "solidity": 0.2
             }
            },
            "type": "barpolar"
           }
          ],
          "carpet": [
           {
            "aaxis": {
             "endlinecolor": "#2a3f5f",
             "gridcolor": "white",
             "linecolor": "white",
             "minorgridcolor": "white",
             "startlinecolor": "#2a3f5f"
            },
            "baxis": {
             "endlinecolor": "#2a3f5f",
             "gridcolor": "white",
             "linecolor": "white",
             "minorgridcolor": "white",
             "startlinecolor": "#2a3f5f"
            },
            "type": "carpet"
           }
          ],
          "choropleth": [
           {
            "colorbar": {
             "outlinewidth": 0,
             "ticks": ""
            },
            "type": "choropleth"
           }
          ],
          "contour": [
           {
            "colorbar": {
             "outlinewidth": 0,
             "ticks": ""
            },
            "colorscale": [
             [
              0,
              "#0d0887"
             ],
             [
              0.1111111111111111,
              "#46039f"
             ],
             [
              0.2222222222222222,
              "#7201a8"
             ],
             [
              0.3333333333333333,
              "#9c179e"
             ],
             [
              0.4444444444444444,
              "#bd3786"
             ],
             [
              0.5555555555555556,
              "#d8576b"
             ],
             [
              0.6666666666666666,
              "#ed7953"
             ],
             [
              0.7777777777777778,
              "#fb9f3a"
             ],
             [
              0.8888888888888888,
              "#fdca26"
             ],
             [
              1,
              "#f0f921"
             ]
            ],
            "type": "contour"
           }
          ],
          "contourcarpet": [
           {
            "colorbar": {
             "outlinewidth": 0,
             "ticks": ""
            },
            "type": "contourcarpet"
           }
          ],
          "heatmap": [
           {
            "colorbar": {
             "outlinewidth": 0,
             "ticks": ""
            },
            "colorscale": [
             [
              0,
              "#0d0887"
             ],
             [
              0.1111111111111111,
              "#46039f"
             ],
             [
              0.2222222222222222,
              "#7201a8"
             ],
             [
              0.3333333333333333,
              "#9c179e"
             ],
             [
              0.4444444444444444,
              "#bd3786"
             ],
             [
              0.5555555555555556,
              "#d8576b"
             ],
             [
              0.6666666666666666,
              "#ed7953"
             ],
             [
              0.7777777777777778,
              "#fb9f3a"
             ],
             [
              0.8888888888888888,
              "#fdca26"
             ],
             [
              1,
              "#f0f921"
             ]
            ],
            "type": "heatmap"
           }
          ],
          "heatmapgl": [
           {
            "colorbar": {
             "outlinewidth": 0,
             "ticks": ""
            },
            "colorscale": [
             [
              0,
              "#0d0887"
             ],
             [
              0.1111111111111111,
              "#46039f"
             ],
             [
              0.2222222222222222,
              "#7201a8"
             ],
             [
              0.3333333333333333,
              "#9c179e"
             ],
             [
              0.4444444444444444,
              "#bd3786"
             ],
             [
              0.5555555555555556,
              "#d8576b"
             ],
             [
              0.6666666666666666,
              "#ed7953"
             ],
             [
              0.7777777777777778,
              "#fb9f3a"
             ],
             [
              0.8888888888888888,
              "#fdca26"
             ],
             [
              1,
              "#f0f921"
             ]
            ],
            "type": "heatmapgl"
           }
          ],
          "histogram": [
           {
            "marker": {
             "pattern": {
              "fillmode": "overlay",
              "size": 10,
              "solidity": 0.2
             }
            },
            "type": "histogram"
           }
          ],
          "histogram2d": [
           {
            "colorbar": {
             "outlinewidth": 0,
             "ticks": ""
            },
            "colorscale": [
             [
              0,
              "#0d0887"
             ],
             [
              0.1111111111111111,
              "#46039f"
             ],
             [
              0.2222222222222222,
              "#7201a8"
             ],
             [
              0.3333333333333333,
              "#9c179e"
             ],
             [
              0.4444444444444444,
              "#bd3786"
             ],
             [
              0.5555555555555556,
              "#d8576b"
             ],
             [
              0.6666666666666666,
              "#ed7953"
             ],
             [
              0.7777777777777778,
              "#fb9f3a"
             ],
             [
              0.8888888888888888,
              "#fdca26"
             ],
             [
              1,
              "#f0f921"
             ]
            ],
            "type": "histogram2d"
           }
          ],
          "histogram2dcontour": [
           {
            "colorbar": {
             "outlinewidth": 0,
             "ticks": ""
            },
            "colorscale": [
             [
              0,
              "#0d0887"
             ],
             [
              0.1111111111111111,
              "#46039f"
             ],
             [
              0.2222222222222222,
              "#7201a8"
             ],
             [
              0.3333333333333333,
              "#9c179e"
             ],
             [
              0.4444444444444444,
              "#bd3786"
             ],
             [
              0.5555555555555556,
              "#d8576b"
             ],
             [
              0.6666666666666666,
              "#ed7953"
             ],
             [
              0.7777777777777778,
              "#fb9f3a"
             ],
             [
              0.8888888888888888,
              "#fdca26"
             ],
             [
              1,
              "#f0f921"
             ]
            ],
            "type": "histogram2dcontour"
           }
          ],
          "mesh3d": [
           {
            "colorbar": {
             "outlinewidth": 0,
             "ticks": ""
            },
            "type": "mesh3d"
           }
          ],
          "parcoords": [
           {
            "line": {
             "colorbar": {
              "outlinewidth": 0,
              "ticks": ""
             }
            },
            "type": "parcoords"
           }
          ],
          "pie": [
           {
            "automargin": true,
            "type": "pie"
           }
          ],
          "scatter": [
           {
            "fillpattern": {
             "fillmode": "overlay",
             "size": 10,
             "solidity": 0.2
            },
            "type": "scatter"
           }
          ],
          "scatter3d": [
           {
            "line": {
             "colorbar": {
              "outlinewidth": 0,
              "ticks": ""
             }
            },
            "marker": {
             "colorbar": {
              "outlinewidth": 0,
              "ticks": ""
             }
            },
            "type": "scatter3d"
           }
          ],
          "scattercarpet": [
           {
            "marker": {
             "colorbar": {
              "outlinewidth": 0,
              "ticks": ""
             }
            },
            "type": "scattercarpet"
           }
          ],
          "scattergeo": [
           {
            "marker": {
             "colorbar": {
              "outlinewidth": 0,
              "ticks": ""
             }
            },
            "type": "scattergeo"
           }
          ],
          "scattergl": [
           {
            "marker": {
             "colorbar": {
              "outlinewidth": 0,
              "ticks": ""
             }
            },
            "type": "scattergl"
           }
          ],
          "scattermapbox": [
           {
            "marker": {
             "colorbar": {
              "outlinewidth": 0,
              "ticks": ""
             }
            },
            "type": "scattermapbox"
           }
          ],
          "scatterpolar": [
           {
            "marker": {
             "colorbar": {
              "outlinewidth": 0,
              "ticks": ""
             }
            },
            "type": "scatterpolar"
           }
          ],
          "scatterpolargl": [
           {
            "marker": {
             "colorbar": {
              "outlinewidth": 0,
              "ticks": ""
             }
            },
            "type": "scatterpolargl"
           }
          ],
          "scatterternary": [
           {
            "marker": {
             "colorbar": {
              "outlinewidth": 0,
              "ticks": ""
             }
            },
            "type": "scatterternary"
           }
          ],
          "surface": [
           {
            "colorbar": {
             "outlinewidth": 0,
             "ticks": ""
            },
            "colorscale": [
             [
              0,
              "#0d0887"
             ],
             [
              0.1111111111111111,
              "#46039f"
             ],
             [
              0.2222222222222222,
              "#7201a8"
             ],
             [
              0.3333333333333333,
              "#9c179e"
             ],
             [
              0.4444444444444444,
              "#bd3786"
             ],
             [
              0.5555555555555556,
              "#d8576b"
             ],
             [
              0.6666666666666666,
              "#ed7953"
             ],
             [
              0.7777777777777778,
              "#fb9f3a"
             ],
             [
              0.8888888888888888,
              "#fdca26"
             ],
             [
              1,
              "#f0f921"
             ]
            ],
            "type": "surface"
           }
          ],
          "table": [
           {
            "cells": {
             "fill": {
              "color": "#EBF0F8"
             },
             "line": {
              "color": "white"
             }
            },
            "header": {
             "fill": {
              "color": "#C8D4E3"
             },
             "line": {
              "color": "white"
             }
            },
            "type": "table"
           }
          ]
         },
         "layout": {
          "annotationdefaults": {
           "arrowcolor": "#2a3f5f",
           "arrowhead": 0,
           "arrowwidth": 1
          },
          "autotypenumbers": "strict",
          "coloraxis": {
           "colorbar": {
            "outlinewidth": 0,
            "ticks": ""
           }
          },
          "colorscale": {
           "diverging": [
            [
             0,
             "#8e0152"
            ],
            [
             0.1,
             "#c51b7d"
            ],
            [
             0.2,
             "#de77ae"
            ],
            [
             0.3,
             "#f1b6da"
            ],
            [
             0.4,
             "#fde0ef"
            ],
            [
             0.5,
             "#f7f7f7"
            ],
            [
             0.6,
             "#e6f5d0"
            ],
            [
             0.7,
             "#b8e186"
            ],
            [
             0.8,
             "#7fbc41"
            ],
            [
             0.9,
             "#4d9221"
            ],
            [
             1,
             "#276419"
            ]
           ],
           "sequential": [
            [
             0,
             "#0d0887"
            ],
            [
             0.1111111111111111,
             "#46039f"
            ],
            [
             0.2222222222222222,
             "#7201a8"
            ],
            [
             0.3333333333333333,
             "#9c179e"
            ],
            [
             0.4444444444444444,
             "#bd3786"
            ],
            [
             0.5555555555555556,
             "#d8576b"
            ],
            [
             0.6666666666666666,
             "#ed7953"
            ],
            [
             0.7777777777777778,
             "#fb9f3a"
            ],
            [
             0.8888888888888888,
             "#fdca26"
            ],
            [
             1,
             "#f0f921"
            ]
           ],
           "sequentialminus": [
            [
             0,
             "#0d0887"
            ],
            [
             0.1111111111111111,
             "#46039f"
            ],
            [
             0.2222222222222222,
             "#7201a8"
            ],
            [
             0.3333333333333333,
             "#9c179e"
            ],
            [
             0.4444444444444444,
             "#bd3786"
            ],
            [
             0.5555555555555556,
             "#d8576b"
            ],
            [
             0.6666666666666666,
             "#ed7953"
            ],
            [
             0.7777777777777778,
             "#fb9f3a"
            ],
            [
             0.8888888888888888,
             "#fdca26"
            ],
            [
             1,
             "#f0f921"
            ]
           ]
          },
          "colorway": [
           "#636efa",
           "#EF553B",
           "#00cc96",
           "#ab63fa",
           "#FFA15A",
           "#19d3f3",
           "#FF6692",
           "#B6E880",
           "#FF97FF",
           "#FECB52"
          ],
          "font": {
           "color": "#2a3f5f"
          },
          "geo": {
           "bgcolor": "white",
           "lakecolor": "white",
           "landcolor": "#E5ECF6",
           "showlakes": true,
           "showland": true,
           "subunitcolor": "white"
          },
          "hoverlabel": {
           "align": "left"
          },
          "hovermode": "closest",
          "mapbox": {
           "style": "light"
          },
          "paper_bgcolor": "white",
          "plot_bgcolor": "#E5ECF6",
          "polar": {
           "angularaxis": {
            "gridcolor": "white",
            "linecolor": "white",
            "ticks": ""
           },
           "bgcolor": "#E5ECF6",
           "radialaxis": {
            "gridcolor": "white",
            "linecolor": "white",
            "ticks": ""
           }
          },
          "scene": {
           "xaxis": {
            "backgroundcolor": "#E5ECF6",
            "gridcolor": "white",
            "gridwidth": 2,
            "linecolor": "white",
            "showbackground": true,
            "ticks": "",
            "zerolinecolor": "white"
           },
           "yaxis": {
            "backgroundcolor": "#E5ECF6",
            "gridcolor": "white",
            "gridwidth": 2,
            "linecolor": "white",
            "showbackground": true,
            "ticks": "",
            "zerolinecolor": "white"
           },
           "zaxis": {
            "backgroundcolor": "#E5ECF6",
            "gridcolor": "white",
            "gridwidth": 2,
            "linecolor": "white",
            "showbackground": true,
            "ticks": "",
            "zerolinecolor": "white"
           }
          },
          "shapedefaults": {
           "line": {
            "color": "#2a3f5f"
           }
          },
          "ternary": {
           "aaxis": {
            "gridcolor": "white",
            "linecolor": "white",
            "ticks": ""
           },
           "baxis": {
            "gridcolor": "white",
            "linecolor": "white",
            "ticks": ""
           },
           "bgcolor": "#E5ECF6",
           "caxis": {
            "gridcolor": "white",
            "linecolor": "white",
            "ticks": ""
           }
          },
          "title": {
           "x": 0.05
          },
          "xaxis": {
           "automargin": true,
           "gridcolor": "white",
           "linecolor": "white",
           "ticks": "",
           "title": {
            "standoff": 15
           },
           "zerolinecolor": "white",
           "zerolinewidth": 2
          },
          "yaxis": {
           "automargin": true,
           "gridcolor": "white",
           "linecolor": "white",
           "ticks": "",
           "title": {
            "standoff": 15
           },
           "zerolinecolor": "white",
           "zerolinewidth": 2
          }
         }
        },
        "xaxis": {
         "autorange": true,
         "range": [
          1,
          305
         ],
         "showgrid": false,
         "showticklabels": false,
         "type": "linear"
        },
        "yaxis": {
         "autorange": true,
         "range": [
          -25.555555555555557,
          25.555555555555557
         ],
         "showgrid": false,
         "showticklabels": false,
         "type": "linear"
        }
       }
      },
      "image/png": "[encoded data removed]",
      "text/html": [
       "<div>                            <div id=\"60f0eb98-0a99-4b29-8cbb-ee7f0f10e470\" class=\"plotly-graph-div\" style=\"height:525px; width:100%;\"></div>            <script type=\"text/javascript\">                require([\"plotly\"], function(Plotly) {                    window.PLOTLYENV=window.PLOTLYENV || {};                                    if (document.getElementById(\"60f0eb98-0a99-4b29-8cbb-ee7f0f10e470\")) {                    Plotly.newPlot(                        \"60f0eb98-0a99-4b29-8cbb-ee7f0f10e470\",                        [{\"hoverinfo\":\"text\",\"hovertext\":\"Sokka: It's not getting away from me this time.  Watch and learn, Katara. This is how you catch a fish.\",\"line\":{\"color\":\"#595B77\",\"width\":2},\"mode\":\"lines\",\"showlegend\":false,\"x\":[1,1],\"y\":[9.5,-9.5],\"type\":\"scatter\"},{\"hoverinfo\":\"text\",\"hovertext\":\"Katara: Sokka, look!\",\"line\":{\"color\":\"#595B77\",\"width\":2},\"mode\":\"lines\",\"showlegend\":false,\"x\":[3,3],\"y\":[1.0,-1.0],\"type\":\"scatter\"},{\"hoverinfo\":\"text\",\"hovertext\":\"Sokka: Sshh! Katara, you're going to scare it away.  Mmmm ... I can already smell it cookin'.\",\"line\":{\"color\":\"#595B77\",\"width\":2},\"mode\":\"lines\",\"showlegend\":false,\"x\":[5,5],\"y\":[8.0,-8.0],\"type\":\"scatter\"},{\"hoverinfo\":\"text\",\"hovertext\":\"Katara: But, Sokka! I caught one!\",\"line\":{\"color\":\"#595B77\",\"width\":2},\"mode\":\"lines\",\"showlegend\":false,\"x\":[7,7],\"y\":[2.5,-2.5],\"type\":\"scatter\"},{\"hoverinfo\":\"text\",\"hovertext\":\"Katara: Hey!\",\"line\":{\"color\":\"#595B77\",\"width\":2},\"mode\":\"lines\",\"showlegend\":false,\"x\":[9,9],\"y\":[0.5,-0.5],\"type\":\"scatter\"},{\"hoverinfo\":\"text\",\"hovertext\":\"Sokka: Why is it that every time you play with magic water, I get soaked?\",\"line\":{\"color\":\"#595B77\",\"width\":2},\"mode\":\"lines\",\"showlegend\":false,\"x\":[11,11],\"y\":[7.0,-7.0],\"type\":\"scatter\"},{\"hoverinfo\":\"text\",\"hovertext\":\"Katara: It's not \\\"magic\\\", it's waterbending! And it's ...\",\"line\":{\"color\":\"#595B77\",\"width\":2},\"mode\":\"lines\",\"showlegend\":false,\"x\":[13,13],\"y\":[4.0,-4.0],\"type\":\"scatter\"},{\"hoverinfo\":\"text\",\"hovertext\":\"Sokka: Yeah, yeah, \\\"an ancient art unique to our culture\\\", blah, blah, blah. Look, I'm just saying  that if I had weird powers, I'd keep my weirdness to myself.\",\"line\":{\"color\":\"#595B77\",\"width\":2},\"mode\":\"lines\",\"showlegend\":false,\"x\":[15,15],\"y\":[14.0,-14.0],\"type\":\"scatter\"},{\"hoverinfo\":\"text\",\"hovertext\":\"Katara: You're calling me weird? I'm not the one who makes muscles at myself every time I see my reflection in the water!\",\"line\":{\"color\":\"#595B77\",\"width\":2},\"mode\":\"lines\",\"showlegend\":false,\"x\":[17,17],\"y\":[11.0,-11.0],\"type\":\"scatter\"},{\"hoverinfo\":\"text\",\"hovertext\":\"Katara: Watch out! Go left! Go left!\",\"line\":{\"color\":\"#595B77\",\"width\":2},\"mode\":\"lines\",\"showlegend\":false,\"x\":[19,19],\"y\":[3.0,-3.0],\"type\":\"scatter\"},{\"hoverinfo\":\"text\",\"hovertext\":\"Katara: You call that left?\",\"line\":{\"color\":\"#595B77\",\"width\":2},\"mode\":\"lines\",\"showlegend\":false,\"x\":[21,21],\"y\":[2.0,-2.0],\"type\":\"scatter\"},{\"hoverinfo\":\"text\",\"hovertext\":\"Sokka: You don't like my steering? Well, maybe you should've  waterbended us out of the ice.\",\"line\":{\"color\":\"#595B77\",\"width\":2},\"mode\":\"lines\",\"showlegend\":false,\"x\":[23,23],\"y\":[7.5,-7.5],\"type\":\"scatter\"},{\"hoverinfo\":\"text\",\"hovertext\":\"Katara: So it's my fault?\",\"line\":{\"color\":\"#595B77\",\"width\":2},\"mode\":\"lines\",\"showlegend\":false,\"x\":[25,25],\"y\":[2.0,-2.0],\"type\":\"scatter\"},{\"hoverinfo\":\"text\",\"hovertext\":\"Sokka: I knew I should've left you home!  Leave it to a girl to screw things up!\",\"line\":{\"color\":\"#595B77\",\"width\":2},\"mode\":\"lines\",\"showlegend\":false,\"x\":[27,27],\"y\":[8.0,-8.0],\"type\":\"scatter\"},{\"hoverinfo\":\"text\",\"hovertext\":\"Katara: You are the most sexist,  immature,  nut brained ...  I'm embarrassed  to be related to you!\",\"line\":{\"color\":\"#595B77\",\"width\":2},\"mode\":\"lines\",\"showlegend\":false,\"x\":[29,29],\"y\":[8.0,-8.0],\"type\":\"scatter\"},{\"hoverinfo\":\"text\",\"hovertext\":\"Katara: Ever since mom died,  I've been doing all the work around camp while you've been off playing soldier!\",\"line\":{\"color\":\"#595B77\",\"width\":2},\"mode\":\"lines\",\"showlegend\":false,\"x\":[31,31],\"y\":[9.0,-9.0],\"type\":\"scatter\"},{\"hoverinfo\":\"text\",\"hovertext\":\"Sokka: Uh ... Katara ...\",\"line\":{\"color\":\"#595B77\",\"width\":2},\"mode\":\"lines\",\"showlegend\":false,\"x\":[33,33],\"y\":[2.0,-2.0],\"type\":\"scatter\"},{\"hoverinfo\":\"text\",\"hovertext\":\"Katara: I even wash all the clothes! Have you ever smelled your dirty socks? Let me tell you, not pleasant!\",\"line\":{\"color\":\"#595B77\",\"width\":2},\"mode\":\"lines\",\"showlegend\":false,\"x\":[35,35],\"y\":[9.5,-9.5],\"type\":\"scatter\"},{\"hoverinfo\":\"text\",\"hovertext\":\"Sokka: Katara, settle down!\",\"line\":{\"color\":\"#595B77\",\"width\":2},\"mode\":\"lines\",\"showlegend\":false,\"x\":[37,37],\"y\":[1.5,-1.5],\"type\":\"scatter\"},{\"hoverinfo\":\"text\",\"hovertext\":\"Katara: NO! THAT\\u2019S IT!! I\\u2019m done helping you. From now on,  you\\u2019re ON YOUR OWN!\",\"line\":{\"color\":\"#595B77\",\"width\":2},\"mode\":\"lines\",\"showlegend\":false,\"x\":[39,39],\"y\":[7.0,-7.0],\"type\":\"scatter\"},{\"hoverinfo\":\"text\",\"hovertext\":\"Sokka: Okay, you've gone from \\\"weird\\\" to \\\"freakish\\\",  Katara.\",\"line\":{\"color\":\"#595B77\",\"width\":2},\"mode\":\"lines\",\"showlegend\":false,\"x\":[41,41],\"y\":[4.0,-4.0],\"type\":\"scatter\"},{\"hoverinfo\":\"text\",\"hovertext\":\"Katara: You mean I did that?\",\"line\":{\"color\":\"#595B77\",\"width\":2},\"mode\":\"lines\",\"showlegend\":false,\"x\":[43,43],\"y\":[2.5,-2.5],\"type\":\"scatter\"},{\"hoverinfo\":\"text\",\"hovertext\":\"Sokka: Yep.  Congratulations.\",\"line\":{\"color\":\"#595B77\",\"width\":2},\"mode\":\"lines\",\"showlegend\":false,\"x\":[45,45],\"y\":[1.0,-1.0],\"type\":\"scatter\"},{\"hoverinfo\":\"text\",\"hovertext\":\"Katara: He's alive! We have to help!\",\"line\":{\"color\":\"#595B77\",\"width\":2},\"mode\":\"lines\",\"showlegend\":false,\"x\":[47,47],\"y\":[3.0,-3.0],\"type\":\"scatter\"},{\"hoverinfo\":\"text\",\"hovertext\":\"Sokka: Katara, get back here!  We don't know what that thing is!\",\"line\":{\"color\":\"#595B77\",\"width\":2},\"mode\":\"lines\",\"showlegend\":false,\"x\":[49,49],\"y\":[5.5,-5.5],\"type\":\"scatter\"},{\"hoverinfo\":\"text\",\"hovertext\":\"Zuko: Finally!  Uncle, do you realize what this means?!\",\"line\":{\"color\":\"#595B77\",\"width\":2},\"mode\":\"lines\",\"showlegend\":false,\"x\":[51,51],\"y\":[4.0,-4.0],\"type\":\"scatter\"},{\"hoverinfo\":\"text\",\"hovertext\":\"Iroh: I won't get to finish my game?\",\"line\":{\"color\":\"#595B77\",\"width\":2},\"mode\":\"lines\",\"showlegend\":false,\"x\":[53,53],\"y\":[3.5,-3.5],\"type\":\"scatter\"},{\"hoverinfo\":\"text\",\"hovertext\":\"Zuko: It means my search is about to come to an end.\",\"line\":{\"color\":\"#595B77\",\"width\":2},\"mode\":\"lines\",\"showlegend\":false,\"x\":[55,55],\"y\":[5.5,-5.5],\"type\":\"scatter\"},{\"hoverinfo\":\"text\",\"hovertext\":\"Zuko: That light came from an incredibly powerful source!  It has to be him!\",\"line\":{\"color\":\"#595B77\",\"width\":2},\"mode\":\"lines\",\"showlegend\":false,\"x\":[57,57],\"y\":[6.5,-6.5],\"type\":\"scatter\"},{\"hoverinfo\":\"text\",\"hovertext\":\"Iroh: Or it's just the celestial lights. We've been down this road before, Prince Zuko.  I don't want you to get too excited over nothing.  Please, sit. Why don't you enjoy a cup of calming Jasmine tea?\",\"line\":{\"color\":\"#595B77\",\"width\":2},\"mode\":\"lines\",\"showlegend\":false,\"x\":[59,59],\"y\":[18.0,-18.0],\"type\":\"scatter\"},{\"hoverinfo\":\"text\",\"hovertext\":\"Zuko: I don't need any calming tea! I need to capture the Avatar! Helmsman, head a course for the light!\",\"line\":{\"color\":\"#595B77\",\"width\":2},\"mode\":\"lines\",\"showlegend\":false,\"x\":[61,61],\"y\":[9.5,-9.5],\"type\":\"scatter\"},{\"hoverinfo\":\"text\",\"hovertext\":\"Sokka: Stop!\",\"line\":{\"color\":\"#595B77\",\"width\":2},\"mode\":\"lines\",\"showlegend\":false,\"x\":[63,63],\"y\":[0.5,-0.5],\"type\":\"scatter\"},{\"hoverinfo\":\"text\",\"hovertext\":\"Katara: Stop it!\",\"line\":{\"color\":\"#595B77\",\"width\":2},\"mode\":\"lines\",\"showlegend\":false,\"x\":[65,65],\"y\":[1.0,-1.0],\"type\":\"scatter\"},{\"hoverinfo\":\"text\",\"hovertext\":\"Aang: I need to ask you something ...\",\"line\":{\"color\":\"#595B77\",\"width\":2},\"mode\":\"lines\",\"showlegend\":false,\"x\":[67,67],\"y\":[3.5,-3.5],\"type\":\"scatter\"},{\"hoverinfo\":\"text\",\"hovertext\":\"Katara: What?\",\"line\":{\"color\":\"#595B77\",\"width\":2},\"mode\":\"lines\",\"showlegend\":false,\"x\":[69,69],\"y\":[0.5,-0.5],\"type\":\"scatter\"},{\"hoverinfo\":\"text\",\"hovertext\":\"Aang: Please ... come closer.\",\"line\":{\"color\":\"#595B77\",\"width\":2},\"mode\":\"lines\",\"showlegend\":false,\"x\":[71,71],\"y\":[2.0,-2.0],\"type\":\"scatter\"},{\"hoverinfo\":\"text\",\"hovertext\":\"Katara: What is it?\",\"line\":{\"color\":\"#595B77\",\"width\":2},\"mode\":\"lines\",\"showlegend\":false,\"x\":[73,73],\"y\":[1.5,-1.5],\"type\":\"scatter\"},{\"hoverinfo\":\"text\",\"hovertext\":\"Aang: Will you go penguin sledding with me?\",\"line\":{\"color\":\"#595B77\",\"width\":2},\"mode\":\"lines\",\"showlegend\":false,\"x\":[75,75],\"y\":[3.5,-3.5],\"type\":\"scatter\"},{\"hoverinfo\":\"text\",\"hovertext\":\"Katara: Uh, sure ... I-I guess.\",\"line\":{\"color\":\"#595B77\",\"width\":2},\"mode\":\"lines\",\"showlegend\":false,\"x\":[77,77],\"y\":[2.5,-2.5],\"type\":\"scatter\"},{\"hoverinfo\":\"text\",\"hovertext\":\"Aang: What's going on here?\",\"line\":{\"color\":\"#595B77\",\"width\":2},\"mode\":\"lines\",\"showlegend\":false,\"x\":[79,79],\"y\":[2.0,-2.0],\"type\":\"scatter\"},{\"hoverinfo\":\"text\",\"hovertext\":\"Sokka: You tell us!  How did you get in the ice? And why aren't you frozen?\",\"line\":{\"color\":\"#595B77\",\"width\":2},\"mode\":\"lines\",\"showlegend\":false,\"x\":[81,81],\"y\":[7.5,-7.5],\"type\":\"scatter\"},{\"hoverinfo\":\"text\",\"hovertext\":\"Aang: I'm not sure.\",\"line\":{\"color\":\"#595B77\",\"width\":2},\"mode\":\"lines\",\"showlegend\":false,\"x\":[83,83],\"y\":[1.5,-1.5],\"type\":\"scatter\"},{\"hoverinfo\":\"text\",\"hovertext\":\"Aang: Appa! Are you all right?  Wake up, buddy.\",\"line\":{\"color\":\"#595B77\",\"width\":2},\"mode\":\"lines\",\"showlegend\":false,\"x\":[85,85],\"y\":[4.0,-4.0],\"type\":\"scatter\"},{\"hoverinfo\":\"text\",\"hovertext\":\"Aang: Ha, ha! You're okay!\",\"line\":{\"color\":\"#595B77\",\"width\":2},\"mode\":\"lines\",\"showlegend\":false,\"x\":[87,87],\"y\":[2.0,-2.0],\"type\":\"scatter\"},{\"hoverinfo\":\"text\",\"hovertext\":\"Sokka: What is that thing?\",\"line\":{\"color\":\"#595B77\",\"width\":2},\"mode\":\"lines\",\"showlegend\":false,\"x\":[89,89],\"y\":[2.0,-2.0],\"type\":\"scatter\"},{\"hoverinfo\":\"text\",\"hovertext\":\"Aang: This is Appa, my flying bison.\",\"line\":{\"color\":\"#595B77\",\"width\":2},\"mode\":\"lines\",\"showlegend\":false,\"x\":[91,91],\"y\":[3.0,-3.0],\"type\":\"scatter\"},{\"hoverinfo\":\"text\",\"hovertext\":\"Sokka: Right, and this is Katara, my flying sister.\",\"line\":{\"color\":\"#595B77\",\"width\":2},\"mode\":\"lines\",\"showlegend\":false,\"x\":[93,93],\"y\":[4.0,-4.0],\"type\":\"scatter\"},{\"hoverinfo\":\"text\",\"hovertext\":\"Aang: Don't worry, it'll wash out.  So do you guys live around here?\",\"line\":{\"color\":\"#595B77\",\"width\":2},\"mode\":\"lines\",\"showlegend\":false,\"x\":[95,95],\"y\":[6.0,-6.0],\"type\":\"scatter\"},{\"hoverinfo\":\"text\",\"hovertext\":\"Sokka: Don't answer that! Did you see that crazy bolt of light?! He was probably trying to signal the Fire Navy!\",\"line\":{\"color\":\"#595B77\",\"width\":2},\"mode\":\"lines\",\"showlegend\":false,\"x\":[97,97],\"y\":[10.0,-10.0],\"type\":\"scatter\"},{\"hoverinfo\":\"text\",\"hovertext\":\"Katara: Oh yeah, I'm sure he's a spy for the Fire Navy. You can tell by that evil look in his eye.  The paranoid one is my brother, Sokka. You never told us your name.\",\"line\":{\"color\":\"#595B77\",\"width\":2},\"mode\":\"lines\",\"showlegend\":false,\"x\":[99,99],\"y\":[17.0,-17.0],\"type\":\"scatter\"},{\"hoverinfo\":\"text\",\"hovertext\":\"Aang: I'm A ... a-a-a-Achoo!  I'm Aang.\",\"line\":{\"color\":\"#595B77\",\"width\":2},\"mode\":\"lines\",\"showlegend\":false,\"x\":[101,101],\"y\":[3.0,-3.0],\"type\":\"scatter\"},{\"hoverinfo\":\"text\",\"hovertext\":\"Sokka: You just sneezed ...  and flew ten feet in the air!\",\"line\":{\"color\":\"#595B77\",\"width\":2},\"mode\":\"lines\",\"showlegend\":false,\"x\":[103,103],\"y\":[5.5,-5.5],\"type\":\"scatter\"},{\"hoverinfo\":\"text\",\"hovertext\":\"Aang: Really? It felt higher than that.\",\"line\":{\"color\":\"#595B77\",\"width\":2},\"mode\":\"lines\",\"showlegend\":false,\"x\":[105,105],\"y\":[3.0,-3.0],\"type\":\"scatter\"},{\"hoverinfo\":\"text\",\"hovertext\":\"Katara: You're an airbender!\",\"line\":{\"color\":\"#595B77\",\"width\":2},\"mode\":\"lines\",\"showlegend\":false,\"x\":[107,107],\"y\":[1.5,-1.5],\"type\":\"scatter\"},{\"hoverinfo\":\"text\",\"hovertext\":\"Aang: Sure am!\",\"line\":{\"color\":\"#595B77\",\"width\":2},\"mode\":\"lines\",\"showlegend\":false,\"x\":[109,109],\"y\":[1.0,-1.0],\"type\":\"scatter\"},{\"hoverinfo\":\"text\",\"hovertext\":\"Sokka: Giant light beams, flying bison, airbenders ...  I think I got midnight sun madness. I'm going home to where stuff makes sense.\",\"line\":{\"color\":\"#595B77\",\"width\":2},\"mode\":\"lines\",\"showlegend\":false,\"x\":[111,111],\"y\":[11.0,-11.0],\"type\":\"scatter\"},{\"hoverinfo\":\"text\",\"hovertext\":\"Aang: Well, if you guys are stuck, Appa and I can give you a lift.\",\"line\":{\"color\":\"#595B77\",\"width\":2},\"mode\":\"lines\",\"showlegend\":false,\"x\":[113,113],\"y\":[7.0,-7.0],\"type\":\"scatter\"},{\"hoverinfo\":\"text\",\"hovertext\":\"Katara: We'd love a ride! Thanks!\",\"line\":{\"color\":\"#595B77\",\"width\":2},\"mode\":\"lines\",\"showlegend\":false,\"x\":[115,115],\"y\":[2.5,-2.5],\"type\":\"scatter\"},{\"hoverinfo\":\"text\",\"hovertext\":\"Sokka: Oh no! I'm not getting on that fluffy snot monster!\",\"line\":{\"color\":\"#595B77\",\"width\":2},\"mode\":\"lines\",\"showlegend\":false,\"x\":[117,117],\"y\":[5.0,-5.0],\"type\":\"scatter\"},{\"hoverinfo\":\"text\",\"hovertext\":\"Katara: Are you hoping some other kind of monster will come along and give you a ride home? You know, before you freeze to death?\",\"line\":{\"color\":\"#595B77\",\"width\":2},\"mode\":\"lines\",\"showlegend\":false,\"x\":[119,119],\"y\":[12.0,-12.0],\"type\":\"scatter\"},{\"hoverinfo\":\"text\",\"hovertext\":\"Aang: Okay, first time flyers, hold on tight! Appa, yip-yip!\",\"line\":{\"color\":\"#595B77\",\"width\":2},\"mode\":\"lines\",\"showlegend\":false,\"x\":[121,121],\"y\":[4.5,-4.5],\"type\":\"scatter\"},{\"hoverinfo\":\"text\",\"hovertext\":\"Aang: Come on, Appa. Yip-yip!\",\"line\":{\"color\":\"#595B77\",\"width\":2},\"mode\":\"lines\",\"showlegend\":false,\"x\":[123,123],\"y\":[2.0,-2.0],\"type\":\"scatter\"},{\"hoverinfo\":\"text\",\"hovertext\":\"Sokka: Wow, that was truly amazing ...\",\"line\":{\"color\":\"#595B77\",\"width\":2},\"mode\":\"lines\",\"showlegend\":false,\"x\":[125,125],\"y\":[3.0,-3.0],\"type\":\"scatter\"},{\"hoverinfo\":\"text\",\"hovertext\":\"Aang: Appa's just a little tired. A little rest and he'll be soaring through the sky. You'll see.\",\"line\":{\"color\":\"#595B77\",\"width\":2},\"mode\":\"lines\",\"showlegend\":false,\"x\":[127,127],\"y\":[8.5,-8.5],\"type\":\"scatter\"},{\"hoverinfo\":\"text\",\"hovertext\":\"Katara: Why are you smiling at me like that?\",\"line\":{\"color\":\"#595B77\",\"width\":2},\"mode\":\"lines\",\"showlegend\":false,\"x\":[129,129],\"y\":[4.0,-4.0],\"type\":\"scatter\"},{\"hoverinfo\":\"text\",\"hovertext\":\"Aang: Oh, I was smiling?\",\"line\":{\"color\":\"#595B77\",\"width\":2},\"mode\":\"lines\",\"showlegend\":false,\"x\":[131,131],\"y\":[2.0,-2.0],\"type\":\"scatter\"},{\"hoverinfo\":\"text\",\"hovertext\":\"Iroh: I'm going to bed now.  Yep, a man needs his rest.  Prince Zuko, you need some sleep. Even if you're right, and the Avatar is alive, you won't find him. Your father, grandfather and great-grandfather all tried and failed.\",\"line\":{\"color\":\"#595B77\",\"width\":2},\"mode\":\"lines\",\"showlegend\":false,\"x\":[133,133],\"y\":[19.5,-19.5],\"type\":\"scatter\"},{\"hoverinfo\":\"text\",\"hovertext\":\"Zuko: Because their honor didn't hinge on the Avatar's capture. Mine does. This coward's hundred years in hiding are over.\",\"line\":{\"color\":\"#595B77\",\"width\":2},\"mode\":\"lines\",\"showlegend\":false,\"x\":[135,135],\"y\":[9.5,-9.5],\"type\":\"scatter\"},{\"hoverinfo\":\"text\",\"hovertext\":\"Katara: Hey.\",\"line\":{\"color\":\"#595B77\",\"width\":2},\"mode\":\"lines\",\"showlegend\":false,\"x\":[137,137],\"y\":[0.5,-0.5],\"type\":\"scatter\"},{\"hoverinfo\":\"text\",\"hovertext\":\"Aang: Hey. What'cha thinkin' about?\",\"line\":{\"color\":\"#595B77\",\"width\":2},\"mode\":\"lines\",\"showlegend\":false,\"x\":[139,139],\"y\":[2.0,-2.0],\"type\":\"scatter\"},{\"hoverinfo\":\"text\",\"hovertext\":\"Katara: I guess I was wondering, your being an airbender and all, if you had any idea what happened to the Avatar?\",\"line\":{\"color\":\"#595B77\",\"width\":2},\"mode\":\"lines\",\"showlegend\":false,\"x\":[141,141],\"y\":[10.5,-10.5],\"type\":\"scatter\"},{\"hoverinfo\":\"text\",\"hovertext\":\"Aang: Oh, no. I didn't know him. I mean, I knew people that knew him, but I didn't. Sorry.\",\"line\":{\"color\":\"#595B77\",\"width\":2},\"mode\":\"lines\",\"showlegend\":false,\"x\":[143,143],\"y\":[9.0,-9.0],\"type\":\"scatter\"},{\"hoverinfo\":\"text\",\"hovertext\":\"Katara: Okay. Just curious.  Good night.\",\"line\":{\"color\":\"#595B77\",\"width\":2},\"mode\":\"lines\",\"showlegend\":false,\"x\":[145,145],\"y\":[2.5,-2.5],\"type\":\"scatter\"},{\"hoverinfo\":\"text\",\"hovertext\":\"Aang: Sleep tight.\",\"line\":{\"color\":\"#595B77\",\"width\":2},\"mode\":\"lines\",\"showlegend\":false,\"x\":[147,147],\"y\":[1.0,-1.0],\"type\":\"scatter\"},{\"hoverinfo\":\"text\",\"hovertext\":\"Katara: Aang? Aang! Wake up.  It's okay, we're in the village now! Come on, get ready.  Everyone's waiting to meet you.\",\"line\":{\"color\":\"#595B77\",\"width\":2},\"mode\":\"lines\",\"showlegend\":false,\"x\":[149,149],\"y\":[10.0,-10.0],\"type\":\"scatter\"},{\"hoverinfo\":\"text\",\"hovertext\":\"Katara: Aang, this is the entire village.  Entire village, Aang.\",\"line\":{\"color\":\"#595B77\",\"width\":2},\"mode\":\"lines\",\"showlegend\":false,\"x\":[151,151],\"y\":[4.5,-4.5],\"type\":\"scatter\"},{\"hoverinfo\":\"text\",\"hovertext\":\"Aang: Uh, why are they all looking at me like that? Did Appa sneeze on me?\",\"line\":{\"color\":\"#595B77\",\"width\":2},\"mode\":\"lines\",\"showlegend\":false,\"x\":[153,153],\"y\":[7.5,-7.5],\"type\":\"scatter\"},{\"hoverinfo\":\"text\",\"hovertext\":\"Kanna: Well, no one has seen an airbender in a hundred years. We thought they were extinct, until my granddaughter and grandson found you.\",\"line\":{\"color\":\"#595B77\",\"width\":2},\"mode\":\"lines\",\"showlegend\":false,\"x\":[155,155],\"y\":[11.5,-11.5],\"type\":\"scatter\"},{\"hoverinfo\":\"text\",\"hovertext\":\"Aang: Extinct?\",\"line\":{\"color\":\"#595B77\",\"width\":2},\"mode\":\"lines\",\"showlegend\":false,\"x\":[157,157],\"y\":[0.5,-0.5],\"type\":\"scatter\"},{\"hoverinfo\":\"text\",\"hovertext\":\"Katara: Aang, this is my grandmother.\",\"line\":{\"color\":\"#595B77\",\"width\":2},\"mode\":\"lines\",\"showlegend\":false,\"x\":[159,159],\"y\":[2.5,-2.5],\"type\":\"scatter\"},{\"hoverinfo\":\"text\",\"hovertext\":\"Kanna: Call me Gran-Gran.\",\"line\":{\"color\":\"#595B77\",\"width\":2},\"mode\":\"lines\",\"showlegend\":false,\"x\":[161,161],\"y\":[1.5,-1.5],\"type\":\"scatter\"},{\"hoverinfo\":\"text\",\"hovertext\":\"Sokka: What is this, a weapon? You can't stab anything with this!\",\"line\":{\"color\":\"#595B77\",\"width\":2},\"mode\":\"lines\",\"showlegend\":false,\"x\":[163,163],\"y\":[5.5,-5.5],\"type\":\"scatter\"},{\"hoverinfo\":\"text\",\"hovertext\":\"Aang: It's not for stabbing! It's for airbending.\",\"line\":{\"color\":\"#595B77\",\"width\":2},\"mode\":\"lines\",\"showlegend\":false,\"x\":[165,165],\"y\":[3.5,-3.5],\"type\":\"scatter\"},{\"hoverinfo\":\"text\",\"hovertext\":\"Village girl: Magic trick! Do it again!\",\"line\":{\"color\":\"#595B77\",\"width\":2},\"mode\":\"lines\",\"showlegend\":false,\"x\":[167,167],\"y\":[2.5,-2.5],\"type\":\"scatter\"},{\"hoverinfo\":\"text\",\"hovertext\":\"Aang: Not magic, airbending.  It lets me control the air currents around my glider and fly.\",\"line\":{\"color\":\"#595B77\",\"width\":2},\"mode\":\"lines\",\"showlegend\":false,\"x\":[169,169],\"y\":[7.5,-7.5],\"type\":\"scatter\"},{\"hoverinfo\":\"text\",\"hovertext\":\"Sokka: Ya know, last time I checked, humans can't fly!\",\"line\":{\"color\":\"#595B77\",\"width\":2},\"mode\":\"lines\",\"showlegend\":false,\"x\":[171,171],\"y\":[4.5,-4.5],\"type\":\"scatter\"},{\"hoverinfo\":\"text\",\"hovertext\":\"Aang: Check again!\",\"line\":{\"color\":\"#595B77\",\"width\":2},\"mode\":\"lines\",\"showlegend\":false,\"x\":[173,173],\"y\":[1.0,-1.0],\"type\":\"scatter\"},{\"hoverinfo\":\"text\",\"hovertext\":\"Village girl: He's flying!\",\"line\":{\"color\":\"#595B77\",\"width\":2},\"mode\":\"lines\",\"showlegend\":false,\"x\":[175,175],\"y\":[1.0,-1.0],\"type\":\"scatter\"},{\"hoverinfo\":\"text\",\"hovertext\":\"Village girl: It's amazing!\",\"line\":{\"color\":\"#595B77\",\"width\":2},\"mode\":\"lines\",\"showlegend\":false,\"x\":[177,177],\"y\":[1.0,-1.0],\"type\":\"scatter\"},{\"hoverinfo\":\"text\",\"hovertext\":\"Sokka: My watchtower!\",\"line\":{\"color\":\"#595B77\",\"width\":2},\"mode\":\"lines\",\"showlegend\":false,\"x\":[179,179],\"y\":[1.0,-1.0],\"type\":\"scatter\"},{\"hoverinfo\":\"text\",\"hovertext\":\"Katara: That was amazing!\",\"line\":{\"color\":\"#595B77\",\"width\":2},\"mode\":\"lines\",\"showlegend\":false,\"x\":[181,181],\"y\":[1.5,-1.5],\"type\":\"scatter\"},{\"hoverinfo\":\"text\",\"hovertext\":\"Sokka: Great. You're an airbender, Katara's a waterbender. Together you can just waste time all day long.\",\"line\":{\"color\":\"#595B77\",\"width\":2},\"mode\":\"lines\",\"showlegend\":false,\"x\":[183,183],\"y\":[8.0,-8.0],\"type\":\"scatter\"},{\"hoverinfo\":\"text\",\"hovertext\":\"Aang: You're a waterbender?\",\"line\":{\"color\":\"#595B77\",\"width\":2},\"mode\":\"lines\",\"showlegend\":false,\"x\":[185,185],\"y\":[1.5,-1.5],\"type\":\"scatter\"},{\"hoverinfo\":\"text\",\"hovertext\":\"Katara: Well, sort of. Not yet.\",\"line\":{\"color\":\"#595B77\",\"width\":2},\"mode\":\"lines\",\"showlegend\":false,\"x\":[187,187],\"y\":[2.5,-2.5],\"type\":\"scatter\"},{\"hoverinfo\":\"text\",\"hovertext\":\"Kanna: All right, no more playing. Come on, Katara, you have chores.\",\"line\":{\"color\":\"#595B77\",\"width\":2},\"mode\":\"lines\",\"showlegend\":false,\"x\":[189,189],\"y\":[5.5,-5.5],\"type\":\"scatter\"},{\"hoverinfo\":\"text\",\"hovertext\":\"Katara: I told you, he's the real thing Gran-Gran! I finally found a bender to teach me!\",\"line\":{\"color\":\"#595B77\",\"width\":2},\"mode\":\"lines\",\"showlegend\":false,\"x\":[191,191],\"y\":[8.0,-8.0],\"type\":\"scatter\"},{\"hoverinfo\":\"text\",\"hovertext\":\"Kanna: Katara, try not to put all your hopes in this boy.\",\"line\":{\"color\":\"#595B77\",\"width\":2},\"mode\":\"lines\",\"showlegend\":false,\"x\":[193,193],\"y\":[5.5,-5.5],\"type\":\"scatter\"},{\"hoverinfo\":\"text\",\"hovertext\":\"Katara: But he's special! I can tell!  I sense he's filled with much wisdom.\",\"line\":{\"color\":\"#595B77\",\"width\":2},\"mode\":\"lines\",\"showlegend\":false,\"x\":[195,195],\"y\":[6.5,-6.5],\"type\":\"scatter\"},{\"hoverinfo\":\"text\",\"hovertext\":\"Aang: See? Now my tongue is stuck to my staff!\",\"line\":{\"color\":\"#595B77\",\"width\":2},\"mode\":\"lines\",\"showlegend\":false,\"x\":[197,197],\"y\":[4.5,-4.5],\"type\":\"scatter\"},{\"hoverinfo\":\"text\",\"hovertext\":\"Iroh: Again.\",\"line\":{\"color\":\"#595B77\",\"width\":2},\"mode\":\"lines\",\"showlegend\":false,\"x\":[199,199],\"y\":[0.5,-0.5],\"type\":\"scatter\"},{\"hoverinfo\":\"text\",\"hovertext\":\"Iroh: No!  Power in firebending comes from the breath , not the muscles.  The breath becomes energy in the body. The energy extends past your limbs and becomes: fire!  Get it right this time.\",\"line\":{\"color\":\"#595B77\",\"width\":2},\"mode\":\"lines\",\"showlegend\":false,\"x\":[201,201],\"y\":[16.5,-16.5],\"type\":\"scatter\"},{\"hoverinfo\":\"text\",\"hovertext\":\"Zuko: Enough! I've been drilling this sequence all day. Teach me the next set! I'm more than ready!\",\"line\":{\"color\":\"#595B77\",\"width\":2},\"mode\":\"lines\",\"showlegend\":false,\"x\":[203,203],\"y\":[8.5,-8.5],\"type\":\"scatter\"},{\"hoverinfo\":\"text\",\"hovertext\":\"Iroh: No, you are impatient.  You have yet to master your basics.  Drill it again!\",\"line\":{\"color\":\"#595B77\",\"width\":2},\"mode\":\"lines\",\"showlegend\":false,\"x\":[205,205],\"y\":[7.0,-7.0],\"type\":\"scatter\"},{\"hoverinfo\":\"text\",\"hovertext\":\"Zuko: The sages tell us that the Avatar is the last airbender.  He must be over a hundred years old by now. He's had a century to master the four elements! I'll need more than basic firebending to defeat him.  You will teach me the advanced set!\",\"line\":{\"color\":\"#595B77\",\"width\":2},\"mode\":\"lines\",\"showlegend\":false,\"x\":[207,207],\"y\":[23.0,-23.0],\"type\":\"scatter\"},{\"hoverinfo\":\"text\",\"hovertext\":\"Iroh: Very well,  but first, I must finish my roast duck.\",\"line\":{\"color\":\"#595B77\",\"width\":2},\"mode\":\"lines\",\"showlegend\":false,\"x\":[209,209],\"y\":[5.0,-5.0],\"type\":\"scatter\"},{\"hoverinfo\":\"text\",\"hovertext\":\"Sokka: Now men, it's important that you show no fear when you face a firebender.  In the Water Tribe, we fight to the last man standing! For without courage, how can we call ourselves men?\",\"line\":{\"color\":\"#595B77\",\"width\":2},\"mode\":\"lines\",\"showlegend\":false,\"x\":[211,211],\"y\":[17.0,-17.0],\"type\":\"scatter\"},{\"hoverinfo\":\"text\",\"hovertext\":\"Southern Water Tribe boy: I gotta pee!\",\"line\":{\"color\":\"#595B77\",\"width\":2},\"mode\":\"lines\",\"showlegend\":false,\"x\":[213,213],\"y\":[1.5,-1.5],\"type\":\"scatter\"},{\"hoverinfo\":\"text\",\"hovertext\":\"Sokka: Listen! Until your fathers return from the War, they're counting on you to be the men of this tribe, and that means no potty breaks !\",\"line\":{\"color\":\"#595B77\",\"width\":2},\"mode\":\"lines\",\"showlegend\":false,\"x\":[215,215],\"y\":[13.0,-13.0],\"type\":\"scatter\"},{\"hoverinfo\":\"text\",\"hovertext\":\"Southern Water Tribe boy: But I really gotta go!\",\"line\":{\"color\":\"#595B77\",\"width\":2},\"mode\":\"lines\",\"showlegend\":false,\"x\":[217,217],\"y\":[2.5,-2.5],\"type\":\"scatter\"},{\"hoverinfo\":\"text\",\"hovertext\":\"Sokka: Okay, who else has to go?\",\"line\":{\"color\":\"#595B77\",\"width\":2},\"mode\":\"lines\",\"showlegend\":false,\"x\":[219,219],\"y\":[3.0,-3.0],\"type\":\"scatter\"},{\"hoverinfo\":\"text\",\"hovertext\":\"Katara: Have you seen Aang? Gran-Gran said he disappeared over an hour ago.\",\"line\":{\"color\":\"#595B77\",\"width\":2},\"mode\":\"lines\",\"showlegend\":false,\"x\":[221,221],\"y\":[6.0,-6.0],\"type\":\"scatter\"},{\"hoverinfo\":\"text\",\"hovertext\":\"Aang: Wow! Everything freezes in there!\",\"line\":{\"color\":\"#595B77\",\"width\":2},\"mode\":\"lines\",\"showlegend\":false,\"x\":[223,223],\"y\":[2.5,-2.5],\"type\":\"scatter\"},{\"hoverinfo\":\"text\",\"hovertext\":\"Sokka: Uh!  Katara, get him out of here! This lesson is for warriors only !\",\"line\":{\"color\":\"#595B77\",\"width\":2},\"mode\":\"lines\",\"showlegend\":false,\"x\":[225,225],\"y\":[7.0,-7.0],\"type\":\"scatter\"},{\"hoverinfo\":\"text\",\"hovertext\":\"Village boy: Whee!\",\"line\":{\"color\":\"#595B77\",\"width\":2},\"mode\":\"lines\",\"showlegend\":false,\"x\":[227,227],\"y\":[0.5,-0.5],\"type\":\"scatter\"},{\"hoverinfo\":\"text\",\"hovertext\":\"Sokka: Stop! Stop it right now!  What's wrong with you?! We don't have time for fun and games with the War going on!\",\"line\":{\"color\":\"#595B77\",\"width\":2},\"mode\":\"lines\",\"showlegend\":false,\"x\":[229,229],\"y\":[11.0,-11.0],\"type\":\"scatter\"},{\"hoverinfo\":\"text\",\"hovertext\":\"Aang: What war? What are you talking about?\",\"line\":{\"color\":\"#595B77\",\"width\":2},\"mode\":\"lines\",\"showlegend\":false,\"x\":[231,231],\"y\":[3.5,-3.5],\"type\":\"scatter\"},{\"hoverinfo\":\"text\",\"hovertext\":\"Sokka: You're kidding, right?\",\"line\":{\"color\":\"#595B77\",\"width\":2},\"mode\":\"lines\",\"showlegend\":false,\"x\":[233,233],\"y\":[1.5,-1.5],\"type\":\"scatter\"},{\"hoverinfo\":\"text\",\"hovertext\":\"Aang: Penguin!\",\"line\":{\"color\":\"#595B77\",\"width\":2},\"mode\":\"lines\",\"showlegend\":false,\"x\":[235,235],\"y\":[0.5,-0.5],\"type\":\"scatter\"},{\"hoverinfo\":\"text\",\"hovertext\":\"Sokka: He's kidding, right?\",\"line\":{\"color\":\"#595B77\",\"width\":2},\"mode\":\"lines\",\"showlegend\":false,\"x\":[237,237],\"y\":[1.5,-1.5],\"type\":\"scatter\"},{\"hoverinfo\":\"text\",\"hovertext\":\"Katara: Aang?\",\"line\":{\"color\":\"#595B77\",\"width\":2},\"mode\":\"lines\",\"showlegend\":false,\"x\":[239,239],\"y\":[0.5,-0.5],\"type\":\"scatter\"},{\"hoverinfo\":\"text\",\"hovertext\":\"Aang: Hey, come on little guy. Wanna go sledding?  Heh heh. I have a way with animals.\",\"line\":{\"color\":\"#595B77\",\"width\":2},\"mode\":\"lines\",\"showlegend\":false,\"x\":[241,241],\"y\":[8.0,-8.0],\"type\":\"scatter\"},{\"hoverinfo\":\"text\",\"hovertext\":\"Katara: Hehehe, Aang, I'll help you catch a penguin if you teach me waterbending.\",\"line\":{\"color\":\"#595B77\",\"width\":2},\"mode\":\"lines\",\"showlegend\":false,\"x\":[243,243],\"y\":[6.5,-6.5],\"type\":\"scatter\"},{\"hoverinfo\":\"text\",\"hovertext\":\"Aang: You got a deal! Just one little problem ...  I'm an airbender, not a waterbender. Isn't there someone in your tribe who can teach you?\",\"line\":{\"color\":\"#595B77\",\"width\":2},\"mode\":\"lines\",\"showlegend\":false,\"x\":[245,245],\"y\":[12.5,-12.5],\"type\":\"scatter\"},{\"hoverinfo\":\"text\",\"hovertext\":\"Katara: No. You're looking at the only waterbender in the whole South Pole.\",\"line\":{\"color\":\"#595B77\",\"width\":2},\"mode\":\"lines\",\"showlegend\":false,\"x\":[247,247],\"y\":[6.0,-6.0],\"type\":\"scatter\"},{\"hoverinfo\":\"text\",\"hovertext\":\"Aang: This isn't right. A waterbender needs to master water.  What about the North Pole? There's another Water Tribe up there, right? Maybe they have waterbenders who could teach you.\",\"line\":{\"color\":\"#595B77\",\"width\":2},\"mode\":\"lines\",\"showlegend\":false,\"x\":[249,249],\"y\":[14.5,-14.5],\"type\":\"scatter\"},{\"hoverinfo\":\"text\",\"hovertext\":\"Katara: Maybe, but we haven't had contact with our sister tribe in a long time. It's not exactly \\\"turn right at the second glacier\\\". It's on the other side of the world .\",\"line\":{\"color\":\"#595B77\",\"width\":2},\"mode\":\"lines\",\"showlegend\":false,\"x\":[251,251],\"y\":[16.0,-16.0],\"type\":\"scatter\"},{\"hoverinfo\":\"text\",\"hovertext\":\"Aang: But you forget, I have a flying bison.  Appa and I can personally fly you to the North Pole. Katara, we're going to find you a master!\",\"line\":{\"color\":\"#595B77\",\"width\":2},\"mode\":\"lines\",\"showlegend\":false,\"x\":[253,253],\"y\":[13.5,-13.5],\"type\":\"scatter\"},{\"hoverinfo\":\"text\",\"hovertext\":\"Katara: That's ... I mean, I don't know. I've never left home before.\",\"line\":{\"color\":\"#595B77\",\"width\":2},\"mode\":\"lines\",\"showlegend\":false,\"x\":[255,255],\"y\":[6.0,-6.0],\"type\":\"scatter\"},{\"hoverinfo\":\"text\",\"hovertext\":\"Aang: Well, you think about it, but in the meantime, can you teach me to catch one of these penguins?\",\"line\":{\"color\":\"#595B77\",\"width\":2},\"mode\":\"lines\",\"showlegend\":false,\"x\":[257,257],\"y\":[9.5,-9.5],\"type\":\"scatter\"},{\"hoverinfo\":\"text\",\"hovertext\":\"Katara: Okay, listen closely my young pupil.  Catching penguins is an ancient and sacred art.  Observe!\",\"line\":{\"color\":\"#595B77\",\"width\":2},\"mode\":\"lines\",\"showlegend\":false,\"x\":[259,259],\"y\":[7.5,-7.5],\"type\":\"scatter\"},{\"hoverinfo\":\"text\",\"hovertext\":\"Aang: Hi hi hi! Ha, ha, ha!\",\"line\":{\"color\":\"#595B77\",\"width\":2},\"mode\":\"lines\",\"showlegend\":false,\"x\":[261,261],\"y\":[3.0,-3.0],\"type\":\"scatter\"},{\"hoverinfo\":\"text\",\"hovertext\":\"Katara: I haven't done this since I was a kid!\",\"line\":{\"color\":\"#595B77\",\"width\":2},\"mode\":\"lines\",\"showlegend\":false,\"x\":[263,263],\"y\":[4.5,-4.5],\"type\":\"scatter\"},{\"hoverinfo\":\"text\",\"hovertext\":\"Aang: You still are a kid!\",\"line\":{\"color\":\"#595B77\",\"width\":2},\"mode\":\"lines\",\"showlegend\":false,\"x\":[265,265],\"y\":[2.5,-2.5],\"type\":\"scatter\"},{\"hoverinfo\":\"text\",\"hovertext\":\"Aang: Whoa! What is that?\",\"line\":{\"color\":\"#595B77\",\"width\":2},\"mode\":\"lines\",\"showlegend\":false,\"x\":[267,267],\"y\":[2.0,-2.0],\"type\":\"scatter\"},{\"hoverinfo\":\"text\",\"hovertext\":\"Katara: A Fire Navy ship. And a very bad memory for my people.  Aang, stop! We're not allowed to go near it! The ship could be booby-trapped!\",\"line\":{\"color\":\"#595B77\",\"width\":2},\"mode\":\"lines\",\"showlegend\":false,\"x\":[269,269],\"y\":[13.0,-13.0],\"type\":\"scatter\"},{\"hoverinfo\":\"text\",\"hovertext\":\"Aang: If you want to be a bender, you have to let go of fear.\",\"line\":{\"color\":\"#595B77\",\"width\":2},\"mode\":\"lines\",\"showlegend\":false,\"x\":[271,271],\"y\":[7.0,-7.0],\"type\":\"scatter\"},{\"hoverinfo\":\"text\",\"hovertext\":\"Katara: This ship has haunted my tribe since Gran-Gran was a little girl.  It was part of the Fire Nation's first attacks.\",\"line\":{\"color\":\"#595B77\",\"width\":2},\"mode\":\"lines\",\"showlegend\":false,\"x\":[273,273],\"y\":[10.5,-10.5],\"type\":\"scatter\"},{\"hoverinfo\":\"text\",\"hovertext\":\"Aang: Okay, back up. I have friends all over the world, even in the Fire Nation.  I've never seen any war.\",\"line\":{\"color\":\"#595B77\",\"width\":2},\"mode\":\"lines\",\"showlegend\":false,\"x\":[275,275],\"y\":[10.0,-10.0],\"type\":\"scatter\"},{\"hoverinfo\":\"text\",\"hovertext\":\"Katara: Aang, how long were you in that iceberg?\",\"line\":{\"color\":\"#595B77\",\"width\":2},\"mode\":\"lines\",\"showlegend\":false,\"x\":[277,277],\"y\":[4.0,-4.0],\"type\":\"scatter\"},{\"hoverinfo\":\"text\",\"hovertext\":\"Aang: I don't know. A few days, maybe?\",\"line\":{\"color\":\"#595B77\",\"width\":2},\"mode\":\"lines\",\"showlegend\":false,\"x\":[279,279],\"y\":[3.5,-3.5],\"type\":\"scatter\"},{\"hoverinfo\":\"text\",\"hovertext\":\"Katara: I think it was more like a hundred years!\",\"line\":{\"color\":\"#595B77\",\"width\":2},\"mode\":\"lines\",\"showlegend\":false,\"x\":[281,281],\"y\":[4.5,-4.5],\"type\":\"scatter\"},{\"hoverinfo\":\"text\",\"hovertext\":\"Aang: What?! That's impossible! Do I look like a hundred-twelve-year-old man to you?\",\"line\":{\"color\":\"#595B77\",\"width\":2},\"mode\":\"lines\",\"showlegend\":false,\"x\":[283,283],\"y\":[6.0,-6.0],\"type\":\"scatter\"},{\"hoverinfo\":\"text\",\"hovertext\":\"Katara: Think about it. The War is a century old. You don't know about it because, somehow, you were in there the whole time!  It's the only explanation.\",\"line\":{\"color\":\"#595B77\",\"width\":2},\"mode\":\"lines\",\"showlegend\":false,\"x\":[285,285],\"y\":[13.5,-13.5],\"type\":\"scatter\"},{\"hoverinfo\":\"text\",\"hovertext\":\"Aang: A hundred years!  I can't believe it.\",\"line\":{\"color\":\"#595B77\",\"width\":2},\"mode\":\"lines\",\"showlegend\":false,\"x\":[287,287],\"y\":[3.5,-3.5],\"type\":\"scatter\"},{\"hoverinfo\":\"text\",\"hovertext\":\"Katara: I'm sorry, Aang. Maybe somehow there's a bright side to all this ...\",\"line\":{\"color\":\"#595B77\",\"width\":2},\"mode\":\"lines\",\"showlegend\":false,\"x\":[289,289],\"y\":[6.5,-6.5],\"type\":\"scatter\"},{\"hoverinfo\":\"text\",\"hovertext\":\"Aang: I did get to meet you.\",\"line\":{\"color\":\"#595B77\",\"width\":2},\"mode\":\"lines\",\"showlegend\":false,\"x\":[291,291],\"y\":[3.0,-3.0],\"type\":\"scatter\"},{\"hoverinfo\":\"text\",\"hovertext\":\"Katara: Come on, let's get out of here.\",\"line\":{\"color\":\"#595B77\",\"width\":2},\"mode\":\"lines\",\"showlegend\":false,\"x\":[293,293],\"y\":[3.5,-3.5],\"type\":\"scatter\"},{\"hoverinfo\":\"text\",\"hovertext\":\"Katara: Aang, let's head back, this place is creepy.\",\"line\":{\"color\":\"#595B77\",\"width\":2},\"mode\":\"lines\",\"showlegend\":false,\"x\":[295,295],\"y\":[4.0,-4.0],\"type\":\"scatter\"},{\"hoverinfo\":\"text\",\"hovertext\":\"Aang: Huh?\",\"line\":{\"color\":\"#595B77\",\"width\":2},\"mode\":\"lines\",\"showlegend\":false,\"x\":[297,297],\"y\":[0.5,-0.5],\"type\":\"scatter\"},{\"hoverinfo\":\"text\",\"hovertext\":\"Aang: What's that you said about booby traps?\",\"line\":{\"color\":\"#595B77\",\"width\":2},\"mode\":\"lines\",\"showlegend\":false,\"x\":[299,299],\"y\":[3.5,-3.5],\"type\":\"scatter\"},{\"hoverinfo\":\"text\",\"hovertext\":\"Aang: Uh oh ...  Hold on tight!\",\"line\":{\"color\":\"#595B77\",\"width\":2},\"mode\":\"lines\",\"showlegend\":false,\"x\":[301,301],\"y\":[3.0,-3.0],\"type\":\"scatter\"},{\"hoverinfo\":\"text\",\"hovertext\":\"Katara: Aaah!\",\"line\":{\"color\":\"#595B77\",\"width\":2},\"mode\":\"lines\",\"showlegend\":false,\"x\":[303,303],\"y\":[0.5,-0.5],\"type\":\"scatter\"},{\"hoverinfo\":\"text\",\"hovertext\":\"Zuko: The last airbender!  Quite agile for his old age.  Wake my uncle! Tell him I found the Avatar.  As well as his hiding place ...\",\"line\":{\"color\":\"#595B77\",\"width\":2},\"mode\":\"lines\",\"showlegend\":false,\"x\":[305,305],\"y\":[12.5,-12.5],\"type\":\"scatter\"}],                        {\"template\":{\"data\":{\"histogram2dcontour\":[{\"type\":\"histogram2dcontour\",\"colorbar\":{\"outlinewidth\":0,\"ticks\":\"\"},\"colorscale\":[[0.0,\"#0d0887\"],[0.1111111111111111,\"#46039f\"],[0.2222222222222222,\"#7201a8\"],[0.3333333333333333,\"#9c179e\"],[0.4444444444444444,\"#bd3786\"],[0.5555555555555556,\"#d8576b\"],[0.6666666666666666,\"#ed7953\"],[0.7777777777777778,\"#fb9f3a\"],[0.8888888888888888,\"#fdca26\"],[1.0,\"#f0f921\"]]}],\"choropleth\":[{\"type\":\"choropleth\",\"colorbar\":{\"outlinewidth\":0,\"ticks\":\"\"}}],\"histogram2d\":[{\"type\":\"histogram2d\",\"colorbar\":{\"outlinewidth\":0,\"ticks\":\"\"},\"colorscale\":[[0.0,\"#0d0887\"],[0.1111111111111111,\"#46039f\"],[0.2222222222222222,\"#7201a8\"],[0.3333333333333333,\"#9c179e\"],[0.4444444444444444,\"#bd3786\"],[0.5555555555555556,\"#d8576b\"],[0.6666666666666666,\"#ed7953\"],[0.7777777777777778,\"#fb9f3a\"],[0.8888888888888888,\"#fdca26\"],[1.0,\"#f0f921\"]]}],\"heatmap\":[{\"type\":\"heatmap\",\"colorbar\":{\"outlinewidth\":0,\"ticks\":\"\"},\"colorscale\":[[0.0,\"#0d0887\"],[0.1111111111111111,\"#46039f\"],[0.2222222222222222,\"#7201a8\"],[0.3333333333333333,\"#9c179e\"],[0.4444444444444444,\"#bd3786\"],[0.5555555555555556,\"#d8576b\"],[0.6666666666666666,\"#ed7953\"],[0.7777777777777778,\"#fb9f3a\"],[0.8888888888888888,\"#fdca26\"],[1.0,\"#f0f921\"]]}],\"heatmapgl\":[{\"type\":\"heatmapgl\",\"colorbar\":{\"outlinewidth\":0,\"ticks\":\"\"},\"colorscale\":[[0.0,\"#0d0887\"],[0.1111111111111111,\"#46039f\"],[0.2222222222222222,\"#7201a8\"],[0.3333333333333333,\"#9c179e\"],[0.4444444444444444,\"#bd3786\"],[0.5555555555555556,\"#d8576b\"],[0.6666666666666666,\"#ed7953\"],[0.7777777777777778,\"#fb9f3a\"],[0.8888888888888888,\"#fdca26\"],[1.0,\"#f0f921\"]]}],\"contourcarpet\":[{\"type\":\"contourcarpet\",\"colorbar\":{\"outlinewidth\":0,\"ticks\":\"\"}}],\"contour\":[{\"type\":\"contour\",\"colorbar\":{\"outlinewidth\":0,\"ticks\":\"\"},\"colorscale\":[[0.0,\"#0d0887\"],[0.1111111111111111,\"#46039f\"],[0.2222222222222222,\"#7201a8\"],[0.3333333333333333,\"#9c179e\"],[0.4444444444444444,\"#bd3786\"],[0.5555555555555556,\"#d8576b\"],[0.6666666666666666,\"#ed7953\"],[0.7777777777777778,\"#fb9f3a\"],[0.8888888888888888,\"#fdca26\"],[1.0,\"#f0f921\"]]}],\"surface\":[{\"type\":\"surface\",\"colorbar\":{\"outlinewidth\":0,\"ticks\":\"\"},\"colorscale\":[[0.0,\"#0d0887\"],[0.1111111111111111,\"#46039f\"],[0.2222222222222222,\"#7201a8\"],[0.3333333333333333,\"#9c179e\"],[0.4444444444444444,\"#bd3786\"],[0.5555555555555556,\"#d8576b\"],[0.6666666666666666,\"#ed7953\"],[0.7777777777777778,\"#fb9f3a\"],[0.8888888888888888,\"#fdca26\"],[1.0,\"#f0f921\"]]}],\"mesh3d\":[{\"type\":\"mesh3d\",\"colorbar\":{\"outlinewidth\":0,\"ticks\":\"\"}}],\"scatter\":[{\"fillpattern\":{\"fillmode\":\"overlay\",\"size\":10,\"solidity\":0.2},\"type\":\"scatter\"}],\"parcoords\":[{\"type\":\"parcoords\",\"line\":{\"colorbar\":{\"outlinewidth\":0,\"ticks\":\"\"}}}],\"scatterpolargl\":[{\"type\":\"scatterpolargl\",\"marker\":{\"colorbar\":{\"outlinewidth\":0,\"ticks\":\"\"}}}],\"bar\":[{\"error_x\":{\"color\":\"#2a3f5f\"},\"error_y\":{\"color\":\"#2a3f5f\"},\"marker\":{\"line\":{\"color\":\"#E5ECF6\",\"width\":0.5},\"pattern\":{\"fillmode\":\"overlay\",\"size\":10,\"solidity\":0.2}},\"type\":\"bar\"}],\"scattergeo\":[{\"type\":\"scattergeo\",\"marker\":{\"colorbar\":{\"outlinewidth\":0,\"ticks\":\"\"}}}],\"scatterpolar\":[{\"type\":\"scatterpolar\",\"marker\":{\"colorbar\":{\"outlinewidth\":0,\"ticks\":\"\"}}}],\"histogram\":[{\"marker\":{\"pattern\":{\"fillmode\":\"overlay\",\"size\":10,\"solidity\":0.2}},\"type\":\"histogram\"}],\"scattergl\":[{\"type\":\"scattergl\",\"marker\":{\"colorbar\":{\"outlinewidth\":0,\"ticks\":\"\"}}}],\"scatter3d\":[{\"type\":\"scatter3d\",\"line\":{\"colorbar\":{\"outlinewidth\":0,\"ticks\":\"\"}},\"marker\":{\"colorbar\":{\"outlinewidth\":0,\"ticks\":\"\"}}}],\"scattermapbox\":[{\"type\":\"scattermapbox\",\"marker\":{\"colorbar\":{\"outlinewidth\":0,\"ticks\":\"\"}}}],\"scatterternary\":[{\"type\":\"scatterternary\",\"marker\":{\"colorbar\":{\"outlinewidth\":0,\"ticks\":\"\"}}}],\"scattercarpet\":[{\"type\":\"scattercarpet\",\"marker\":{\"colorbar\":{\"outlinewidth\":0,\"ticks\":\"\"}}}],\"carpet\":[{\"aaxis\":{\"endlinecolor\":\"#2a3f5f\",\"gridcolor\":\"white\",\"linecolor\":\"white\",\"minorgridcolor\":\"white\",\"startlinecolor\":\"#2a3f5f\"},\"baxis\":{\"endlinecolor\":\"#2a3f5f\",\"gridcolor\":\"white\",\"linecolor\":\"white\",\"minorgridcolor\":\"white\",\"startlinecolor\":\"#2a3f5f\"},\"type\":\"carpet\"}],\"table\":[{\"cells\":{\"fill\":{\"color\":\"#EBF0F8\"},\"line\":{\"color\":\"white\"}},\"header\":{\"fill\":{\"color\":\"#C8D4E3\"},\"line\":{\"color\":\"white\"}},\"type\":\"table\"}],\"barpolar\":[{\"marker\":{\"line\":{\"color\":\"#E5ECF6\",\"width\":0.5},\"pattern\":{\"fillmode\":\"overlay\",\"size\":10,\"solidity\":0.2}},\"type\":\"barpolar\"}],\"pie\":[{\"automargin\":true,\"type\":\"pie\"}]},\"layout\":{\"autotypenumbers\":\"strict\",\"colorway\":[\"#636efa\",\"#EF553B\",\"#00cc96\",\"#ab63fa\",\"#FFA15A\",\"#19d3f3\",\"#FF6692\",\"#B6E880\",\"#FF97FF\",\"#FECB52\"],\"font\":{\"color\":\"#2a3f5f\"},\"hovermode\":\"closest\",\"hoverlabel\":{\"align\":\"left\"},\"paper_bgcolor\":\"white\",\"plot_bgcolor\":\"#E5ECF6\",\"polar\":{\"bgcolor\":\"#E5ECF6\",\"angularaxis\":{\"gridcolor\":\"white\",\"linecolor\":\"white\",\"ticks\":\"\"},\"radialaxis\":{\"gridcolor\":\"white\",\"linecolor\":\"white\",\"ticks\":\"\"}},\"ternary\":{\"bgcolor\":\"#E5ECF6\",\"aaxis\":{\"gridcolor\":\"white\",\"linecolor\":\"white\",\"ticks\":\"\"},\"baxis\":{\"gridcolor\":\"white\",\"linecolor\":\"white\",\"ticks\":\"\"},\"caxis\":{\"gridcolor\":\"white\",\"linecolor\":\"white\",\"ticks\":\"\"}},\"coloraxis\":{\"colorbar\":{\"outlinewidth\":0,\"ticks\":\"\"}},\"colorscale\":{\"sequential\":[[0.0,\"#0d0887\"],[0.1111111111111111,\"#46039f\"],[0.2222222222222222,\"#7201a8\"],[0.3333333333333333,\"#9c179e\"],[0.4444444444444444,\"#bd3786\"],[0.5555555555555556,\"#d8576b\"],[0.6666666666666666,\"#ed7953\"],[0.7777777777777778,\"#fb9f3a\"],[0.8888888888888888,\"#fdca26\"],[1.0,\"#f0f921\"]],\"sequentialminus\":[[0.0,\"#0d0887\"],[0.1111111111111111,\"#46039f\"],[0.2222222222222222,\"#7201a8\"],[0.3333333333333333,\"#9c179e\"],[0.4444444444444444,\"#bd3786\"],[0.5555555555555556,\"#d8576b\"],[0.6666666666666666,\"#ed7953\"],[0.7777777777777778,\"#fb9f3a\"],[0.8888888888888888,\"#fdca26\"],[1.0,\"#f0f921\"]],\"diverging\":[[0,\"#8e0152\"],[0.1,\"#c51b7d\"],[0.2,\"#de77ae\"],[0.3,\"#f1b6da\"],[0.4,\"#fde0ef\"],[0.5,\"#f7f7f7\"],[0.6,\"#e6f5d0\"],[0.7,\"#b8e186\"],[0.8,\"#7fbc41\"],[0.9,\"#4d9221\"],[1,\"#276419\"]]},\"xaxis\":{\"gridcolor\":\"white\",\"linecolor\":\"white\",\"ticks\":\"\",\"title\":{\"standoff\":15},\"zerolinecolor\":\"white\",\"automargin\":true,\"zerolinewidth\":2},\"yaxis\":{\"gridcolor\":\"white\",\"linecolor\":\"white\",\"ticks\":\"\",\"title\":{\"standoff\":15},\"zerolinecolor\":\"white\",\"automargin\":true,\"zerolinewidth\":2},\"scene\":{\"xaxis\":{\"backgroundcolor\":\"#E5ECF6\",\"gridcolor\":\"white\",\"linecolor\":\"white\",\"showbackground\":true,\"ticks\":\"\",\"zerolinecolor\":\"white\",\"gridwidth\":2},\"yaxis\":{\"backgroundcolor\":\"#E5ECF6\",\"gridcolor\":\"white\",\"linecolor\":\"white\",\"showbackground\":true,\"ticks\":\"\",\"zerolinecolor\":\"white\",\"gridwidth\":2},\"zaxis\":{\"backgroundcolor\":\"#E5ECF6\",\"gridcolor\":\"white\",\"linecolor\":\"white\",\"showbackground\":true,\"ticks\":\"\",\"zerolinecolor\":\"white\",\"gridwidth\":2}},\"shapedefaults\":{\"line\":{\"color\":\"#2a3f5f\"}},\"annotationdefaults\":{\"arrowcolor\":\"#2a3f5f\",\"arrowhead\":0,\"arrowwidth\":1},\"geo\":{\"bgcolor\":\"white\",\"landcolor\":\"#E5ECF6\",\"subunitcolor\":\"white\",\"showland\":true,\"showlakes\":true,\"lakecolor\":\"white\"},\"title\":{\"x\":0.05},\"mapbox\":{\"style\":\"light\"}}},\"xaxis\":{\"showgrid\":false,\"showticklabels\":false},\"yaxis\":{\"showgrid\":false,\"showticklabels\":false},\"margin\":{\"l\":0,\"r\":0,\"t\":0,\"b\":0},\"plot_bgcolor\":\"white\"},                        {\"responsive\": true}                    ).then(function(){\n",
       "                            \n",
       "var gd = document.getElementById('60f0eb98-0a99-4b29-8cbb-ee7f0f10e470');\n",
       "var x = new MutationObserver(function (mutations, observer) {{\n",
       "        var display = window.getComputedStyle(gd).display;\n",
       "        if (!display || display === 'none') {{\n",
       "            console.log([gd, 'removed!']);\n",
       "            Plotly.purge(gd);\n",
       "            observer.disconnect();\n",
       "        }}\n",
       "}});\n",
       "\n",
       "// Listen for the removal of the full notebook cells\n",
       "var notebookContainer = gd.closest('#notebook-container');\n",
       "if (notebookContainer) {{\n",
       "    x.observe(notebookContainer, {childList: true});\n",
       "}}\n",
       "\n",
       "// Listen for the clearing of the current output cell\n",
       "var outputEl = gd.closest('.output');\n",
       "if (outputEl) {{\n",
       "    x.observe(outputEl, {childList: true});\n",
       "}}\n",
       "\n",
       "                        })                };                });            </script>        </div>"
      ]
     },
     "metadata": {},
     "output_type": "display_data"
    }
   ],
   "source": [
    "# Create a plotly figure\n",
    "\n",
    "import plotly.graph_objects as go\n",
    "fig = go.Figure()\n",
    "\n",
    "\n",
    "# Add line segments from theoffice_data\n",
    "for i, row in df1.iterrows():\n",
    "    fig.add_trace(go.Scatter(\n",
    "        x=[row['x_top'], row['x_bottom']],\n",
    "        y=[row['y_top'], row['y_bottom']],\n",
    "        mode='lines',\n",
    "        line=dict(color='#595B77', width=2),  # You can use custom colors or a mapping here\n",
    "        hoverinfo='text',\n",
    "        hovertext=f\"{row['character']}: {row['dialogue']}\",\n",
    "        showlegend=False\n",
    "    ))\n",
    "\n",
    "# Customize layout to match ggplot style\n",
    "fig.update_layout(\n",
    "    plot_bgcolor='white',\n",
    "    xaxis=dict(showgrid=False, showticklabels=False),\n",
    "    yaxis=dict(showgrid=False, showticklabels=False),\n",
    "    margin=dict(l=0, r=0, t=0, b=0)\n",
    ")\n",
    "\n",
    "# Show the figure\n",
    "fig.show()\n"
   ]
  },
  {
   "cell_type": "code",
   "execution_count": null,
   "id": "9851dc0d-efff-484f-bfa0-fb2e27213ce9",
   "metadata": {},
   "outputs": [],
   "source": []
  },
  {
   "cell_type": "code",
   "execution_count": null,
   "id": "47d8550c-7367-47c6-9e4c-97ebcfdbc23c",
   "metadata": {},
   "outputs": [],
   "source": [
    "df1.head()"
   ]
  },
  {
   "cell_type": "code",
   "execution_count": null,
   "id": "49289d85-7b05-461d-9f4b-fdf6e08a5d4f",
   "metadata": {},
   "outputs": [],
   "source": []
  },
  {
   "cell_type": "code",
   "execution_count": null,
   "id": "9379218c-b716-4aab-af05-825dd03715a2",
   "metadata": {},
   "outputs": [],
   "source": [
    "df1.head()"
   ]
  },
  {
   "cell_type": "code",
   "execution_count": null,
   "id": "509749de-e795-468a-a056-bf534ec3db1f",
   "metadata": {},
   "outputs": [],
   "source": [
    "#https://stackoverflow.com/questions/55939775/succint-way-to-add-line-segments-to-plotly-graph-with-python-jupyter-notebook"
   ]
  },
  {
   "cell_type": "code",
   "execution_count": null,
   "id": "3445c0ab-e247-4aa5-adf1-d6db882f916f",
   "metadata": {},
   "outputs": [],
   "source": [
    "import pandas as pd\n",
    "import numpy as np\n",
    "import plotly.offline as pyo\n",
    "import plotly.graph_objs as go"
   ]
  },
  {
   "cell_type": "code",
   "execution_count": null,
   "id": "d5c30241-6cae-4cee-ada5-87c066fdbf0d",
   "metadata": {},
   "outputs": [],
   "source": [
    "data1 = go.Scatter(\n",
    "        x=df1['x_top'],\n",
    "        y=df1['y_top'],\n",
    "        mode='markers',\n",
    "        marker=dict(color='blue')\n",
    ")\n",
    "    \n",
    "data2 = go.Scatter(\n",
    "        x=df1['x_bottom'],\n",
    "        y=df1['y_bottom'],\n",
    "        mode='markers',\n",
    "        marker=dict(color='blue')\n",
    ")\n",
    "\n",
    "shapes=[dict(\n",
    "        type='line',\n",
    "        x0 = df1['x_top'].loc[i],\n",
    "        y0 = i + 1,\n",
    "        x1 = df1['x_bottom'].loc[i],\n",
    "        y1 = i + 1,\n",
    "        line = dict(\n",
    "            color = 'grey',\n",
    "            width = 2\n",
    "        )\n",
    "    ) for i in range(len(df1['x_top']))]\n",
    "\n",
    "layout = go.Layout(\n",
    "    shapes = shapes,\n",
    "    title='Lollipop Chart')\n",
    "\n",
    "\n",
    "fig = go.Figure([data1, data2], layout)\n",
    "fig.show()\n"
   ]
  },
  {
   "cell_type": "code",
   "execution_count": null,
   "id": "05c926b3-f0fc-4c55-946c-07e0098e4e8c",
   "metadata": {},
   "outputs": [],
   "source": [
    "import plotly.express as px\n",
    "\n",
    "# Sample data\n",
    "data = {'x_values': [1, 2, 3, 4, 5],\n",
    "        'y_values': [10, 20, 15, 25, 30]}\n",
    "\n",
    "# Create a DataFrame\n",
    "df = pd.DataFrame(data)\n",
    "\n",
    "# Create a line chart\n",
    "fig = px.line(df, x='x_values', y='y_values', title='Sample Line Chart')\n",
    "\n",
    "# Display the figure\n",
    "fig.show()"
   ]
  },
  {
   "cell_type": "code",
   "execution_count": null,
   "id": "ed7cf514-48e1-456c-9c0b-d1d3b27a8a1b",
   "metadata": {},
   "outputs": [],
   "source": []
  }
 ],
 "metadata": {
  "kernelspec": {
   "display_name": "Python 3 (ipykernel)",
   "language": "python",
   "name": "python3"
  },
  "language_info": {
   "codemirror_mode": {
    "name": "ipython",
    "version": 3
   },
   "file_extension": ".py",
   "mimetype": "text/x-python",
   "name": "python",
   "nbconvert_exporter": "python",
   "pygments_lexer": "ipython3",
   "version": "3.9.13"
  }
 },
 "nbformat": 4,
 "nbformat_minor": 5
}
