{
 "cells": [
  {
   "cell_type": "code",
   "execution_count": 1,
   "id": "eb19bd87-e71c-452f-9a70-2e60cbd48c92",
   "metadata": {},
   "outputs": [],
   "source": [
    "# imports\n",
    "\n",
    "#standard\n",
    "import pandas as pd\n",
    "#import random\n",
    "from datetime import datetime\n",
    "from pandasql import sqldf\n",
    "pysqldf = lambda q: sqldf(q,globals())\n",
    "\n",
    "#Viz\n",
    "import matplotlib.pyplot as plt\n",
    "import seaborn as sns\n",
    "import plotly.express as px\n",
    "\n",
    "#Data Pulls\n",
    "from bs4 import BeautifulSoup\n",
    "import requests\n",
    "import re"
   ]
  },
  {
   "cell_type": "code",
   "execution_count": 2,
   "id": "68784077-600a-4de7-92cb-8815d1bd93eb",
   "metadata": {},
   "outputs": [],
   "source": [
    "df = pd.read_csv('full_transcript.csv', index_col=0)"
   ]
  },
  {
   "cell_type": "code",
   "execution_count": 3,
   "id": "6f77f55c-5487-4481-b8b9-fe17d723f429",
   "metadata": {},
   "outputs": [
    {
     "data": {
      "text/html": [
       "<div>\n",
       "<style scoped>\n",
       "    .dataframe tbody tr th:only-of-type {\n",
       "        vertical-align: middle;\n",
       "    }\n",
       "\n",
       "    .dataframe tbody tr th {\n",
       "        vertical-align: top;\n",
       "    }\n",
       "\n",
       "    .dataframe thead th {\n",
       "        text-align: right;\n",
       "    }\n",
       "</style>\n",
       "<table border=\"1\" class=\"dataframe\">\n",
       "  <thead>\n",
       "    <tr style=\"text-align: right;\">\n",
       "      <th></th>\n",
       "      <th>character</th>\n",
       "      <th>dialogue</th>\n",
       "      <th>word_count</th>\n",
       "      <th>abs_episode</th>\n",
       "      <th>episode_title</th>\n",
       "      <th>season</th>\n",
       "      <th>episode_number</th>\n",
       "    </tr>\n",
       "  </thead>\n",
       "  <tbody>\n",
       "    <tr>\n",
       "      <th>0</th>\n",
       "      <td>Sokka</td>\n",
       "      <td>It's not getting away from me this time.  Watc...</td>\n",
       "      <td>19</td>\n",
       "      <td>1</td>\n",
       "      <td>The_Boy_in_the_Iceberg</td>\n",
       "      <td>1</td>\n",
       "      <td>1</td>\n",
       "    </tr>\n",
       "    <tr>\n",
       "      <th>1</th>\n",
       "      <td>Katara</td>\n",
       "      <td>Sokka, look!</td>\n",
       "      <td>2</td>\n",
       "      <td>1</td>\n",
       "      <td>The_Boy_in_the_Iceberg</td>\n",
       "      <td>1</td>\n",
       "      <td>1</td>\n",
       "    </tr>\n",
       "    <tr>\n",
       "      <th>2</th>\n",
       "      <td>Sokka</td>\n",
       "      <td>Sshh! Katara, you're going to scare it away.  ...</td>\n",
       "      <td>16</td>\n",
       "      <td>1</td>\n",
       "      <td>The_Boy_in_the_Iceberg</td>\n",
       "      <td>1</td>\n",
       "      <td>1</td>\n",
       "    </tr>\n",
       "    <tr>\n",
       "      <th>3</th>\n",
       "      <td>Katara</td>\n",
       "      <td>But, Sokka! I caught one!</td>\n",
       "      <td>5</td>\n",
       "      <td>1</td>\n",
       "      <td>The_Boy_in_the_Iceberg</td>\n",
       "      <td>1</td>\n",
       "      <td>1</td>\n",
       "    </tr>\n",
       "    <tr>\n",
       "      <th>4</th>\n",
       "      <td>Katara</td>\n",
       "      <td>Hey!</td>\n",
       "      <td>1</td>\n",
       "      <td>1</td>\n",
       "      <td>The_Boy_in_the_Iceberg</td>\n",
       "      <td>1</td>\n",
       "      <td>1</td>\n",
       "    </tr>\n",
       "  </tbody>\n",
       "</table>\n",
       "</div>"
      ],
      "text/plain": [
       "  character                                           dialogue  word_count  \\\n",
       "0     Sokka  It's not getting away from me this time.  Watc...          19   \n",
       "1    Katara                                       Sokka, look!           2   \n",
       "2     Sokka  Sshh! Katara, you're going to scare it away.  ...          16   \n",
       "3    Katara                          But, Sokka! I caught one!           5   \n",
       "4    Katara                                               Hey!           1   \n",
       "\n",
       "   abs_episode           episode_title  season  episode_number  \n",
       "0            1  The_Boy_in_the_Iceberg       1               1  \n",
       "1            1  The_Boy_in_the_Iceberg       1               1  \n",
       "2            1  The_Boy_in_the_Iceberg       1               1  \n",
       "3            1  The_Boy_in_the_Iceberg       1               1  \n",
       "4            1  The_Boy_in_the_Iceberg       1               1  "
      ]
     },
     "execution_count": 3,
     "metadata": {},
     "output_type": "execute_result"
    }
   ],
   "source": [
    "df.head()"
   ]
  },
  {
   "cell_type": "code",
   "execution_count": 10,
   "id": "3cf39683-bfb2-4ec2-8443-499423fd81ec",
   "metadata": {},
   "outputs": [],
   "source": [
    "character_group = df.groupby(by='character',as_index=False).sum()"
   ]
  },
  {
   "cell_type": "code",
   "execution_count": 17,
   "id": "efd4e46a-1781-4c90-9ccb-a505e503b558",
   "metadata": {},
   "outputs": [],
   "source": [
    "character_group.sort_values(by='word_count', ascending = False)[['character','word_count']] \\\n",
    "    .to_csv(\"character_mapping.csv\")"
   ]
  },
  {
   "cell_type": "code",
   "execution_count": null,
   "id": "3b6259ca-23cb-4c62-b8ee-e86aa8cafc98",
   "metadata": {},
   "outputs": [],
   "source": []
  }
 ],
 "metadata": {
  "kernelspec": {
   "display_name": "Python 3 (ipykernel)",
   "language": "python",
   "name": "python3"
  },
  "language_info": {
   "codemirror_mode": {
    "name": "ipython",
    "version": 3
   },
   "file_extension": ".py",
   "mimetype": "text/x-python",
   "name": "python",
   "nbconvert_exporter": "python",
   "pygments_lexer": "ipython3",
   "version": "3.9.13"
  }
 },
 "nbformat": 4,
 "nbformat_minor": 5
}
