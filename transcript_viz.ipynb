{
 "cells": [
  {
   "cell_type": "markdown",
   "id": "36e9e205-be63-4ff3-bbe6-8866bc3652b3",
   "metadata": {},
   "source": [
    "Original Inspiration\n",
    "* https://towardsdatascience.com/a-designers-guide-to-visualize-a-text-dataset-1d534756e914 "
   ]
  },
  {
   "cell_type": "code",
   "execution_count": 1,
   "id": "6dba8e75-bed6-4579-bfca-bf453d4f16b7",
   "metadata": {},
   "outputs": [],
   "source": [
    "# imports\n",
    "\n",
    "#standard\n",
    "import pandas as pd\n",
    "#import random\n",
    "from datetime import datetime\n",
    "from pandasql import sqldf\n",
    "pysqldf = lambda q: sqldf(q,globals())\n",
    "\n",
    "#Viz\n",
    "import matplotlib.pyplot as plt\n",
    "import seaborn as sns\n",
    "import plotly.express as px\n",
    "import plotly.graph_objects as go\n",
    "\n",
    "#Data Pulls\n",
    "from bs4 import BeautifulSoup\n",
    "import requests\n",
    "import re"
   ]
  },
  {
   "cell_type": "code",
   "execution_count": 2,
   "id": "980e46e6-2216-47ad-a2a1-ae2f9a5fb6a3",
   "metadata": {},
   "outputs": [],
   "source": [
    "transcript = pd.read_csv('full_transcript.csv', index_col=0)\n",
    "character_mapping = pd.read_csv('character_mapping.csv', index_col=0)\n",
    "#Mapping \n",
    "\n",
    "transcript_df = pd.merge(transcript, character_mapping[['character','tribe']], on='character', how='left')"
   ]
  },
  {
   "cell_type": "code",
   "execution_count": null,
   "id": "d01881e3-3887-4a1c-a961-97529e9b44ef",
   "metadata": {},
   "outputs": [],
   "source": [
    "df1 = transcript_df.loc[transcript_df['abs_episode'] == 1].copy()"
   ]
  },
  {
   "cell_type": "code",
   "execution_count": null,
   "id": "b8399458-c472-41da-bfee-0aaf60341f80",
   "metadata": {},
   "outputs": [],
   "source": [
    "df1['x_top'] = range(1, 2 * len(df1) + 1, 2)\n",
    "df1['x_bottom'] = range(1, 2 * len(df1) + 1, 2)"
   ]
  },
  {
   "cell_type": "code",
   "execution_count": null,
   "id": "30cc3e9c-6346-4ac1-a327-c79c9c817fd2",
   "metadata": {},
   "outputs": [],
   "source": [
    "df1['y_top'] = df1['word_count']/2\n",
    "df1['y_bottom'] = df1['word_count']/2 * -1"
   ]
  },
  {
   "cell_type": "code",
   "execution_count": null,
   "id": "c282c3d9-8a17-440a-9734-69b68c8aa2f1",
   "metadata": {},
   "outputs": [],
   "source": [
    "df1.head()"
   ]
  },
  {
   "cell_type": "code",
   "execution_count": null,
   "id": "fbff9886-71b6-42ce-8c98-75e9922badfa",
   "metadata": {},
   "outputs": [],
   "source": [
    "#Create Title \n",
    "title = df1['episode_title'].unique()[0].replace(\"_\", \" \")\n",
    "title"
   ]
  },
  {
   "cell_type": "code",
   "execution_count": null,
   "id": "972f6317-9f72-478e-b845-bd1d73984da2",
   "metadata": {},
   "outputs": [],
   "source": [
    "# Create a plotly figure\n",
    "\n",
    "import plotly.graph_objects as go\n",
    "fig = go.Figure()\n",
    "\n",
    "#[Color Inspiration](https://www.pinterest.com/pin/333407178667399146/)\n",
    "tribe_color_map = {\n",
    "    'air': '#F9D672',  # Air Nomad Yellow\n",
    "    'water': '#81D3E8',  # Water Nation Blue\n",
    "    'fire': '#D46627',  # Fire Nation Red\n",
    "    'earth': '#005E00'   # Earth Kingdom Green\n",
    "}\n",
    "\n",
    "# Add line segments from theoffice_data\n",
    "for i, row in df1.iterrows():\n",
    "    # Get the color based on the tribe\n",
    "    tribe = row['tribe']  # Assuming 'tribe' column exists\n",
    "    color = tribe_color_map.get(tribe, '#595B77')  # Default color if tribe not in map\n",
    "\n",
    "    # Add line trace\n",
    "    fig.add_trace(go.Scatter(\n",
    "        x=[row['x_top'], row['x_bottom']],\n",
    "        y=[row['y_top'], row['y_bottom']],\n",
    "        mode='lines',\n",
    "        line=dict(color=color, width=2),  # Use dynamic color based on tribe\n",
    "        hoverinfo='text',\n",
    "        hovertext=f\"{row['character']}: {row['dialogue']}\",\n",
    "        showlegend=False\n",
    "    ))\n",
    "\n",
    "episode_title = df1['episode_title'].unique()[0].replace(\"_\", \" \") \n",
    "\n",
    "# Customize layout to match ggplot style\n",
    "fig.update_layout(\n",
    "    title= episode_title,\n",
    "    title_font_size=20,  # Customize title font size\n",
    "    title_x=0.5,  # Center the title (0.5 means center)\n",
    "    plot_bgcolor='white',\n",
    "    xaxis=dict(showgrid=False, showticklabels=False),\n",
    "    yaxis=dict(showgrid=False, showticklabels=False),\n",
    "    margin=dict(l=0, r=0, t=50, b=0)\n",
    ")\n",
    "\n",
    "# Show the figure\n",
    "fig.show()\n"
   ]
  },
  {
   "cell_type": "code",
   "execution_count": 7,
   "id": "9851dc0d-efff-484f-bfa0-fb2e27213ce9",
   "metadata": {},
   "outputs": [],
   "source": [
    "def transcript_viz(absolute_episode_number):\n",
    "    \"\"\"\n",
    "    Visualize dialogue in episodes of Nickelodean's Avatar: The Last Airbender based \n",
    "    on which tribe/nationality is speaking.\n",
    "    \n",
    "    Parameters:\n",
    "    a (int): Absolute episode number\n",
    "\n",
    "    Returns:\n",
    "    A Plotly Fig\n",
    "    \"\"\"\n",
    "    \n",
    "    df = transcript_df.loc[transcript_df['abs_episode'] == absolute_episode_number].copy()\n",
    "    \n",
    "    #Map X & Y Coordinates\n",
    "    df['x_top'] = range(1, 2 * len(df) + 1, 2)\n",
    "    df['x_bottom'] = range(1, 2 * len(df) + 1, 2)\n",
    "    \n",
    "    df['y_top'] = df['word_count']/2\n",
    "    df['y_bottom'] = df['word_count']/2 * -1\n",
    "    \n",
    "    #Create Title for Plotly Graph\n",
    "    episode_title = df['episode_title'].unique()[0].replace(\"_\", \" \") \n",
    "    \n",
    "    #[Color Inspiration](https://www.pinterest.com/pin/333407178667399146/)\n",
    "    tribe_color_map = {\n",
    "        'air': '#F9D672',  # Air Nomad Yellow\n",
    "        'water': '#81D3E8',  # Water Nation Blue\n",
    "        'fire': '#D46627',  # Fire Nation Red\n",
    "        'earth': '#729F3D'   # Earth Kingdom Green\n",
    "    }\n",
    "    \n",
    "    fig = go.Figure()\n",
    "    \n",
    "    # Create line segments from transcript_df\n",
    "    for i, row in df.iterrows():\n",
    "        # Get the color based on the tribe\n",
    "        tribe = row['tribe']  # Assuming 'tribe' column exists\n",
    "        color = tribe_color_map.get(tribe, '#848587')  # Color defaults to Gray if no Tribe\n",
    "\n",
    "        # Add line trace\n",
    "        fig.add_trace(go.Scatter(\n",
    "            x=[row['x_top'], row['x_bottom']],\n",
    "            y=[row['y_top'], row['y_bottom']],\n",
    "            mode='lines',\n",
    "            line=dict(color=color, width=2),  # Use dynamic color based on tribe\n",
    "            hoverinfo='text',\n",
    "            hovertext=f\"{row['character']}: {row['dialogue']}\",\n",
    "            showlegend=False\n",
    "        ))\n",
    "\n",
    "    # Customize layout to match ggplot style\n",
    "    fig.update_layout(\n",
    "        title= episode_title,\n",
    "        title_font_size=20,  # Customize title font size\n",
    "        title_x=0.5,  # Center the title (0.5 means center)\n",
    "        plot_bgcolor='white',\n",
    "        xaxis=dict(showgrid=False, showticklabels=False),\n",
    "        yaxis=dict(showgrid=False, showticklabels=False),\n",
    "        margin=dict(l=50, r=50, t=50, b=0),\n",
    "        hovermode=\"closest\"\n",
    "    )\n",
    "    \n",
    "    return fig"
   ]
  },
  {
   "cell_type": "code",
   "execution_count": 8,
   "id": "fef75e87-9d93-4b1b-aa11-8dc40062c288",
   "metadata": {},
   "outputs": [
    {
     "data": {
      "application/vnd.plotly.v1+json": {
       "config": {
        "plotlyServerURL": "https://plot.ly"
       },
       "data": [
        {
         "hoverinfo": "text",
         "hovertext": "Zuko: The only reason you should be interrupting me, is if you have news about the Avatar.",
         "line": {
          "color": "#D46627",
          "width": 2
         },
         "mode": "lines",
         "showlegend": false,
         "type": "scatter",
         "x": [
          1,
          1
         ],
         "y": [
          8,
          -8
         ]
        },
        {
         "hoverinfo": "text",
         "hovertext": "Iroh: Well, there is news, Prince Zuko, but you might not like it. Don't get too upset.",
         "line": {
          "color": "#D46627",
          "width": 2
         },
         "mode": "lines",
         "showlegend": false,
         "type": "scatter",
         "x": [
          3,
          3
         ],
         "y": [
          8,
          -8
         ]
        },
        {
         "hoverinfo": "text",
         "hovertext": "Zuko: Uncle, you taught me that keeping a level head is a sign of a great leader. Now, whatever you have to say, I'm sure I can take it.",
         "line": {
          "color": "#D46627",
          "width": 2
         },
         "mode": "lines",
         "showlegend": false,
         "type": "scatter",
         "x": [
          5,
          5
         ],
         "y": [
          14,
          -14
         ]
        },
        {
         "hoverinfo": "text",
         "hovertext": "Iroh: Okay then.  We have no idea where he is.",
         "line": {
          "color": "#D46627",
          "width": 2
         },
         "mode": "lines",
         "showlegend": false,
         "type": "scatter",
         "x": [
          7,
          7
         ],
         "y": [
          4.5,
          -4.5
         ]
        },
        {
         "hoverinfo": "text",
         "hovertext": "Zuko: What!?",
         "line": {
          "color": "#D46627",
          "width": 2
         },
         "mode": "lines",
         "showlegend": false,
         "type": "scatter",
         "x": [
          9,
          9
         ],
         "y": [
          0.5,
          -0.5
         ]
        },
        {
         "hoverinfo": "text",
         "hovertext": "Iroh: You really should open a window in here.",
         "line": {
          "color": "#D46627",
          "width": 2
         },
         "mode": "lines",
         "showlegend": false,
         "type": "scatter",
         "x": [
          11,
          11
         ],
         "y": [
          4,
          -4
         ]
        },
        {
         "hoverinfo": "text",
         "hovertext": "Zuko: Give me the map!",
         "line": {
          "color": "#D46627",
          "width": 2
         },
         "mode": "lines",
         "showlegend": false,
         "type": "scatter",
         "x": [
          13,
          13
         ],
         "y": [
          2,
          -2
         ]
        },
        {
         "hoverinfo": "text",
         "hovertext": "Iroh: Well, there have been multiple sightings of the Avatar, but he is impossible to track down.",
         "line": {
          "color": "#D46627",
          "width": 2
         },
         "mode": "lines",
         "showlegend": false,
         "type": "scatter",
         "x": [
          15,
          15
         ],
         "y": [
          8,
          -8
         ]
        },
        {
         "hoverinfo": "text",
         "hovertext": "Zuko: How am I going to find him, Uncle?  He is clearly a master of evasive maneuvering.",
         "line": {
          "color": "#D46627",
          "width": 2
         },
         "mode": "lines",
         "showlegend": false,
         "type": "scatter",
         "x": [
          17,
          17
         ],
         "y": [
          8,
          -8
         ]
        },
        {
         "hoverinfo": "text",
         "hovertext": "Sokka: You have no idea where you're going, do you?",
         "line": {
          "color": "#81D3E8",
          "width": 2
         },
         "mode": "lines",
         "showlegend": false,
         "type": "scatter",
         "x": [
          19,
          19
         ],
         "y": [
          4.5,
          -4.5
         ]
        },
        {
         "hoverinfo": "text",
         "hovertext": "Aang: Well ...  I know it's near water.",
         "line": {
          "color": "#F9D672",
          "width": 2
         },
         "mode": "lines",
         "showlegend": false,
         "type": "scatter",
         "x": [
          21,
          21
         ],
         "y": [
          3.5,
          -3.5
         ]
        },
        {
         "hoverinfo": "text",
         "hovertext": "Sokka: I guess we're getting close then.",
         "line": {
          "color": "#81D3E8",
          "width": 2
         },
         "mode": "lines",
         "showlegend": false,
         "type": "scatter",
         "x": [
          23,
          23
         ],
         "y": [
          3,
          -3
         ]
        },
        {
         "hoverinfo": "text",
         "hovertext": "Aang: Momo, marbles please.  Hey Katara, check out this airbending trick!",
         "line": {
          "color": "#F9D672",
          "width": 2
         },
         "mode": "lines",
         "showlegend": false,
         "type": "scatter",
         "x": [
          25,
          25
         ],
         "y": [
          5,
          -5
         ]
        },
        {
         "hoverinfo": "text",
         "hovertext": "Katara: That's great, Aang.",
         "line": {
          "color": "#81D3E8",
          "width": 2
         },
         "mode": "lines",
         "showlegend": false,
         "type": "scatter",
         "x": [
          27,
          27
         ],
         "y": [
          1.5,
          -1.5
         ]
        },
        {
         "hoverinfo": "text",
         "hovertext": "Aang: You didn't even look.",
         "line": {
          "color": "#F9D672",
          "width": 2
         },
         "mode": "lines",
         "showlegend": false,
         "type": "scatter",
         "x": [
          29,
          29
         ],
         "y": [
          2,
          -2
         ]
        },
        {
         "hoverinfo": "text",
         "hovertext": "Katara: That's great!",
         "line": {
          "color": "#81D3E8",
          "width": 2
         },
         "mode": "lines",
         "showlegend": false,
         "type": "scatter",
         "x": [
          31,
          31
         ],
         "y": [
          1,
          -1
         ]
        },
        {
         "hoverinfo": "text",
         "hovertext": "Aang: But I'm not doing it now.",
         "line": {
          "color": "#F9D672",
          "width": 2
         },
         "mode": "lines",
         "showlegend": false,
         "type": "scatter",
         "x": [
          33,
          33
         ],
         "y": [
          3,
          -3
         ]
        },
        {
         "hoverinfo": "text",
         "hovertext": "Sokka: Stop bugging her, airhead. You need to give girls space when they do their sewing.",
         "line": {
          "color": "#81D3E8",
          "width": 2
         },
         "mode": "lines",
         "showlegend": false,
         "type": "scatter",
         "x": [
          35,
          35
         ],
         "y": [
          7.5,
          -7.5
         ]
        },
        {
         "hoverinfo": "text",
         "hovertext": "Katara: What does me being a girl have to do with sewing?",
         "line": {
          "color": "#81D3E8",
          "width": 2
         },
         "mode": "lines",
         "showlegend": false,
         "type": "scatter",
         "x": [
          37,
          37
         ],
         "y": [
          5.5,
          -5.5
         ]
        },
        {
         "hoverinfo": "text",
         "hovertext": "Sokka: Simple. Girls are better at fixing pants than guys and guys are better at hunting and fighting and stuff like that.  It's just the natural order of things.",
         "line": {
          "color": "#81D3E8",
          "width": 2
         },
         "mode": "lines",
         "showlegend": false,
         "type": "scatter",
         "x": [
          39,
          39
         ],
         "y": [
          14,
          -14
         ]
        },
        {
         "hoverinfo": "text",
         "hovertext": "Katara: All done with your pants!  And look what a great job I did!",
         "line": {
          "color": "#81D3E8",
          "width": 2
         },
         "mode": "lines",
         "showlegend": false,
         "type": "scatter",
         "x": [
          41,
          41
         ],
         "y": [
          6.5,
          -6.5
         ]
        },
        {
         "hoverinfo": "text",
         "hovertext": "Sokka: Wait! I was just kidding.  I can't wear these! Katara, please!",
         "line": {
          "color": "#81D3E8",
          "width": 2
         },
         "mode": "lines",
         "showlegend": false,
         "type": "scatter",
         "x": [
          43,
          43
         ],
         "y": [
          5.5,
          -5.5
         ]
        },
        {
         "hoverinfo": "text",
         "hovertext": "Aang: Relax, Sokka. Where we're going, you won't need any pants.",
         "line": {
          "color": "#F9D672",
          "width": 2
         },
         "mode": "lines",
         "showlegend": false,
         "type": "scatter",
         "x": [
          45,
          45
         ],
         "y": [
          5,
          -5
         ]
        },
        {
         "hoverinfo": "text",
         "hovertext": "Sokka: We just made a pit stop yesterday. Shouldn't we get a little more flying done before we camp out?",
         "line": {
          "color": "#81D3E8",
          "width": 2
         },
         "mode": "lines",
         "showlegend": false,
         "type": "scatter",
         "x": [
          47,
          47
         ],
         "y": [
          9.5,
          -9.5
         ]
        },
        {
         "hoverinfo": "text",
         "hovertext": "Katara: He's right. At this rate, we won't get to the North Pole until spring.",
         "line": {
          "color": "#81D3E8",
          "width": 2
         },
         "mode": "lines",
         "showlegend": false,
         "type": "scatter",
         "x": [
          49,
          49
         ],
         "y": [
          7,
          -7
         ]
        },
        {
         "hoverinfo": "text",
         "hovertext": "Aang: But Appa's tired, aren't you boy?",
         "line": {
          "color": "#F9D672",
          "width": 2
         },
         "mode": "lines",
         "showlegend": false,
         "type": "scatter",
         "x": [
          51,
          51
         ],
         "y": [
          3,
          -3
         ]
        },
        {
         "hoverinfo": "text",
         "hovertext": "Aang: I said, aren't you boy?",
         "line": {
          "color": "#F9D672",
          "width": 2
         },
         "mode": "lines",
         "showlegend": false,
         "type": "scatter",
         "x": [
          53,
          53
         ],
         "y": [
          2.5,
          -2.5
         ]
        },
        {
         "hoverinfo": "text",
         "hovertext": "Sokka: Yeah, that was real convincing. Still, hard to argue with a ten-ton magical monster.",
         "line": {
          "color": "#81D3E8",
          "width": 2
         },
         "mode": "lines",
         "showlegend": false,
         "type": "scatter",
         "x": [
          55,
          55
         ],
         "y": [
          7,
          -7
         ]
        },
        {
         "hoverinfo": "text",
         "hovertext": "Aang: Look!",
         "line": {
          "color": "#F9D672",
          "width": 2
         },
         "mode": "lines",
         "showlegend": false,
         "type": "scatter",
         "x": [
          57,
          57
         ],
         "y": [
          0.5,
          -0.5
         ]
        },
        {
         "hoverinfo": "text",
         "hovertext": "Aang: That's why we're here.  Elephant koi, and I'm gonna ride it. Katara, you've got to watch me!",
         "line": {
          "color": "#F9D672",
          "width": 2
         },
         "mode": "lines",
         "showlegend": false,
         "type": "scatter",
         "x": [
          59,
          59
         ],
         "y": [
          8.5,
          -8.5
         ]
        },
        {
         "hoverinfo": "text",
         "hovertext": "Aang: Cold!",
         "line": {
          "color": "#F9D672",
          "width": 2
         },
         "mode": "lines",
         "showlegend": false,
         "type": "scatter",
         "x": [
          61,
          61
         ],
         "y": [
          0.5,
          -0.5
         ]
        },
        {
         "hoverinfo": "text",
         "hovertext": "Aang: Hahaha, hahaha!",
         "line": {
          "color": "#F9D672",
          "width": 2
         },
         "mode": "lines",
         "showlegend": false,
         "type": "scatter",
         "x": [
          63,
          63
         ],
         "y": [
          1,
          -1
         ]
        },
        {
         "hoverinfo": "text",
         "hovertext": "Katara: Whooh!",
         "line": {
          "color": "#81D3E8",
          "width": 2
         },
         "mode": "lines",
         "showlegend": false,
         "type": "scatter",
         "x": [
          65,
          65
         ],
         "y": [
          0.5,
          -0.5
         ]
        },
        {
         "hoverinfo": "text",
         "hovertext": "Katara: He looks pretty good out there.",
         "line": {
          "color": "#81D3E8",
          "width": 2
         },
         "mode": "lines",
         "showlegend": false,
         "type": "scatter",
         "x": [
          67,
          67
         ],
         "y": [
          3,
          -3
         ]
        },
        {
         "hoverinfo": "text",
         "hovertext": "Sokka: Are you kidding?  The fish is doing all the work.",
         "line": {
          "color": "#81D3E8",
          "width": 2
         },
         "mode": "lines",
         "showlegend": false,
         "type": "scatter",
         "x": [
          69,
          69
         ],
         "y": [
          5,
          -5
         ]
        },
        {
         "hoverinfo": "text",
         "hovertext": "Katara: No, Appa. Don't eat that!",
         "line": {
          "color": "#81D3E8",
          "width": 2
         },
         "mode": "lines",
         "showlegend": false,
         "type": "scatter",
         "x": [
          71,
          71
         ],
         "y": [
          2.5,
          -2.5
         ]
        },
        {
         "hoverinfo": "text",
         "hovertext": "Aang: Oh man ...",
         "line": {
          "color": "#F9D672",
          "width": 2
         },
         "mode": "lines",
         "showlegend": false,
         "type": "scatter",
         "x": [
          73,
          73
         ],
         "y": [
          1.5,
          -1.5
         ]
        },
        {
         "hoverinfo": "text",
         "hovertext": "Sokka: There's something in the water!",
         "line": {
          "color": "#81D3E8",
          "width": 2
         },
         "mode": "lines",
         "showlegend": false,
         "type": "scatter",
         "x": [
          75,
          75
         ],
         "y": [
          2.5,
          -2.5
         ]
        },
        {
         "hoverinfo": "text",
         "hovertext": "Katara: What's wrong?",
         "line": {
          "color": "#81D3E8",
          "width": 2
         },
         "mode": "lines",
         "showlegend": false,
         "type": "scatter",
         "x": [
          77,
          77
         ],
         "y": [
          1,
          -1
         ]
        },
        {
         "hoverinfo": "text",
         "hovertext": "Sokka: Aang's in trouble. Aang!",
         "line": {
          "color": "#81D3E8",
          "width": 2
         },
         "mode": "lines",
         "showlegend": false,
         "type": "scatter",
         "x": [
          79,
          79
         ],
         "y": [
          2,
          -2
         ]
        },
        {
         "hoverinfo": "text",
         "hovertext": "Katara: Get out of there!",
         "line": {
          "color": "#81D3E8",
          "width": 2
         },
         "mode": "lines",
         "showlegend": false,
         "type": "scatter",
         "x": [
          81,
          81
         ],
         "y": [
          2,
          -2
         ]
        },
        {
         "hoverinfo": "text",
         "hovertext": "Sokka: Get back here, Aang!",
         "line": {
          "color": "#81D3E8",
          "width": 2
         },
         "mode": "lines",
         "showlegend": false,
         "type": "scatter",
         "x": [
          83,
          83
         ],
         "y": [
          2,
          -2
         ]
        },
        {
         "hoverinfo": "text",
         "hovertext": "Aang: Whaaaahh! Aaaah!",
         "line": {
          "color": "#F9D672",
          "width": 2
         },
         "mode": "lines",
         "showlegend": false,
         "type": "scatter",
         "x": [
          85,
          85
         ],
         "y": [
          1,
          -1
         ]
        },
        {
         "hoverinfo": "text",
         "hovertext": "Aang: Whaaaahh!",
         "line": {
          "color": "#F9D672",
          "width": 2
         },
         "mode": "lines",
         "showlegend": false,
         "type": "scatter",
         "x": [
          87,
          87
         ],
         "y": [
          0.5,
          -0.5
         ]
        },
        {
         "hoverinfo": "text",
         "hovertext": "Katara: What was that thing?",
         "line": {
          "color": "#81D3E8",
          "width": 2
         },
         "mode": "lines",
         "showlegend": false,
         "type": "scatter",
         "x": [
          89,
          89
         ],
         "y": [
          2,
          -2
         ]
        },
        {
         "hoverinfo": "text",
         "hovertext": "Aang: I don't know.",
         "line": {
          "color": "#F9D672",
          "width": 2
         },
         "mode": "lines",
         "showlegend": false,
         "type": "scatter",
         "x": [
          91,
          91
         ],
         "y": [
          1.5,
          -1.5
         ]
        },
        {
         "hoverinfo": "text",
         "hovertext": "Sokka: Well, let's not stick around to find out. Time to hit the road.",
         "line": {
          "color": "#81D3E8",
          "width": 2
         },
         "mode": "lines",
         "showlegend": false,
         "type": "scatter",
         "x": [
          93,
          93
         ],
         "y": [
          6.5,
          -6.5
         ]
        },
        {
         "hoverinfo": "text",
         "hovertext": "Sokka: Or, we could stay a while.",
         "line": {
          "color": "#81D3E8",
          "width": 2
         },
         "mode": "lines",
         "showlegend": false,
         "type": "scatter",
         "x": [
          95,
          95
         ],
         "y": [
          3,
          -3
         ]
        },
        {
         "hoverinfo": "text",
         "hovertext": "Oyaji: You three have some explaining to do.",
         "line": {
          "color": "#848587",
          "width": 2
         },
         "mode": "lines",
         "showlegend": false,
         "type": "scatter",
         "x": [
          97,
          97
         ],
         "y": [
          3.5,
          -3.5
         ]
        },
        {
         "hoverinfo": "text",
         "hovertext": "Suki: And if you don't answer all our questions, we're throwing you back in the water with the Unagi.",
         "line": {
          "color": "#729F3D",
          "width": 2
         },
         "mode": "lines",
         "showlegend": false,
         "type": "scatter",
         "x": [
          99,
          99
         ],
         "y": [
          9,
          -9
         ]
        },
        {
         "hoverinfo": "text",
         "hovertext": "Sokka: Show yourselves, cowards!",
         "line": {
          "color": "#81D3E8",
          "width": 2
         },
         "mode": "lines",
         "showlegend": false,
         "type": "scatter",
         "x": [
          101,
          101
         ],
         "y": [
          1.5,
          -1.5
         ]
        },
        {
         "hoverinfo": "text",
         "hovertext": "Sokka: Who are you? Where are the men who ambushed us?",
         "line": {
          "color": "#81D3E8",
          "width": 2
         },
         "mode": "lines",
         "showlegend": false,
         "type": "scatter",
         "x": [
          103,
          103
         ],
         "y": [
          5,
          -5
         ]
        },
        {
         "hoverinfo": "text",
         "hovertext": "Suki: There were no men. We ambushed you. Now tell us, who are you and what are you doing here?",
         "line": {
          "color": "#729F3D",
          "width": 2
         },
         "mode": "lines",
         "showlegend": false,
         "type": "scatter",
         "x": [
          105,
          105
         ],
         "y": [
          9.5,
          -9.5
         ]
        },
        {
         "hoverinfo": "text",
         "hovertext": "Sokka: Wait a second,  there's no way that a bunch of girls took us down.",
         "line": {
          "color": "#81D3E8",
          "width": 2
         },
         "mode": "lines",
         "showlegend": false,
         "type": "scatter",
         "x": [
          107,
          107
         ],
         "y": [
          7,
          -7
         ]
        },
        {
         "hoverinfo": "text",
         "hovertext": "Suki: A bunch of girls, huh? The Unagi's gonna eat well tonight.",
         "line": {
          "color": "#729F3D",
          "width": 2
         },
         "mode": "lines",
         "showlegend": false,
         "type": "scatter",
         "x": [
          109,
          109
         ],
         "y": [
          5.5,
          -5.5
         ]
        },
        {
         "hoverinfo": "text",
         "hovertext": "Katara: No, don't hurt him! He didn't mean it. My brother is just an idiot sometimes.",
         "line": {
          "color": "#81D3E8",
          "width": 2
         },
         "mode": "lines",
         "showlegend": false,
         "type": "scatter",
         "x": [
          111,
          111
         ],
         "y": [
          7.5,
          -7.5
         ]
        },
        {
         "hoverinfo": "text",
         "hovertext": "Aang: It's my fault.  I'm sorry we came here. I wanted to ride the elephant koi.",
         "line": {
          "color": "#F9D672",
          "width": 2
         },
         "mode": "lines",
         "showlegend": false,
         "type": "scatter",
         "x": [
          113,
          113
         ],
         "y": [
          7.5,
          -7.5
         ]
        },
        {
         "hoverinfo": "text",
         "hovertext": "Oyaji: How do we know you're not  Fire Nation spies? Kyoshi stayed out of the war so far. And we intend to keep it that way!",
         "line": {
          "color": "#848587",
          "width": 2
         },
         "mode": "lines",
         "showlegend": false,
         "type": "scatter",
         "x": [
          115,
          115
         ],
         "y": [
          12.5,
          -12.5
         ]
        },
        {
         "hoverinfo": "text",
         "hovertext": "Aang: This island is named for Kyoshi? I know Kyoshi!",
         "line": {
          "color": "#F9D672",
          "width": 2
         },
         "mode": "lines",
         "showlegend": false,
         "type": "scatter",
         "x": [
          117,
          117
         ],
         "y": [
          4.5,
          -4.5
         ]
        },
        {
         "hoverinfo": "text",
         "hovertext": "Oyaji: Ha! How could you possibly know her?",
         "line": {
          "color": "#848587",
          "width": 2
         },
         "mode": "lines",
         "showlegend": false,
         "type": "scatter",
         "x": [
          119,
          119
         ],
         "y": [
          3.5,
          -3.5
         ]
        },
        {
         "hoverinfo": "text",
         "hovertext": "Oyaji: Avatar Kyoshi was born here four hundred years ago.  She's been dead for centuries.",
         "line": {
          "color": "#848587",
          "width": 2
         },
         "mode": "lines",
         "showlegend": false,
         "type": "scatter",
         "x": [
          121,
          121
         ],
         "y": [
          7,
          -7
         ]
        },
        {
         "hoverinfo": "text",
         "hovertext": "Aang: I know her because I'm the Avatar.",
         "line": {
          "color": "#F9D672",
          "width": 2
         },
         "mode": "lines",
         "showlegend": false,
         "type": "scatter",
         "x": [
          123,
          123
         ],
         "y": [
          3.5,
          -3.5
         ]
        },
        {
         "hoverinfo": "text",
         "hovertext": "Suki: That's impossible! The last Avatar was an airbender who disappeared a hundred years ago.",
         "line": {
          "color": "#729F3D",
          "width": 2
         },
         "mode": "lines",
         "showlegend": false,
         "type": "scatter",
         "x": [
          125,
          125
         ],
         "y": [
          7,
          -7
         ]
        },
        {
         "hoverinfo": "text",
         "hovertext": "Aang: That's me!",
         "line": {
          "color": "#F9D672",
          "width": 2
         },
         "mode": "lines",
         "showlegend": false,
         "type": "scatter",
         "x": [
          127,
          127
         ],
         "y": [
          1,
          -1
         ]
        },
        {
         "hoverinfo": "text",
         "hovertext": "Oyaji: Throw the impostor to the Unagi!",
         "line": {
          "color": "#848587",
          "width": 2
         },
         "mode": "lines",
         "showlegend": false,
         "type": "scatter",
         "x": [
          129,
          129
         ],
         "y": [
          3,
          -3
         ]
        },
        {
         "hoverinfo": "text",
         "hovertext": "Katara: Aang ... do some airbending.",
         "line": {
          "color": "#81D3E8",
          "width": 2
         },
         "mode": "lines",
         "showlegend": false,
         "type": "scatter",
         "x": [
          131,
          131
         ],
         "y": [
          2.5,
          -2.5
         ]
        },
        {
         "hoverinfo": "text",
         "hovertext": "Spectators: Wow! Did you see that? Airbender!",
         "line": {
          "color": "#848587",
          "width": 2
         },
         "mode": "lines",
         "showlegend": false,
         "type": "scatter",
         "x": [
          133,
          133
         ],
         "y": [
          3,
          -3
         ]
        },
        {
         "hoverinfo": "text",
         "hovertext": "Oyaji: It's true ... you are the Avatar!",
         "line": {
          "color": "#848587",
          "width": 2
         },
         "mode": "lines",
         "showlegend": false,
         "type": "scatter",
         "x": [
          135,
          135
         ],
         "y": [
          3.5,
          -3.5
         ]
        },
        {
         "hoverinfo": "text",
         "hovertext": "Aang: Now ...  check this out!",
         "line": {
          "color": "#F9D672",
          "width": 2
         },
         "mode": "lines",
         "showlegend": false,
         "type": "scatter",
         "x": [
          137,
          137
         ],
         "y": [
          2.5,
          -2.5
         ]
        },
        {
         "hoverinfo": "text",
         "hovertext": "Little girl: Did you hear the news?  The Avatar's on Kyoshi!",
         "line": {
          "color": "#848587",
          "width": 2
         },
         "mode": "lines",
         "showlegend": false,
         "type": "scatter",
         "x": [
          139,
          139
         ],
         "y": [
          4.5,
          -4.5
         ]
        },
        {
         "hoverinfo": "text",
         "hovertext": "Fisherman: Huh?",
         "line": {
          "color": "#848587",
          "width": 2
         },
         "mode": "lines",
         "showlegend": false,
         "type": "scatter",
         "x": [
          141,
          141
         ],
         "y": [
          0.5,
          -0.5
         ]
        },
        {
         "hoverinfo": "text",
         "hovertext": "Zuko: The Avatar's on Kyoshi Island?  Uncle, ready the rhinos. He's not getting away from me this time.",
         "line": {
          "color": "#D46627",
          "width": 2
         },
         "mode": "lines",
         "showlegend": false,
         "type": "scatter",
         "x": [
          143,
          143
         ],
         "y": [
          8.5,
          -8.5
         ]
        },
        {
         "hoverinfo": "text",
         "hovertext": "Iroh: Are you going to finish that?",
         "line": {
          "color": "#D46627",
          "width": 2
         },
         "mode": "lines",
         "showlegend": false,
         "type": "scatter",
         "x": [
          145,
          145
         ],
         "y": [
          3,
          -3
         ]
        },
        {
         "hoverinfo": "text",
         "hovertext": "Zuko: I was going to save it for later!",
         "line": {
          "color": "#D46627",
          "width": 2
         },
         "mode": "lines",
         "showlegend": false,
         "type": "scatter",
         "x": [
          147,
          147
         ],
         "y": [
          4,
          -4
         ]
        },
        {
         "hoverinfo": "text",
         "hovertext": "Aang: All right! Dessert for breakfast!",
         "line": {
          "color": "#F9D672",
          "width": 2
         },
         "mode": "lines",
         "showlegend": false,
         "type": "scatter",
         "x": [
          149,
          149
         ],
         "y": [
          2.5,
          -2.5
         ]
        },
        {
         "hoverinfo": "text",
         "hovertext": "Aang: These people sure know  how to treat an Avatar!",
         "line": {
          "color": "#F9D672",
          "width": 2
         },
         "mode": "lines",
         "showlegend": false,
         "type": "scatter",
         "x": [
          151,
          151
         ],
         "y": [
          4.5,
          -4.5
         ]
        },
        {
         "hoverinfo": "text",
         "hovertext": "Aang: Mmm ...  Katara you've got to try these!",
         "line": {
          "color": "#F9D672",
          "width": 2
         },
         "mode": "lines",
         "showlegend": false,
         "type": "scatter",
         "x": [
          153,
          153
         ],
         "y": [
          4,
          -4
         ]
        },
        {
         "hoverinfo": "text",
         "hovertext": "Katara: Well, maybe just a bite.",
         "line": {
          "color": "#81D3E8",
          "width": 2
         },
         "mode": "lines",
         "showlegend": false,
         "type": "scatter",
         "x": [
          155,
          155
         ],
         "y": [
          2.5,
          -2.5
         ]
        },
        {
         "hoverinfo": "text",
         "hovertext": "Aang: Sokka, what's your problem? Eat!",
         "line": {
          "color": "#F9D672",
          "width": 2
         },
         "mode": "lines",
         "showlegend": false,
         "type": "scatter",
         "x": [
          157,
          157
         ],
         "y": [
          2.5,
          -2.5
         ]
        },
        {
         "hoverinfo": "text",
         "hovertext": "Sokka: Not hungry.",
         "line": {
          "color": "#81D3E8",
          "width": 2
         },
         "mode": "lines",
         "showlegend": false,
         "type": "scatter",
         "x": [
          159,
          159
         ],
         "y": [
          1,
          -1
         ]
        },
        {
         "hoverinfo": "text",
         "hovertext": "Aang: But you're always hungry!",
         "line": {
          "color": "#F9D672",
          "width": 2
         },
         "mode": "lines",
         "showlegend": false,
         "type": "scatter",
         "x": [
          161,
          161
         ],
         "y": [
          2,
          -2
         ]
        },
        {
         "hoverinfo": "text",
         "hovertext": "Katara: He's just upset because a bunch of girls kicked his butt yesterday.",
         "line": {
          "color": "#81D3E8",
          "width": 2
         },
         "mode": "lines",
         "showlegend": false,
         "type": "scatter",
         "x": [
          163,
          163
         ],
         "y": [
          6,
          -6
         ]
        },
        {
         "hoverinfo": "text",
         "hovertext": "Sokka: They snuck up on me!",
         "line": {
          "color": "#81D3E8",
          "width": 2
         },
         "mode": "lines",
         "showlegend": false,
         "type": "scatter",
         "x": [
          165,
          165
         ],
         "y": [
          2.5,
          -2.5
         ]
        },
        {
         "hoverinfo": "text",
         "hovertext": "Katara: Right. And then they kicked your butt.",
         "line": {
          "color": "#81D3E8",
          "width": 2
         },
         "mode": "lines",
         "showlegend": false,
         "type": "scatter",
         "x": [
          167,
          167
         ],
         "y": [
          3.5,
          -3.5
         ]
        },
        {
         "hoverinfo": "text",
         "hovertext": "Sokka: Sneak attacks don't count!  Tie me up with ropes! I'll show them a thing or two.  I'm not scared of any girls.  Who do they think they are anyway?  Mmm ... this is tasty.",
         "line": {
          "color": "#81D3E8",
          "width": 2
         },
         "mode": "lines",
         "showlegend": false,
         "type": "scatter",
         "x": [
          169,
          169
         ],
         "y": [
          17,
          -17
         ]
        },
        {
         "hoverinfo": "text",
         "hovertext": "Aang: What's he so angry about?  It's great here. They're giving us the royal treatment!",
         "line": {
          "color": "#F9D672",
          "width": 2
         },
         "mode": "lines",
         "showlegend": false,
         "type": "scatter",
         "x": [
          171,
          171
         ],
         "y": [
          7,
          -7
         ]
        },
        {
         "hoverinfo": "text",
         "hovertext": "Katara: Hey, don't get too comfortable. It's risky for us to stay in one place for very long.",
         "line": {
          "color": "#81D3E8",
          "width": 2
         },
         "mode": "lines",
         "showlegend": false,
         "type": "scatter",
         "x": [
          173,
          173
         ],
         "y": [
          8.5,
          -8.5
         ]
        },
        {
         "hoverinfo": "text",
         "hovertext": "Aang: I'm sure we'll be fine.  Besides, did you see how happy I'm making this town?  They're even cleaning up that statue in my honor!",
         "line": {
          "color": "#F9D672",
          "width": 2
         },
         "mode": "lines",
         "showlegend": false,
         "type": "scatter",
         "x": [
          175,
          175
         ],
         "y": [
          12,
          -12
         ]
        },
        {
         "hoverinfo": "text",
         "hovertext": "Katara: Well, it's nice to see you excited about being the Avatar.  I just hope it doesn't all go to your head.",
         "line": {
          "color": "#81D3E8",
          "width": 2
         },
         "mode": "lines",
         "showlegend": false,
         "type": "scatter",
         "x": [
          177,
          177
         ],
         "y": [
          10.5,
          -10.5
         ]
        },
        {
         "hoverinfo": "text",
         "hovertext": "Aang: Come on, you know me better than that. I'm just a simple monk.",
         "line": {
          "color": "#F9D672",
          "width": 2
         },
         "mode": "lines",
         "showlegend": false,
         "type": "scatter",
         "x": [
          179,
          179
         ],
         "y": [
          6.5,
          -6.5
         ]
        },
        {
         "hoverinfo": "text",
         "hovertext": "Painter: Hmmm ... Painting the Avatar ... that's easy enough ...  Oh, there's another one ...  Well, I'll make an adjustment here, and ...  There's more ...  well that ...",
         "line": {
          "color": "#848587",
          "width": 2
         },
         "mode": "lines",
         "showlegend": false,
         "type": "scatter",
         "x": [
          181,
          181
         ],
         "y": [
          14.5,
          -14.5
         ]
        },
        {
         "hoverinfo": "text",
         "hovertext": "Sokka: I can't believe I got beat up by a bunch of girls.",
         "line": {
          "color": "#81D3E8",
          "width": 2
         },
         "mode": "lines",
         "showlegend": false,
         "type": "scatter",
         "x": [
          183,
          183
         ],
         "y": [
          6,
          -6
         ]
        },
        {
         "hoverinfo": "text",
         "hovertext": "Sokka: Sorry ladies,  didn't mean to interrupt your dance lesson.  I was just looking for somewhere to get a little workout?",
         "line": {
          "color": "#81D3E8",
          "width": 2
         },
         "mode": "lines",
         "showlegend": false,
         "type": "scatter",
         "x": [
          185,
          185
         ],
         "y": [
          10,
          -10
         ]
        },
        {
         "hoverinfo": "text",
         "hovertext": "Suki: Well, you're in the right place.  Sorry about yesterday. I didn't know that you were friends with the Avatar.",
         "line": {
          "color": "#729F3D",
          "width": 2
         },
         "mode": "lines",
         "showlegend": false,
         "type": "scatter",
         "x": [
          187,
          187
         ],
         "y": [
          9.5,
          -9.5
         ]
        },
        {
         "hoverinfo": "text",
         "hovertext": "Sokka: It's all right.  I mean, normally I'd hold a grudge, but seeing as you guys are a bunch of girls, I'll make an exception.",
         "line": {
          "color": "#81D3E8",
          "width": 2
         },
         "mode": "lines",
         "showlegend": false,
         "type": "scatter",
         "x": [
          189,
          189
         ],
         "y": [
          12,
          -12
         ]
        },
        {
         "hoverinfo": "text",
         "hovertext": "Suki: I should hope so. A big strong man like you? We wouldn't stand a chance.",
         "line": {
          "color": "#729F3D",
          "width": 2
         },
         "mode": "lines",
         "showlegend": false,
         "type": "scatter",
         "x": [
          191,
          191
         ],
         "y": [
          7.5,
          -7.5
         ]
        },
        {
         "hoverinfo": "text",
         "hovertext": "Sokka: True. But don't feel bad. After all, I'm the best warrior in my village.",
         "line": {
          "color": "#81D3E8",
          "width": 2
         },
         "mode": "lines",
         "showlegend": false,
         "type": "scatter",
         "x": [
          193,
          193
         ],
         "y": [
          7,
          -7
         ]
        },
        {
         "hoverinfo": "text",
         "hovertext": "Suki: Wow! Best warrior, huh?  In your whole village?  Maybe you'd be kind enough to give us a little demonstration.",
         "line": {
          "color": "#729F3D",
          "width": 2
         },
         "mode": "lines",
         "showlegend": false,
         "type": "scatter",
         "x": [
          195,
          195
         ],
         "y": [
          9.5,
          -9.5
         ]
        },
        {
         "hoverinfo": "text",
         "hovertext": "Sokka: Oh ... Well ... I mean ... I ...",
         "line": {
          "color": "#81D3E8",
          "width": 2
         },
         "mode": "lines",
         "showlegend": false,
         "type": "scatter",
         "x": [
          197,
          197
         ],
         "y": [
          4.5,
          -4.5
         ]
        },
        {
         "hoverinfo": "text",
         "hovertext": "Suki: Come on, girls! Wouldn't you like him to show us some moves?",
         "line": {
          "color": "#729F3D",
          "width": 2
         },
         "mode": "lines",
         "showlegend": false,
         "type": "scatter",
         "x": [
          199,
          199
         ],
         "y": [
          6,
          -6
         ]
        },
        {
         "hoverinfo": "text",
         "hovertext": "Sokka: Well, if that's what you want, I'd be happy to.  All right, you stand over there. Now, this may be a little tough, but try to block me.",
         "line": {
          "color": "#81D3E8",
          "width": 2
         },
         "mode": "lines",
         "showlegend": false,
         "type": "scatter",
         "x": [
          201,
          201
         ],
         "y": [
          14,
          -14
         ]
        },
        {
         "hoverinfo": "text",
         "hovertext": "Sokka: Aw! Heh heh ... Good. Of course, I was going easy on you.",
         "line": {
          "color": "#81D3E8",
          "width": 2
         },
         "mode": "lines",
         "showlegend": false,
         "type": "scatter",
         "x": [
          203,
          203
         ],
         "y": [
          6.5,
          -6.5
         ]
        },
        {
         "hoverinfo": "text",
         "hovertext": "Suki: Of course.",
         "line": {
          "color": "#729F3D",
          "width": 2
         },
         "mode": "lines",
         "showlegend": false,
         "type": "scatter",
         "x": [
          205,
          205
         ],
         "y": [
          1,
          -1
         ]
        },
        {
         "hoverinfo": "text",
         "hovertext": "Sokka: Let's see if you can  handle this !",
         "line": {
          "color": "#81D3E8",
          "width": 2
         },
         "mode": "lines",
         "showlegend": false,
         "type": "scatter",
         "x": [
          207,
          207
         ],
         "y": [
          4,
          -4
         ]
        },
        {
         "hoverinfo": "text",
         "hovertext": "Sokka: That does it!",
         "line": {
          "color": "#81D3E8",
          "width": 2
         },
         "mode": "lines",
         "showlegend": false,
         "type": "scatter",
         "x": [
          209,
          209
         ],
         "y": [
          1.5,
          -1.5
         ]
        },
        {
         "hoverinfo": "text",
         "hovertext": "Suki: Anything else you want to teach us?",
         "line": {
          "color": "#729F3D",
          "width": 2
         },
         "mode": "lines",
         "showlegend": false,
         "type": "scatter",
         "x": [
          211,
          211
         ],
         "y": [
          3.5,
          -3.5
         ]
        },
        {
         "hoverinfo": "text",
         "hovertext": "Aang: There she is, girls. Me in a past life.",
         "line": {
          "color": "#F9D672",
          "width": 2
         },
         "mode": "lines",
         "showlegend": false,
         "type": "scatter",
         "x": [
          213,
          213
         ],
         "y": [
          4.5,
          -4.5
         ]
        },
        {
         "hoverinfo": "text",
         "hovertext": "Fangirls: Ooohhh ...",
         "line": {
          "color": "#848587",
          "width": 2
         },
         "mode": "lines",
         "showlegend": false,
         "type": "scatter",
         "x": [
          215,
          215
         ],
         "y": [
          1,
          -1
         ]
        },
        {
         "hoverinfo": "text",
         "hovertext": "Koko: You were pretty!",
         "line": {
          "color": "#848587",
          "width": 2
         },
         "mode": "lines",
         "showlegend": false,
         "type": "scatter",
         "x": [
          217,
          217
         ],
         "y": [
          1.5,
          -1.5
         ]
        },
        {
         "hoverinfo": "text",
         "hovertext": "Aang: Excuse me for a second, ladies.",
         "line": {
          "color": "#F9D672",
          "width": 2
         },
         "mode": "lines",
         "showlegend": false,
         "type": "scatter",
         "x": [
          219,
          219
         ],
         "y": [
          3,
          -3
         ]
        },
        {
         "hoverinfo": "text",
         "hovertext": "Katara: Oh, good! Can you help me carry this back to the room?  It's a little heavy.",
         "line": {
          "color": "#81D3E8",
          "width": 2
         },
         "mode": "lines",
         "showlegend": false,
         "type": "scatter",
         "x": [
          221,
          221
         ],
         "y": [
          8,
          -8
         ]
        },
        {
         "hoverinfo": "text",
         "hovertext": "Aang: Actually, I can't right now.",
         "line": {
          "color": "#F9D672",
          "width": 2
         },
         "mode": "lines",
         "showlegend": false,
         "type": "scatter",
         "x": [
          223,
          223
         ],
         "y": [
          2.5,
          -2.5
         ]
        },
        {
         "hoverinfo": "text",
         "hovertext": "Katara: What do you mean, \"you can't?\"",
         "line": {
          "color": "#81D3E8",
          "width": 2
         },
         "mode": "lines",
         "showlegend": false,
         "type": "scatter",
         "x": [
          225,
          225
         ],
         "y": [
          3,
          -3
         ]
        },
        {
         "hoverinfo": "text",
         "hovertext": "Aang: I promised the girls I'd give them a ride on Appa. Why don't you come with us? It'll be fun!",
         "line": {
          "color": "#F9D672",
          "width": 2
         },
         "mode": "lines",
         "showlegend": false,
         "type": "scatter",
         "x": [
          227,
          227
         ],
         "y": [
          10,
          -10
         ]
        },
        {
         "hoverinfo": "text",
         "hovertext": "Katara: Watching you show off for a bunch of girls does not sound like fun.",
         "line": {
          "color": "#81D3E8",
          "width": 2
         },
         "mode": "lines",
         "showlegend": false,
         "type": "scatter",
         "x": [
          229,
          229
         ],
         "y": [
          7,
          -7
         ]
        },
        {
         "hoverinfo": "text",
         "hovertext": "Aang: Well, neither does carrying your basket.",
         "line": {
          "color": "#F9D672",
          "width": 2
         },
         "mode": "lines",
         "showlegend": false,
         "type": "scatter",
         "x": [
          231,
          231
         ],
         "y": [
          3,
          -3
         ]
        },
        {
         "hoverinfo": "text",
         "hovertext": "Katara: It's not my basket. These supplies are for our trip. I told you, we have to leave Kyoshi soon.",
         "line": {
          "color": "#81D3E8",
          "width": 2
         },
         "mode": "lines",
         "showlegend": false,
         "type": "scatter",
         "x": [
          233,
          233
         ],
         "y": [
          9.5,
          -9.5
         ]
        },
        {
         "hoverinfo": "text",
         "hovertext": "Aang: I don't want to leave Kyoshi yet. I can't put my finger on it,  but there's something I really like about this place.",
         "line": {
          "color": "#F9D672",
          "width": 2
         },
         "mode": "lines",
         "showlegend": false,
         "type": "scatter",
         "x": [
          235,
          235
         ],
         "y": [
          11.5,
          -11.5
         ]
        },
        {
         "hoverinfo": "text",
         "hovertext": "Koko: What's taking you so long, Aangy?",
         "line": {
          "color": "#848587",
          "width": 2
         },
         "mode": "lines",
         "showlegend": false,
         "type": "scatter",
         "x": [
          237,
          237
         ],
         "y": [
          3,
          -3
         ]
        },
        {
         "hoverinfo": "text",
         "hovertext": "Katara: Aangy ...",
         "line": {
          "color": "#81D3E8",
          "width": 2
         },
         "mode": "lines",
         "showlegend": false,
         "type": "scatter",
         "x": [
          239,
          239
         ],
         "y": [
          1,
          -1
         ]
        },
        {
         "hoverinfo": "text",
         "hovertext": "Aang: Just a second, Koko!",
         "line": {
          "color": "#F9D672",
          "width": 2
         },
         "mode": "lines",
         "showlegend": false,
         "type": "scatter",
         "x": [
          241,
          241
         ],
         "y": [
          2,
          -2
         ]
        },
        {
         "hoverinfo": "text",
         "hovertext": "Katara: \"Simple monk\", huh?  I thought you promised me that this Avatar stuff wouldn't go to your head.",
         "line": {
          "color": "#81D3E8",
          "width": 2
         },
         "mode": "lines",
         "showlegend": false,
         "type": "scatter",
         "x": [
          243,
          243
         ],
         "y": [
          8.5,
          -8.5
         ]
        },
        {
         "hoverinfo": "text",
         "hovertext": "Aang: It didn't. You know what I think? You just don't want to come because you're jealous.",
         "line": {
          "color": "#F9D672",
          "width": 2
         },
         "mode": "lines",
         "showlegend": false,
         "type": "scatter",
         "x": [
          245,
          245
         ],
         "y": [
          8,
          -8
         ]
        },
        {
         "hoverinfo": "text",
         "hovertext": "Katara: Jealous ?  Of what?",
         "line": {
          "color": "#81D3E8",
          "width": 2
         },
         "mode": "lines",
         "showlegend": false,
         "type": "scatter",
         "x": [
          247,
          247
         ],
         "y": [
          2,
          -2
         ]
        },
        {
         "hoverinfo": "text",
         "hovertext": "Aang: Jealous that we're having so much fun without you.",
         "line": {
          "color": "#F9D672",
          "width": 2
         },
         "mode": "lines",
         "showlegend": false,
         "type": "scatter",
         "x": [
          249,
          249
         ],
         "y": [
          4.5,
          -4.5
         ]
        },
        {
         "hoverinfo": "text",
         "hovertext": "Katara: That's ridiculous.",
         "line": {
          "color": "#81D3E8",
          "width": 2
         },
         "mode": "lines",
         "showlegend": false,
         "type": "scatter",
         "x": [
          251,
          251
         ],
         "y": [
          1,
          -1
         ]
        },
        {
         "hoverinfo": "text",
         "hovertext": "Aang: It is a little ridiculous, but I understand.",
         "line": {
          "color": "#F9D672",
          "width": 2
         },
         "mode": "lines",
         "showlegend": false,
         "type": "scatter",
         "x": [
          253,
          253
         ],
         "y": [
          4,
          -4
         ]
        },
        {
         "hoverinfo": "text",
         "hovertext": "Katara: Urch!",
         "line": {
          "color": "#81D3E8",
          "width": 2
         },
         "mode": "lines",
         "showlegend": false,
         "type": "scatter",
         "x": [
          255,
          255
         ],
         "y": [
          0.5,
          -0.5
         ]
        },
        {
         "hoverinfo": "text",
         "hovertext": "Sokka: Uh ... Hey, Suki.",
         "line": {
          "color": "#81D3E8",
          "width": 2
         },
         "mode": "lines",
         "showlegend": false,
         "type": "scatter",
         "x": [
          257,
          257
         ],
         "y": [
          2,
          -2
         ]
        },
        {
         "hoverinfo": "text",
         "hovertext": "Suki: Hoping for another dance lesson?",
         "line": {
          "color": "#729F3D",
          "width": 2
         },
         "mode": "lines",
         "showlegend": false,
         "type": "scatter",
         "x": [
          259,
          259
         ],
         "y": [
          2.5,
          -2.5
         ]
        },
        {
         "hoverinfo": "text",
         "hovertext": "Sokka: No ... I ... well, let me explain.",
         "line": {
          "color": "#81D3E8",
          "width": 2
         },
         "mode": "lines",
         "showlegend": false,
         "type": "scatter",
         "x": [
          261,
          261
         ],
         "y": [
          4,
          -4
         ]
        },
        {
         "hoverinfo": "text",
         "hovertext": "Suki: Spit it out! What do you want?",
         "line": {
          "color": "#729F3D",
          "width": 2
         },
         "mode": "lines",
         "showlegend": false,
         "type": "scatter",
         "x": [
          263,
          263
         ],
         "y": [
          3.5,
          -3.5
         ]
        },
        {
         "hoverinfo": "text",
         "hovertext": "Sokka: I would be honored if you would teach me.",
         "line": {
          "color": "#81D3E8",
          "width": 2
         },
         "mode": "lines",
         "showlegend": false,
         "type": "scatter",
         "x": [
          265,
          265
         ],
         "y": [
          4.5,
          -4.5
         ]
        },
        {
         "hoverinfo": "text",
         "hovertext": "Suki: Even if I'm a girl ?",
         "line": {
          "color": "#729F3D",
          "width": 2
         },
         "mode": "lines",
         "showlegend": false,
         "type": "scatter",
         "x": [
          267,
          267
         ],
         "y": [
          3,
          -3
         ]
        },
        {
         "hoverinfo": "text",
         "hovertext": "Sokka: I'm sorry if I insulted you earlier. I was ... wrong.",
         "line": {
          "color": "#81D3E8",
          "width": 2
         },
         "mode": "lines",
         "showlegend": false,
         "type": "scatter",
         "x": [
          269,
          269
         ],
         "y": [
          5.5,
          -5.5
         ]
        },
        {
         "hoverinfo": "text",
         "hovertext": "Suki: We normally don't teach outsiders, let alone boys.",
         "line": {
          "color": "#729F3D",
          "width": 2
         },
         "mode": "lines",
         "showlegend": false,
         "type": "scatter",
         "x": [
          271,
          271
         ],
         "y": [
          4,
          -4
         ]
        },
        {
         "hoverinfo": "text",
         "hovertext": "Sokka: Please make an exception.  I won't let you down.",
         "line": {
          "color": "#81D3E8",
          "width": 2
         },
         "mode": "lines",
         "showlegend": false,
         "type": "scatter",
         "x": [
          273,
          273
         ],
         "y": [
          4.5,
          -4.5
         ]
        },
        {
         "hoverinfo": "text",
         "hovertext": "Suki: All right. But you have to follow all of our traditions.",
         "line": {
          "color": "#729F3D",
          "width": 2
         },
         "mode": "lines",
         "showlegend": false,
         "type": "scatter",
         "x": [
          275,
          275
         ],
         "y": [
          5.5,
          -5.5
         ]
        },
        {
         "hoverinfo": "text",
         "hovertext": "Sokka: Of course!",
         "line": {
          "color": "#81D3E8",
          "width": 2
         },
         "mode": "lines",
         "showlegend": false,
         "type": "scatter",
         "x": [
          277,
          277
         ],
         "y": [
          1,
          -1
         ]
        },
        {
         "hoverinfo": "text",
         "hovertext": "Suki: And I mean all of them.",
         "line": {
          "color": "#729F3D",
          "width": 2
         },
         "mode": "lines",
         "showlegend": false,
         "type": "scatter",
         "x": [
          279,
          279
         ],
         "y": [
          3,
          -3
         ]
        },
        {
         "hoverinfo": "text",
         "hovertext": "Sokka: Do I really have to wear this? It feels a little ...  girly.",
         "line": {
          "color": "#81D3E8",
          "width": 2
         },
         "mode": "lines",
         "showlegend": false,
         "type": "scatter",
         "x": [
          281,
          281
         ],
         "y": [
          6.5,
          -6.5
         ]
        },
        {
         "hoverinfo": "text",
         "hovertext": "Suki: It's a warrior's uniform, you should be proud.  The silk threads symbolize the brave blood that flows through our veins. The gold insignia represents the honor of the warrior's heart.",
         "line": {
          "color": "#729F3D",
          "width": 2
         },
         "mode": "lines",
         "showlegend": false,
         "type": "scatter",
         "x": [
          283,
          283
         ],
         "y": [
          15,
          -15
         ]
        },
        {
         "hoverinfo": "text",
         "hovertext": "Sokka: Bravery and honor.",
         "line": {
          "color": "#81D3E8",
          "width": 2
         },
         "mode": "lines",
         "showlegend": false,
         "type": "scatter",
         "x": [
          285,
          285
         ],
         "y": [
          1.5,
          -1.5
         ]
        },
        {
         "hoverinfo": "text",
         "hovertext": "Aang: Hey Sokka!  Nice dress!",
         "line": {
          "color": "#F9D672",
          "width": 2
         },
         "mode": "lines",
         "showlegend": false,
         "type": "scatter",
         "x": [
          287,
          287
         ],
         "y": [
          2,
          -2
         ]
        },
        {
         "hoverinfo": "text",
         "hovertext": "Aang: Katara, remember how Unagi almost got me yesterday?",
         "line": {
          "color": "#F9D672",
          "width": 2
         },
         "mode": "lines",
         "showlegend": false,
         "type": "scatter",
         "x": [
          289,
          289
         ],
         "y": [
          4,
          -4
         ]
        },
        {
         "hoverinfo": "text",
         "hovertext": "Katara: Yeah.",
         "line": {
          "color": "#81D3E8",
          "width": 2
         },
         "mode": "lines",
         "showlegend": false,
         "type": "scatter",
         "x": [
          291,
          291
         ],
         "y": [
          0.5,
          -0.5
         ]
        },
        {
         "hoverinfo": "text",
         "hovertext": "Aang: Well, I'm gonna go ride it now. It's gonna be real dangerous.",
         "line": {
          "color": "#F9D672",
          "width": 2
         },
         "mode": "lines",
         "showlegend": false,
         "type": "scatter",
         "x": [
          293,
          293
         ],
         "y": [
          6,
          -6
         ]
        },
        {
         "hoverinfo": "text",
         "hovertext": "Katara: Good for you.",
         "line": {
          "color": "#81D3E8",
          "width": 2
         },
         "mode": "lines",
         "showlegend": false,
         "type": "scatter",
         "x": [
          295,
          295
         ],
         "y": [
          1.5,
          -1.5
         ]
        },
        {
         "hoverinfo": "text",
         "hovertext": "Aang: You're not going to stop me?",
         "line": {
          "color": "#F9D672",
          "width": 2
         },
         "mode": "lines",
         "showlegend": false,
         "type": "scatter",
         "x": [
          297,
          297
         ],
         "y": [
          3,
          -3
         ]
        },
        {
         "hoverinfo": "text",
         "hovertext": "Katara: Nope. Have fun.",
         "line": {
          "color": "#81D3E8",
          "width": 2
         },
         "mode": "lines",
         "showlegend": false,
         "type": "scatter",
         "x": [
          299,
          299
         ],
         "y": [
          1.5,
          -1.5
         ]
        },
        {
         "hoverinfo": "text",
         "hovertext": "Aang: I will.",
         "line": {
          "color": "#F9D672",
          "width": 2
         },
         "mode": "lines",
         "showlegend": false,
         "type": "scatter",
         "x": [
          301,
          301
         ],
         "y": [
          1,
          -1
         ]
        },
        {
         "hoverinfo": "text",
         "hovertext": "Katara: Great.",
         "line": {
          "color": "#81D3E8",
          "width": 2
         },
         "mode": "lines",
         "showlegend": false,
         "type": "scatter",
         "x": [
          303,
          303
         ],
         "y": [
          0.5,
          -0.5
         ]
        },
        {
         "hoverinfo": "text",
         "hovertext": "Aang: I know it's great.",
         "line": {
          "color": "#F9D672",
          "width": 2
         },
         "mode": "lines",
         "showlegend": false,
         "type": "scatter",
         "x": [
          305,
          305
         ],
         "y": [
          2,
          -2
         ]
        },
        {
         "hoverinfo": "text",
         "hovertext": "Katara: I'm glad you know.",
         "line": {
          "color": "#81D3E8",
          "width": 2
         },
         "mode": "lines",
         "showlegend": false,
         "type": "scatter",
         "x": [
          307,
          307
         ],
         "y": [
          2,
          -2
         ]
        },
        {
         "hoverinfo": "text",
         "hovertext": "Aang: I'm glad you're glad.",
         "line": {
          "color": "#F9D672",
          "width": 2
         },
         "mode": "lines",
         "showlegend": false,
         "type": "scatter",
         "x": [
          309,
          309
         ],
         "y": [
          2,
          -2
         ]
        },
        {
         "hoverinfo": "text",
         "hovertext": "Katara: Good!",
         "line": {
          "color": "#81D3E8",
          "width": 2
         },
         "mode": "lines",
         "showlegend": false,
         "type": "scatter",
         "x": [
          311,
          311
         ],
         "y": [
          0.5,
          -0.5
         ]
        },
        {
         "hoverinfo": "text",
         "hovertext": "Aang: Fine!",
         "line": {
          "color": "#F9D672",
          "width": 2
         },
         "mode": "lines",
         "showlegend": false,
         "type": "scatter",
         "x": [
          313,
          313
         ],
         "y": [
          0.5,
          -0.5
         ]
        },
        {
         "hoverinfo": "text",
         "hovertext": "Suki: You're not going to master it in one day. Even I'm not that good.",
         "line": {
          "color": "#729F3D",
          "width": 2
         },
         "mode": "lines",
         "showlegend": false,
         "type": "scatter",
         "x": [
          315,
          315
         ],
         "y": [
          7,
          -7
         ]
        },
        {
         "hoverinfo": "text",
         "hovertext": "Sokka: I think I'm starting to get it.",
         "line": {
          "color": "#81D3E8",
          "width": 2
         },
         "mode": "lines",
         "showlegend": false,
         "type": "scatter",
         "x": [
          317,
          317
         ],
         "y": [
          3.5,
          -3.5
         ]
        },
        {
         "hoverinfo": "text",
         "hovertext": "Sokka: Tah!",
         "line": {
          "color": "#81D3E8",
          "width": 2
         },
         "mode": "lines",
         "showlegend": false,
         "type": "scatter",
         "x": [
          319,
          319
         ],
         "y": [
          0.5,
          -0.5
         ]
        },
        {
         "hoverinfo": "text",
         "hovertext": "Suki: It's not about strength. Our technique is about using your opponents' force against them. Loosen up.  Think of the fan as an extension of your arm.  Wait for an opening and then ...",
         "line": {
          "color": "#729F3D",
          "width": 2
         },
         "mode": "lines",
         "showlegend": false,
         "type": "scatter",
         "x": [
          321,
          321
         ],
         "y": [
          16.5,
          -16.5
         ]
        },
        {
         "hoverinfo": "text",
         "hovertext": "Sokka: Hmm ...",
         "line": {
          "color": "#81D3E8",
          "width": 2
         },
         "mode": "lines",
         "showlegend": false,
         "type": "scatter",
         "x": [
          323,
          323
         ],
         "y": [
          1,
          -1
         ]
        },
        {
         "hoverinfo": "text",
         "hovertext": "Suki: I fell on purpose to make you feel better!",
         "line": {
          "color": "#729F3D",
          "width": 2
         },
         "mode": "lines",
         "showlegend": false,
         "type": "scatter",
         "x": [
          325,
          325
         ],
         "y": [
          4.5,
          -4.5
         ]
        },
        {
         "hoverinfo": "text",
         "hovertext": "Sokka: I got you! Admit I got you!",
         "line": {
          "color": "#81D3E8",
          "width": 2
         },
         "mode": "lines",
         "showlegend": false,
         "type": "scatter",
         "x": [
          327,
          327
         ],
         "y": [
          3.5,
          -3.5
         ]
        },
        {
         "hoverinfo": "text",
         "hovertext": "Suki: Okay, it was a lucky shot.  Let's see if you can do it again.",
         "line": {
          "color": "#729F3D",
          "width": 2
         },
         "mode": "lines",
         "showlegend": false,
         "type": "scatter",
         "x": [
          329,
          329
         ],
         "y": [
          7,
          -7
         ]
        },
        {
         "hoverinfo": "text",
         "hovertext": "Koko: What's taking so long?",
         "line": {
          "color": "#848587",
          "width": 2
         },
         "mode": "lines",
         "showlegend": false,
         "type": "scatter",
         "x": [
          331,
          331
         ],
         "y": [
          2,
          -2
         ]
        },
        {
         "hoverinfo": "text",
         "hovertext": "Aang: I'm sure it will be here any second!  What about this?",
         "line": {
          "color": "#F9D672",
          "width": 2
         },
         "mode": "lines",
         "showlegend": false,
         "type": "scatter",
         "x": [
          333,
          333
         ],
         "y": [
          5.5,
          -5.5
         ]
        },
        {
         "hoverinfo": "text",
         "hovertext": "Little Girl: Not that again . Boring !",
         "line": {
          "color": "#848587",
          "width": 2
         },
         "mode": "lines",
         "showlegend": false,
         "type": "scatter",
         "x": [
          335,
          335
         ],
         "y": [
          3,
          -3
         ]
        },
        {
         "hoverinfo": "text",
         "hovertext": "Koko: Where's Unagi? It's getting late.",
         "line": {
          "color": "#848587",
          "width": 2
         },
         "mode": "lines",
         "showlegend": false,
         "type": "scatter",
         "x": [
          337,
          337
         ],
         "y": [
          2.5,
          -2.5
         ]
        },
        {
         "hoverinfo": "text",
         "hovertext": "Aang: Where're you going? Don't leave!",
         "line": {
          "color": "#F9D672",
          "width": 2
         },
         "mode": "lines",
         "showlegend": false,
         "type": "scatter",
         "x": [
          339,
          339
         ],
         "y": [
          2.5,
          -2.5
         ]
        },
        {
         "hoverinfo": "text",
         "hovertext": "Koko: Sorry, Aang! Maybe next time.",
         "line": {
          "color": "#848587",
          "width": 2
         },
         "mode": "lines",
         "showlegend": false,
         "type": "scatter",
         "x": [
          341,
          341
         ],
         "y": [
          2.5,
          -2.5
         ]
        },
        {
         "hoverinfo": "text",
         "hovertext": "Aang: Katara! You showed up!",
         "line": {
          "color": "#F9D672",
          "width": 2
         },
         "mode": "lines",
         "showlegend": false,
         "type": "scatter",
         "x": [
          343,
          343
         ],
         "y": [
          2,
          -2
         ]
        },
        {
         "hoverinfo": "text",
         "hovertext": "Katara: I wanted to make sure you were safe. You really had me worried.",
         "line": {
          "color": "#81D3E8",
          "width": 2
         },
         "mode": "lines",
         "showlegend": false,
         "type": "scatter",
         "x": [
          345,
          345
         ],
         "y": [
          6.5,
          -6.5
         ]
        },
        {
         "hoverinfo": "text",
         "hovertext": "Aang: Back there you acted like you didn't care.",
         "line": {
          "color": "#F9D672",
          "width": 2
         },
         "mode": "lines",
         "showlegend": false,
         "type": "scatter",
         "x": [
          347,
          347
         ],
         "y": [
          4,
          -4
         ]
        },
        {
         "hoverinfo": "text",
         "hovertext": "Katara: I'm sorry.",
         "line": {
          "color": "#81D3E8",
          "width": 2
         },
         "mode": "lines",
         "showlegend": false,
         "type": "scatter",
         "x": [
          349,
          349
         ],
         "y": [
          1,
          -1
         ]
        },
        {
         "hoverinfo": "text",
         "hovertext": "Aang: Me too. I did let all that attention go to my head. I was being a jerk.",
         "line": {
          "color": "#F9D672",
          "width": 2
         },
         "mode": "lines",
         "showlegend": false,
         "type": "scatter",
         "x": [
          351,
          351
         ],
         "y": [
          8.5,
          -8.5
         ]
        },
        {
         "hoverinfo": "text",
         "hovertext": "Katara: Well, get out of the water before you catch a cold, you big jerk!",
         "line": {
          "color": "#81D3E8",
          "width": 2
         },
         "mode": "lines",
         "showlegend": false,
         "type": "scatter",
         "x": [
          353,
          353
         ],
         "y": [
          7,
          -7
         ]
        },
        {
         "hoverinfo": "text",
         "hovertext": "Aang: On my way!",
         "line": {
          "color": "#F9D672",
          "width": 2
         },
         "mode": "lines",
         "showlegend": false,
         "type": "scatter",
         "x": [
          355,
          355
         ],
         "y": [
          1.5,
          -1.5
         ]
        },
        {
         "hoverinfo": "text",
         "hovertext": "Katara: Hang on, Aang!",
         "line": {
          "color": "#81D3E8",
          "width": 2
         },
         "mode": "lines",
         "showlegend": false,
         "type": "scatter",
         "x": [
          357,
          357
         ],
         "y": [
          1.5,
          -1.5
         ]
        },
        {
         "hoverinfo": "text",
         "hovertext": "Katara: Aang!",
         "line": {
          "color": "#81D3E8",
          "width": 2
         },
         "mode": "lines",
         "showlegend": false,
         "type": "scatter",
         "x": [
          359,
          359
         ],
         "y": [
          0.5,
          -0.5
         ]
        },
        {
         "hoverinfo": "text",
         "hovertext": "Katara: Zuko!",
         "line": {
          "color": "#81D3E8",
          "width": 2
         },
         "mode": "lines",
         "showlegend": false,
         "type": "scatter",
         "x": [
          361,
          361
         ],
         "y": [
          0.5,
          -0.5
         ]
        },
        {
         "hoverinfo": "text",
         "hovertext": "Zuko: I want the Avatar alive.",
         "line": {
          "color": "#D46627",
          "width": 2
         },
         "mode": "lines",
         "showlegend": false,
         "type": "scatter",
         "x": [
          363,
          363
         ],
         "y": [
          2.5,
          -2.5
         ]
        },
        {
         "hoverinfo": "text",
         "hovertext": "Katara: Wake up, Aang!",
         "line": {
          "color": "#81D3E8",
          "width": 2
         },
         "mode": "lines",
         "showlegend": false,
         "type": "scatter",
         "x": [
          365,
          365
         ],
         "y": [
          1.5,
          -1.5
         ]
        },
        {
         "hoverinfo": "text",
         "hovertext": "Aang: Katara ...  don't ride Unagi. Not fun.",
         "line": {
          "color": "#F9D672",
          "width": 2
         },
         "mode": "lines",
         "showlegend": false,
         "type": "scatter",
         "x": [
          367,
          367
         ],
         "y": [
          3.5,
          -3.5
         ]
        },
        {
         "hoverinfo": "text",
         "hovertext": "Suki: Not bad.",
         "line": {
          "color": "#729F3D",
          "width": 2
         },
         "mode": "lines",
         "showlegend": false,
         "type": "scatter",
         "x": [
          369,
          369
         ],
         "y": [
          1,
          -1
         ]
        },
        {
         "hoverinfo": "text",
         "hovertext": "Oyaji: Firebenders have landed on our shores!  Girls, come quickly!",
         "line": {
          "color": "#848587",
          "width": 2
         },
         "mode": "lines",
         "showlegend": false,
         "type": "scatter",
         "x": [
          371,
          371
         ],
         "y": [
          4.5,
          -4.5
         ]
        },
        {
         "hoverinfo": "text",
         "hovertext": "Sokka: Hey, I'm not a ...  oh, whatever!",
         "line": {
          "color": "#81D3E8",
          "width": 2
         },
         "mode": "lines",
         "showlegend": false,
         "type": "scatter",
         "x": [
          373,
          373
         ],
         "y": [
          3.5,
          -3.5
         ]
        },
        {
         "hoverinfo": "text",
         "hovertext": "Zuko: Come out, Avatar!  You can't hide from me forever!  Find him.",
         "line": {
          "color": "#D46627",
          "width": 2
         },
         "mode": "lines",
         "showlegend": false,
         "type": "scatter",
         "x": [
          375,
          375
         ],
         "y": [
          5.5,
          -5.5
         ]
        },
        {
         "hoverinfo": "text",
         "hovertext": "Sokka: I guess training's over.",
         "line": {
          "color": "#81D3E8",
          "width": 2
         },
         "mode": "lines",
         "showlegend": false,
         "type": "scatter",
         "x": [
          377,
          377
         ],
         "y": [
          2,
          -2
         ]
        },
        {
         "hoverinfo": "text",
         "hovertext": "Zuko: Nice try, Avatar! But these little girls can't save you.",
         "line": {
          "color": "#D46627",
          "width": 2
         },
         "mode": "lines",
         "showlegend": false,
         "type": "scatter",
         "x": [
          379,
          379
         ],
         "y": [
          5,
          -5
         ]
        },
        {
         "hoverinfo": "text",
         "hovertext": "Aang: Hey! Over here!",
         "line": {
          "color": "#F9D672",
          "width": 2
         },
         "mode": "lines",
         "showlegend": false,
         "type": "scatter",
         "x": [
          381,
          381
         ],
         "y": [
          1.5,
          -1.5
         ]
        },
        {
         "hoverinfo": "text",
         "hovertext": "Zuko: Finally!",
         "line": {
          "color": "#D46627",
          "width": 2
         },
         "mode": "lines",
         "showlegend": false,
         "type": "scatter",
         "x": [
          383,
          383
         ],
         "y": [
          0.5,
          -0.5
         ]
        },
        {
         "hoverinfo": "text",
         "hovertext": "Katara: Get inside.",
         "line": {
          "color": "#81D3E8",
          "width": 2
         },
         "mode": "lines",
         "showlegend": false,
         "type": "scatter",
         "x": [
          385,
          385
         ],
         "y": [
          1,
          -1
         ]
        },
        {
         "hoverinfo": "text",
         "hovertext": "Aang: Look what I brought to this place.",
         "line": {
          "color": "#F9D672",
          "width": 2
         },
         "mode": "lines",
         "showlegend": false,
         "type": "scatter",
         "x": [
          387,
          387
         ],
         "y": [
          3.5,
          -3.5
         ]
        },
        {
         "hoverinfo": "text",
         "hovertext": "Katara: It's not your fault.",
         "line": {
          "color": "#81D3E8",
          "width": 2
         },
         "mode": "lines",
         "showlegend": false,
         "type": "scatter",
         "x": [
          389,
          389
         ],
         "y": [
          2,
          -2
         ]
        },
        {
         "hoverinfo": "text",
         "hovertext": "Aang: Yes, it is. These people got their town destroyed trying to protect me.",
         "line": {
          "color": "#F9D672",
          "width": 2
         },
         "mode": "lines",
         "showlegend": false,
         "type": "scatter",
         "x": [
          391,
          391
         ],
         "y": [
          6.5,
          -6.5
         ]
        },
        {
         "hoverinfo": "text",
         "hovertext": "Katara: Then let's get out of here. Zuko will leave Kyoshi to follow us. I know it feels wrong to run, but I think it's the only way.",
         "line": {
          "color": "#81D3E8",
          "width": 2
         },
         "mode": "lines",
         "showlegend": false,
         "type": "scatter",
         "x": [
          393,
          393
         ],
         "y": [
          13.5,
          -13.5
         ]
        },
        {
         "hoverinfo": "text",
         "hovertext": "Aang: I'll call Appa.",
         "line": {
          "color": "#F9D672",
          "width": 2
         },
         "mode": "lines",
         "showlegend": false,
         "type": "scatter",
         "x": [
          395,
          395
         ],
         "y": [
          1.5,
          -1.5
         ]
        },
        {
         "hoverinfo": "text",
         "hovertext": "Suki: There's no time to say goodbye.",
         "line": {
          "color": "#729F3D",
          "width": 2
         },
         "mode": "lines",
         "showlegend": false,
         "type": "scatter",
         "x": [
          397,
          397
         ],
         "y": [
          3,
          -3
         ]
        },
        {
         "hoverinfo": "text",
         "hovertext": "Sokka: What about, \"I'm sorry?\"",
         "line": {
          "color": "#81D3E8",
          "width": 2
         },
         "mode": "lines",
         "showlegend": false,
         "type": "scatter",
         "x": [
          399,
          399
         ],
         "y": [
          2,
          -2
         ]
        },
        {
         "hoverinfo": "text",
         "hovertext": "Suki: For what?",
         "line": {
          "color": "#729F3D",
          "width": 2
         },
         "mode": "lines",
         "showlegend": false,
         "type": "scatter",
         "x": [
          401,
          401
         ],
         "y": [
          1,
          -1
         ]
        },
        {
         "hoverinfo": "text",
         "hovertext": "Sokka: I treated you like a girl when I should've treated you like a warrior.",
         "line": {
          "color": "#81D3E8",
          "width": 2
         },
         "mode": "lines",
         "showlegend": false,
         "type": "scatter",
         "x": [
          403,
          403
         ],
         "y": [
          7,
          -7
         ]
        },
        {
         "hoverinfo": "text",
         "hovertext": "Suki: I am a warrior.  But I'm a girl, too.  Now get out of here! We'll hold them off.",
         "line": {
          "color": "#729F3D",
          "width": 2
         },
         "mode": "lines",
         "showlegend": false,
         "type": "scatter",
         "x": [
          405,
          405
         ],
         "y": [
          9,
          -9
         ]
        },
        {
         "hoverinfo": "text",
         "hovertext": "Aang: Appa, yip yip!",
         "line": {
          "color": "#F9D672",
          "width": 2
         },
         "mode": "lines",
         "showlegend": false,
         "type": "scatter",
         "x": [
          407,
          407
         ],
         "y": [
          1.5,
          -1.5
         ]
        },
        {
         "hoverinfo": "text",
         "hovertext": "Zuko: Back to the ship! Don't lose sight of them!",
         "line": {
          "color": "#D46627",
          "width": 2
         },
         "mode": "lines",
         "showlegend": false,
         "type": "scatter",
         "x": [
          409,
          409
         ],
         "y": [
          4.5,
          -4.5
         ]
        },
        {
         "hoverinfo": "text",
         "hovertext": "Katara: I know it's hard, but you did the right thing.  Zuko would have destroyed the whole place if we had stayed.  They're going to be okay, Aang.",
         "line": {
          "color": "#81D3E8",
          "width": 2
         },
         "mode": "lines",
         "showlegend": false,
         "type": "scatter",
         "x": [
          411,
          411
         ],
         "y": [
          13.5,
          -13.5
         ]
        },
        {
         "hoverinfo": "text",
         "hovertext": "Katara: What are you doing?",
         "line": {
          "color": "#81D3E8",
          "width": 2
         },
         "mode": "lines",
         "showlegend": false,
         "type": "scatter",
         "x": [
          413,
          413
         ],
         "y": [
          2,
          -2
         ]
        },
        {
         "hoverinfo": "text",
         "hovertext": "Oyaji: Thank you, Avatar.",
         "line": {
          "color": "#848587",
          "width": 2
         },
         "mode": "lines",
         "showlegend": false,
         "type": "scatter",
         "x": [
          415,
          415
         ],
         "y": [
          1.5,
          -1.5
         ]
        },
        {
         "hoverinfo": "text",
         "hovertext": "Aang: I know, I know. That was stupid and dangerous.",
         "line": {
          "color": "#F9D672",
          "width": 2
         },
         "mode": "lines",
         "showlegend": false,
         "type": "scatter",
         "x": [
          417,
          417
         ],
         "y": [
          4.5,
          -4.5
         ]
        },
        {
         "hoverinfo": "text",
         "hovertext": "Katara: Yes, it was.",
         "line": {
          "color": "#81D3E8",
          "width": 2
         },
         "mode": "lines",
         "showlegend": false,
         "type": "scatter",
         "x": [
          419,
          419
         ],
         "y": [
          1.5,
          -1.5
         ]
        }
       ],
       "layout": {
        "autosize": true,
        "hovermode": "closest",
        "margin": {
         "b": 0,
         "l": 50,
         "r": 50,
         "t": 50
        },
        "plot_bgcolor": "white",
        "template": {
         "data": {
          "bar": [
           {
            "error_x": {
             "color": "#2a3f5f"
            },
            "error_y": {
             "color": "#2a3f5f"
            },
            "marker": {
             "line": {
              "color": "#E5ECF6",
              "width": 0.5
             },
             "pattern": {
              "fillmode": "overlay",
              "size": 10,
              "solidity": 0.2
             }
            },
            "type": "bar"
           }
          ],
          "barpolar": [
           {
            "marker": {
             "line": {
              "color": "#E5ECF6",
              "width": 0.5
             },
             "pattern": {
              "fillmode": "overlay",
              "size": 10,
              "solidity": 0.2
             }
            },
            "type": "barpolar"
           }
          ],
          "carpet": [
           {
            "aaxis": {
             "endlinecolor": "#2a3f5f",
             "gridcolor": "white",
             "linecolor": "white",
             "minorgridcolor": "white",
             "startlinecolor": "#2a3f5f"
            },
            "baxis": {
             "endlinecolor": "#2a3f5f",
             "gridcolor": "white",
             "linecolor": "white",
             "minorgridcolor": "white",
             "startlinecolor": "#2a3f5f"
            },
            "type": "carpet"
           }
          ],
          "choropleth": [
           {
            "colorbar": {
             "outlinewidth": 0,
             "ticks": ""
            },
            "type": "choropleth"
           }
          ],
          "contour": [
           {
            "colorbar": {
             "outlinewidth": 0,
             "ticks": ""
            },
            "colorscale": [
             [
              0,
              "#0d0887"
             ],
             [
              0.1111111111111111,
              "#46039f"
             ],
             [
              0.2222222222222222,
              "#7201a8"
             ],
             [
              0.3333333333333333,
              "#9c179e"
             ],
             [
              0.4444444444444444,
              "#bd3786"
             ],
             [
              0.5555555555555556,
              "#d8576b"
             ],
             [
              0.6666666666666666,
              "#ed7953"
             ],
             [
              0.7777777777777778,
              "#fb9f3a"
             ],
             [
              0.8888888888888888,
              "#fdca26"
             ],
             [
              1,
              "#f0f921"
             ]
            ],
            "type": "contour"
           }
          ],
          "contourcarpet": [
           {
            "colorbar": {
             "outlinewidth": 0,
             "ticks": ""
            },
            "type": "contourcarpet"
           }
          ],
          "heatmap": [
           {
            "colorbar": {
             "outlinewidth": 0,
             "ticks": ""
            },
            "colorscale": [
             [
              0,
              "#0d0887"
             ],
             [
              0.1111111111111111,
              "#46039f"
             ],
             [
              0.2222222222222222,
              "#7201a8"
             ],
             [
              0.3333333333333333,
              "#9c179e"
             ],
             [
              0.4444444444444444,
              "#bd3786"
             ],
             [
              0.5555555555555556,
              "#d8576b"
             ],
             [
              0.6666666666666666,
              "#ed7953"
             ],
             [
              0.7777777777777778,
              "#fb9f3a"
             ],
             [
              0.8888888888888888,
              "#fdca26"
             ],
             [
              1,
              "#f0f921"
             ]
            ],
            "type": "heatmap"
           }
          ],
          "heatmapgl": [
           {
            "colorbar": {
             "outlinewidth": 0,
             "ticks": ""
            },
            "colorscale": [
             [
              0,
              "#0d0887"
             ],
             [
              0.1111111111111111,
              "#46039f"
             ],
             [
              0.2222222222222222,
              "#7201a8"
             ],
             [
              0.3333333333333333,
              "#9c179e"
             ],
             [
              0.4444444444444444,
              "#bd3786"
             ],
             [
              0.5555555555555556,
              "#d8576b"
             ],
             [
              0.6666666666666666,
              "#ed7953"
             ],
             [
              0.7777777777777778,
              "#fb9f3a"
             ],
             [
              0.8888888888888888,
              "#fdca26"
             ],
             [
              1,
              "#f0f921"
             ]
            ],
            "type": "heatmapgl"
           }
          ],
          "histogram": [
           {
            "marker": {
             "pattern": {
              "fillmode": "overlay",
              "size": 10,
              "solidity": 0.2
             }
            },
            "type": "histogram"
           }
          ],
          "histogram2d": [
           {
            "colorbar": {
             "outlinewidth": 0,
             "ticks": ""
            },
            "colorscale": [
             [
              0,
              "#0d0887"
             ],
             [
              0.1111111111111111,
              "#46039f"
             ],
             [
              0.2222222222222222,
              "#7201a8"
             ],
             [
              0.3333333333333333,
              "#9c179e"
             ],
             [
              0.4444444444444444,
              "#bd3786"
             ],
             [
              0.5555555555555556,
              "#d8576b"
             ],
             [
              0.6666666666666666,
              "#ed7953"
             ],
             [
              0.7777777777777778,
              "#fb9f3a"
             ],
             [
              0.8888888888888888,
              "#fdca26"
             ],
             [
              1,
              "#f0f921"
             ]
            ],
            "type": "histogram2d"
           }
          ],
          "histogram2dcontour": [
           {
            "colorbar": {
             "outlinewidth": 0,
             "ticks": ""
            },
            "colorscale": [
             [
              0,
              "#0d0887"
             ],
             [
              0.1111111111111111,
              "#46039f"
             ],
             [
              0.2222222222222222,
              "#7201a8"
             ],
             [
              0.3333333333333333,
              "#9c179e"
             ],
             [
              0.4444444444444444,
              "#bd3786"
             ],
             [
              0.5555555555555556,
              "#d8576b"
             ],
             [
              0.6666666666666666,
              "#ed7953"
             ],
             [
              0.7777777777777778,
              "#fb9f3a"
             ],
             [
              0.8888888888888888,
              "#fdca26"
             ],
             [
              1,
              "#f0f921"
             ]
            ],
            "type": "histogram2dcontour"
           }
          ],
          "mesh3d": [
           {
            "colorbar": {
             "outlinewidth": 0,
             "ticks": ""
            },
            "type": "mesh3d"
           }
          ],
          "parcoords": [
           {
            "line": {
             "colorbar": {
              "outlinewidth": 0,
              "ticks": ""
             }
            },
            "type": "parcoords"
           }
          ],
          "pie": [
           {
            "automargin": true,
            "type": "pie"
           }
          ],
          "scatter": [
           {
            "fillpattern": {
             "fillmode": "overlay",
             "size": 10,
             "solidity": 0.2
            },
            "type": "scatter"
           }
          ],
          "scatter3d": [
           {
            "line": {
             "colorbar": {
              "outlinewidth": 0,
              "ticks": ""
             }
            },
            "marker": {
             "colorbar": {
              "outlinewidth": 0,
              "ticks": ""
             }
            },
            "type": "scatter3d"
           }
          ],
          "scattercarpet": [
           {
            "marker": {
             "colorbar": {
              "outlinewidth": 0,
              "ticks": ""
             }
            },
            "type": "scattercarpet"
           }
          ],
          "scattergeo": [
           {
            "marker": {
             "colorbar": {
              "outlinewidth": 0,
              "ticks": ""
             }
            },
            "type": "scattergeo"
           }
          ],
          "scattergl": [
           {
            "marker": {
             "colorbar": {
              "outlinewidth": 0,
              "ticks": ""
             }
            },
            "type": "scattergl"
           }
          ],
          "scattermapbox": [
           {
            "marker": {
             "colorbar": {
              "outlinewidth": 0,
              "ticks": ""
             }
            },
            "type": "scattermapbox"
           }
          ],
          "scatterpolar": [
           {
            "marker": {
             "colorbar": {
              "outlinewidth": 0,
              "ticks": ""
             }
            },
            "type": "scatterpolar"
           }
          ],
          "scatterpolargl": [
           {
            "marker": {
             "colorbar": {
              "outlinewidth": 0,
              "ticks": ""
             }
            },
            "type": "scatterpolargl"
           }
          ],
          "scatterternary": [
           {
            "marker": {
             "colorbar": {
              "outlinewidth": 0,
              "ticks": ""
             }
            },
            "type": "scatterternary"
           }
          ],
          "surface": [
           {
            "colorbar": {
             "outlinewidth": 0,
             "ticks": ""
            },
            "colorscale": [
             [
              0,
              "#0d0887"
             ],
             [
              0.1111111111111111,
              "#46039f"
             ],
             [
              0.2222222222222222,
              "#7201a8"
             ],
             [
              0.3333333333333333,
              "#9c179e"
             ],
             [
              0.4444444444444444,
              "#bd3786"
             ],
             [
              0.5555555555555556,
              "#d8576b"
             ],
             [
              0.6666666666666666,
              "#ed7953"
             ],
             [
              0.7777777777777778,
              "#fb9f3a"
             ],
             [
              0.8888888888888888,
              "#fdca26"
             ],
             [
              1,
              "#f0f921"
             ]
            ],
            "type": "surface"
           }
          ],
          "table": [
           {
            "cells": {
             "fill": {
              "color": "#EBF0F8"
             },
             "line": {
              "color": "white"
             }
            },
            "header": {
             "fill": {
              "color": "#C8D4E3"
             },
             "line": {
              "color": "white"
             }
            },
            "type": "table"
           }
          ]
         },
         "layout": {
          "annotationdefaults": {
           "arrowcolor": "#2a3f5f",
           "arrowhead": 0,
           "arrowwidth": 1
          },
          "autotypenumbers": "strict",
          "coloraxis": {
           "colorbar": {
            "outlinewidth": 0,
            "ticks": ""
           }
          },
          "colorscale": {
           "diverging": [
            [
             0,
             "#8e0152"
            ],
            [
             0.1,
             "#c51b7d"
            ],
            [
             0.2,
             "#de77ae"
            ],
            [
             0.3,
             "#f1b6da"
            ],
            [
             0.4,
             "#fde0ef"
            ],
            [
             0.5,
             "#f7f7f7"
            ],
            [
             0.6,
             "#e6f5d0"
            ],
            [
             0.7,
             "#b8e186"
            ],
            [
             0.8,
             "#7fbc41"
            ],
            [
             0.9,
             "#4d9221"
            ],
            [
             1,
             "#276419"
            ]
           ],
           "sequential": [
            [
             0,
             "#0d0887"
            ],
            [
             0.1111111111111111,
             "#46039f"
            ],
            [
             0.2222222222222222,
             "#7201a8"
            ],
            [
             0.3333333333333333,
             "#9c179e"
            ],
            [
             0.4444444444444444,
             "#bd3786"
            ],
            [
             0.5555555555555556,
             "#d8576b"
            ],
            [
             0.6666666666666666,
             "#ed7953"
            ],
            [
             0.7777777777777778,
             "#fb9f3a"
            ],
            [
             0.8888888888888888,
             "#fdca26"
            ],
            [
             1,
             "#f0f921"
            ]
           ],
           "sequentialminus": [
            [
             0,
             "#0d0887"
            ],
            [
             0.1111111111111111,
             "#46039f"
            ],
            [
             0.2222222222222222,
             "#7201a8"
            ],
            [
             0.3333333333333333,
             "#9c179e"
            ],
            [
             0.4444444444444444,
             "#bd3786"
            ],
            [
             0.5555555555555556,
             "#d8576b"
            ],
            [
             0.6666666666666666,
             "#ed7953"
            ],
            [
             0.7777777777777778,
             "#fb9f3a"
            ],
            [
             0.8888888888888888,
             "#fdca26"
            ],
            [
             1,
             "#f0f921"
            ]
           ]
          },
          "colorway": [
           "#636efa",
           "#EF553B",
           "#00cc96",
           "#ab63fa",
           "#FFA15A",
           "#19d3f3",
           "#FF6692",
           "#B6E880",
           "#FF97FF",
           "#FECB52"
          ],
          "font": {
           "color": "#2a3f5f"
          },
          "geo": {
           "bgcolor": "white",
           "lakecolor": "white",
           "landcolor": "#E5ECF6",
           "showlakes": true,
           "showland": true,
           "subunitcolor": "white"
          },
          "hoverlabel": {
           "align": "left"
          },
          "hovermode": "closest",
          "mapbox": {
           "style": "light"
          },
          "paper_bgcolor": "white",
          "plot_bgcolor": "#E5ECF6",
          "polar": {
           "angularaxis": {
            "gridcolor": "white",
            "linecolor": "white",
            "ticks": ""
           },
           "bgcolor": "#E5ECF6",
           "radialaxis": {
            "gridcolor": "white",
            "linecolor": "white",
            "ticks": ""
           }
          },
          "scene": {
           "xaxis": {
            "backgroundcolor": "#E5ECF6",
            "gridcolor": "white",
            "gridwidth": 2,
            "linecolor": "white",
            "showbackground": true,
            "ticks": "",
            "zerolinecolor": "white"
           },
           "yaxis": {
            "backgroundcolor": "#E5ECF6",
            "gridcolor": "white",
            "gridwidth": 2,
            "linecolor": "white",
            "showbackground": true,
            "ticks": "",
            "zerolinecolor": "white"
           },
           "zaxis": {
            "backgroundcolor": "#E5ECF6",
            "gridcolor": "white",
            "gridwidth": 2,
            "linecolor": "white",
            "showbackground": true,
            "ticks": "",
            "zerolinecolor": "white"
           }
          },
          "shapedefaults": {
           "line": {
            "color": "#2a3f5f"
           }
          },
          "ternary": {
           "aaxis": {
            "gridcolor": "white",
            "linecolor": "white",
            "ticks": ""
           },
           "baxis": {
            "gridcolor": "white",
            "linecolor": "white",
            "ticks": ""
           },
           "bgcolor": "#E5ECF6",
           "caxis": {
            "gridcolor": "white",
            "linecolor": "white",
            "ticks": ""
           }
          },
          "title": {
           "x": 0.05
          },
          "xaxis": {
           "automargin": true,
           "gridcolor": "white",
           "linecolor": "white",
           "ticks": "",
           "title": {
            "standoff": 15
           },
           "zerolinecolor": "white",
           "zerolinewidth": 2
          },
          "yaxis": {
           "automargin": true,
           "gridcolor": "white",
           "linecolor": "white",
           "ticks": "",
           "title": {
            "standoff": 15
           },
           "zerolinecolor": "white",
           "zerolinewidth": 2
          }
         }
        },
        "title": {
         "font": {
          "size": 20
         },
         "text": "The Warriors of Kyoshi",
         "x": 0.5
        },
        "xaxis": {
         "autorange": true,
         "range": [
          1,
          419
         ],
         "showgrid": false,
         "showticklabels": false,
         "type": "linear"
        },
        "yaxis": {
         "autorange": true,
         "range": [
          -18.88888888888889,
          18.88888888888889
         ],
         "showgrid": false,
         "showticklabels": false,
         "type": "linear"
        }
       }
      },
      "image/png": "[encoded data removed]",
      "text/html": [
       "<div>                            <div id=\"2dc5c0a6-2df4-4ab8-b20a-fde716d3c590\" class=\"plotly-graph-div\" style=\"height:525px; width:100%;\"></div>            <script type=\"text/javascript\">                require([\"plotly\"], function(Plotly) {                    window.PLOTLYENV=window.PLOTLYENV || {};                                    if (document.getElementById(\"2dc5c0a6-2df4-4ab8-b20a-fde716d3c590\")) {                    Plotly.newPlot(                        \"2dc5c0a6-2df4-4ab8-b20a-fde716d3c590\",                        [{\"hoverinfo\":\"text\",\"hovertext\":\"Zuko: The only reason you should be interrupting me, is if you have news about the Avatar.\",\"line\":{\"color\":\"#D46627\",\"width\":2},\"mode\":\"lines\",\"showlegend\":false,\"x\":[1,1],\"y\":[8.0,-8.0],\"type\":\"scatter\"},{\"hoverinfo\":\"text\",\"hovertext\":\"Iroh: Well, there is news, Prince Zuko, but you might not like it. Don't get too upset.\",\"line\":{\"color\":\"#D46627\",\"width\":2},\"mode\":\"lines\",\"showlegend\":false,\"x\":[3,3],\"y\":[8.0,-8.0],\"type\":\"scatter\"},{\"hoverinfo\":\"text\",\"hovertext\":\"Zuko: Uncle, you taught me that keeping a level head is a sign of a great leader. Now, whatever you have to say, I'm sure I can take it.\",\"line\":{\"color\":\"#D46627\",\"width\":2},\"mode\":\"lines\",\"showlegend\":false,\"x\":[5,5],\"y\":[14.0,-14.0],\"type\":\"scatter\"},{\"hoverinfo\":\"text\",\"hovertext\":\"Iroh: Okay then.  We have no idea where he is.\",\"line\":{\"color\":\"#D46627\",\"width\":2},\"mode\":\"lines\",\"showlegend\":false,\"x\":[7,7],\"y\":[4.5,-4.5],\"type\":\"scatter\"},{\"hoverinfo\":\"text\",\"hovertext\":\"Zuko: What!?\",\"line\":{\"color\":\"#D46627\",\"width\":2},\"mode\":\"lines\",\"showlegend\":false,\"x\":[9,9],\"y\":[0.5,-0.5],\"type\":\"scatter\"},{\"hoverinfo\":\"text\",\"hovertext\":\"Iroh: You really should open a window in here.\",\"line\":{\"color\":\"#D46627\",\"width\":2},\"mode\":\"lines\",\"showlegend\":false,\"x\":[11,11],\"y\":[4.0,-4.0],\"type\":\"scatter\"},{\"hoverinfo\":\"text\",\"hovertext\":\"Zuko: Give me the map!\",\"line\":{\"color\":\"#D46627\",\"width\":2},\"mode\":\"lines\",\"showlegend\":false,\"x\":[13,13],\"y\":[2.0,-2.0],\"type\":\"scatter\"},{\"hoverinfo\":\"text\",\"hovertext\":\"Iroh: Well, there have been multiple sightings of the Avatar, but he is impossible to track down.\",\"line\":{\"color\":\"#D46627\",\"width\":2},\"mode\":\"lines\",\"showlegend\":false,\"x\":[15,15],\"y\":[8.0,-8.0],\"type\":\"scatter\"},{\"hoverinfo\":\"text\",\"hovertext\":\"Zuko: How am I going to find him, Uncle?  He is clearly a master of evasive maneuvering.\",\"line\":{\"color\":\"#D46627\",\"width\":2},\"mode\":\"lines\",\"showlegend\":false,\"x\":[17,17],\"y\":[8.0,-8.0],\"type\":\"scatter\"},{\"hoverinfo\":\"text\",\"hovertext\":\"Sokka: You have no idea where you're going, do you?\",\"line\":{\"color\":\"#81D3E8\",\"width\":2},\"mode\":\"lines\",\"showlegend\":false,\"x\":[19,19],\"y\":[4.5,-4.5],\"type\":\"scatter\"},{\"hoverinfo\":\"text\",\"hovertext\":\"Aang: Well ...  I know it's near water.\",\"line\":{\"color\":\"#F9D672\",\"width\":2},\"mode\":\"lines\",\"showlegend\":false,\"x\":[21,21],\"y\":[3.5,-3.5],\"type\":\"scatter\"},{\"hoverinfo\":\"text\",\"hovertext\":\"Sokka: I guess we're getting close then.\",\"line\":{\"color\":\"#81D3E8\",\"width\":2},\"mode\":\"lines\",\"showlegend\":false,\"x\":[23,23],\"y\":[3.0,-3.0],\"type\":\"scatter\"},{\"hoverinfo\":\"text\",\"hovertext\":\"Aang: Momo, marbles please.  Hey Katara, check out this airbending trick!\",\"line\":{\"color\":\"#F9D672\",\"width\":2},\"mode\":\"lines\",\"showlegend\":false,\"x\":[25,25],\"y\":[5.0,-5.0],\"type\":\"scatter\"},{\"hoverinfo\":\"text\",\"hovertext\":\"Katara: That's great, Aang.\",\"line\":{\"color\":\"#81D3E8\",\"width\":2},\"mode\":\"lines\",\"showlegend\":false,\"x\":[27,27],\"y\":[1.5,-1.5],\"type\":\"scatter\"},{\"hoverinfo\":\"text\",\"hovertext\":\"Aang: You didn't even look.\",\"line\":{\"color\":\"#F9D672\",\"width\":2},\"mode\":\"lines\",\"showlegend\":false,\"x\":[29,29],\"y\":[2.0,-2.0],\"type\":\"scatter\"},{\"hoverinfo\":\"text\",\"hovertext\":\"Katara: That's great!\",\"line\":{\"color\":\"#81D3E8\",\"width\":2},\"mode\":\"lines\",\"showlegend\":false,\"x\":[31,31],\"y\":[1.0,-1.0],\"type\":\"scatter\"},{\"hoverinfo\":\"text\",\"hovertext\":\"Aang: But I'm not doing it now.\",\"line\":{\"color\":\"#F9D672\",\"width\":2},\"mode\":\"lines\",\"showlegend\":false,\"x\":[33,33],\"y\":[3.0,-3.0],\"type\":\"scatter\"},{\"hoverinfo\":\"text\",\"hovertext\":\"Sokka: Stop bugging her, airhead. You need to give girls space when they do their sewing.\",\"line\":{\"color\":\"#81D3E8\",\"width\":2},\"mode\":\"lines\",\"showlegend\":false,\"x\":[35,35],\"y\":[7.5,-7.5],\"type\":\"scatter\"},{\"hoverinfo\":\"text\",\"hovertext\":\"Katara: What does me being a girl have to do with sewing?\",\"line\":{\"color\":\"#81D3E8\",\"width\":2},\"mode\":\"lines\",\"showlegend\":false,\"x\":[37,37],\"y\":[5.5,-5.5],\"type\":\"scatter\"},{\"hoverinfo\":\"text\",\"hovertext\":\"Sokka: Simple. Girls are better at fixing pants than guys and guys are better at hunting and fighting and stuff like that.  It's just the natural order of things.\",\"line\":{\"color\":\"#81D3E8\",\"width\":2},\"mode\":\"lines\",\"showlegend\":false,\"x\":[39,39],\"y\":[14.0,-14.0],\"type\":\"scatter\"},{\"hoverinfo\":\"text\",\"hovertext\":\"Katara: All done with your pants!  And look what a great job I did!\",\"line\":{\"color\":\"#81D3E8\",\"width\":2},\"mode\":\"lines\",\"showlegend\":false,\"x\":[41,41],\"y\":[6.5,-6.5],\"type\":\"scatter\"},{\"hoverinfo\":\"text\",\"hovertext\":\"Sokka: Wait! I was just kidding.  I can't wear these! Katara, please!\",\"line\":{\"color\":\"#81D3E8\",\"width\":2},\"mode\":\"lines\",\"showlegend\":false,\"x\":[43,43],\"y\":[5.5,-5.5],\"type\":\"scatter\"},{\"hoverinfo\":\"text\",\"hovertext\":\"Aang: Relax, Sokka. Where we're going, you won't need any pants.\",\"line\":{\"color\":\"#F9D672\",\"width\":2},\"mode\":\"lines\",\"showlegend\":false,\"x\":[45,45],\"y\":[5.0,-5.0],\"type\":\"scatter\"},{\"hoverinfo\":\"text\",\"hovertext\":\"Sokka: We just made a pit stop yesterday. Shouldn't we get a little more flying done before we camp out?\",\"line\":{\"color\":\"#81D3E8\",\"width\":2},\"mode\":\"lines\",\"showlegend\":false,\"x\":[47,47],\"y\":[9.5,-9.5],\"type\":\"scatter\"},{\"hoverinfo\":\"text\",\"hovertext\":\"Katara: He's right. At this rate, we won't get to the North Pole until spring.\",\"line\":{\"color\":\"#81D3E8\",\"width\":2},\"mode\":\"lines\",\"showlegend\":false,\"x\":[49,49],\"y\":[7.0,-7.0],\"type\":\"scatter\"},{\"hoverinfo\":\"text\",\"hovertext\":\"Aang: But Appa's tired, aren't you boy?\",\"line\":{\"color\":\"#F9D672\",\"width\":2},\"mode\":\"lines\",\"showlegend\":false,\"x\":[51,51],\"y\":[3.0,-3.0],\"type\":\"scatter\"},{\"hoverinfo\":\"text\",\"hovertext\":\"Aang: I said, aren't you boy?\",\"line\":{\"color\":\"#F9D672\",\"width\":2},\"mode\":\"lines\",\"showlegend\":false,\"x\":[53,53],\"y\":[2.5,-2.5],\"type\":\"scatter\"},{\"hoverinfo\":\"text\",\"hovertext\":\"Sokka: Yeah, that was real convincing. Still, hard to argue with a ten-ton magical monster.\",\"line\":{\"color\":\"#81D3E8\",\"width\":2},\"mode\":\"lines\",\"showlegend\":false,\"x\":[55,55],\"y\":[7.0,-7.0],\"type\":\"scatter\"},{\"hoverinfo\":\"text\",\"hovertext\":\"Aang: Look!\",\"line\":{\"color\":\"#F9D672\",\"width\":2},\"mode\":\"lines\",\"showlegend\":false,\"x\":[57,57],\"y\":[0.5,-0.5],\"type\":\"scatter\"},{\"hoverinfo\":\"text\",\"hovertext\":\"Aang: That's why we're here.  Elephant koi, and I'm gonna ride it. Katara, you've got to watch me!\",\"line\":{\"color\":\"#F9D672\",\"width\":2},\"mode\":\"lines\",\"showlegend\":false,\"x\":[59,59],\"y\":[8.5,-8.5],\"type\":\"scatter\"},{\"hoverinfo\":\"text\",\"hovertext\":\"Aang: Cold!\",\"line\":{\"color\":\"#F9D672\",\"width\":2},\"mode\":\"lines\",\"showlegend\":false,\"x\":[61,61],\"y\":[0.5,-0.5],\"type\":\"scatter\"},{\"hoverinfo\":\"text\",\"hovertext\":\"Aang: Hahaha, hahaha!\",\"line\":{\"color\":\"#F9D672\",\"width\":2},\"mode\":\"lines\",\"showlegend\":false,\"x\":[63,63],\"y\":[1.0,-1.0],\"type\":\"scatter\"},{\"hoverinfo\":\"text\",\"hovertext\":\"Katara: Whooh!\",\"line\":{\"color\":\"#81D3E8\",\"width\":2},\"mode\":\"lines\",\"showlegend\":false,\"x\":[65,65],\"y\":[0.5,-0.5],\"type\":\"scatter\"},{\"hoverinfo\":\"text\",\"hovertext\":\"Katara: He looks pretty good out there.\",\"line\":{\"color\":\"#81D3E8\",\"width\":2},\"mode\":\"lines\",\"showlegend\":false,\"x\":[67,67],\"y\":[3.0,-3.0],\"type\":\"scatter\"},{\"hoverinfo\":\"text\",\"hovertext\":\"Sokka: Are you kidding?  The fish is doing all the work.\",\"line\":{\"color\":\"#81D3E8\",\"width\":2},\"mode\":\"lines\",\"showlegend\":false,\"x\":[69,69],\"y\":[5.0,-5.0],\"type\":\"scatter\"},{\"hoverinfo\":\"text\",\"hovertext\":\"Katara: No, Appa. Don't eat that!\",\"line\":{\"color\":\"#81D3E8\",\"width\":2},\"mode\":\"lines\",\"showlegend\":false,\"x\":[71,71],\"y\":[2.5,-2.5],\"type\":\"scatter\"},{\"hoverinfo\":\"text\",\"hovertext\":\"Aang: Oh man ...\",\"line\":{\"color\":\"#F9D672\",\"width\":2},\"mode\":\"lines\",\"showlegend\":false,\"x\":[73,73],\"y\":[1.5,-1.5],\"type\":\"scatter\"},{\"hoverinfo\":\"text\",\"hovertext\":\"Sokka: There's something in the water!\",\"line\":{\"color\":\"#81D3E8\",\"width\":2},\"mode\":\"lines\",\"showlegend\":false,\"x\":[75,75],\"y\":[2.5,-2.5],\"type\":\"scatter\"},{\"hoverinfo\":\"text\",\"hovertext\":\"Katara: What's wrong?\",\"line\":{\"color\":\"#81D3E8\",\"width\":2},\"mode\":\"lines\",\"showlegend\":false,\"x\":[77,77],\"y\":[1.0,-1.0],\"type\":\"scatter\"},{\"hoverinfo\":\"text\",\"hovertext\":\"Sokka: Aang's in trouble. Aang!\",\"line\":{\"color\":\"#81D3E8\",\"width\":2},\"mode\":\"lines\",\"showlegend\":false,\"x\":[79,79],\"y\":[2.0,-2.0],\"type\":\"scatter\"},{\"hoverinfo\":\"text\",\"hovertext\":\"Katara: Get out of there!\",\"line\":{\"color\":\"#81D3E8\",\"width\":2},\"mode\":\"lines\",\"showlegend\":false,\"x\":[81,81],\"y\":[2.0,-2.0],\"type\":\"scatter\"},{\"hoverinfo\":\"text\",\"hovertext\":\"Sokka: Get back here, Aang!\",\"line\":{\"color\":\"#81D3E8\",\"width\":2},\"mode\":\"lines\",\"showlegend\":false,\"x\":[83,83],\"y\":[2.0,-2.0],\"type\":\"scatter\"},{\"hoverinfo\":\"text\",\"hovertext\":\"Aang: Whaaaahh! Aaaah!\",\"line\":{\"color\":\"#F9D672\",\"width\":2},\"mode\":\"lines\",\"showlegend\":false,\"x\":[85,85],\"y\":[1.0,-1.0],\"type\":\"scatter\"},{\"hoverinfo\":\"text\",\"hovertext\":\"Aang: Whaaaahh!\",\"line\":{\"color\":\"#F9D672\",\"width\":2},\"mode\":\"lines\",\"showlegend\":false,\"x\":[87,87],\"y\":[0.5,-0.5],\"type\":\"scatter\"},{\"hoverinfo\":\"text\",\"hovertext\":\"Katara: What was that thing?\",\"line\":{\"color\":\"#81D3E8\",\"width\":2},\"mode\":\"lines\",\"showlegend\":false,\"x\":[89,89],\"y\":[2.0,-2.0],\"type\":\"scatter\"},{\"hoverinfo\":\"text\",\"hovertext\":\"Aang: I don't know.\",\"line\":{\"color\":\"#F9D672\",\"width\":2},\"mode\":\"lines\",\"showlegend\":false,\"x\":[91,91],\"y\":[1.5,-1.5],\"type\":\"scatter\"},{\"hoverinfo\":\"text\",\"hovertext\":\"Sokka: Well, let's not stick around to find out. Time to hit the road.\",\"line\":{\"color\":\"#81D3E8\",\"width\":2},\"mode\":\"lines\",\"showlegend\":false,\"x\":[93,93],\"y\":[6.5,-6.5],\"type\":\"scatter\"},{\"hoverinfo\":\"text\",\"hovertext\":\"Sokka: Or, we could stay a while.\",\"line\":{\"color\":\"#81D3E8\",\"width\":2},\"mode\":\"lines\",\"showlegend\":false,\"x\":[95,95],\"y\":[3.0,-3.0],\"type\":\"scatter\"},{\"hoverinfo\":\"text\",\"hovertext\":\"Oyaji: You three have some explaining to do.\",\"line\":{\"color\":\"#848587\",\"width\":2},\"mode\":\"lines\",\"showlegend\":false,\"x\":[97,97],\"y\":[3.5,-3.5],\"type\":\"scatter\"},{\"hoverinfo\":\"text\",\"hovertext\":\"Suki: And if you don't answer all our questions, we're throwing you back in the water with the Unagi.\",\"line\":{\"color\":\"#729F3D\",\"width\":2},\"mode\":\"lines\",\"showlegend\":false,\"x\":[99,99],\"y\":[9.0,-9.0],\"type\":\"scatter\"},{\"hoverinfo\":\"text\",\"hovertext\":\"Sokka: Show yourselves, cowards!\",\"line\":{\"color\":\"#81D3E8\",\"width\":2},\"mode\":\"lines\",\"showlegend\":false,\"x\":[101,101],\"y\":[1.5,-1.5],\"type\":\"scatter\"},{\"hoverinfo\":\"text\",\"hovertext\":\"Sokka: Who are you? Where are the men who ambushed us?\",\"line\":{\"color\":\"#81D3E8\",\"width\":2},\"mode\":\"lines\",\"showlegend\":false,\"x\":[103,103],\"y\":[5.0,-5.0],\"type\":\"scatter\"},{\"hoverinfo\":\"text\",\"hovertext\":\"Suki: There were no men. We ambushed you. Now tell us, who are you and what are you doing here?\",\"line\":{\"color\":\"#729F3D\",\"width\":2},\"mode\":\"lines\",\"showlegend\":false,\"x\":[105,105],\"y\":[9.5,-9.5],\"type\":\"scatter\"},{\"hoverinfo\":\"text\",\"hovertext\":\"Sokka: Wait a second,  there's no way that a bunch of girls took us down.\",\"line\":{\"color\":\"#81D3E8\",\"width\":2},\"mode\":\"lines\",\"showlegend\":false,\"x\":[107,107],\"y\":[7.0,-7.0],\"type\":\"scatter\"},{\"hoverinfo\":\"text\",\"hovertext\":\"Suki: A bunch of girls, huh? The Unagi's gonna eat well tonight.\",\"line\":{\"color\":\"#729F3D\",\"width\":2},\"mode\":\"lines\",\"showlegend\":false,\"x\":[109,109],\"y\":[5.5,-5.5],\"type\":\"scatter\"},{\"hoverinfo\":\"text\",\"hovertext\":\"Katara: No, don't hurt him! He didn't mean it. My brother is just an idiot sometimes.\",\"line\":{\"color\":\"#81D3E8\",\"width\":2},\"mode\":\"lines\",\"showlegend\":false,\"x\":[111,111],\"y\":[7.5,-7.5],\"type\":\"scatter\"},{\"hoverinfo\":\"text\",\"hovertext\":\"Aang: It's my fault.  I'm sorry we came here. I wanted to ride the elephant koi.\",\"line\":{\"color\":\"#F9D672\",\"width\":2},\"mode\":\"lines\",\"showlegend\":false,\"x\":[113,113],\"y\":[7.5,-7.5],\"type\":\"scatter\"},{\"hoverinfo\":\"text\",\"hovertext\":\"Oyaji: How do we know you're not  Fire Nation spies? Kyoshi stayed out of the war so far. And we intend to keep it that way!\",\"line\":{\"color\":\"#848587\",\"width\":2},\"mode\":\"lines\",\"showlegend\":false,\"x\":[115,115],\"y\":[12.5,-12.5],\"type\":\"scatter\"},{\"hoverinfo\":\"text\",\"hovertext\":\"Aang: This island is named for Kyoshi? I know Kyoshi!\",\"line\":{\"color\":\"#F9D672\",\"width\":2},\"mode\":\"lines\",\"showlegend\":false,\"x\":[117,117],\"y\":[4.5,-4.5],\"type\":\"scatter\"},{\"hoverinfo\":\"text\",\"hovertext\":\"Oyaji: Ha! How could you possibly know her?\",\"line\":{\"color\":\"#848587\",\"width\":2},\"mode\":\"lines\",\"showlegend\":false,\"x\":[119,119],\"y\":[3.5,-3.5],\"type\":\"scatter\"},{\"hoverinfo\":\"text\",\"hovertext\":\"Oyaji: Avatar Kyoshi was born here four hundred years ago.  She's been dead for centuries.\",\"line\":{\"color\":\"#848587\",\"width\":2},\"mode\":\"lines\",\"showlegend\":false,\"x\":[121,121],\"y\":[7.0,-7.0],\"type\":\"scatter\"},{\"hoverinfo\":\"text\",\"hovertext\":\"Aang: I know her because I'm the Avatar.\",\"line\":{\"color\":\"#F9D672\",\"width\":2},\"mode\":\"lines\",\"showlegend\":false,\"x\":[123,123],\"y\":[3.5,-3.5],\"type\":\"scatter\"},{\"hoverinfo\":\"text\",\"hovertext\":\"Suki: That's impossible! The last Avatar was an airbender who disappeared a hundred years ago.\",\"line\":{\"color\":\"#729F3D\",\"width\":2},\"mode\":\"lines\",\"showlegend\":false,\"x\":[125,125],\"y\":[7.0,-7.0],\"type\":\"scatter\"},{\"hoverinfo\":\"text\",\"hovertext\":\"Aang: That's me!\",\"line\":{\"color\":\"#F9D672\",\"width\":2},\"mode\":\"lines\",\"showlegend\":false,\"x\":[127,127],\"y\":[1.0,-1.0],\"type\":\"scatter\"},{\"hoverinfo\":\"text\",\"hovertext\":\"Oyaji: Throw the impostor to the Unagi!\",\"line\":{\"color\":\"#848587\",\"width\":2},\"mode\":\"lines\",\"showlegend\":false,\"x\":[129,129],\"y\":[3.0,-3.0],\"type\":\"scatter\"},{\"hoverinfo\":\"text\",\"hovertext\":\"Katara: Aang ... do some airbending.\",\"line\":{\"color\":\"#81D3E8\",\"width\":2},\"mode\":\"lines\",\"showlegend\":false,\"x\":[131,131],\"y\":[2.5,-2.5],\"type\":\"scatter\"},{\"hoverinfo\":\"text\",\"hovertext\":\"Spectators: Wow! Did you see that? Airbender!\",\"line\":{\"color\":\"#848587\",\"width\":2},\"mode\":\"lines\",\"showlegend\":false,\"x\":[133,133],\"y\":[3.0,-3.0],\"type\":\"scatter\"},{\"hoverinfo\":\"text\",\"hovertext\":\"Oyaji: It's true ... you are the Avatar!\",\"line\":{\"color\":\"#848587\",\"width\":2},\"mode\":\"lines\",\"showlegend\":false,\"x\":[135,135],\"y\":[3.5,-3.5],\"type\":\"scatter\"},{\"hoverinfo\":\"text\",\"hovertext\":\"Aang: Now ...  check this out!\",\"line\":{\"color\":\"#F9D672\",\"width\":2},\"mode\":\"lines\",\"showlegend\":false,\"x\":[137,137],\"y\":[2.5,-2.5],\"type\":\"scatter\"},{\"hoverinfo\":\"text\",\"hovertext\":\"Little girl: Did you hear the news?  The Avatar's on Kyoshi!\",\"line\":{\"color\":\"#848587\",\"width\":2},\"mode\":\"lines\",\"showlegend\":false,\"x\":[139,139],\"y\":[4.5,-4.5],\"type\":\"scatter\"},{\"hoverinfo\":\"text\",\"hovertext\":\"Fisherman: Huh?\",\"line\":{\"color\":\"#848587\",\"width\":2},\"mode\":\"lines\",\"showlegend\":false,\"x\":[141,141],\"y\":[0.5,-0.5],\"type\":\"scatter\"},{\"hoverinfo\":\"text\",\"hovertext\":\"Zuko: The Avatar's on Kyoshi Island?  Uncle, ready the rhinos. He's not getting away from me this time.\",\"line\":{\"color\":\"#D46627\",\"width\":2},\"mode\":\"lines\",\"showlegend\":false,\"x\":[143,143],\"y\":[8.5,-8.5],\"type\":\"scatter\"},{\"hoverinfo\":\"text\",\"hovertext\":\"Iroh: Are you going to finish that?\",\"line\":{\"color\":\"#D46627\",\"width\":2},\"mode\":\"lines\",\"showlegend\":false,\"x\":[145,145],\"y\":[3.0,-3.0],\"type\":\"scatter\"},{\"hoverinfo\":\"text\",\"hovertext\":\"Zuko: I was going to save it for later!\",\"line\":{\"color\":\"#D46627\",\"width\":2},\"mode\":\"lines\",\"showlegend\":false,\"x\":[147,147],\"y\":[4.0,-4.0],\"type\":\"scatter\"},{\"hoverinfo\":\"text\",\"hovertext\":\"Aang: All right! Dessert for breakfast!\",\"line\":{\"color\":\"#F9D672\",\"width\":2},\"mode\":\"lines\",\"showlegend\":false,\"x\":[149,149],\"y\":[2.5,-2.5],\"type\":\"scatter\"},{\"hoverinfo\":\"text\",\"hovertext\":\"Aang: These people sure know  how to treat an Avatar!\",\"line\":{\"color\":\"#F9D672\",\"width\":2},\"mode\":\"lines\",\"showlegend\":false,\"x\":[151,151],\"y\":[4.5,-4.5],\"type\":\"scatter\"},{\"hoverinfo\":\"text\",\"hovertext\":\"Aang: Mmm ...  Katara you've got to try these!\",\"line\":{\"color\":\"#F9D672\",\"width\":2},\"mode\":\"lines\",\"showlegend\":false,\"x\":[153,153],\"y\":[4.0,-4.0],\"type\":\"scatter\"},{\"hoverinfo\":\"text\",\"hovertext\":\"Katara: Well, maybe just a bite.\",\"line\":{\"color\":\"#81D3E8\",\"width\":2},\"mode\":\"lines\",\"showlegend\":false,\"x\":[155,155],\"y\":[2.5,-2.5],\"type\":\"scatter\"},{\"hoverinfo\":\"text\",\"hovertext\":\"Aang: Sokka, what's your problem? Eat!\",\"line\":{\"color\":\"#F9D672\",\"width\":2},\"mode\":\"lines\",\"showlegend\":false,\"x\":[157,157],\"y\":[2.5,-2.5],\"type\":\"scatter\"},{\"hoverinfo\":\"text\",\"hovertext\":\"Sokka: Not hungry.\",\"line\":{\"color\":\"#81D3E8\",\"width\":2},\"mode\":\"lines\",\"showlegend\":false,\"x\":[159,159],\"y\":[1.0,-1.0],\"type\":\"scatter\"},{\"hoverinfo\":\"text\",\"hovertext\":\"Aang: But you're always hungry!\",\"line\":{\"color\":\"#F9D672\",\"width\":2},\"mode\":\"lines\",\"showlegend\":false,\"x\":[161,161],\"y\":[2.0,-2.0],\"type\":\"scatter\"},{\"hoverinfo\":\"text\",\"hovertext\":\"Katara: He's just upset because a bunch of girls kicked his butt yesterday.\",\"line\":{\"color\":\"#81D3E8\",\"width\":2},\"mode\":\"lines\",\"showlegend\":false,\"x\":[163,163],\"y\":[6.0,-6.0],\"type\":\"scatter\"},{\"hoverinfo\":\"text\",\"hovertext\":\"Sokka: They snuck up on me!\",\"line\":{\"color\":\"#81D3E8\",\"width\":2},\"mode\":\"lines\",\"showlegend\":false,\"x\":[165,165],\"y\":[2.5,-2.5],\"type\":\"scatter\"},{\"hoverinfo\":\"text\",\"hovertext\":\"Katara: Right. And then they kicked your butt.\",\"line\":{\"color\":\"#81D3E8\",\"width\":2},\"mode\":\"lines\",\"showlegend\":false,\"x\":[167,167],\"y\":[3.5,-3.5],\"type\":\"scatter\"},{\"hoverinfo\":\"text\",\"hovertext\":\"Sokka: Sneak attacks don't count!  Tie me up with ropes! I'll show them a thing or two.  I'm not scared of any girls.  Who do they think they are anyway?  Mmm ... this is tasty.\",\"line\":{\"color\":\"#81D3E8\",\"width\":2},\"mode\":\"lines\",\"showlegend\":false,\"x\":[169,169],\"y\":[17.0,-17.0],\"type\":\"scatter\"},{\"hoverinfo\":\"text\",\"hovertext\":\"Aang: What's he so angry about?  It's great here. They're giving us the royal treatment!\",\"line\":{\"color\":\"#F9D672\",\"width\":2},\"mode\":\"lines\",\"showlegend\":false,\"x\":[171,171],\"y\":[7.0,-7.0],\"type\":\"scatter\"},{\"hoverinfo\":\"text\",\"hovertext\":\"Katara: Hey, don't get too comfortable. It's risky for us to stay in one place for very long.\",\"line\":{\"color\":\"#81D3E8\",\"width\":2},\"mode\":\"lines\",\"showlegend\":false,\"x\":[173,173],\"y\":[8.5,-8.5],\"type\":\"scatter\"},{\"hoverinfo\":\"text\",\"hovertext\":\"Aang: I'm sure we'll be fine.  Besides, did you see how happy I'm making this town?  They're even cleaning up that statue in my honor!\",\"line\":{\"color\":\"#F9D672\",\"width\":2},\"mode\":\"lines\",\"showlegend\":false,\"x\":[175,175],\"y\":[12.0,-12.0],\"type\":\"scatter\"},{\"hoverinfo\":\"text\",\"hovertext\":\"Katara: Well, it's nice to see you excited about being the Avatar.  I just hope it doesn't all go to your head.\",\"line\":{\"color\":\"#81D3E8\",\"width\":2},\"mode\":\"lines\",\"showlegend\":false,\"x\":[177,177],\"y\":[10.5,-10.5],\"type\":\"scatter\"},{\"hoverinfo\":\"text\",\"hovertext\":\"Aang: Come on, you know me better than that. I'm just a simple monk.\",\"line\":{\"color\":\"#F9D672\",\"width\":2},\"mode\":\"lines\",\"showlegend\":false,\"x\":[179,179],\"y\":[6.5,-6.5],\"type\":\"scatter\"},{\"hoverinfo\":\"text\",\"hovertext\":\"Painter: Hmmm ... Painting the Avatar ... that's easy enough ...  Oh, there's another one ...  Well, I'll make an adjustment here, and ...  There's more ...  well that ...\",\"line\":{\"color\":\"#848587\",\"width\":2},\"mode\":\"lines\",\"showlegend\":false,\"x\":[181,181],\"y\":[14.5,-14.5],\"type\":\"scatter\"},{\"hoverinfo\":\"text\",\"hovertext\":\"Sokka: I can't believe I got beat up by a bunch of girls.\",\"line\":{\"color\":\"#81D3E8\",\"width\":2},\"mode\":\"lines\",\"showlegend\":false,\"x\":[183,183],\"y\":[6.0,-6.0],\"type\":\"scatter\"},{\"hoverinfo\":\"text\",\"hovertext\":\"Sokka: Sorry ladies,  didn't mean to interrupt your dance lesson.  I was just looking for somewhere to get a little workout?\",\"line\":{\"color\":\"#81D3E8\",\"width\":2},\"mode\":\"lines\",\"showlegend\":false,\"x\":[185,185],\"y\":[10.0,-10.0],\"type\":\"scatter\"},{\"hoverinfo\":\"text\",\"hovertext\":\"Suki: Well, you're in the right place.  Sorry about yesterday. I didn't know that you were friends with the Avatar.\",\"line\":{\"color\":\"#729F3D\",\"width\":2},\"mode\":\"lines\",\"showlegend\":false,\"x\":[187,187],\"y\":[9.5,-9.5],\"type\":\"scatter\"},{\"hoverinfo\":\"text\",\"hovertext\":\"Sokka: It's all right.  I mean, normally I'd hold a grudge, but seeing as you guys are a bunch of girls, I'll make an exception.\",\"line\":{\"color\":\"#81D3E8\",\"width\":2},\"mode\":\"lines\",\"showlegend\":false,\"x\":[189,189],\"y\":[12.0,-12.0],\"type\":\"scatter\"},{\"hoverinfo\":\"text\",\"hovertext\":\"Suki: I should hope so. A big strong man like you? We wouldn't stand a chance.\",\"line\":{\"color\":\"#729F3D\",\"width\":2},\"mode\":\"lines\",\"showlegend\":false,\"x\":[191,191],\"y\":[7.5,-7.5],\"type\":\"scatter\"},{\"hoverinfo\":\"text\",\"hovertext\":\"Sokka: True. But don't feel bad. After all, I'm the best warrior in my village.\",\"line\":{\"color\":\"#81D3E8\",\"width\":2},\"mode\":\"lines\",\"showlegend\":false,\"x\":[193,193],\"y\":[7.0,-7.0],\"type\":\"scatter\"},{\"hoverinfo\":\"text\",\"hovertext\":\"Suki: Wow! Best warrior, huh?  In your whole village?  Maybe you'd be kind enough to give us a little demonstration.\",\"line\":{\"color\":\"#729F3D\",\"width\":2},\"mode\":\"lines\",\"showlegend\":false,\"x\":[195,195],\"y\":[9.5,-9.5],\"type\":\"scatter\"},{\"hoverinfo\":\"text\",\"hovertext\":\"Sokka: Oh ... Well ... I mean ... I ...\",\"line\":{\"color\":\"#81D3E8\",\"width\":2},\"mode\":\"lines\",\"showlegend\":false,\"x\":[197,197],\"y\":[4.5,-4.5],\"type\":\"scatter\"},{\"hoverinfo\":\"text\",\"hovertext\":\"Suki: Come on, girls! Wouldn't you like him to show us some moves?\",\"line\":{\"color\":\"#729F3D\",\"width\":2},\"mode\":\"lines\",\"showlegend\":false,\"x\":[199,199],\"y\":[6.0,-6.0],\"type\":\"scatter\"},{\"hoverinfo\":\"text\",\"hovertext\":\"Sokka: Well, if that's what you want, I'd be happy to.  All right, you stand over there. Now, this may be a little tough, but try to block me.\",\"line\":{\"color\":\"#81D3E8\",\"width\":2},\"mode\":\"lines\",\"showlegend\":false,\"x\":[201,201],\"y\":[14.0,-14.0],\"type\":\"scatter\"},{\"hoverinfo\":\"text\",\"hovertext\":\"Sokka: Aw! Heh heh ... Good. Of course, I was going easy on you.\",\"line\":{\"color\":\"#81D3E8\",\"width\":2},\"mode\":\"lines\",\"showlegend\":false,\"x\":[203,203],\"y\":[6.5,-6.5],\"type\":\"scatter\"},{\"hoverinfo\":\"text\",\"hovertext\":\"Suki: Of course.\",\"line\":{\"color\":\"#729F3D\",\"width\":2},\"mode\":\"lines\",\"showlegend\":false,\"x\":[205,205],\"y\":[1.0,-1.0],\"type\":\"scatter\"},{\"hoverinfo\":\"text\",\"hovertext\":\"Sokka: Let's see if you can  handle this !\",\"line\":{\"color\":\"#81D3E8\",\"width\":2},\"mode\":\"lines\",\"showlegend\":false,\"x\":[207,207],\"y\":[4.0,-4.0],\"type\":\"scatter\"},{\"hoverinfo\":\"text\",\"hovertext\":\"Sokka: That does it!\",\"line\":{\"color\":\"#81D3E8\",\"width\":2},\"mode\":\"lines\",\"showlegend\":false,\"x\":[209,209],\"y\":[1.5,-1.5],\"type\":\"scatter\"},{\"hoverinfo\":\"text\",\"hovertext\":\"Suki: Anything else you want to teach us?\",\"line\":{\"color\":\"#729F3D\",\"width\":2},\"mode\":\"lines\",\"showlegend\":false,\"x\":[211,211],\"y\":[3.5,-3.5],\"type\":\"scatter\"},{\"hoverinfo\":\"text\",\"hovertext\":\"Aang: There she is, girls. Me in a past life.\",\"line\":{\"color\":\"#F9D672\",\"width\":2},\"mode\":\"lines\",\"showlegend\":false,\"x\":[213,213],\"y\":[4.5,-4.5],\"type\":\"scatter\"},{\"hoverinfo\":\"text\",\"hovertext\":\"Fangirls: Ooohhh ...\",\"line\":{\"color\":\"#848587\",\"width\":2},\"mode\":\"lines\",\"showlegend\":false,\"x\":[215,215],\"y\":[1.0,-1.0],\"type\":\"scatter\"},{\"hoverinfo\":\"text\",\"hovertext\":\"Koko: You were pretty!\",\"line\":{\"color\":\"#848587\",\"width\":2},\"mode\":\"lines\",\"showlegend\":false,\"x\":[217,217],\"y\":[1.5,-1.5],\"type\":\"scatter\"},{\"hoverinfo\":\"text\",\"hovertext\":\"Aang: Excuse me for a second, ladies.\",\"line\":{\"color\":\"#F9D672\",\"width\":2},\"mode\":\"lines\",\"showlegend\":false,\"x\":[219,219],\"y\":[3.0,-3.0],\"type\":\"scatter\"},{\"hoverinfo\":\"text\",\"hovertext\":\"Katara: Oh, good! Can you help me carry this back to the room?  It's a little heavy.\",\"line\":{\"color\":\"#81D3E8\",\"width\":2},\"mode\":\"lines\",\"showlegend\":false,\"x\":[221,221],\"y\":[8.0,-8.0],\"type\":\"scatter\"},{\"hoverinfo\":\"text\",\"hovertext\":\"Aang: Actually, I can't right now.\",\"line\":{\"color\":\"#F9D672\",\"width\":2},\"mode\":\"lines\",\"showlegend\":false,\"x\":[223,223],\"y\":[2.5,-2.5],\"type\":\"scatter\"},{\"hoverinfo\":\"text\",\"hovertext\":\"Katara: What do you mean, \\\"you can't?\\\"\",\"line\":{\"color\":\"#81D3E8\",\"width\":2},\"mode\":\"lines\",\"showlegend\":false,\"x\":[225,225],\"y\":[3.0,-3.0],\"type\":\"scatter\"},{\"hoverinfo\":\"text\",\"hovertext\":\"Aang: I promised the girls I'd give them a ride on Appa. Why don't you come with us? It'll be fun!\",\"line\":{\"color\":\"#F9D672\",\"width\":2},\"mode\":\"lines\",\"showlegend\":false,\"x\":[227,227],\"y\":[10.0,-10.0],\"type\":\"scatter\"},{\"hoverinfo\":\"text\",\"hovertext\":\"Katara: Watching you show off for a bunch of girls does not sound like fun.\",\"line\":{\"color\":\"#81D3E8\",\"width\":2},\"mode\":\"lines\",\"showlegend\":false,\"x\":[229,229],\"y\":[7.0,-7.0],\"type\":\"scatter\"},{\"hoverinfo\":\"text\",\"hovertext\":\"Aang: Well, neither does carrying your basket.\",\"line\":{\"color\":\"#F9D672\",\"width\":2},\"mode\":\"lines\",\"showlegend\":false,\"x\":[231,231],\"y\":[3.0,-3.0],\"type\":\"scatter\"},{\"hoverinfo\":\"text\",\"hovertext\":\"Katara: It's not my basket. These supplies are for our trip. I told you, we have to leave Kyoshi soon.\",\"line\":{\"color\":\"#81D3E8\",\"width\":2},\"mode\":\"lines\",\"showlegend\":false,\"x\":[233,233],\"y\":[9.5,-9.5],\"type\":\"scatter\"},{\"hoverinfo\":\"text\",\"hovertext\":\"Aang: I don't want to leave Kyoshi yet. I can't put my finger on it,  but there's something I really like about this place.\",\"line\":{\"color\":\"#F9D672\",\"width\":2},\"mode\":\"lines\",\"showlegend\":false,\"x\":[235,235],\"y\":[11.5,-11.5],\"type\":\"scatter\"},{\"hoverinfo\":\"text\",\"hovertext\":\"Koko: What's taking you so long, Aangy?\",\"line\":{\"color\":\"#848587\",\"width\":2},\"mode\":\"lines\",\"showlegend\":false,\"x\":[237,237],\"y\":[3.0,-3.0],\"type\":\"scatter\"},{\"hoverinfo\":\"text\",\"hovertext\":\"Katara: Aangy ...\",\"line\":{\"color\":\"#81D3E8\",\"width\":2},\"mode\":\"lines\",\"showlegend\":false,\"x\":[239,239],\"y\":[1.0,-1.0],\"type\":\"scatter\"},{\"hoverinfo\":\"text\",\"hovertext\":\"Aang: Just a second, Koko!\",\"line\":{\"color\":\"#F9D672\",\"width\":2},\"mode\":\"lines\",\"showlegend\":false,\"x\":[241,241],\"y\":[2.0,-2.0],\"type\":\"scatter\"},{\"hoverinfo\":\"text\",\"hovertext\":\"Katara: \\\"Simple monk\\\", huh?  I thought you promised me that this Avatar stuff wouldn't go to your head.\",\"line\":{\"color\":\"#81D3E8\",\"width\":2},\"mode\":\"lines\",\"showlegend\":false,\"x\":[243,243],\"y\":[8.5,-8.5],\"type\":\"scatter\"},{\"hoverinfo\":\"text\",\"hovertext\":\"Aang: It didn't. You know what I think? You just don't want to come because you're jealous.\",\"line\":{\"color\":\"#F9D672\",\"width\":2},\"mode\":\"lines\",\"showlegend\":false,\"x\":[245,245],\"y\":[8.0,-8.0],\"type\":\"scatter\"},{\"hoverinfo\":\"text\",\"hovertext\":\"Katara: Jealous ?  Of what?\",\"line\":{\"color\":\"#81D3E8\",\"width\":2},\"mode\":\"lines\",\"showlegend\":false,\"x\":[247,247],\"y\":[2.0,-2.0],\"type\":\"scatter\"},{\"hoverinfo\":\"text\",\"hovertext\":\"Aang: Jealous that we're having so much fun without you.\",\"line\":{\"color\":\"#F9D672\",\"width\":2},\"mode\":\"lines\",\"showlegend\":false,\"x\":[249,249],\"y\":[4.5,-4.5],\"type\":\"scatter\"},{\"hoverinfo\":\"text\",\"hovertext\":\"Katara: That's ridiculous.\",\"line\":{\"color\":\"#81D3E8\",\"width\":2},\"mode\":\"lines\",\"showlegend\":false,\"x\":[251,251],\"y\":[1.0,-1.0],\"type\":\"scatter\"},{\"hoverinfo\":\"text\",\"hovertext\":\"Aang: It is a little ridiculous, but I understand.\",\"line\":{\"color\":\"#F9D672\",\"width\":2},\"mode\":\"lines\",\"showlegend\":false,\"x\":[253,253],\"y\":[4.0,-4.0],\"type\":\"scatter\"},{\"hoverinfo\":\"text\",\"hovertext\":\"Katara: Urch!\",\"line\":{\"color\":\"#81D3E8\",\"width\":2},\"mode\":\"lines\",\"showlegend\":false,\"x\":[255,255],\"y\":[0.5,-0.5],\"type\":\"scatter\"},{\"hoverinfo\":\"text\",\"hovertext\":\"Sokka: Uh ... Hey, Suki.\",\"line\":{\"color\":\"#81D3E8\",\"width\":2},\"mode\":\"lines\",\"showlegend\":false,\"x\":[257,257],\"y\":[2.0,-2.0],\"type\":\"scatter\"},{\"hoverinfo\":\"text\",\"hovertext\":\"Suki: Hoping for another dance lesson?\",\"line\":{\"color\":\"#729F3D\",\"width\":2},\"mode\":\"lines\",\"showlegend\":false,\"x\":[259,259],\"y\":[2.5,-2.5],\"type\":\"scatter\"},{\"hoverinfo\":\"text\",\"hovertext\":\"Sokka: No ... I ... well, let me explain.\",\"line\":{\"color\":\"#81D3E8\",\"width\":2},\"mode\":\"lines\",\"showlegend\":false,\"x\":[261,261],\"y\":[4.0,-4.0],\"type\":\"scatter\"},{\"hoverinfo\":\"text\",\"hovertext\":\"Suki: Spit it out! What do you want?\",\"line\":{\"color\":\"#729F3D\",\"width\":2},\"mode\":\"lines\",\"showlegend\":false,\"x\":[263,263],\"y\":[3.5,-3.5],\"type\":\"scatter\"},{\"hoverinfo\":\"text\",\"hovertext\":\"Sokka: I would be honored if you would teach me.\",\"line\":{\"color\":\"#81D3E8\",\"width\":2},\"mode\":\"lines\",\"showlegend\":false,\"x\":[265,265],\"y\":[4.5,-4.5],\"type\":\"scatter\"},{\"hoverinfo\":\"text\",\"hovertext\":\"Suki: Even if I'm a girl ?\",\"line\":{\"color\":\"#729F3D\",\"width\":2},\"mode\":\"lines\",\"showlegend\":false,\"x\":[267,267],\"y\":[3.0,-3.0],\"type\":\"scatter\"},{\"hoverinfo\":\"text\",\"hovertext\":\"Sokka: I'm sorry if I insulted you earlier. I was ... wrong.\",\"line\":{\"color\":\"#81D3E8\",\"width\":2},\"mode\":\"lines\",\"showlegend\":false,\"x\":[269,269],\"y\":[5.5,-5.5],\"type\":\"scatter\"},{\"hoverinfo\":\"text\",\"hovertext\":\"Suki: We normally don't teach outsiders, let alone boys.\",\"line\":{\"color\":\"#729F3D\",\"width\":2},\"mode\":\"lines\",\"showlegend\":false,\"x\":[271,271],\"y\":[4.0,-4.0],\"type\":\"scatter\"},{\"hoverinfo\":\"text\",\"hovertext\":\"Sokka: Please make an exception.  I won't let you down.\",\"line\":{\"color\":\"#81D3E8\",\"width\":2},\"mode\":\"lines\",\"showlegend\":false,\"x\":[273,273],\"y\":[4.5,-4.5],\"type\":\"scatter\"},{\"hoverinfo\":\"text\",\"hovertext\":\"Suki: All right. But you have to follow all of our traditions.\",\"line\":{\"color\":\"#729F3D\",\"width\":2},\"mode\":\"lines\",\"showlegend\":false,\"x\":[275,275],\"y\":[5.5,-5.5],\"type\":\"scatter\"},{\"hoverinfo\":\"text\",\"hovertext\":\"Sokka: Of course!\",\"line\":{\"color\":\"#81D3E8\",\"width\":2},\"mode\":\"lines\",\"showlegend\":false,\"x\":[277,277],\"y\":[1.0,-1.0],\"type\":\"scatter\"},{\"hoverinfo\":\"text\",\"hovertext\":\"Suki: And I mean all of them.\",\"line\":{\"color\":\"#729F3D\",\"width\":2},\"mode\":\"lines\",\"showlegend\":false,\"x\":[279,279],\"y\":[3.0,-3.0],\"type\":\"scatter\"},{\"hoverinfo\":\"text\",\"hovertext\":\"Sokka: Do I really have to wear this? It feels a little ...  girly.\",\"line\":{\"color\":\"#81D3E8\",\"width\":2},\"mode\":\"lines\",\"showlegend\":false,\"x\":[281,281],\"y\":[6.5,-6.5],\"type\":\"scatter\"},{\"hoverinfo\":\"text\",\"hovertext\":\"Suki: It's a warrior's uniform, you should be proud.  The silk threads symbolize the brave blood that flows through our veins. The gold insignia represents the honor of the warrior's heart.\",\"line\":{\"color\":\"#729F3D\",\"width\":2},\"mode\":\"lines\",\"showlegend\":false,\"x\":[283,283],\"y\":[15.0,-15.0],\"type\":\"scatter\"},{\"hoverinfo\":\"text\",\"hovertext\":\"Sokka: Bravery and honor.\",\"line\":{\"color\":\"#81D3E8\",\"width\":2},\"mode\":\"lines\",\"showlegend\":false,\"x\":[285,285],\"y\":[1.5,-1.5],\"type\":\"scatter\"},{\"hoverinfo\":\"text\",\"hovertext\":\"Aang: Hey Sokka!  Nice dress!\",\"line\":{\"color\":\"#F9D672\",\"width\":2},\"mode\":\"lines\",\"showlegend\":false,\"x\":[287,287],\"y\":[2.0,-2.0],\"type\":\"scatter\"},{\"hoverinfo\":\"text\",\"hovertext\":\"Aang: Katara, remember how Unagi almost got me yesterday?\",\"line\":{\"color\":\"#F9D672\",\"width\":2},\"mode\":\"lines\",\"showlegend\":false,\"x\":[289,289],\"y\":[4.0,-4.0],\"type\":\"scatter\"},{\"hoverinfo\":\"text\",\"hovertext\":\"Katara: Yeah.\",\"line\":{\"color\":\"#81D3E8\",\"width\":2},\"mode\":\"lines\",\"showlegend\":false,\"x\":[291,291],\"y\":[0.5,-0.5],\"type\":\"scatter\"},{\"hoverinfo\":\"text\",\"hovertext\":\"Aang: Well, I'm gonna go ride it now. It's gonna be real dangerous.\",\"line\":{\"color\":\"#F9D672\",\"width\":2},\"mode\":\"lines\",\"showlegend\":false,\"x\":[293,293],\"y\":[6.0,-6.0],\"type\":\"scatter\"},{\"hoverinfo\":\"text\",\"hovertext\":\"Katara: Good for you.\",\"line\":{\"color\":\"#81D3E8\",\"width\":2},\"mode\":\"lines\",\"showlegend\":false,\"x\":[295,295],\"y\":[1.5,-1.5],\"type\":\"scatter\"},{\"hoverinfo\":\"text\",\"hovertext\":\"Aang: You're not going to stop me?\",\"line\":{\"color\":\"#F9D672\",\"width\":2},\"mode\":\"lines\",\"showlegend\":false,\"x\":[297,297],\"y\":[3.0,-3.0],\"type\":\"scatter\"},{\"hoverinfo\":\"text\",\"hovertext\":\"Katara: Nope. Have fun.\",\"line\":{\"color\":\"#81D3E8\",\"width\":2},\"mode\":\"lines\",\"showlegend\":false,\"x\":[299,299],\"y\":[1.5,-1.5],\"type\":\"scatter\"},{\"hoverinfo\":\"text\",\"hovertext\":\"Aang: I will.\",\"line\":{\"color\":\"#F9D672\",\"width\":2},\"mode\":\"lines\",\"showlegend\":false,\"x\":[301,301],\"y\":[1.0,-1.0],\"type\":\"scatter\"},{\"hoverinfo\":\"text\",\"hovertext\":\"Katara: Great.\",\"line\":{\"color\":\"#81D3E8\",\"width\":2},\"mode\":\"lines\",\"showlegend\":false,\"x\":[303,303],\"y\":[0.5,-0.5],\"type\":\"scatter\"},{\"hoverinfo\":\"text\",\"hovertext\":\"Aang: I know it's great.\",\"line\":{\"color\":\"#F9D672\",\"width\":2},\"mode\":\"lines\",\"showlegend\":false,\"x\":[305,305],\"y\":[2.0,-2.0],\"type\":\"scatter\"},{\"hoverinfo\":\"text\",\"hovertext\":\"Katara: I'm glad you know.\",\"line\":{\"color\":\"#81D3E8\",\"width\":2},\"mode\":\"lines\",\"showlegend\":false,\"x\":[307,307],\"y\":[2.0,-2.0],\"type\":\"scatter\"},{\"hoverinfo\":\"text\",\"hovertext\":\"Aang: I'm glad you're glad.\",\"line\":{\"color\":\"#F9D672\",\"width\":2},\"mode\":\"lines\",\"showlegend\":false,\"x\":[309,309],\"y\":[2.0,-2.0],\"type\":\"scatter\"},{\"hoverinfo\":\"text\",\"hovertext\":\"Katara: Good!\",\"line\":{\"color\":\"#81D3E8\",\"width\":2},\"mode\":\"lines\",\"showlegend\":false,\"x\":[311,311],\"y\":[0.5,-0.5],\"type\":\"scatter\"},{\"hoverinfo\":\"text\",\"hovertext\":\"Aang: Fine!\",\"line\":{\"color\":\"#F9D672\",\"width\":2},\"mode\":\"lines\",\"showlegend\":false,\"x\":[313,313],\"y\":[0.5,-0.5],\"type\":\"scatter\"},{\"hoverinfo\":\"text\",\"hovertext\":\"Suki: You're not going to master it in one day. Even I'm not that good.\",\"line\":{\"color\":\"#729F3D\",\"width\":2},\"mode\":\"lines\",\"showlegend\":false,\"x\":[315,315],\"y\":[7.0,-7.0],\"type\":\"scatter\"},{\"hoverinfo\":\"text\",\"hovertext\":\"Sokka: I think I'm starting to get it.\",\"line\":{\"color\":\"#81D3E8\",\"width\":2},\"mode\":\"lines\",\"showlegend\":false,\"x\":[317,317],\"y\":[3.5,-3.5],\"type\":\"scatter\"},{\"hoverinfo\":\"text\",\"hovertext\":\"Sokka: Tah!\",\"line\":{\"color\":\"#81D3E8\",\"width\":2},\"mode\":\"lines\",\"showlegend\":false,\"x\":[319,319],\"y\":[0.5,-0.5],\"type\":\"scatter\"},{\"hoverinfo\":\"text\",\"hovertext\":\"Suki: It's not about strength. Our technique is about using your opponents' force against them. Loosen up.  Think of the fan as an extension of your arm.  Wait for an opening and then ...\",\"line\":{\"color\":\"#729F3D\",\"width\":2},\"mode\":\"lines\",\"showlegend\":false,\"x\":[321,321],\"y\":[16.5,-16.5],\"type\":\"scatter\"},{\"hoverinfo\":\"text\",\"hovertext\":\"Sokka: Hmm ...\",\"line\":{\"color\":\"#81D3E8\",\"width\":2},\"mode\":\"lines\",\"showlegend\":false,\"x\":[323,323],\"y\":[1.0,-1.0],\"type\":\"scatter\"},{\"hoverinfo\":\"text\",\"hovertext\":\"Suki: I fell on purpose to make you feel better!\",\"line\":{\"color\":\"#729F3D\",\"width\":2},\"mode\":\"lines\",\"showlegend\":false,\"x\":[325,325],\"y\":[4.5,-4.5],\"type\":\"scatter\"},{\"hoverinfo\":\"text\",\"hovertext\":\"Sokka: I got you! Admit I got you!\",\"line\":{\"color\":\"#81D3E8\",\"width\":2},\"mode\":\"lines\",\"showlegend\":false,\"x\":[327,327],\"y\":[3.5,-3.5],\"type\":\"scatter\"},{\"hoverinfo\":\"text\",\"hovertext\":\"Suki: Okay, it was a lucky shot.  Let's see if you can do it again.\",\"line\":{\"color\":\"#729F3D\",\"width\":2},\"mode\":\"lines\",\"showlegend\":false,\"x\":[329,329],\"y\":[7.0,-7.0],\"type\":\"scatter\"},{\"hoverinfo\":\"text\",\"hovertext\":\"Koko: What's taking so long?\",\"line\":{\"color\":\"#848587\",\"width\":2},\"mode\":\"lines\",\"showlegend\":false,\"x\":[331,331],\"y\":[2.0,-2.0],\"type\":\"scatter\"},{\"hoverinfo\":\"text\",\"hovertext\":\"Aang: I'm sure it will be here any second!  What about this?\",\"line\":{\"color\":\"#F9D672\",\"width\":2},\"mode\":\"lines\",\"showlegend\":false,\"x\":[333,333],\"y\":[5.5,-5.5],\"type\":\"scatter\"},{\"hoverinfo\":\"text\",\"hovertext\":\"Little Girl: Not that again . Boring !\",\"line\":{\"color\":\"#848587\",\"width\":2},\"mode\":\"lines\",\"showlegend\":false,\"x\":[335,335],\"y\":[3.0,-3.0],\"type\":\"scatter\"},{\"hoverinfo\":\"text\",\"hovertext\":\"Koko: Where's Unagi? It's getting late.\",\"line\":{\"color\":\"#848587\",\"width\":2},\"mode\":\"lines\",\"showlegend\":false,\"x\":[337,337],\"y\":[2.5,-2.5],\"type\":\"scatter\"},{\"hoverinfo\":\"text\",\"hovertext\":\"Aang: Where're you going? Don't leave!\",\"line\":{\"color\":\"#F9D672\",\"width\":2},\"mode\":\"lines\",\"showlegend\":false,\"x\":[339,339],\"y\":[2.5,-2.5],\"type\":\"scatter\"},{\"hoverinfo\":\"text\",\"hovertext\":\"Koko: Sorry, Aang! Maybe next time.\",\"line\":{\"color\":\"#848587\",\"width\":2},\"mode\":\"lines\",\"showlegend\":false,\"x\":[341,341],\"y\":[2.5,-2.5],\"type\":\"scatter\"},{\"hoverinfo\":\"text\",\"hovertext\":\"Aang: Katara! You showed up!\",\"line\":{\"color\":\"#F9D672\",\"width\":2},\"mode\":\"lines\",\"showlegend\":false,\"x\":[343,343],\"y\":[2.0,-2.0],\"type\":\"scatter\"},{\"hoverinfo\":\"text\",\"hovertext\":\"Katara: I wanted to make sure you were safe. You really had me worried.\",\"line\":{\"color\":\"#81D3E8\",\"width\":2},\"mode\":\"lines\",\"showlegend\":false,\"x\":[345,345],\"y\":[6.5,-6.5],\"type\":\"scatter\"},{\"hoverinfo\":\"text\",\"hovertext\":\"Aang: Back there you acted like you didn't care.\",\"line\":{\"color\":\"#F9D672\",\"width\":2},\"mode\":\"lines\",\"showlegend\":false,\"x\":[347,347],\"y\":[4.0,-4.0],\"type\":\"scatter\"},{\"hoverinfo\":\"text\",\"hovertext\":\"Katara: I'm sorry.\",\"line\":{\"color\":\"#81D3E8\",\"width\":2},\"mode\":\"lines\",\"showlegend\":false,\"x\":[349,349],\"y\":[1.0,-1.0],\"type\":\"scatter\"},{\"hoverinfo\":\"text\",\"hovertext\":\"Aang: Me too. I did let all that attention go to my head. I was being a jerk.\",\"line\":{\"color\":\"#F9D672\",\"width\":2},\"mode\":\"lines\",\"showlegend\":false,\"x\":[351,351],\"y\":[8.5,-8.5],\"type\":\"scatter\"},{\"hoverinfo\":\"text\",\"hovertext\":\"Katara: Well, get out of the water before you catch a cold, you big jerk!\",\"line\":{\"color\":\"#81D3E8\",\"width\":2},\"mode\":\"lines\",\"showlegend\":false,\"x\":[353,353],\"y\":[7.0,-7.0],\"type\":\"scatter\"},{\"hoverinfo\":\"text\",\"hovertext\":\"Aang: On my way!\",\"line\":{\"color\":\"#F9D672\",\"width\":2},\"mode\":\"lines\",\"showlegend\":false,\"x\":[355,355],\"y\":[1.5,-1.5],\"type\":\"scatter\"},{\"hoverinfo\":\"text\",\"hovertext\":\"Katara: Hang on, Aang!\",\"line\":{\"color\":\"#81D3E8\",\"width\":2},\"mode\":\"lines\",\"showlegend\":false,\"x\":[357,357],\"y\":[1.5,-1.5],\"type\":\"scatter\"},{\"hoverinfo\":\"text\",\"hovertext\":\"Katara: Aang!\",\"line\":{\"color\":\"#81D3E8\",\"width\":2},\"mode\":\"lines\",\"showlegend\":false,\"x\":[359,359],\"y\":[0.5,-0.5],\"type\":\"scatter\"},{\"hoverinfo\":\"text\",\"hovertext\":\"Katara: Zuko!\",\"line\":{\"color\":\"#81D3E8\",\"width\":2},\"mode\":\"lines\",\"showlegend\":false,\"x\":[361,361],\"y\":[0.5,-0.5],\"type\":\"scatter\"},{\"hoverinfo\":\"text\",\"hovertext\":\"Zuko: I want the Avatar alive.\",\"line\":{\"color\":\"#D46627\",\"width\":2},\"mode\":\"lines\",\"showlegend\":false,\"x\":[363,363],\"y\":[2.5,-2.5],\"type\":\"scatter\"},{\"hoverinfo\":\"text\",\"hovertext\":\"Katara: Wake up, Aang!\",\"line\":{\"color\":\"#81D3E8\",\"width\":2},\"mode\":\"lines\",\"showlegend\":false,\"x\":[365,365],\"y\":[1.5,-1.5],\"type\":\"scatter\"},{\"hoverinfo\":\"text\",\"hovertext\":\"Aang: Katara ...  don't ride Unagi. Not fun.\",\"line\":{\"color\":\"#F9D672\",\"width\":2},\"mode\":\"lines\",\"showlegend\":false,\"x\":[367,367],\"y\":[3.5,-3.5],\"type\":\"scatter\"},{\"hoverinfo\":\"text\",\"hovertext\":\"Suki: Not bad.\",\"line\":{\"color\":\"#729F3D\",\"width\":2},\"mode\":\"lines\",\"showlegend\":false,\"x\":[369,369],\"y\":[1.0,-1.0],\"type\":\"scatter\"},{\"hoverinfo\":\"text\",\"hovertext\":\"Oyaji: Firebenders have landed on our shores!  Girls, come quickly!\",\"line\":{\"color\":\"#848587\",\"width\":2},\"mode\":\"lines\",\"showlegend\":false,\"x\":[371,371],\"y\":[4.5,-4.5],\"type\":\"scatter\"},{\"hoverinfo\":\"text\",\"hovertext\":\"Sokka: Hey, I'm not a ...  oh, whatever!\",\"line\":{\"color\":\"#81D3E8\",\"width\":2},\"mode\":\"lines\",\"showlegend\":false,\"x\":[373,373],\"y\":[3.5,-3.5],\"type\":\"scatter\"},{\"hoverinfo\":\"text\",\"hovertext\":\"Zuko: Come out, Avatar!  You can't hide from me forever!  Find him.\",\"line\":{\"color\":\"#D46627\",\"width\":2},\"mode\":\"lines\",\"showlegend\":false,\"x\":[375,375],\"y\":[5.5,-5.5],\"type\":\"scatter\"},{\"hoverinfo\":\"text\",\"hovertext\":\"Sokka: I guess training's over.\",\"line\":{\"color\":\"#81D3E8\",\"width\":2},\"mode\":\"lines\",\"showlegend\":false,\"x\":[377,377],\"y\":[2.0,-2.0],\"type\":\"scatter\"},{\"hoverinfo\":\"text\",\"hovertext\":\"Zuko: Nice try, Avatar! But these little girls can't save you.\",\"line\":{\"color\":\"#D46627\",\"width\":2},\"mode\":\"lines\",\"showlegend\":false,\"x\":[379,379],\"y\":[5.0,-5.0],\"type\":\"scatter\"},{\"hoverinfo\":\"text\",\"hovertext\":\"Aang: Hey! Over here!\",\"line\":{\"color\":\"#F9D672\",\"width\":2},\"mode\":\"lines\",\"showlegend\":false,\"x\":[381,381],\"y\":[1.5,-1.5],\"type\":\"scatter\"},{\"hoverinfo\":\"text\",\"hovertext\":\"Zuko: Finally!\",\"line\":{\"color\":\"#D46627\",\"width\":2},\"mode\":\"lines\",\"showlegend\":false,\"x\":[383,383],\"y\":[0.5,-0.5],\"type\":\"scatter\"},{\"hoverinfo\":\"text\",\"hovertext\":\"Katara: Get inside.\",\"line\":{\"color\":\"#81D3E8\",\"width\":2},\"mode\":\"lines\",\"showlegend\":false,\"x\":[385,385],\"y\":[1.0,-1.0],\"type\":\"scatter\"},{\"hoverinfo\":\"text\",\"hovertext\":\"Aang: Look what I brought to this place.\",\"line\":{\"color\":\"#F9D672\",\"width\":2},\"mode\":\"lines\",\"showlegend\":false,\"x\":[387,387],\"y\":[3.5,-3.5],\"type\":\"scatter\"},{\"hoverinfo\":\"text\",\"hovertext\":\"Katara: It's not your fault.\",\"line\":{\"color\":\"#81D3E8\",\"width\":2},\"mode\":\"lines\",\"showlegend\":false,\"x\":[389,389],\"y\":[2.0,-2.0],\"type\":\"scatter\"},{\"hoverinfo\":\"text\",\"hovertext\":\"Aang: Yes, it is. These people got their town destroyed trying to protect me.\",\"line\":{\"color\":\"#F9D672\",\"width\":2},\"mode\":\"lines\",\"showlegend\":false,\"x\":[391,391],\"y\":[6.5,-6.5],\"type\":\"scatter\"},{\"hoverinfo\":\"text\",\"hovertext\":\"Katara: Then let's get out of here. Zuko will leave Kyoshi to follow us. I know it feels wrong to run, but I think it's the only way.\",\"line\":{\"color\":\"#81D3E8\",\"width\":2},\"mode\":\"lines\",\"showlegend\":false,\"x\":[393,393],\"y\":[13.5,-13.5],\"type\":\"scatter\"},{\"hoverinfo\":\"text\",\"hovertext\":\"Aang: I'll call Appa.\",\"line\":{\"color\":\"#F9D672\",\"width\":2},\"mode\":\"lines\",\"showlegend\":false,\"x\":[395,395],\"y\":[1.5,-1.5],\"type\":\"scatter\"},{\"hoverinfo\":\"text\",\"hovertext\":\"Suki: There's no time to say goodbye.\",\"line\":{\"color\":\"#729F3D\",\"width\":2},\"mode\":\"lines\",\"showlegend\":false,\"x\":[397,397],\"y\":[3.0,-3.0],\"type\":\"scatter\"},{\"hoverinfo\":\"text\",\"hovertext\":\"Sokka: What about, \\\"I'm sorry?\\\"\",\"line\":{\"color\":\"#81D3E8\",\"width\":2},\"mode\":\"lines\",\"showlegend\":false,\"x\":[399,399],\"y\":[2.0,-2.0],\"type\":\"scatter\"},{\"hoverinfo\":\"text\",\"hovertext\":\"Suki: For what?\",\"line\":{\"color\":\"#729F3D\",\"width\":2},\"mode\":\"lines\",\"showlegend\":false,\"x\":[401,401],\"y\":[1.0,-1.0],\"type\":\"scatter\"},{\"hoverinfo\":\"text\",\"hovertext\":\"Sokka: I treated you like a girl when I should've treated you like a warrior.\",\"line\":{\"color\":\"#81D3E8\",\"width\":2},\"mode\":\"lines\",\"showlegend\":false,\"x\":[403,403],\"y\":[7.0,-7.0],\"type\":\"scatter\"},{\"hoverinfo\":\"text\",\"hovertext\":\"Suki: I am a warrior.  But I'm a girl, too.  Now get out of here! We'll hold them off.\",\"line\":{\"color\":\"#729F3D\",\"width\":2},\"mode\":\"lines\",\"showlegend\":false,\"x\":[405,405],\"y\":[9.0,-9.0],\"type\":\"scatter\"},{\"hoverinfo\":\"text\",\"hovertext\":\"Aang: Appa, yip yip!\",\"line\":{\"color\":\"#F9D672\",\"width\":2},\"mode\":\"lines\",\"showlegend\":false,\"x\":[407,407],\"y\":[1.5,-1.5],\"type\":\"scatter\"},{\"hoverinfo\":\"text\",\"hovertext\":\"Zuko: Back to the ship! Don't lose sight of them!\",\"line\":{\"color\":\"#D46627\",\"width\":2},\"mode\":\"lines\",\"showlegend\":false,\"x\":[409,409],\"y\":[4.5,-4.5],\"type\":\"scatter\"},{\"hoverinfo\":\"text\",\"hovertext\":\"Katara: I know it's hard, but you did the right thing.  Zuko would have destroyed the whole place if we had stayed.  They're going to be okay, Aang.\",\"line\":{\"color\":\"#81D3E8\",\"width\":2},\"mode\":\"lines\",\"showlegend\":false,\"x\":[411,411],\"y\":[13.5,-13.5],\"type\":\"scatter\"},{\"hoverinfo\":\"text\",\"hovertext\":\"Katara: What are you doing?\",\"line\":{\"color\":\"#81D3E8\",\"width\":2},\"mode\":\"lines\",\"showlegend\":false,\"x\":[413,413],\"y\":[2.0,-2.0],\"type\":\"scatter\"},{\"hoverinfo\":\"text\",\"hovertext\":\"Oyaji: Thank you, Avatar.\",\"line\":{\"color\":\"#848587\",\"width\":2},\"mode\":\"lines\",\"showlegend\":false,\"x\":[415,415],\"y\":[1.5,-1.5],\"type\":\"scatter\"},{\"hoverinfo\":\"text\",\"hovertext\":\"Aang: I know, I know. That was stupid and dangerous.\",\"line\":{\"color\":\"#F9D672\",\"width\":2},\"mode\":\"lines\",\"showlegend\":false,\"x\":[417,417],\"y\":[4.5,-4.5],\"type\":\"scatter\"},{\"hoverinfo\":\"text\",\"hovertext\":\"Katara: Yes, it was.\",\"line\":{\"color\":\"#81D3E8\",\"width\":2},\"mode\":\"lines\",\"showlegend\":false,\"x\":[419,419],\"y\":[1.5,-1.5],\"type\":\"scatter\"}],                        {\"template\":{\"data\":{\"histogram2dcontour\":[{\"type\":\"histogram2dcontour\",\"colorbar\":{\"outlinewidth\":0,\"ticks\":\"\"},\"colorscale\":[[0.0,\"#0d0887\"],[0.1111111111111111,\"#46039f\"],[0.2222222222222222,\"#7201a8\"],[0.3333333333333333,\"#9c179e\"],[0.4444444444444444,\"#bd3786\"],[0.5555555555555556,\"#d8576b\"],[0.6666666666666666,\"#ed7953\"],[0.7777777777777778,\"#fb9f3a\"],[0.8888888888888888,\"#fdca26\"],[1.0,\"#f0f921\"]]}],\"choropleth\":[{\"type\":\"choropleth\",\"colorbar\":{\"outlinewidth\":0,\"ticks\":\"\"}}],\"histogram2d\":[{\"type\":\"histogram2d\",\"colorbar\":{\"outlinewidth\":0,\"ticks\":\"\"},\"colorscale\":[[0.0,\"#0d0887\"],[0.1111111111111111,\"#46039f\"],[0.2222222222222222,\"#7201a8\"],[0.3333333333333333,\"#9c179e\"],[0.4444444444444444,\"#bd3786\"],[0.5555555555555556,\"#d8576b\"],[0.6666666666666666,\"#ed7953\"],[0.7777777777777778,\"#fb9f3a\"],[0.8888888888888888,\"#fdca26\"],[1.0,\"#f0f921\"]]}],\"heatmap\":[{\"type\":\"heatmap\",\"colorbar\":{\"outlinewidth\":0,\"ticks\":\"\"},\"colorscale\":[[0.0,\"#0d0887\"],[0.1111111111111111,\"#46039f\"],[0.2222222222222222,\"#7201a8\"],[0.3333333333333333,\"#9c179e\"],[0.4444444444444444,\"#bd3786\"],[0.5555555555555556,\"#d8576b\"],[0.6666666666666666,\"#ed7953\"],[0.7777777777777778,\"#fb9f3a\"],[0.8888888888888888,\"#fdca26\"],[1.0,\"#f0f921\"]]}],\"heatmapgl\":[{\"type\":\"heatmapgl\",\"colorbar\":{\"outlinewidth\":0,\"ticks\":\"\"},\"colorscale\":[[0.0,\"#0d0887\"],[0.1111111111111111,\"#46039f\"],[0.2222222222222222,\"#7201a8\"],[0.3333333333333333,\"#9c179e\"],[0.4444444444444444,\"#bd3786\"],[0.5555555555555556,\"#d8576b\"],[0.6666666666666666,\"#ed7953\"],[0.7777777777777778,\"#fb9f3a\"],[0.8888888888888888,\"#fdca26\"],[1.0,\"#f0f921\"]]}],\"contourcarpet\":[{\"type\":\"contourcarpet\",\"colorbar\":{\"outlinewidth\":0,\"ticks\":\"\"}}],\"contour\":[{\"type\":\"contour\",\"colorbar\":{\"outlinewidth\":0,\"ticks\":\"\"},\"colorscale\":[[0.0,\"#0d0887\"],[0.1111111111111111,\"#46039f\"],[0.2222222222222222,\"#7201a8\"],[0.3333333333333333,\"#9c179e\"],[0.4444444444444444,\"#bd3786\"],[0.5555555555555556,\"#d8576b\"],[0.6666666666666666,\"#ed7953\"],[0.7777777777777778,\"#fb9f3a\"],[0.8888888888888888,\"#fdca26\"],[1.0,\"#f0f921\"]]}],\"surface\":[{\"type\":\"surface\",\"colorbar\":{\"outlinewidth\":0,\"ticks\":\"\"},\"colorscale\":[[0.0,\"#0d0887\"],[0.1111111111111111,\"#46039f\"],[0.2222222222222222,\"#7201a8\"],[0.3333333333333333,\"#9c179e\"],[0.4444444444444444,\"#bd3786\"],[0.5555555555555556,\"#d8576b\"],[0.6666666666666666,\"#ed7953\"],[0.7777777777777778,\"#fb9f3a\"],[0.8888888888888888,\"#fdca26\"],[1.0,\"#f0f921\"]]}],\"mesh3d\":[{\"type\":\"mesh3d\",\"colorbar\":{\"outlinewidth\":0,\"ticks\":\"\"}}],\"scatter\":[{\"fillpattern\":{\"fillmode\":\"overlay\",\"size\":10,\"solidity\":0.2},\"type\":\"scatter\"}],\"parcoords\":[{\"type\":\"parcoords\",\"line\":{\"colorbar\":{\"outlinewidth\":0,\"ticks\":\"\"}}}],\"scatterpolargl\":[{\"type\":\"scatterpolargl\",\"marker\":{\"colorbar\":{\"outlinewidth\":0,\"ticks\":\"\"}}}],\"bar\":[{\"error_x\":{\"color\":\"#2a3f5f\"},\"error_y\":{\"color\":\"#2a3f5f\"},\"marker\":{\"line\":{\"color\":\"#E5ECF6\",\"width\":0.5},\"pattern\":{\"fillmode\":\"overlay\",\"size\":10,\"solidity\":0.2}},\"type\":\"bar\"}],\"scattergeo\":[{\"type\":\"scattergeo\",\"marker\":{\"colorbar\":{\"outlinewidth\":0,\"ticks\":\"\"}}}],\"scatterpolar\":[{\"type\":\"scatterpolar\",\"marker\":{\"colorbar\":{\"outlinewidth\":0,\"ticks\":\"\"}}}],\"histogram\":[{\"marker\":{\"pattern\":{\"fillmode\":\"overlay\",\"size\":10,\"solidity\":0.2}},\"type\":\"histogram\"}],\"scattergl\":[{\"type\":\"scattergl\",\"marker\":{\"colorbar\":{\"outlinewidth\":0,\"ticks\":\"\"}}}],\"scatter3d\":[{\"type\":\"scatter3d\",\"line\":{\"colorbar\":{\"outlinewidth\":0,\"ticks\":\"\"}},\"marker\":{\"colorbar\":{\"outlinewidth\":0,\"ticks\":\"\"}}}],\"scattermapbox\":[{\"type\":\"scattermapbox\",\"marker\":{\"colorbar\":{\"outlinewidth\":0,\"ticks\":\"\"}}}],\"scatterternary\":[{\"type\":\"scatterternary\",\"marker\":{\"colorbar\":{\"outlinewidth\":0,\"ticks\":\"\"}}}],\"scattercarpet\":[{\"type\":\"scattercarpet\",\"marker\":{\"colorbar\":{\"outlinewidth\":0,\"ticks\":\"\"}}}],\"carpet\":[{\"aaxis\":{\"endlinecolor\":\"#2a3f5f\",\"gridcolor\":\"white\",\"linecolor\":\"white\",\"minorgridcolor\":\"white\",\"startlinecolor\":\"#2a3f5f\"},\"baxis\":{\"endlinecolor\":\"#2a3f5f\",\"gridcolor\":\"white\",\"linecolor\":\"white\",\"minorgridcolor\":\"white\",\"startlinecolor\":\"#2a3f5f\"},\"type\":\"carpet\"}],\"table\":[{\"cells\":{\"fill\":{\"color\":\"#EBF0F8\"},\"line\":{\"color\":\"white\"}},\"header\":{\"fill\":{\"color\":\"#C8D4E3\"},\"line\":{\"color\":\"white\"}},\"type\":\"table\"}],\"barpolar\":[{\"marker\":{\"line\":{\"color\":\"#E5ECF6\",\"width\":0.5},\"pattern\":{\"fillmode\":\"overlay\",\"size\":10,\"solidity\":0.2}},\"type\":\"barpolar\"}],\"pie\":[{\"automargin\":true,\"type\":\"pie\"}]},\"layout\":{\"autotypenumbers\":\"strict\",\"colorway\":[\"#636efa\",\"#EF553B\",\"#00cc96\",\"#ab63fa\",\"#FFA15A\",\"#19d3f3\",\"#FF6692\",\"#B6E880\",\"#FF97FF\",\"#FECB52\"],\"font\":{\"color\":\"#2a3f5f\"},\"hovermode\":\"closest\",\"hoverlabel\":{\"align\":\"left\"},\"paper_bgcolor\":\"white\",\"plot_bgcolor\":\"#E5ECF6\",\"polar\":{\"bgcolor\":\"#E5ECF6\",\"angularaxis\":{\"gridcolor\":\"white\",\"linecolor\":\"white\",\"ticks\":\"\"},\"radialaxis\":{\"gridcolor\":\"white\",\"linecolor\":\"white\",\"ticks\":\"\"}},\"ternary\":{\"bgcolor\":\"#E5ECF6\",\"aaxis\":{\"gridcolor\":\"white\",\"linecolor\":\"white\",\"ticks\":\"\"},\"baxis\":{\"gridcolor\":\"white\",\"linecolor\":\"white\",\"ticks\":\"\"},\"caxis\":{\"gridcolor\":\"white\",\"linecolor\":\"white\",\"ticks\":\"\"}},\"coloraxis\":{\"colorbar\":{\"outlinewidth\":0,\"ticks\":\"\"}},\"colorscale\":{\"sequential\":[[0.0,\"#0d0887\"],[0.1111111111111111,\"#46039f\"],[0.2222222222222222,\"#7201a8\"],[0.3333333333333333,\"#9c179e\"],[0.4444444444444444,\"#bd3786\"],[0.5555555555555556,\"#d8576b\"],[0.6666666666666666,\"#ed7953\"],[0.7777777777777778,\"#fb9f3a\"],[0.8888888888888888,\"#fdca26\"],[1.0,\"#f0f921\"]],\"sequentialminus\":[[0.0,\"#0d0887\"],[0.1111111111111111,\"#46039f\"],[0.2222222222222222,\"#7201a8\"],[0.3333333333333333,\"#9c179e\"],[0.4444444444444444,\"#bd3786\"],[0.5555555555555556,\"#d8576b\"],[0.6666666666666666,\"#ed7953\"],[0.7777777777777778,\"#fb9f3a\"],[0.8888888888888888,\"#fdca26\"],[1.0,\"#f0f921\"]],\"diverging\":[[0,\"#8e0152\"],[0.1,\"#c51b7d\"],[0.2,\"#de77ae\"],[0.3,\"#f1b6da\"],[0.4,\"#fde0ef\"],[0.5,\"#f7f7f7\"],[0.6,\"#e6f5d0\"],[0.7,\"#b8e186\"],[0.8,\"#7fbc41\"],[0.9,\"#4d9221\"],[1,\"#276419\"]]},\"xaxis\":{\"gridcolor\":\"white\",\"linecolor\":\"white\",\"ticks\":\"\",\"title\":{\"standoff\":15},\"zerolinecolor\":\"white\",\"automargin\":true,\"zerolinewidth\":2},\"yaxis\":{\"gridcolor\":\"white\",\"linecolor\":\"white\",\"ticks\":\"\",\"title\":{\"standoff\":15},\"zerolinecolor\":\"white\",\"automargin\":true,\"zerolinewidth\":2},\"scene\":{\"xaxis\":{\"backgroundcolor\":\"#E5ECF6\",\"gridcolor\":\"white\",\"linecolor\":\"white\",\"showbackground\":true,\"ticks\":\"\",\"zerolinecolor\":\"white\",\"gridwidth\":2},\"yaxis\":{\"backgroundcolor\":\"#E5ECF6\",\"gridcolor\":\"white\",\"linecolor\":\"white\",\"showbackground\":true,\"ticks\":\"\",\"zerolinecolor\":\"white\",\"gridwidth\":2},\"zaxis\":{\"backgroundcolor\":\"#E5ECF6\",\"gridcolor\":\"white\",\"linecolor\":\"white\",\"showbackground\":true,\"ticks\":\"\",\"zerolinecolor\":\"white\",\"gridwidth\":2}},\"shapedefaults\":{\"line\":{\"color\":\"#2a3f5f\"}},\"annotationdefaults\":{\"arrowcolor\":\"#2a3f5f\",\"arrowhead\":0,\"arrowwidth\":1},\"geo\":{\"bgcolor\":\"white\",\"landcolor\":\"#E5ECF6\",\"subunitcolor\":\"white\",\"showland\":true,\"showlakes\":true,\"lakecolor\":\"white\"},\"title\":{\"x\":0.05},\"mapbox\":{\"style\":\"light\"}}},\"title\":{\"text\":\"The Warriors of Kyoshi\",\"font\":{\"size\":20},\"x\":0.5},\"xaxis\":{\"showgrid\":false,\"showticklabels\":false},\"yaxis\":{\"showgrid\":false,\"showticklabels\":false},\"margin\":{\"l\":50,\"r\":50,\"t\":50,\"b\":0},\"plot_bgcolor\":\"white\",\"hovermode\":\"closest\"},                        {\"responsive\": true}                    ).then(function(){\n",
       "                            \n",
       "var gd = document.getElementById('2dc5c0a6-2df4-4ab8-b20a-fde716d3c590');\n",
       "var x = new MutationObserver(function (mutations, observer) {{\n",
       "        var display = window.getComputedStyle(gd).display;\n",
       "        if (!display || display === 'none') {{\n",
       "            console.log([gd, 'removed!']);\n",
       "            Plotly.purge(gd);\n",
       "            observer.disconnect();\n",
       "        }}\n",
       "}});\n",
       "\n",
       "// Listen for the removal of the full notebook cells\n",
       "var notebookContainer = gd.closest('#notebook-container');\n",
       "if (notebookContainer) {{\n",
       "    x.observe(notebookContainer, {childList: true});\n",
       "}}\n",
       "\n",
       "// Listen for the clearing of the current output cell\n",
       "var outputEl = gd.closest('.output');\n",
       "if (outputEl) {{\n",
       "    x.observe(outputEl, {childList: true});\n",
       "}}\n",
       "\n",
       "                        })                };                });            </script>        </div>"
      ]
     },
     "metadata": {},
     "output_type": "display_data"
    },
    {
     "data": {
      "application/vnd.plotly.v1+json": {
       "config": {
        "plotlyServerURL": "https://plot.ly"
       },
       "data": [
        {
         "hoverinfo": "text",
         "hovertext": "Aang: The Earth Kingdom city of Omashu!  I used to always come here to visit my friend Bumi.",
         "line": {
          "color": "#F9D672",
          "width": 2
         },
         "mode": "lines",
         "showlegend": false,
         "type": "scatter",
         "x": [
          1,
          1
         ],
         "y": [
          8.5,
          -8.5
         ]
        },
        {
         "hoverinfo": "text",
         "hovertext": "Katara: Wow. We don't have buildings like this in the South Pole!",
         "line": {
          "color": "#81D3E8",
          "width": 2
         },
         "mode": "lines",
         "showlegend": false,
         "type": "scatter",
         "x": [
          3,
          3
         ],
         "y": [
          5.5,
          -5.5
         ]
        },
        {
         "hoverinfo": "text",
         "hovertext": "Sokka: They have buildings here that don't melt!",
         "line": {
          "color": "#81D3E8",
          "width": 2
         },
         "mode": "lines",
         "showlegend": false,
         "type": "scatter",
         "x": [
          5,
          5
         ],
         "y": [
          3.5,
          -3.5
         ]
        },
        {
         "hoverinfo": "text",
         "hovertext": "Aang: Well let's go, slow pokes. The real fun's inside the city!",
         "line": {
          "color": "#F9D672",
          "width": 2
         },
         "mode": "lines",
         "showlegend": false,
         "type": "scatter",
         "x": [
          7,
          7
         ],
         "y": [
          5.5,
          -5.5
         ]
        },
        {
         "hoverinfo": "text",
         "hovertext": "Katara: Wait, Aang! It could be dangerous if people find out you're the Avatar.",
         "line": {
          "color": "#81D3E8",
          "width": 2
         },
         "mode": "lines",
         "showlegend": false,
         "type": "scatter",
         "x": [
          9,
          9
         ],
         "y": [
          6.5,
          -6.5
         ]
        },
        {
         "hoverinfo": "text",
         "hovertext": "Sokka: You need a disguise.",
         "line": {
          "color": "#81D3E8",
          "width": 2
         },
         "mode": "lines",
         "showlegend": false,
         "type": "scatter",
         "x": [
          11,
          11
         ],
         "y": [
          2,
          -2
         ]
        },
        {
         "hoverinfo": "text",
         "hovertext": "Aang: So what am I supposed to do?  Grow a mustache?",
         "line": {
          "color": "#F9D672",
          "width": 2
         },
         "mode": "lines",
         "showlegend": false,
         "type": "scatter",
         "x": [
          13,
          13
         ],
         "y": [
          5,
          -5
         ]
        },
        {
         "hoverinfo": "text",
         "hovertext": "Aang: Ugh. This is so itchy.  How do you live in this stuff?",
         "line": {
          "color": "#F9D672",
          "width": 2
         },
         "mode": "lines",
         "showlegend": false,
         "type": "scatter",
         "x": [
          15,
          15
         ],
         "y": [
          6,
          -6
         ]
        },
        {
         "hoverinfo": "text",
         "hovertext": "Sokka: Great! Now you look just like my grandfather.",
         "line": {
          "color": "#81D3E8",
          "width": 2
         },
         "mode": "lines",
         "showlegend": false,
         "type": "scatter",
         "x": [
          17,
          17
         ],
         "y": [
          4,
          -4
         ]
        },
        {
         "hoverinfo": "text",
         "hovertext": "Katara: Technically, Aang is 112 years old.",
         "line": {
          "color": "#81D3E8",
          "width": 2
         },
         "mode": "lines",
         "showlegend": false,
         "type": "scatter",
         "x": [
          19,
          19
         ],
         "y": [
          3,
          -3
         ]
        },
        {
         "hoverinfo": "text",
         "hovertext": "Aang: Now let's get to skippin', young whipper-snappers. The big city awaits!",
         "line": {
          "color": "#F9D672",
          "width": 2
         },
         "mode": "lines",
         "showlegend": false,
         "type": "scatter",
         "x": [
          21,
          21
         ],
         "y": [
          5.5,
          -5.5
         ]
        },
        {
         "hoverinfo": "text",
         "hovertext": "Aang: You guys are going to love Omashu.  The people here are the friendliest in the world.",
         "line": {
          "color": "#F9D672",
          "width": 2
         },
         "mode": "lines",
         "showlegend": false,
         "type": "scatter",
         "x": [
          23,
          23
         ],
         "y": [
          8,
          -8
         ]
        },
        {
         "hoverinfo": "text",
         "hovertext": "Gate guard: Rotten cabbages?!  What kind of slum do you think this is?!",
         "line": {
          "color": "#848587",
          "width": 2
         },
         "mode": "lines",
         "showlegend": false,
         "type": "scatter",
         "x": [
          25,
          25
         ],
         "y": [
          5.5,
          -5.5
         ]
        },
        {
         "hoverinfo": "text",
         "hovertext": "Cabbage merchant: No! My cabbages!",
         "line": {
          "color": "#848587",
          "width": 2
         },
         "mode": "lines",
         "showlegend": false,
         "type": "scatter",
         "x": [
          27,
          27
         ],
         "y": [
          1.5,
          -1.5
         ]
        },
        {
         "hoverinfo": "text",
         "hovertext": "Aang: Just keep smiling!",
         "line": {
          "color": "#F9D672",
          "width": 2
         },
         "mode": "lines",
         "showlegend": false,
         "type": "scatter",
         "x": [
          29,
          29
         ],
         "y": [
          1.5,
          -1.5
         ]
        },
        {
         "hoverinfo": "text",
         "hovertext": "Gate guard: State your business!",
         "line": {
          "color": "#848587",
          "width": 2
         },
         "mode": "lines",
         "showlegend": false,
         "type": "scatter",
         "x": [
          31,
          31
         ],
         "y": [
          1.5,
          -1.5
         ]
        },
        {
         "hoverinfo": "text",
         "hovertext": "Aang: My business is my business, young man,  and none of yours!  I've got half a mind to  bend you over my knee and paddle your backside!",
         "line": {
          "color": "#F9D672",
          "width": 2
         },
         "mode": "lines",
         "showlegend": false,
         "type": "scatter",
         "x": [
          33,
          33
         ],
         "y": [
          13,
          -13
         ]
        },
        {
         "hoverinfo": "text",
         "hovertext": "Gate guard: Settle down, old timer! Just tell me who you are.",
         "line": {
          "color": "#848587",
          "width": 2
         },
         "mode": "lines",
         "showlegend": false,
         "type": "scatter",
         "x": [
          35,
          35
         ],
         "y": [
          5,
          -5
         ]
        },
        {
         "hoverinfo": "text",
         "hovertext": "Aang: Name's Bonzu Pippinpaddleopsicopolis, the Third,  and these are my grandkids.",
         "line": {
          "color": "#F9D672",
          "width": 2
         },
         "mode": "lines",
         "showlegend": false,
         "type": "scatter",
         "x": [
          37,
          37
         ],
         "y": [
          5,
          -5
         ]
        },
        {
         "hoverinfo": "text",
         "hovertext": "Katara: Hi. June Pippinpaddleopsicopolis. Nice to meet you.",
         "line": {
          "color": "#81D3E8",
          "width": 2
         },
         "mode": "lines",
         "showlegend": false,
         "type": "scatter",
         "x": [
          39,
          39
         ],
         "y": [
          3.5,
          -3.5
         ]
        },
        {
         "hoverinfo": "text",
         "hovertext": "Gate guard: You seem like a responsible young lady. See that your grandfather stays out of trouble. Enjoy Omashu!",
         "line": {
          "color": "#848587",
          "width": 2
         },
         "mode": "lines",
         "showlegend": false,
         "type": "scatter",
         "x": [
          41,
          41
         ],
         "y": [
          8.5,
          -8.5
         ]
        },
        {
         "hoverinfo": "text",
         "hovertext": "Katara: We will!",
         "line": {
          "color": "#81D3E8",
          "width": 2
         },
         "mode": "lines",
         "showlegend": false,
         "type": "scatter",
         "x": [
          43,
          43
         ],
         "y": [
          1,
          -1
         ]
        },
        {
         "hoverinfo": "text",
         "hovertext": "Gate guard: Wait a minute!  You're a strong young boy! Show some respect for the elderly and carry your grandfather's bag!",
         "line": {
          "color": "#848587",
          "width": 2
         },
         "mode": "lines",
         "showlegend": false,
         "type": "scatter",
         "x": [
          45,
          45
         ],
         "y": [
          9.5,
          -9.5
         ]
        },
        {
         "hoverinfo": "text",
         "hovertext": "Aang: Good idea!",
         "line": {
          "color": "#F9D672",
          "width": 2
         },
         "mode": "lines",
         "showlegend": false,
         "type": "scatter",
         "x": [
          47,
          47
         ],
         "y": [
          1,
          -1
         ]
        },
        {
         "hoverinfo": "text",
         "hovertext": "Aang: This is the Omashu delivery system.  Miles and miles of tubes and chutes.",
         "line": {
          "color": "#F9D672",
          "width": 2
         },
         "mode": "lines",
         "showlegend": false,
         "type": "scatter",
         "x": [
          49,
          49
         ],
         "y": [
          6.5,
          -6.5
         ]
        },
        {
         "hoverinfo": "text",
         "hovertext": "Aang: Earthbending brings the packages up, and gravity brings them down.",
         "line": {
          "color": "#F9D672",
          "width": 2
         },
         "mode": "lines",
         "showlegend": false,
         "type": "scatter",
         "x": [
          51,
          51
         ],
         "y": [
          5,
          -5
         ]
        },
        {
         "hoverinfo": "text",
         "hovertext": "Sokka: Great, so they get their mail on time.",
         "line": {
          "color": "#81D3E8",
          "width": 2
         },
         "mode": "lines",
         "showlegend": false,
         "type": "scatter",
         "x": [
          53,
          53
         ],
         "y": [
          4,
          -4
         ]
        },
        {
         "hoverinfo": "text",
         "hovertext": "Aang: They do get their mail on time,  but my friend Bumi found  a better use for these chutes.",
         "line": {
          "color": "#F9D672",
          "width": 2
         },
         "mode": "lines",
         "showlegend": false,
         "type": "scatter",
         "x": [
          55,
          55
         ],
         "y": [
          9,
          -9
         ]
        },
        {
         "hoverinfo": "text",
         "hovertext": "Bumi: Look around you! What do you see?",
         "line": {
          "color": "#729F3D",
          "width": 2
         },
         "mode": "lines",
         "showlegend": false,
         "type": "scatter",
         "x": [
          57,
          57
         ],
         "y": [
          3.5,
          -3.5
         ]
        },
        {
         "hoverinfo": "text",
         "hovertext": "Aang: Um ... The mail system?",
         "line": {
          "color": "#F9D672",
          "width": 2
         },
         "mode": "lines",
         "showlegend": false,
         "type": "scatter",
         "x": [
          59,
          59
         ],
         "y": [
          2.5,
          -2.5
         ]
        },
        {
         "hoverinfo": "text",
         "hovertext": "Bumi: Instead of seeing what they want you to see,  you got to open your brain to the possibilities.",
         "line": {
          "color": "#729F3D",
          "width": 2
         },
         "mode": "lines",
         "showlegend": false,
         "type": "scatter",
         "x": [
          61,
          61
         ],
         "y": [
          9,
          -9
         ]
        },
        {
         "hoverinfo": "text",
         "hovertext": "Aang: A package-sending system?",
         "line": {
          "color": "#F9D672",
          "width": 2
         },
         "mode": "lines",
         "showlegend": false,
         "type": "scatter",
         "x": [
          63,
          63
         ],
         "y": [
          1.5,
          -1.5
         ]
        },
        {
         "hoverinfo": "text",
         "hovertext": "Bumi: The world's greatest superslide!",
         "line": {
          "color": "#729F3D",
          "width": 2
         },
         "mode": "lines",
         "showlegend": false,
         "type": "scatter",
         "x": [
          65,
          65
         ],
         "y": [
          2,
          -2
         ]
        },
        {
         "hoverinfo": "text",
         "hovertext": "Aang: Bumi, you're a mad genius!",
         "line": {
          "color": "#F9D672",
          "width": 2
         },
         "mode": "lines",
         "showlegend": false,
         "type": "scatter",
         "x": [
          67,
          67
         ],
         "y": [
          2.5,
          -2.5
         ]
        },
        {
         "hoverinfo": "text",
         "hovertext": "Aang: One ride. Then we're off to the North Pole. Airbender's honor.",
         "line": {
          "color": "#F9D672",
          "width": 2
         },
         "mode": "lines",
         "showlegend": false,
         "type": "scatter",
         "x": [
          69,
          69
         ],
         "y": [
          5.5,
          -5.5
         ]
        },
        {
         "hoverinfo": "text",
         "hovertext": "Katara: It sounded like fun at first,  but now that I'm here, I'm starting to have second  th-o-o-oughts!",
         "line": {
          "color": "#81D3E8",
          "width": 2
         },
         "mode": "lines",
         "showlegend": false,
         "type": "scatter",
         "x": [
          71,
          71
         ],
         "y": [
          8.5,
          -8.5
         ]
        },
        {
         "hoverinfo": "text",
         "hovertext": "Aang: I'm on it!",
         "line": {
          "color": "#F9D672",
          "width": 2
         },
         "mode": "lines",
         "showlegend": false,
         "type": "scatter",
         "x": [
          73,
          73
         ],
         "y": [
          1.5,
          -1.5
         ]
        },
        {
         "hoverinfo": "text",
         "hovertext": "Omashu captain: Men, you'll be going off to combat soon. It's important that you be prepared for anything.",
         "line": {
          "color": "#848587",
          "width": 2
         },
         "mode": "lines",
         "showlegend": false,
         "type": "scatter",
         "x": [
          75,
          75
         ],
         "y": [
          8,
          -8
         ]
        },
        {
         "hoverinfo": "text",
         "hovertext": "Katara: Aang, do something! Use your airbending!",
         "line": {
          "color": "#81D3E8",
          "width": 2
         },
         "mode": "lines",
         "showlegend": false,
         "type": "scatter",
         "x": [
          77,
          77
         ],
         "y": [
          3,
          -3
         ]
        },
        {
         "hoverinfo": "text",
         "hovertext": "Aang: Yeah! Good idea! That'll make us go even faster!",
         "line": {
          "color": "#F9D672",
          "width": 2
         },
         "mode": "lines",
         "showlegend": false,
         "type": "scatter",
         "x": [
          79,
          79
         ],
         "y": [
          4.5,
          -4.5
         ]
        },
        {
         "hoverinfo": "text",
         "hovertext": "Aang: Sorry!",
         "line": {
          "color": "#F9D672",
          "width": 2
         },
         "mode": "lines",
         "showlegend": false,
         "type": "scatter",
         "x": [
          81,
          81
         ],
         "y": [
          0.5,
          -0.5
         ]
        },
        {
         "hoverinfo": "text",
         "hovertext": "Cabbage merchant: My cabbages!  You're gonna pay for this!",
         "line": {
          "color": "#848587",
          "width": 2
         },
         "mode": "lines",
         "showlegend": false,
         "type": "scatter",
         "x": [
          83,
          83
         ],
         "y": [
          3.5,
          -3.5
         ]
        },
        {
         "hoverinfo": "text",
         "hovertext": "Aang: Two cabbages please.",
         "line": {
          "color": "#F9D672",
          "width": 2
         },
         "mode": "lines",
         "showlegend": false,
         "type": "scatter",
         "x": [
          85,
          85
         ],
         "y": [
          1.5,
          -1.5
         ]
        },
        {
         "hoverinfo": "text",
         "hovertext": "Omashu captain: Your majesty, these juveniles were arrested for vandalism, traveling under false pretenses, and malicious destruction of cabbages.",
         "line": {
          "color": "#848587",
          "width": 2
         },
         "mode": "lines",
         "showlegend": false,
         "type": "scatter",
         "x": [
          87,
          87
         ],
         "y": [
          8.5,
          -8.5
         ]
        },
        {
         "hoverinfo": "text",
         "hovertext": "Cabbage merchant: Off with their heads! One for each head of cabbage!",
         "line": {
          "color": "#848587",
          "width": 2
         },
         "mode": "lines",
         "showlegend": false,
         "type": "scatter",
         "x": [
          89,
          89
         ],
         "y": [
          5,
          -5
         ]
        },
        {
         "hoverinfo": "text",
         "hovertext": "Omashu captain: Silence! Only the king can pass down judgment. What is your judgment, sire?",
         "line": {
          "color": "#848587",
          "width": 2
         },
         "mode": "lines",
         "showlegend": false,
         "type": "scatter",
         "x": [
          91,
          91
         ],
         "y": [
          6.5,
          -6.5
         ]
        },
        {
         "hoverinfo": "text",
         "hovertext": "Bumi: Throw them ...  a feast!",
         "line": {
          "color": "#729F3D",
          "width": 2
         },
         "mode": "lines",
         "showlegend": false,
         "type": "scatter",
         "x": [
          93,
          93
         ],
         "y": [
          2.5,
          -2.5
         ]
        },
        {
         "hoverinfo": "text",
         "hovertext": "Bumi: The people in my city have gotten fat from too many feasts,  so I hope you like your chicken with no skin.",
         "line": {
          "color": "#729F3D",
          "width": 2
         },
         "mode": "lines",
         "showlegend": false,
         "type": "scatter",
         "x": [
          95,
          95
         ],
         "y": [
          11,
          -11
         ]
        },
        {
         "hoverinfo": "text",
         "hovertext": "Aang: Thanks, but I don't eat meat.",
         "line": {
          "color": "#F9D672",
          "width": 2
         },
         "mode": "lines",
         "showlegend": false,
         "type": "scatter",
         "x": [
          97,
          97
         ],
         "y": [
          3,
          -3
         ]
        },
        {
         "hoverinfo": "text",
         "hovertext": "Bumi: How about you? I bet you like meat.",
         "line": {
          "color": "#729F3D",
          "width": 2
         },
         "mode": "lines",
         "showlegend": false,
         "type": "scatter",
         "x": [
          99,
          99
         ],
         "y": [
          4,
          -4
         ]
        },
        {
         "hoverinfo": "text",
         "hovertext": "Katara: Is it just me, or  is this guy's crown a little crooked?",
         "line": {
          "color": "#81D3E8",
          "width": 2
         },
         "mode": "lines",
         "showlegend": false,
         "type": "scatter",
         "x": [
          101,
          101
         ],
         "y": [
          6,
          -6
         ]
        },
        {
         "hoverinfo": "text",
         "hovertext": "Bumi: So tell me, young bald one,  where are you from?",
         "line": {
          "color": "#729F3D",
          "width": 2
         },
         "mode": "lines",
         "showlegend": false,
         "type": "scatter",
         "x": [
          103,
          103
         ],
         "y": [
          5,
          -5
         ]
        },
        {
         "hoverinfo": "text",
         "hovertext": "Aang: I'm from ... Kangaroo Island!",
         "line": {
          "color": "#F9D672",
          "width": 2
         },
         "mode": "lines",
         "showlegend": false,
         "type": "scatter",
         "x": [
          105,
          105
         ],
         "y": [
          2.5,
          -2.5
         ]
        },
        {
         "hoverinfo": "text",
         "hovertext": "Bumi: Oh, Kangaroo Island, eh? I hear that place is really hopping!",
         "line": {
          "color": "#729F3D",
          "width": 2
         },
         "mode": "lines",
         "showlegend": false,
         "type": "scatter",
         "x": [
          107,
          107
         ],
         "y": [
          5.5,
          -5.5
         ]
        },
        {
         "hoverinfo": "text",
         "hovertext": "Sokka: What? It was pretty funny.",
         "line": {
          "color": "#81D3E8",
          "width": 2
         },
         "mode": "lines",
         "showlegend": false,
         "type": "scatter",
         "x": [
          109,
          109
         ],
         "y": [
          2.5,
          -2.5
         ]
        },
        {
         "hoverinfo": "text",
         "hovertext": "Bumi: Well, all these good jokes are making me tired. Guess it's time to hit the hay.",
         "line": {
          "color": "#729F3D",
          "width": 2
         },
         "mode": "lines",
         "showlegend": false,
         "type": "scatter",
         "x": [
          111,
          111
         ],
         "y": [
          8,
          -8
         ]
        },
        {
         "hoverinfo": "text",
         "hovertext": "Bumi: There's an airbender in our presence, and not just any airbender.  The Avatar!",
         "line": {
          "color": "#729F3D",
          "width": 2
         },
         "mode": "lines",
         "showlegend": false,
         "type": "scatter",
         "x": [
          113,
          113
         ],
         "y": [
          6.5,
          -6.5
         ]
        },
        {
         "hoverinfo": "text",
         "hovertext": "Bumi: Now, what do you have to say for yourself,  Mr. Pippinpaddleopsicopolis?",
         "line": {
          "color": "#729F3D",
          "width": 2
         },
         "mode": "lines",
         "showlegend": false,
         "type": "scatter",
         "x": [
          115,
          115
         ],
         "y": [
          5.5,
          -5.5
         ]
        },
        {
         "hoverinfo": "text",
         "hovertext": "Aang: Okay, you caught me.  I'm the Avatar. Doing my Avatar thing, keeping the world safe. Everything checks out.  No firebenders here. So, good work, everybody!  Love each other,  respect all life,  and don't run with your spears. We'll see you next time!",
         "line": {
          "color": "#F9D672",
          "width": 2
         },
         "mode": "lines",
         "showlegend": false,
         "type": "scatter",
         "x": [
          117,
          117
         ],
         "y": [
          21,
          -21
         ]
        },
        {
         "hoverinfo": "text",
         "hovertext": "Katara: You can't keep us here! Let us leave!",
         "line": {
          "color": "#81D3E8",
          "width": 2
         },
         "mode": "lines",
         "showlegend": false,
         "type": "scatter",
         "x": [
          119,
          119
         ],
         "y": [
          4,
          -4
         ]
        },
        {
         "hoverinfo": "text",
         "hovertext": "Bumi: Lettuce leaf?",
         "line": {
          "color": "#729F3D",
          "width": 2
         },
         "mode": "lines",
         "showlegend": false,
         "type": "scatter",
         "x": [
          121,
          121
         ],
         "y": [
          1,
          -1
         ]
        },
        {
         "hoverinfo": "text",
         "hovertext": "Sokka: We're in serious trouble. This guy is nuts.",
         "line": {
          "color": "#81D3E8",
          "width": 2
         },
         "mode": "lines",
         "showlegend": false,
         "type": "scatter",
         "x": [
          123,
          123
         ],
         "y": [
          4,
          -4
         ]
        },
        {
         "hoverinfo": "text",
         "hovertext": "Bumi: Tomorrow, the Avatar will  face three deadly challenges.  But for now, the guards will show you to your chamber.",
         "line": {
          "color": "#729F3D",
          "width": 2
         },
         "mode": "lines",
         "showlegend": false,
         "type": "scatter",
         "x": [
          125,
          125
         ],
         "y": [
          9.5,
          -9.5
         ]
        },
        {
         "hoverinfo": "text",
         "hovertext": "Chamberlain: My liege, do you mean the good chamber or the bad chamber?",
         "line": {
          "color": "#848587",
          "width": 2
         },
         "mode": "lines",
         "showlegend": false,
         "type": "scatter",
         "x": [
          127,
          127
         ],
         "y": [
          6,
          -6
         ]
        },
        {
         "hoverinfo": "text",
         "hovertext": "Bumi: The newly refurbished chamber.",
         "line": {
          "color": "#729F3D",
          "width": 2
         },
         "mode": "lines",
         "showlegend": false,
         "type": "scatter",
         "x": [
          129,
          129
         ],
         "y": [
          2,
          -2
         ]
        },
        {
         "hoverinfo": "text",
         "hovertext": "Chamberlain: Wait, which one are we talking about?",
         "line": {
          "color": "#848587",
          "width": 2
         },
         "mode": "lines",
         "showlegend": false,
         "type": "scatter",
         "x": [
          131,
          131
         ],
         "y": [
          3.5,
          -3.5
         ]
        },
        {
         "hoverinfo": "text",
         "hovertext": "Bumi: The one that used to be the bad chamber, until the recent refurbishing, that is. Of course, we've been calling it the new chamber, but we really should number them.  Uh, take them to the refurbished chamber that was once bad!",
         "line": {
          "color": "#729F3D",
          "width": 2
         },
         "mode": "lines",
         "showlegend": false,
         "type": "scatter",
         "x": [
          133,
          133
         ],
         "y": [
          20.5,
          -20.5
         ]
        },
        {
         "hoverinfo": "text",
         "hovertext": "Katara: This is a prison cell? But it's so nice.",
         "line": {
          "color": "#81D3E8",
          "width": 2
         },
         "mode": "lines",
         "showlegend": false,
         "type": "scatter",
         "x": [
          135,
          135
         ],
         "y": [
          4.5,
          -4.5
         ]
        },
        {
         "hoverinfo": "text",
         "hovertext": "Aang: He did say it was newly refurbished.",
         "line": {
          "color": "#F9D672",
          "width": 2
         },
         "mode": "lines",
         "showlegend": false,
         "type": "scatter",
         "x": [
          137,
          137
         ],
         "y": [
          3.5,
          -3.5
         ]
        },
        {
         "hoverinfo": "text",
         "hovertext": "Sokka: Nice or not, we're prisoners!",
         "line": {
          "color": "#81D3E8",
          "width": 2
         },
         "mode": "lines",
         "showlegend": false,
         "type": "scatter",
         "x": [
          139,
          139
         ],
         "y": [
          2.5,
          -2.5
         ]
        },
        {
         "hoverinfo": "text",
         "hovertext": "Aang: I wonder what these challenges are gonna to be.",
         "line": {
          "color": "#F9D672",
          "width": 2
         },
         "mode": "lines",
         "showlegend": false,
         "type": "scatter",
         "x": [
          141,
          141
         ],
         "y": [
          4.5,
          -4.5
         ]
        },
        {
         "hoverinfo": "text",
         "hovertext": "Katara: We're not sticking around to find out. There's got to be some way out of here.",
         "line": {
          "color": "#81D3E8",
          "width": 2
         },
         "mode": "lines",
         "showlegend": false,
         "type": "scatter",
         "x": [
          143,
          143
         ],
         "y": [
          8,
          -8
         ]
        },
        {
         "hoverinfo": "text",
         "hovertext": "Aang: The air vents!",
         "line": {
          "color": "#F9D672",
          "width": 2
         },
         "mode": "lines",
         "showlegend": false,
         "type": "scatter",
         "x": [
          145,
          145
         ],
         "y": [
          1.5,
          -1.5
         ]
        },
        {
         "hoverinfo": "text",
         "hovertext": "Sokka: If you think we're going to fit through there, you're crazier than that king.",
         "line": {
          "color": "#81D3E8",
          "width": 2
         },
         "mode": "lines",
         "showlegend": false,
         "type": "scatter",
         "x": [
          147,
          147
         ],
         "y": [
          7,
          -7
         ]
        },
        {
         "hoverinfo": "text",
         "hovertext": "Aang: We can't, but Momo can!",
         "line": {
          "color": "#F9D672",
          "width": 2
         },
         "mode": "lines",
         "showlegend": false,
         "type": "scatter",
         "x": [
          149,
          149
         ],
         "y": [
          2.5,
          -2.5
         ]
        },
        {
         "hoverinfo": "text",
         "hovertext": "Aang: Momo, I need you to find Appa and bust us outta here!",
         "line": {
          "color": "#F9D672",
          "width": 2
         },
         "mode": "lines",
         "showlegend": false,
         "type": "scatter",
         "x": [
          151,
          151
         ],
         "y": [
          6,
          -6
         ]
        },
        {
         "hoverinfo": "text",
         "hovertext": "Aang: Go on, boy, get Appa!",
         "line": {
          "color": "#F9D672",
          "width": 2
         },
         "mode": "lines",
         "showlegend": false,
         "type": "scatter",
         "x": [
          153,
          153
         ],
         "y": [
          2.5,
          -2.5
         ]
        },
        {
         "hoverinfo": "text",
         "hovertext": "Sokka: Eh, how was Appa supposed to save us anyway?",
         "line": {
          "color": "#81D3E8",
          "width": 2
         },
         "mode": "lines",
         "showlegend": false,
         "type": "scatter",
         "x": [
          155,
          155
         ],
         "y": [
          4.5,
          -4.5
         ]
        },
        {
         "hoverinfo": "text",
         "hovertext": "Aang: Appa's a ten-ton flying bison; I think he could figure something out.",
         "line": {
          "color": "#F9D672",
          "width": 2
         },
         "mode": "lines",
         "showlegend": false,
         "type": "scatter",
         "x": [
          157,
          157
         ],
         "y": [
          6,
          -6
         ]
        },
        {
         "hoverinfo": "text",
         "hovertext": "Katara: Well, no point arguing about it now. Get some rest, Aang.  Looks like you'll need it for tomorrow.",
         "line": {
          "color": "#81D3E8",
          "width": 2
         },
         "mode": "lines",
         "showlegend": false,
         "type": "scatter",
         "x": [
          159,
          159
         ],
         "y": [
          9,
          -9
         ]
        },
        {
         "hoverinfo": "text",
         "hovertext": "Aang: Sokka?  Katara?  Where are my friends?",
         "line": {
          "color": "#F9D672",
          "width": 2
         },
         "mode": "lines",
         "showlegend": false,
         "type": "scatter",
         "x": [
          161,
          161
         ],
         "y": [
          3,
          -3
         ]
        },
        {
         "hoverinfo": "text",
         "hovertext": "Guard: The king will free them if you complete your challenges.",
         "line": {
          "color": "#848587",
          "width": 2
         },
         "mode": "lines",
         "showlegend": false,
         "type": "scatter",
         "x": [
          163,
          163
         ],
         "y": [
          5,
          -5
         ]
        },
        {
         "hoverinfo": "text",
         "hovertext": "Aang: And if I fail?",
         "line": {
          "color": "#F9D672",
          "width": 2
         },
         "mode": "lines",
         "showlegend": false,
         "type": "scatter",
         "x": [
          165,
          165
         ],
         "y": [
          2,
          -2
         ]
        },
        {
         "hoverinfo": "text",
         "hovertext": "Guard: He didn't say.  Your staff, please?",
         "line": {
          "color": "#848587",
          "width": 2
         },
         "mode": "lines",
         "showlegend": false,
         "type": "scatter",
         "x": [
          167,
          167
         ],
         "y": [
          3,
          -3
         ]
        },
        {
         "hoverinfo": "text",
         "hovertext": "Bumi: First, Avatar,  what do you think of my new outfit? I want your honest opinion.  I'm waiting.",
         "line": {
          "color": "#729F3D",
          "width": 2
         },
         "mode": "lines",
         "showlegend": false,
         "type": "scatter",
         "x": [
          169,
          169
         ],
         "y": [
          8.5,
          -8.5
         ]
        },
        {
         "hoverinfo": "text",
         "hovertext": "Aang: I ... guess it's fine.",
         "line": {
          "color": "#F9D672",
          "width": 2
         },
         "mode": "lines",
         "showlegend": false,
         "type": "scatter",
         "x": [
          171,
          171
         ],
         "y": [
          2.5,
          -2.5
         ]
        },
        {
         "hoverinfo": "text",
         "hovertext": "Bumi: Excellent! You passed the first test.",
         "line": {
          "color": "#729F3D",
          "width": 2
         },
         "mode": "lines",
         "showlegend": false,
         "type": "scatter",
         "x": [
          173,
          173
         ],
         "y": [
          3,
          -3
         ]
        },
        {
         "hoverinfo": "text",
         "hovertext": "Aang: Really?",
         "line": {
          "color": "#F9D672",
          "width": 2
         },
         "mode": "lines",
         "showlegend": false,
         "type": "scatter",
         "x": [
          175,
          175
         ],
         "y": [
          0.5,
          -0.5
         ]
        },
        {
         "hoverinfo": "text",
         "hovertext": "Bumi: Well, not one of the deadly tests.  The real challenges are much more, uh, challenging.",
         "line": {
          "color": "#729F3D",
          "width": 2
         },
         "mode": "lines",
         "showlegend": false,
         "type": "scatter",
         "x": [
          177,
          177
         ],
         "y": [
          7.5,
          -7.5
         ]
        },
        {
         "hoverinfo": "text",
         "hovertext": "Aang: I don't have time for your crazy games!  Give me my friends back! We're leaving!",
         "line": {
          "color": "#F9D672",
          "width": 2
         },
         "mode": "lines",
         "showlegend": false,
         "type": "scatter",
         "x": [
          179,
          179
         ],
         "y": [
          7.5,
          -7.5
         ]
        },
        {
         "hoverinfo": "text",
         "hovertext": "Bumi: Oh, I thought you might refuse,  so I will give your friends some special souvenirs.",
         "line": {
          "color": "#729F3D",
          "width": 2
         },
         "mode": "lines",
         "showlegend": false,
         "type": "scatter",
         "x": [
          181,
          181
         ],
         "y": [
          7.5,
          -7.5
         ]
        },
        {
         "hoverinfo": "text",
         "hovertext": "Bumi: Those delightful rings are made of pure jennamite, also known as creeping crystal. It's a crystal that grows remarkably fast.  By nightfall your friends will be completely covered in it.  Terrible thing, really.  I can stop it, but only if you cooperate.",
         "line": {
          "color": "#729F3D",
          "width": 2
         },
         "mode": "lines",
         "showlegend": false,
         "type": "scatter",
         "x": [
          183,
          183
         ],
         "y": [
          21,
          -21
         ]
        },
        {
         "hoverinfo": "text",
         "hovertext": "Sokka: Ah! It's already creeping!",
         "line": {
          "color": "#81D3E8",
          "width": 2
         },
         "mode": "lines",
         "showlegend": false,
         "type": "scatter",
         "x": [
          185,
          185
         ],
         "y": [
          2,
          -2
         ]
        },
        {
         "hoverinfo": "text",
         "hovertext": "Aang: I'll do what you want.",
         "line": {
          "color": "#F9D672",
          "width": 2
         },
         "mode": "lines",
         "showlegend": false,
         "type": "scatter",
         "x": [
          187,
          187
         ],
         "y": [
          2.5,
          -2.5
         ]
        },
        {
         "hoverinfo": "text",
         "hovertext": "Bumi: It seems I've lost my lunch box key and I'm hungry. Ooh, there it is!  Would you mind fetching it for me?",
         "line": {
          "color": "#729F3D",
          "width": 2
         },
         "mode": "lines",
         "showlegend": false,
         "type": "scatter",
         "x": [
          189,
          189
         ],
         "y": [
          11,
          -11
         ]
        },
        {
         "hoverinfo": "text",
         "hovertext": "Bumi: Ooh, climbing the ladder. No one's thought of that before.",
         "line": {
          "color": "#729F3D",
          "width": 2
         },
         "mode": "lines",
         "showlegend": false,
         "type": "scatter",
         "x": [
          191,
          191
         ],
         "y": [
          5,
          -5
         ]
        },
        {
         "hoverinfo": "text",
         "hovertext": "Bumi: That's right. Keep diving head in. I'm sure it'll work eventually.",
         "line": {
          "color": "#729F3D",
          "width": 2
         },
         "mode": "lines",
         "showlegend": false,
         "type": "scatter",
         "x": [
          193,
          193
         ],
         "y": [
          5.5,
          -5.5
         ]
        },
        {
         "hoverinfo": "text",
         "hovertext": "Aang: There! Enjoy your lunch! I want my friends back now !",
         "line": {
          "color": "#F9D672",
          "width": 2
         },
         "mode": "lines",
         "showlegend": false,
         "type": "scatter",
         "x": [
          195,
          195
         ],
         "y": [
          5.5,
          -5.5
         ]
        },
        {
         "hoverinfo": "text",
         "hovertext": "Bumi: Ah, not yet. I need help with another matter. It seems I've lost my pet, Flopsie.",
         "line": {
          "color": "#729F3D",
          "width": 2
         },
         "mode": "lines",
         "showlegend": false,
         "type": "scatter",
         "x": [
          197,
          197
         ],
         "y": [
          8,
          -8
         ]
        },
        {
         "hoverinfo": "text",
         "hovertext": "Aang: Okay! Found him!",
         "line": {
          "color": "#F9D672",
          "width": 2
         },
         "mode": "lines",
         "showlegend": false,
         "type": "scatter",
         "x": [
          199,
          199
         ],
         "y": [
          1.5,
          -1.5
         ]
        },
        {
         "hoverinfo": "text",
         "hovertext": "Bumi: Bring him to me. Daddy wants a kiss from Flopsie!",
         "line": {
          "color": "#729F3D",
          "width": 2
         },
         "mode": "lines",
         "showlegend": false,
         "type": "scatter",
         "x": [
          201,
          201
         ],
         "y": [
          5,
          -5
         ]
        },
        {
         "hoverinfo": "text",
         "hovertext": "Aang: Come here, Flopsie.  Huh?",
         "line": {
          "color": "#F9D672",
          "width": 2
         },
         "mode": "lines",
         "showlegend": false,
         "type": "scatter",
         "x": [
          203,
          203
         ],
         "y": [
          2,
          -2
         ]
        },
        {
         "hoverinfo": "text",
         "hovertext": "Aang: Flopsie, wait! Flopsie!  Flopsie!",
         "line": {
          "color": "#F9D672",
          "width": 2
         },
         "mode": "lines",
         "showlegend": false,
         "type": "scatter",
         "x": [
          205,
          205
         ],
         "y": [
          2,
          -2
         ]
        },
        {
         "hoverinfo": "text",
         "hovertext": "Aang: Wait a minute.  Flopsie?",
         "line": {
          "color": "#F9D672",
          "width": 2
         },
         "mode": "lines",
         "showlegend": false,
         "type": "scatter",
         "x": [
          207,
          207
         ],
         "y": [
          2,
          -2
         ]
        },
        {
         "hoverinfo": "text",
         "hovertext": "Aang: Flopsie!",
         "line": {
          "color": "#F9D672",
          "width": 2
         },
         "mode": "lines",
         "showlegend": false,
         "type": "scatter",
         "x": [
          209,
          209
         ],
         "y": [
          0.5,
          -0.5
         ]
        },
        {
         "hoverinfo": "text",
         "hovertext": "Bumi: Oh, that's a good boy. Yes, who has a soft belly?",
         "line": {
          "color": "#729F3D",
          "width": 2
         },
         "mode": "lines",
         "showlegend": false,
         "type": "scatter",
         "x": [
          211,
          211
         ],
         "y": [
          5.5,
          -5.5
         ]
        },
        {
         "hoverinfo": "text",
         "hovertext": "Aang: Guys, are you okay?",
         "line": {
          "color": "#F9D672",
          "width": 2
         },
         "mode": "lines",
         "showlegend": false,
         "type": "scatter",
         "x": [
          213,
          213
         ],
         "y": [
          2,
          -2
         ]
        },
        {
         "hoverinfo": "text",
         "hovertext": "Katara: Other than the crystals slowly encasing my entire body, doing great!",
         "line": {
          "color": "#81D3E8",
          "width": 2
         },
         "mode": "lines",
         "showlegend": false,
         "type": "scatter",
         "x": [
          215,
          215
         ],
         "y": [
          5.5,
          -5.5
         ]
        },
        {
         "hoverinfo": "text",
         "hovertext": "Bumi: Oh, yes.",
         "line": {
          "color": "#729F3D",
          "width": 2
         },
         "mode": "lines",
         "showlegend": false,
         "type": "scatter",
         "x": [
          217,
          217
         ],
         "y": [
          1,
          -1
         ]
        },
        {
         "hoverinfo": "text",
         "hovertext": "Aang: Come on! I'm ready for the next challenge.",
         "line": {
          "color": "#F9D672",
          "width": 2
         },
         "mode": "lines",
         "showlegend": false,
         "type": "scatter",
         "x": [
          219,
          219
         ],
         "y": [
          4,
          -4
         ]
        },
        {
         "hoverinfo": "text",
         "hovertext": "Bumi: Your final test is a duel. And as a special treat, you may choose your opponent.",
         "line": {
          "color": "#729F3D",
          "width": 2
         },
         "mode": "lines",
         "showlegend": false,
         "type": "scatter",
         "x": [
          221,
          221
         ],
         "y": [
          8,
          -8
         ]
        },
        {
         "hoverinfo": "text",
         "hovertext": "Bumi: Point and choose.",
         "line": {
          "color": "#729F3D",
          "width": 2
         },
         "mode": "lines",
         "showlegend": false,
         "type": "scatter",
         "x": [
          223,
          223
         ],
         "y": [
          1.5,
          -1.5
         ]
        },
        {
         "hoverinfo": "text",
         "hovertext": "Aang: So ... you're saying whoever I point to, that's the person I get to fight?",
         "line": {
          "color": "#F9D672",
          "width": 2
         },
         "mode": "lines",
         "showlegend": false,
         "type": "scatter",
         "x": [
          225,
          225
         ],
         "y": [
          7.5,
          -7.5
         ]
        },
        {
         "hoverinfo": "text",
         "hovertext": "Bumi: Choose wisely!",
         "line": {
          "color": "#729F3D",
          "width": 2
         },
         "mode": "lines",
         "showlegend": false,
         "type": "scatter",
         "x": [
          227,
          227
         ],
         "y": [
          1,
          -1
         ]
        },
        {
         "hoverinfo": "text",
         "hovertext": "Aang: I ... choose ... you.",
         "line": {
          "color": "#F9D672",
          "width": 2
         },
         "mode": "lines",
         "showlegend": false,
         "type": "scatter",
         "x": [
          229,
          229
         ],
         "y": [
          2.5,
          -2.5
         ]
        },
        {
         "hoverinfo": "text",
         "hovertext": "Bumi: Wrong choice!",
         "line": {
          "color": "#729F3D",
          "width": 2
         },
         "mode": "lines",
         "showlegend": false,
         "type": "scatter",
         "x": [
          231,
          231
         ],
         "y": [
          1,
          -1
         ]
        },
        {
         "hoverinfo": "text",
         "hovertext": "Bumi: You thought I was a frail old man, but I'm the most powerful earthbender you'll ever see.",
         "line": {
          "color": "#729F3D",
          "width": 2
         },
         "mode": "lines",
         "showlegend": false,
         "type": "scatter",
         "x": [
          233,
          233
         ],
         "y": [
          8.5,
          -8.5
         ]
        },
        {
         "hoverinfo": "text",
         "hovertext": "Aang: Can I fight the guy with the axe instead?",
         "line": {
          "color": "#F9D672",
          "width": 2
         },
         "mode": "lines",
         "showlegend": false,
         "type": "scatter",
         "x": [
          235,
          235
         ],
         "y": [
          4.5,
          -4.5
         ]
        },
        {
         "hoverinfo": "text",
         "hovertext": "Bumi: There are no take-backsies in my kingdom. You might need this.",
         "line": {
          "color": "#729F3D",
          "width": 2
         },
         "mode": "lines",
         "showlegend": false,
         "type": "scatter",
         "x": [
          237,
          237
         ],
         "y": [
          5.5,
          -5.5
         ]
        },
        {
         "hoverinfo": "text",
         "hovertext": "Bumi: Typical airbender tactic: avoid and evade. I hoped the Avatar would be less predictable.",
         "line": {
          "color": "#729F3D",
          "width": 2
         },
         "mode": "lines",
         "showlegend": false,
         "type": "scatter",
         "x": [
          239,
          239
         ],
         "y": [
          7,
          -7
         ]
        },
        {
         "hoverinfo": "text",
         "hovertext": "Bumi: Don't you have any surprises for me? Sooner or later you'll have to strike back!",
         "line": {
          "color": "#729F3D",
          "width": 2
         },
         "mode": "lines",
         "showlegend": false,
         "type": "scatter",
         "x": [
          241,
          241
         ],
         "y": [
          7.5,
          -7.5
         ]
        },
        {
         "hoverinfo": "text",
         "hovertext": "Bumi: You'll have to be a little more creative than that!",
         "line": {
          "color": "#729F3D",
          "width": 2
         },
         "mode": "lines",
         "showlegend": false,
         "type": "scatter",
         "x": [
          243,
          243
         ],
         "y": [
          5,
          -5
         ]
        },
        {
         "hoverinfo": "text",
         "hovertext": "Bumi: Did someone leave the windows open? It feels a little drafty in here. Are you hoping I'll catch a cold?",
         "line": {
          "color": "#729F3D",
          "width": 2
         },
         "mode": "lines",
         "showlegend": false,
         "type": "scatter",
         "x": [
          245,
          245
         ],
         "y": [
          10,
          -10
         ]
        },
        {
         "hoverinfo": "text",
         "hovertext": "Bumi: How are you going to get me from way over there?",
         "line": {
          "color": "#729F3D",
          "width": 2
         },
         "mode": "lines",
         "showlegend": false,
         "type": "scatter",
         "x": [
          247,
          247
         ],
         "y": [
          5.5,
          -5.5
         ]
        },
        {
         "hoverinfo": "text",
         "hovertext": "Bumi: Well done, Avatar. You fight with much fire in your heart.  You've passed all my tests. Now, you must answer one question.",
         "line": {
          "color": "#729F3D",
          "width": 2
         },
         "mode": "lines",
         "showlegend": false,
         "type": "scatter",
         "x": [
          249,
          249
         ],
         "y": [
          11,
          -11
         ]
        },
        {
         "hoverinfo": "text",
         "hovertext": "Aang: That's not fair! You said you would release my friends if I finished your tests.",
         "line": {
          "color": "#F9D672",
          "width": 2
         },
         "mode": "lines",
         "showlegend": false,
         "type": "scatter",
         "x": [
          251,
          251
         ],
         "y": [
          7.5,
          -7.5
         ]
        },
        {
         "hoverinfo": "text",
         "hovertext": "Bumi: Oh, but what's the point of tests if you don't learn anything?",
         "line": {
          "color": "#729F3D",
          "width": 2
         },
         "mode": "lines",
         "showlegend": false,
         "type": "scatter",
         "x": [
          253,
          253
         ],
         "y": [
          6,
          -6
         ]
        },
        {
         "hoverinfo": "text",
         "hovertext": "Sokka: Oh, come on!",
         "line": {
          "color": "#81D3E8",
          "width": 2
         },
         "mode": "lines",
         "showlegend": false,
         "type": "scatter",
         "x": [
          255,
          255
         ],
         "y": [
          1.5,
          -1.5
         ]
        },
        {
         "hoverinfo": "text",
         "hovertext": "Bumi: Answer this one question and I will set your friends free. What ... is my name? From the looks of your friends I'd say you only have a few minutes.",
         "line": {
          "color": "#729F3D",
          "width": 2
         },
         "mode": "lines",
         "showlegend": false,
         "type": "scatter",
         "x": [
          257,
          257
         ],
         "y": [
          15,
          -15
         ]
        },
        {
         "hoverinfo": "text",
         "hovertext": "Aang: How am I supposed to know his name?",
         "line": {
          "color": "#F9D672",
          "width": 2
         },
         "mode": "lines",
         "showlegend": false,
         "type": "scatter",
         "x": [
          259,
          259
         ],
         "y": [
          4,
          -4
         ]
        },
        {
         "hoverinfo": "text",
         "hovertext": "Katara: Think about the challenges. Maybe it's some kind of riddle.",
         "line": {
          "color": "#81D3E8",
          "width": 2
         },
         "mode": "lines",
         "showlegend": false,
         "type": "scatter",
         "x": [
          261,
          261
         ],
         "y": [
          5,
          -5
         ]
        },
        {
         "hoverinfo": "text",
         "hovertext": "Sokka: I got it!",
         "line": {
          "color": "#81D3E8",
          "width": 2
         },
         "mode": "lines",
         "showlegend": false,
         "type": "scatter",
         "x": [
          263,
          263
         ],
         "y": [
          1.5,
          -1.5
         ]
        },
        {
         "hoverinfo": "text",
         "hovertext": "Aang: Yeah?",
         "line": {
          "color": "#F9D672",
          "width": 2
         },
         "mode": "lines",
         "showlegend": false,
         "type": "scatter",
         "x": [
          265,
          265
         ],
         "y": [
          0.5,
          -0.5
         ]
        },
        {
         "hoverinfo": "text",
         "hovertext": "Sokka: He's an earthbender, right? Rocky. You know, because of all the rocks.",
         "line": {
          "color": "#81D3E8",
          "width": 2
         },
         "mode": "lines",
         "showlegend": false,
         "type": "scatter",
         "x": [
          267,
          267
         ],
         "y": [
          6,
          -6
         ]
        },
        {
         "hoverinfo": "text",
         "hovertext": "Katara: We're going to keep trying, but that is a good back-up.",
         "line": {
          "color": "#81D3E8",
          "width": 2
         },
         "mode": "lines",
         "showlegend": false,
         "type": "scatter",
         "x": [
          269,
          269
         ],
         "y": [
          5.5,
          -5.5
         ]
        },
        {
         "hoverinfo": "text",
         "hovertext": "Aang: Okay. So back to the challenges. I got a key from the waterfall, I saved his pet, and I had a duel.",
         "line": {
          "color": "#F9D672",
          "width": 2
         },
         "mode": "lines",
         "showlegend": false,
         "type": "scatter",
         "x": [
          271,
          271
         ],
         "y": [
          11,
          -11
         ]
        },
        {
         "hoverinfo": "text",
         "hovertext": "Katara: And what did you learn?",
         "line": {
          "color": "#81D3E8",
          "width": 2
         },
         "mode": "lines",
         "showlegend": false,
         "type": "scatter",
         "x": [
          273,
          273
         ],
         "y": [
          2.5,
          -2.5
         ]
        },
        {
         "hoverinfo": "text",
         "hovertext": "Aang: Well, everything was different than I expected.",
         "line": {
          "color": "#F9D672",
          "width": 2
         },
         "mode": "lines",
         "showlegend": false,
         "type": "scatter",
         "x": [
          275,
          275
         ],
         "y": [
          3.5,
          -3.5
         ]
        },
        {
         "hoverinfo": "text",
         "hovertext": "Katara: And?",
         "line": {
          "color": "#81D3E8",
          "width": 2
         },
         "mode": "lines",
         "showlegend": false,
         "type": "scatter",
         "x": [
          277,
          277
         ],
         "y": [
          0.5,
          -0.5
         ]
        },
        {
         "hoverinfo": "text",
         "hovertext": "Aang: Well, they weren't straight forward. To solve each test, I had to think differently than I usually would. I know his name.",
         "line": {
          "color": "#F9D672",
          "width": 2
         },
         "mode": "lines",
         "showlegend": false,
         "type": "scatter",
         "x": [
          279,
          279
         ],
         "y": [
          11,
          -11
         ]
        },
        {
         "hoverinfo": "text",
         "hovertext": "Aang: I solved the question the same way I solved the challenges. As you said a long time ago, I had to open my brain to the possibilities.  Bumi, you're a mad genius.",
         "line": {
          "color": "#F9D672",
          "width": 2
         },
         "mode": "lines",
         "showlegend": false,
         "type": "scatter",
         "x": [
          281,
          281
         ],
         "y": [
          16,
          -16
         ]
        },
        {
         "hoverinfo": "text",
         "hovertext": "Bumi: Oh Aang, it's good to see you. You haven't changed a bit. Literally.",
         "line": {
          "color": "#729F3D",
          "width": 2
         },
         "mode": "lines",
         "showlegend": false,
         "type": "scatter",
         "x": [
          283,
          283
         ],
         "y": [
          6.5,
          -6.5
         ]
        },
        {
         "hoverinfo": "text",
         "hovertext": "Katara: Uh, over here!",
         "line": {
          "color": "#81D3E8",
          "width": 2
         },
         "mode": "lines",
         "showlegend": false,
         "type": "scatter",
         "x": [
          285,
          285
         ],
         "y": [
          1.5,
          -1.5
         ]
        },
        {
         "hoverinfo": "text",
         "hovertext": "Sokka: Little help?",
         "line": {
          "color": "#81D3E8",
          "width": 2
         },
         "mode": "lines",
         "showlegend": false,
         "type": "scatter",
         "x": [
          287,
          287
         ],
         "y": [
          1,
          -1
         ]
        },
        {
         "hoverinfo": "text",
         "hovertext": "Bumi: Jennamite is made of rock candy.  Delicious!",
         "line": {
          "color": "#729F3D",
          "width": 2
         },
         "mode": "lines",
         "showlegend": false,
         "type": "scatter",
         "x": [
          289,
          289
         ],
         "y": [
          3.5,
          -3.5
         ]
        },
        {
         "hoverinfo": "text",
         "hovertext": "Katara: So this crazy king is your old friend Bumi?",
         "line": {
          "color": "#81D3E8",
          "width": 2
         },
         "mode": "lines",
         "showlegend": false,
         "type": "scatter",
         "x": [
          291,
          291
         ],
         "y": [
          4.5,
          -4.5
         ]
        },
        {
         "hoverinfo": "text",
         "hovertext": "Bumi: Who are you calling old? Okay, I'm old.",
         "line": {
          "color": "#729F3D",
          "width": 2
         },
         "mode": "lines",
         "showlegend": false,
         "type": "scatter",
         "x": [
          293,
          293
         ],
         "y": [
          4,
          -4
         ]
        },
        {
         "hoverinfo": "text",
         "hovertext": "Sokka: Why did you do all of this instead of just telling Aang who you were?",
         "line": {
          "color": "#81D3E8",
          "width": 2
         },
         "mode": "lines",
         "showlegend": false,
         "type": "scatter",
         "x": [
          295,
          295
         ],
         "y": [
          7.5,
          -7.5
         ]
        },
        {
         "hoverinfo": "text",
         "hovertext": "Bumi: First of all, it's pretty fun messing with people.  But I do have a reason. Aang, you have a difficult task ahead. The world has changed in the hundred years that you've been gone. It's the duty of the Avatar to restore balance to the world by defeating Fire Lord Ozai. You have much to learn. You must master the four elements and confront the Fire Lord. And when you do, I hope you will think like a mad genius. And it looks like you're in good hands. You'll need your friends to help you defeat the Fire Nation.  And you'll need Momo, too.",
         "line": {
          "color": "#729F3D",
          "width": 2
         },
         "mode": "lines",
         "showlegend": false,
         "type": "scatter",
         "x": [
          297,
          297
         ],
         "y": [
          52,
          -52
         ]
        },
        {
         "hoverinfo": "text",
         "hovertext": "Aang: Thank you for your wisdom, but before we leave, I have a challenge for you.",
         "line": {
          "color": "#F9D672",
          "width": 2
         },
         "mode": "lines",
         "showlegend": false,
         "type": "scatter",
         "x": [
          299,
          299
         ],
         "y": [
          7.5,
          -7.5
         ]
        },
        {
         "hoverinfo": "text",
         "hovertext": "Cabbage merchant: My cabbages!",
         "line": {
          "color": "#848587",
          "width": 2
         },
         "mode": "lines",
         "showlegend": false,
         "type": "scatter",
         "x": [
          301,
          301
         ],
         "y": [
          1,
          -1
         ]
        }
       ],
       "layout": {
        "autosize": true,
        "hovermode": "closest",
        "margin": {
         "b": 0,
         "l": 50,
         "r": 50,
         "t": 50
        },
        "plot_bgcolor": "white",
        "template": {
         "data": {
          "bar": [
           {
            "error_x": {
             "color": "#2a3f5f"
            },
            "error_y": {
             "color": "#2a3f5f"
            },
            "marker": {
             "line": {
              "color": "#E5ECF6",
              "width": 0.5
             },
             "pattern": {
              "fillmode": "overlay",
              "size": 10,
              "solidity": 0.2
             }
            },
            "type": "bar"
           }
          ],
          "barpolar": [
           {
            "marker": {
             "line": {
              "color": "#E5ECF6",
              "width": 0.5
             },
             "pattern": {
              "fillmode": "overlay",
              "size": 10,
              "solidity": 0.2
             }
            },
            "type": "barpolar"
           }
          ],
          "carpet": [
           {
            "aaxis": {
             "endlinecolor": "#2a3f5f",
             "gridcolor": "white",
             "linecolor": "white",
             "minorgridcolor": "white",
             "startlinecolor": "#2a3f5f"
            },
            "baxis": {
             "endlinecolor": "#2a3f5f",
             "gridcolor": "white",
             "linecolor": "white",
             "minorgridcolor": "white",
             "startlinecolor": "#2a3f5f"
            },
            "type": "carpet"
           }
          ],
          "choropleth": [
           {
            "colorbar": {
             "outlinewidth": 0,
             "ticks": ""
            },
            "type": "choropleth"
           }
          ],
          "contour": [
           {
            "colorbar": {
             "outlinewidth": 0,
             "ticks": ""
            },
            "colorscale": [
             [
              0,
              "#0d0887"
             ],
             [
              0.1111111111111111,
              "#46039f"
             ],
             [
              0.2222222222222222,
              "#7201a8"
             ],
             [
              0.3333333333333333,
              "#9c179e"
             ],
             [
              0.4444444444444444,
              "#bd3786"
             ],
             [
              0.5555555555555556,
              "#d8576b"
             ],
             [
              0.6666666666666666,
              "#ed7953"
             ],
             [
              0.7777777777777778,
              "#fb9f3a"
             ],
             [
              0.8888888888888888,
              "#fdca26"
             ],
             [
              1,
              "#f0f921"
             ]
            ],
            "type": "contour"
           }
          ],
          "contourcarpet": [
           {
            "colorbar": {
             "outlinewidth": 0,
             "ticks": ""
            },
            "type": "contourcarpet"
           }
          ],
          "heatmap": [
           {
            "colorbar": {
             "outlinewidth": 0,
             "ticks": ""
            },
            "colorscale": [
             [
              0,
              "#0d0887"
             ],
             [
              0.1111111111111111,
              "#46039f"
             ],
             [
              0.2222222222222222,
              "#7201a8"
             ],
             [
              0.3333333333333333,
              "#9c179e"
             ],
             [
              0.4444444444444444,
              "#bd3786"
             ],
             [
              0.5555555555555556,
              "#d8576b"
             ],
             [
              0.6666666666666666,
              "#ed7953"
             ],
             [
              0.7777777777777778,
              "#fb9f3a"
             ],
             [
              0.8888888888888888,
              "#fdca26"
             ],
             [
              1,
              "#f0f921"
             ]
            ],
            "type": "heatmap"
           }
          ],
          "heatmapgl": [
           {
            "colorbar": {
             "outlinewidth": 0,
             "ticks": ""
            },
            "colorscale": [
             [
              0,
              "#0d0887"
             ],
             [
              0.1111111111111111,
              "#46039f"
             ],
             [
              0.2222222222222222,
              "#7201a8"
             ],
             [
              0.3333333333333333,
              "#9c179e"
             ],
             [
              0.4444444444444444,
              "#bd3786"
             ],
             [
              0.5555555555555556,
              "#d8576b"
             ],
             [
              0.6666666666666666,
              "#ed7953"
             ],
             [
              0.7777777777777778,
              "#fb9f3a"
             ],
             [
              0.8888888888888888,
              "#fdca26"
             ],
             [
              1,
              "#f0f921"
             ]
            ],
            "type": "heatmapgl"
           }
          ],
          "histogram": [
           {
            "marker": {
             "pattern": {
              "fillmode": "overlay",
              "size": 10,
              "solidity": 0.2
             }
            },
            "type": "histogram"
           }
          ],
          "histogram2d": [
           {
            "colorbar": {
             "outlinewidth": 0,
             "ticks": ""
            },
            "colorscale": [
             [
              0,
              "#0d0887"
             ],
             [
              0.1111111111111111,
              "#46039f"
             ],
             [
              0.2222222222222222,
              "#7201a8"
             ],
             [
              0.3333333333333333,
              "#9c179e"
             ],
             [
              0.4444444444444444,
              "#bd3786"
             ],
             [
              0.5555555555555556,
              "#d8576b"
             ],
             [
              0.6666666666666666,
              "#ed7953"
             ],
             [
              0.7777777777777778,
              "#fb9f3a"
             ],
             [
              0.8888888888888888,
              "#fdca26"
             ],
             [
              1,
              "#f0f921"
             ]
            ],
            "type": "histogram2d"
           }
          ],
          "histogram2dcontour": [
           {
            "colorbar": {
             "outlinewidth": 0,
             "ticks": ""
            },
            "colorscale": [
             [
              0,
              "#0d0887"
             ],
             [
              0.1111111111111111,
              "#46039f"
             ],
             [
              0.2222222222222222,
              "#7201a8"
             ],
             [
              0.3333333333333333,
              "#9c179e"
             ],
             [
              0.4444444444444444,
              "#bd3786"
             ],
             [
              0.5555555555555556,
              "#d8576b"
             ],
             [
              0.6666666666666666,
              "#ed7953"
             ],
             [
              0.7777777777777778,
              "#fb9f3a"
             ],
             [
              0.8888888888888888,
              "#fdca26"
             ],
             [
              1,
              "#f0f921"
             ]
            ],
            "type": "histogram2dcontour"
           }
          ],
          "mesh3d": [
           {
            "colorbar": {
             "outlinewidth": 0,
             "ticks": ""
            },
            "type": "mesh3d"
           }
          ],
          "parcoords": [
           {
            "line": {
             "colorbar": {
              "outlinewidth": 0,
              "ticks": ""
             }
            },
            "type": "parcoords"
           }
          ],
          "pie": [
           {
            "automargin": true,
            "type": "pie"
           }
          ],
          "scatter": [
           {
            "fillpattern": {
             "fillmode": "overlay",
             "size": 10,
             "solidity": 0.2
            },
            "type": "scatter"
           }
          ],
          "scatter3d": [
           {
            "line": {
             "colorbar": {
              "outlinewidth": 0,
              "ticks": ""
             }
            },
            "marker": {
             "colorbar": {
              "outlinewidth": 0,
              "ticks": ""
             }
            },
            "type": "scatter3d"
           }
          ],
          "scattercarpet": [
           {
            "marker": {
             "colorbar": {
              "outlinewidth": 0,
              "ticks": ""
             }
            },
            "type": "scattercarpet"
           }
          ],
          "scattergeo": [
           {
            "marker": {
             "colorbar": {
              "outlinewidth": 0,
              "ticks": ""
             }
            },
            "type": "scattergeo"
           }
          ],
          "scattergl": [
           {
            "marker": {
             "colorbar": {
              "outlinewidth": 0,
              "ticks": ""
             }
            },
            "type": "scattergl"
           }
          ],
          "scattermapbox": [
           {
            "marker": {
             "colorbar": {
              "outlinewidth": 0,
              "ticks": ""
             }
            },
            "type": "scattermapbox"
           }
          ],
          "scatterpolar": [
           {
            "marker": {
             "colorbar": {
              "outlinewidth": 0,
              "ticks": ""
             }
            },
            "type": "scatterpolar"
           }
          ],
          "scatterpolargl": [
           {
            "marker": {
             "colorbar": {
              "outlinewidth": 0,
              "ticks": ""
             }
            },
            "type": "scatterpolargl"
           }
          ],
          "scatterternary": [
           {
            "marker": {
             "colorbar": {
              "outlinewidth": 0,
              "ticks": ""
             }
            },
            "type": "scatterternary"
           }
          ],
          "surface": [
           {
            "colorbar": {
             "outlinewidth": 0,
             "ticks": ""
            },
            "colorscale": [
             [
              0,
              "#0d0887"
             ],
             [
              0.1111111111111111,
              "#46039f"
             ],
             [
              0.2222222222222222,
              "#7201a8"
             ],
             [
              0.3333333333333333,
              "#9c179e"
             ],
             [
              0.4444444444444444,
              "#bd3786"
             ],
             [
              0.5555555555555556,
              "#d8576b"
             ],
             [
              0.6666666666666666,
              "#ed7953"
             ],
             [
              0.7777777777777778,
              "#fb9f3a"
             ],
             [
              0.8888888888888888,
              "#fdca26"
             ],
             [
              1,
              "#f0f921"
             ]
            ],
            "type": "surface"
           }
          ],
          "table": [
           {
            "cells": {
             "fill": {
              "color": "#EBF0F8"
             },
             "line": {
              "color": "white"
             }
            },
            "header": {
             "fill": {
              "color": "#C8D4E3"
             },
             "line": {
              "color": "white"
             }
            },
            "type": "table"
           }
          ]
         },
         "layout": {
          "annotationdefaults": {
           "arrowcolor": "#2a3f5f",
           "arrowhead": 0,
           "arrowwidth": 1
          },
          "autotypenumbers": "strict",
          "coloraxis": {
           "colorbar": {
            "outlinewidth": 0,
            "ticks": ""
           }
          },
          "colorscale": {
           "diverging": [
            [
             0,
             "#8e0152"
            ],
            [
             0.1,
             "#c51b7d"
            ],
            [
             0.2,
             "#de77ae"
            ],
            [
             0.3,
             "#f1b6da"
            ],
            [
             0.4,
             "#fde0ef"
            ],
            [
             0.5,
             "#f7f7f7"
            ],
            [
             0.6,
             "#e6f5d0"
            ],
            [
             0.7,
             "#b8e186"
            ],
            [
             0.8,
             "#7fbc41"
            ],
            [
             0.9,
             "#4d9221"
            ],
            [
             1,
             "#276419"
            ]
           ],
           "sequential": [
            [
             0,
             "#0d0887"
            ],
            [
             0.1111111111111111,
             "#46039f"
            ],
            [
             0.2222222222222222,
             "#7201a8"
            ],
            [
             0.3333333333333333,
             "#9c179e"
            ],
            [
             0.4444444444444444,
             "#bd3786"
            ],
            [
             0.5555555555555556,
             "#d8576b"
            ],
            [
             0.6666666666666666,
             "#ed7953"
            ],
            [
             0.7777777777777778,
             "#fb9f3a"
            ],
            [
             0.8888888888888888,
             "#fdca26"
            ],
            [
             1,
             "#f0f921"
            ]
           ],
           "sequentialminus": [
            [
             0,
             "#0d0887"
            ],
            [
             0.1111111111111111,
             "#46039f"
            ],
            [
             0.2222222222222222,
             "#7201a8"
            ],
            [
             0.3333333333333333,
             "#9c179e"
            ],
            [
             0.4444444444444444,
             "#bd3786"
            ],
            [
             0.5555555555555556,
             "#d8576b"
            ],
            [
             0.6666666666666666,
             "#ed7953"
            ],
            [
             0.7777777777777778,
             "#fb9f3a"
            ],
            [
             0.8888888888888888,
             "#fdca26"
            ],
            [
             1,
             "#f0f921"
            ]
           ]
          },
          "colorway": [
           "#636efa",
           "#EF553B",
           "#00cc96",
           "#ab63fa",
           "#FFA15A",
           "#19d3f3",
           "#FF6692",
           "#B6E880",
           "#FF97FF",
           "#FECB52"
          ],
          "font": {
           "color": "#2a3f5f"
          },
          "geo": {
           "bgcolor": "white",
           "lakecolor": "white",
           "landcolor": "#E5ECF6",
           "showlakes": true,
           "showland": true,
           "subunitcolor": "white"
          },
          "hoverlabel": {
           "align": "left"
          },
          "hovermode": "closest",
          "mapbox": {
           "style": "light"
          },
          "paper_bgcolor": "white",
          "plot_bgcolor": "#E5ECF6",
          "polar": {
           "angularaxis": {
            "gridcolor": "white",
            "linecolor": "white",
            "ticks": ""
           },
           "bgcolor": "#E5ECF6",
           "radialaxis": {
            "gridcolor": "white",
            "linecolor": "white",
            "ticks": ""
           }
          },
          "scene": {
           "xaxis": {
            "backgroundcolor": "#E5ECF6",
            "gridcolor": "white",
            "gridwidth": 2,
            "linecolor": "white",
            "showbackground": true,
            "ticks": "",
            "zerolinecolor": "white"
           },
           "yaxis": {
            "backgroundcolor": "#E5ECF6",
            "gridcolor": "white",
            "gridwidth": 2,
            "linecolor": "white",
            "showbackground": true,
            "ticks": "",
            "zerolinecolor": "white"
           },
           "zaxis": {
            "backgroundcolor": "#E5ECF6",
            "gridcolor": "white",
            "gridwidth": 2,
            "linecolor": "white",
            "showbackground": true,
            "ticks": "",
            "zerolinecolor": "white"
           }
          },
          "shapedefaults": {
           "line": {
            "color": "#2a3f5f"
           }
          },
          "ternary": {
           "aaxis": {
            "gridcolor": "white",
            "linecolor": "white",
            "ticks": ""
           },
           "baxis": {
            "gridcolor": "white",
            "linecolor": "white",
            "ticks": ""
           },
           "bgcolor": "#E5ECF6",
           "caxis": {
            "gridcolor": "white",
            "linecolor": "white",
            "ticks": ""
           }
          },
          "title": {
           "x": 0.05
          },
          "xaxis": {
           "automargin": true,
           "gridcolor": "white",
           "linecolor": "white",
           "ticks": "",
           "title": {
            "standoff": 15
           },
           "zerolinecolor": "white",
           "zerolinewidth": 2
          },
          "yaxis": {
           "automargin": true,
           "gridcolor": "white",
           "linecolor": "white",
           "ticks": "",
           "title": {
            "standoff": 15
           },
           "zerolinecolor": "white",
           "zerolinewidth": 2
          }
         }
        },
        "title": {
         "font": {
          "size": 20
         },
         "text": "The King of Omashu",
         "x": 0.5
        },
        "xaxis": {
         "autorange": true,
         "range": [
          1,
          301
         ],
         "showgrid": false,
         "showticklabels": false,
         "type": "linear"
        },
        "yaxis": {
         "autorange": true,
         "range": [
          -57.77777777777778,
          57.77777777777778
         ],
         "showgrid": false,
         "showticklabels": false,
         "type": "linear"
        }
       }
      },
      "image/png": "[encoded data removed]",
      "text/html": [
       "<div>                            <div id=\"04e6ca5a-398b-4edd-951e-5f489ce9bd7f\" class=\"plotly-graph-div\" style=\"height:525px; width:100%;\"></div>            <script type=\"text/javascript\">                require([\"plotly\"], function(Plotly) {                    window.PLOTLYENV=window.PLOTLYENV || {};                                    if (document.getElementById(\"04e6ca5a-398b-4edd-951e-5f489ce9bd7f\")) {                    Plotly.newPlot(                        \"04e6ca5a-398b-4edd-951e-5f489ce9bd7f\",                        [{\"hoverinfo\":\"text\",\"hovertext\":\"Aang: The Earth Kingdom city of Omashu!  I used to always come here to visit my friend Bumi.\",\"line\":{\"color\":\"#F9D672\",\"width\":2},\"mode\":\"lines\",\"showlegend\":false,\"x\":[1,1],\"y\":[8.5,-8.5],\"type\":\"scatter\"},{\"hoverinfo\":\"text\",\"hovertext\":\"Katara: Wow. We don't have buildings like this in the South Pole!\",\"line\":{\"color\":\"#81D3E8\",\"width\":2},\"mode\":\"lines\",\"showlegend\":false,\"x\":[3,3],\"y\":[5.5,-5.5],\"type\":\"scatter\"},{\"hoverinfo\":\"text\",\"hovertext\":\"Sokka: They have buildings here that don't melt!\",\"line\":{\"color\":\"#81D3E8\",\"width\":2},\"mode\":\"lines\",\"showlegend\":false,\"x\":[5,5],\"y\":[3.5,-3.5],\"type\":\"scatter\"},{\"hoverinfo\":\"text\",\"hovertext\":\"Aang: Well let's go, slow pokes. The real fun's inside the city!\",\"line\":{\"color\":\"#F9D672\",\"width\":2},\"mode\":\"lines\",\"showlegend\":false,\"x\":[7,7],\"y\":[5.5,-5.5],\"type\":\"scatter\"},{\"hoverinfo\":\"text\",\"hovertext\":\"Katara: Wait, Aang! It could be dangerous if people find out you're the Avatar.\",\"line\":{\"color\":\"#81D3E8\",\"width\":2},\"mode\":\"lines\",\"showlegend\":false,\"x\":[9,9],\"y\":[6.5,-6.5],\"type\":\"scatter\"},{\"hoverinfo\":\"text\",\"hovertext\":\"Sokka: You need a disguise.\",\"line\":{\"color\":\"#81D3E8\",\"width\":2},\"mode\":\"lines\",\"showlegend\":false,\"x\":[11,11],\"y\":[2.0,-2.0],\"type\":\"scatter\"},{\"hoverinfo\":\"text\",\"hovertext\":\"Aang: So what am I supposed to do?  Grow a mustache?\",\"line\":{\"color\":\"#F9D672\",\"width\":2},\"mode\":\"lines\",\"showlegend\":false,\"x\":[13,13],\"y\":[5.0,-5.0],\"type\":\"scatter\"},{\"hoverinfo\":\"text\",\"hovertext\":\"Aang: Ugh. This is so itchy.  How do you live in this stuff?\",\"line\":{\"color\":\"#F9D672\",\"width\":2},\"mode\":\"lines\",\"showlegend\":false,\"x\":[15,15],\"y\":[6.0,-6.0],\"type\":\"scatter\"},{\"hoverinfo\":\"text\",\"hovertext\":\"Sokka: Great! Now you look just like my grandfather.\",\"line\":{\"color\":\"#81D3E8\",\"width\":2},\"mode\":\"lines\",\"showlegend\":false,\"x\":[17,17],\"y\":[4.0,-4.0],\"type\":\"scatter\"},{\"hoverinfo\":\"text\",\"hovertext\":\"Katara: Technically, Aang is 112 years old.\",\"line\":{\"color\":\"#81D3E8\",\"width\":2},\"mode\":\"lines\",\"showlegend\":false,\"x\":[19,19],\"y\":[3.0,-3.0],\"type\":\"scatter\"},{\"hoverinfo\":\"text\",\"hovertext\":\"Aang: Now let's get to skippin', young whipper-snappers. The big city awaits!\",\"line\":{\"color\":\"#F9D672\",\"width\":2},\"mode\":\"lines\",\"showlegend\":false,\"x\":[21,21],\"y\":[5.5,-5.5],\"type\":\"scatter\"},{\"hoverinfo\":\"text\",\"hovertext\":\"Aang: You guys are going to love Omashu.  The people here are the friendliest in the world.\",\"line\":{\"color\":\"#F9D672\",\"width\":2},\"mode\":\"lines\",\"showlegend\":false,\"x\":[23,23],\"y\":[8.0,-8.0],\"type\":\"scatter\"},{\"hoverinfo\":\"text\",\"hovertext\":\"Gate guard: Rotten cabbages?!  What kind of slum do you think this is?!\",\"line\":{\"color\":\"#848587\",\"width\":2},\"mode\":\"lines\",\"showlegend\":false,\"x\":[25,25],\"y\":[5.5,-5.5],\"type\":\"scatter\"},{\"hoverinfo\":\"text\",\"hovertext\":\"Cabbage merchant: No! My cabbages!\",\"line\":{\"color\":\"#848587\",\"width\":2},\"mode\":\"lines\",\"showlegend\":false,\"x\":[27,27],\"y\":[1.5,-1.5],\"type\":\"scatter\"},{\"hoverinfo\":\"text\",\"hovertext\":\"Aang: Just keep smiling!\",\"line\":{\"color\":\"#F9D672\",\"width\":2},\"mode\":\"lines\",\"showlegend\":false,\"x\":[29,29],\"y\":[1.5,-1.5],\"type\":\"scatter\"},{\"hoverinfo\":\"text\",\"hovertext\":\"Gate guard: State your business!\",\"line\":{\"color\":\"#848587\",\"width\":2},\"mode\":\"lines\",\"showlegend\":false,\"x\":[31,31],\"y\":[1.5,-1.5],\"type\":\"scatter\"},{\"hoverinfo\":\"text\",\"hovertext\":\"Aang: My business is my business, young man,  and none of yours!  I've got half a mind to  bend you over my knee and paddle your backside!\",\"line\":{\"color\":\"#F9D672\",\"width\":2},\"mode\":\"lines\",\"showlegend\":false,\"x\":[33,33],\"y\":[13.0,-13.0],\"type\":\"scatter\"},{\"hoverinfo\":\"text\",\"hovertext\":\"Gate guard: Settle down, old timer! Just tell me who you are.\",\"line\":{\"color\":\"#848587\",\"width\":2},\"mode\":\"lines\",\"showlegend\":false,\"x\":[35,35],\"y\":[5.0,-5.0],\"type\":\"scatter\"},{\"hoverinfo\":\"text\",\"hovertext\":\"Aang: Name's Bonzu Pippinpaddleopsicopolis, the Third,  and these are my grandkids.\",\"line\":{\"color\":\"#F9D672\",\"width\":2},\"mode\":\"lines\",\"showlegend\":false,\"x\":[37,37],\"y\":[5.0,-5.0],\"type\":\"scatter\"},{\"hoverinfo\":\"text\",\"hovertext\":\"Katara: Hi. June Pippinpaddleopsicopolis. Nice to meet you.\",\"line\":{\"color\":\"#81D3E8\",\"width\":2},\"mode\":\"lines\",\"showlegend\":false,\"x\":[39,39],\"y\":[3.5,-3.5],\"type\":\"scatter\"},{\"hoverinfo\":\"text\",\"hovertext\":\"Gate guard: You seem like a responsible young lady. See that your grandfather stays out of trouble. Enjoy Omashu!\",\"line\":{\"color\":\"#848587\",\"width\":2},\"mode\":\"lines\",\"showlegend\":false,\"x\":[41,41],\"y\":[8.5,-8.5],\"type\":\"scatter\"},{\"hoverinfo\":\"text\",\"hovertext\":\"Katara: We will!\",\"line\":{\"color\":\"#81D3E8\",\"width\":2},\"mode\":\"lines\",\"showlegend\":false,\"x\":[43,43],\"y\":[1.0,-1.0],\"type\":\"scatter\"},{\"hoverinfo\":\"text\",\"hovertext\":\"Gate guard: Wait a minute!  You're a strong young boy! Show some respect for the elderly and carry your grandfather's bag!\",\"line\":{\"color\":\"#848587\",\"width\":2},\"mode\":\"lines\",\"showlegend\":false,\"x\":[45,45],\"y\":[9.5,-9.5],\"type\":\"scatter\"},{\"hoverinfo\":\"text\",\"hovertext\":\"Aang: Good idea!\",\"line\":{\"color\":\"#F9D672\",\"width\":2},\"mode\":\"lines\",\"showlegend\":false,\"x\":[47,47],\"y\":[1.0,-1.0],\"type\":\"scatter\"},{\"hoverinfo\":\"text\",\"hovertext\":\"Aang: This is the Omashu delivery system.  Miles and miles of tubes and chutes.\",\"line\":{\"color\":\"#F9D672\",\"width\":2},\"mode\":\"lines\",\"showlegend\":false,\"x\":[49,49],\"y\":[6.5,-6.5],\"type\":\"scatter\"},{\"hoverinfo\":\"text\",\"hovertext\":\"Aang: Earthbending brings the packages up, and gravity brings them down.\",\"line\":{\"color\":\"#F9D672\",\"width\":2},\"mode\":\"lines\",\"showlegend\":false,\"x\":[51,51],\"y\":[5.0,-5.0],\"type\":\"scatter\"},{\"hoverinfo\":\"text\",\"hovertext\":\"Sokka: Great, so they get their mail on time.\",\"line\":{\"color\":\"#81D3E8\",\"width\":2},\"mode\":\"lines\",\"showlegend\":false,\"x\":[53,53],\"y\":[4.0,-4.0],\"type\":\"scatter\"},{\"hoverinfo\":\"text\",\"hovertext\":\"Aang: They do get their mail on time,  but my friend Bumi found  a better use for these chutes.\",\"line\":{\"color\":\"#F9D672\",\"width\":2},\"mode\":\"lines\",\"showlegend\":false,\"x\":[55,55],\"y\":[9.0,-9.0],\"type\":\"scatter\"},{\"hoverinfo\":\"text\",\"hovertext\":\"Bumi: Look around you! What do you see?\",\"line\":{\"color\":\"#729F3D\",\"width\":2},\"mode\":\"lines\",\"showlegend\":false,\"x\":[57,57],\"y\":[3.5,-3.5],\"type\":\"scatter\"},{\"hoverinfo\":\"text\",\"hovertext\":\"Aang: Um ... The mail system?\",\"line\":{\"color\":\"#F9D672\",\"width\":2},\"mode\":\"lines\",\"showlegend\":false,\"x\":[59,59],\"y\":[2.5,-2.5],\"type\":\"scatter\"},{\"hoverinfo\":\"text\",\"hovertext\":\"Bumi: Instead of seeing what they want you to see,  you got to open your brain to the possibilities.\",\"line\":{\"color\":\"#729F3D\",\"width\":2},\"mode\":\"lines\",\"showlegend\":false,\"x\":[61,61],\"y\":[9.0,-9.0],\"type\":\"scatter\"},{\"hoverinfo\":\"text\",\"hovertext\":\"Aang: A package-sending system?\",\"line\":{\"color\":\"#F9D672\",\"width\":2},\"mode\":\"lines\",\"showlegend\":false,\"x\":[63,63],\"y\":[1.5,-1.5],\"type\":\"scatter\"},{\"hoverinfo\":\"text\",\"hovertext\":\"Bumi: The world's greatest superslide!\",\"line\":{\"color\":\"#729F3D\",\"width\":2},\"mode\":\"lines\",\"showlegend\":false,\"x\":[65,65],\"y\":[2.0,-2.0],\"type\":\"scatter\"},{\"hoverinfo\":\"text\",\"hovertext\":\"Aang: Bumi, you're a mad genius!\",\"line\":{\"color\":\"#F9D672\",\"width\":2},\"mode\":\"lines\",\"showlegend\":false,\"x\":[67,67],\"y\":[2.5,-2.5],\"type\":\"scatter\"},{\"hoverinfo\":\"text\",\"hovertext\":\"Aang: One ride. Then we're off to the North Pole. Airbender's honor.\",\"line\":{\"color\":\"#F9D672\",\"width\":2},\"mode\":\"lines\",\"showlegend\":false,\"x\":[69,69],\"y\":[5.5,-5.5],\"type\":\"scatter\"},{\"hoverinfo\":\"text\",\"hovertext\":\"Katara: It sounded like fun at first,  but now that I'm here, I'm starting to have second  th-o-o-oughts!\",\"line\":{\"color\":\"#81D3E8\",\"width\":2},\"mode\":\"lines\",\"showlegend\":false,\"x\":[71,71],\"y\":[8.5,-8.5],\"type\":\"scatter\"},{\"hoverinfo\":\"text\",\"hovertext\":\"Aang: I'm on it!\",\"line\":{\"color\":\"#F9D672\",\"width\":2},\"mode\":\"lines\",\"showlegend\":false,\"x\":[73,73],\"y\":[1.5,-1.5],\"type\":\"scatter\"},{\"hoverinfo\":\"text\",\"hovertext\":\"Omashu captain: Men, you'll be going off to combat soon. It's important that you be prepared for anything.\",\"line\":{\"color\":\"#848587\",\"width\":2},\"mode\":\"lines\",\"showlegend\":false,\"x\":[75,75],\"y\":[8.0,-8.0],\"type\":\"scatter\"},{\"hoverinfo\":\"text\",\"hovertext\":\"Katara: Aang, do something! Use your airbending!\",\"line\":{\"color\":\"#81D3E8\",\"width\":2},\"mode\":\"lines\",\"showlegend\":false,\"x\":[77,77],\"y\":[3.0,-3.0],\"type\":\"scatter\"},{\"hoverinfo\":\"text\",\"hovertext\":\"Aang: Yeah! Good idea! That'll make us go even faster!\",\"line\":{\"color\":\"#F9D672\",\"width\":2},\"mode\":\"lines\",\"showlegend\":false,\"x\":[79,79],\"y\":[4.5,-4.5],\"type\":\"scatter\"},{\"hoverinfo\":\"text\",\"hovertext\":\"Aang: Sorry!\",\"line\":{\"color\":\"#F9D672\",\"width\":2},\"mode\":\"lines\",\"showlegend\":false,\"x\":[81,81],\"y\":[0.5,-0.5],\"type\":\"scatter\"},{\"hoverinfo\":\"text\",\"hovertext\":\"Cabbage merchant: My cabbages!  You're gonna pay for this!\",\"line\":{\"color\":\"#848587\",\"width\":2},\"mode\":\"lines\",\"showlegend\":false,\"x\":[83,83],\"y\":[3.5,-3.5],\"type\":\"scatter\"},{\"hoverinfo\":\"text\",\"hovertext\":\"Aang: Two cabbages please.\",\"line\":{\"color\":\"#F9D672\",\"width\":2},\"mode\":\"lines\",\"showlegend\":false,\"x\":[85,85],\"y\":[1.5,-1.5],\"type\":\"scatter\"},{\"hoverinfo\":\"text\",\"hovertext\":\"Omashu captain: Your majesty, these juveniles were arrested for vandalism, traveling under false pretenses, and malicious destruction of cabbages.\",\"line\":{\"color\":\"#848587\",\"width\":2},\"mode\":\"lines\",\"showlegend\":false,\"x\":[87,87],\"y\":[8.5,-8.5],\"type\":\"scatter\"},{\"hoverinfo\":\"text\",\"hovertext\":\"Cabbage merchant: Off with their heads! One for each head of cabbage!\",\"line\":{\"color\":\"#848587\",\"width\":2},\"mode\":\"lines\",\"showlegend\":false,\"x\":[89,89],\"y\":[5.0,-5.0],\"type\":\"scatter\"},{\"hoverinfo\":\"text\",\"hovertext\":\"Omashu captain: Silence! Only the king can pass down judgment. What is your judgment, sire?\",\"line\":{\"color\":\"#848587\",\"width\":2},\"mode\":\"lines\",\"showlegend\":false,\"x\":[91,91],\"y\":[6.5,-6.5],\"type\":\"scatter\"},{\"hoverinfo\":\"text\",\"hovertext\":\"Bumi: Throw them ...  a feast!\",\"line\":{\"color\":\"#729F3D\",\"width\":2},\"mode\":\"lines\",\"showlegend\":false,\"x\":[93,93],\"y\":[2.5,-2.5],\"type\":\"scatter\"},{\"hoverinfo\":\"text\",\"hovertext\":\"Bumi: The people in my city have gotten fat from too many feasts,  so I hope you like your chicken with no skin.\",\"line\":{\"color\":\"#729F3D\",\"width\":2},\"mode\":\"lines\",\"showlegend\":false,\"x\":[95,95],\"y\":[11.0,-11.0],\"type\":\"scatter\"},{\"hoverinfo\":\"text\",\"hovertext\":\"Aang: Thanks, but I don't eat meat.\",\"line\":{\"color\":\"#F9D672\",\"width\":2},\"mode\":\"lines\",\"showlegend\":false,\"x\":[97,97],\"y\":[3.0,-3.0],\"type\":\"scatter\"},{\"hoverinfo\":\"text\",\"hovertext\":\"Bumi: How about you? I bet you like meat.\",\"line\":{\"color\":\"#729F3D\",\"width\":2},\"mode\":\"lines\",\"showlegend\":false,\"x\":[99,99],\"y\":[4.0,-4.0],\"type\":\"scatter\"},{\"hoverinfo\":\"text\",\"hovertext\":\"Katara: Is it just me, or  is this guy's crown a little crooked?\",\"line\":{\"color\":\"#81D3E8\",\"width\":2},\"mode\":\"lines\",\"showlegend\":false,\"x\":[101,101],\"y\":[6.0,-6.0],\"type\":\"scatter\"},{\"hoverinfo\":\"text\",\"hovertext\":\"Bumi: So tell me, young bald one,  where are you from?\",\"line\":{\"color\":\"#729F3D\",\"width\":2},\"mode\":\"lines\",\"showlegend\":false,\"x\":[103,103],\"y\":[5.0,-5.0],\"type\":\"scatter\"},{\"hoverinfo\":\"text\",\"hovertext\":\"Aang: I'm from ... Kangaroo Island!\",\"line\":{\"color\":\"#F9D672\",\"width\":2},\"mode\":\"lines\",\"showlegend\":false,\"x\":[105,105],\"y\":[2.5,-2.5],\"type\":\"scatter\"},{\"hoverinfo\":\"text\",\"hovertext\":\"Bumi: Oh, Kangaroo Island, eh? I hear that place is really hopping!\",\"line\":{\"color\":\"#729F3D\",\"width\":2},\"mode\":\"lines\",\"showlegend\":false,\"x\":[107,107],\"y\":[5.5,-5.5],\"type\":\"scatter\"},{\"hoverinfo\":\"text\",\"hovertext\":\"Sokka: What? It was pretty funny.\",\"line\":{\"color\":\"#81D3E8\",\"width\":2},\"mode\":\"lines\",\"showlegend\":false,\"x\":[109,109],\"y\":[2.5,-2.5],\"type\":\"scatter\"},{\"hoverinfo\":\"text\",\"hovertext\":\"Bumi: Well, all these good jokes are making me tired. Guess it's time to hit the hay.\",\"line\":{\"color\":\"#729F3D\",\"width\":2},\"mode\":\"lines\",\"showlegend\":false,\"x\":[111,111],\"y\":[8.0,-8.0],\"type\":\"scatter\"},{\"hoverinfo\":\"text\",\"hovertext\":\"Bumi: There's an airbender in our presence, and not just any airbender.  The Avatar!\",\"line\":{\"color\":\"#729F3D\",\"width\":2},\"mode\":\"lines\",\"showlegend\":false,\"x\":[113,113],\"y\":[6.5,-6.5],\"type\":\"scatter\"},{\"hoverinfo\":\"text\",\"hovertext\":\"Bumi: Now, what do you have to say for yourself,  Mr. Pippinpaddleopsicopolis?\",\"line\":{\"color\":\"#729F3D\",\"width\":2},\"mode\":\"lines\",\"showlegend\":false,\"x\":[115,115],\"y\":[5.5,-5.5],\"type\":\"scatter\"},{\"hoverinfo\":\"text\",\"hovertext\":\"Aang: Okay, you caught me.  I'm the Avatar. Doing my Avatar thing, keeping the world safe. Everything checks out.  No firebenders here. So, good work, everybody!  Love each other,  respect all life,  and don't run with your spears. We'll see you next time!\",\"line\":{\"color\":\"#F9D672\",\"width\":2},\"mode\":\"lines\",\"showlegend\":false,\"x\":[117,117],\"y\":[21.0,-21.0],\"type\":\"scatter\"},{\"hoverinfo\":\"text\",\"hovertext\":\"Katara: You can't keep us here! Let us leave!\",\"line\":{\"color\":\"#81D3E8\",\"width\":2},\"mode\":\"lines\",\"showlegend\":false,\"x\":[119,119],\"y\":[4.0,-4.0],\"type\":\"scatter\"},{\"hoverinfo\":\"text\",\"hovertext\":\"Bumi: Lettuce leaf?\",\"line\":{\"color\":\"#729F3D\",\"width\":2},\"mode\":\"lines\",\"showlegend\":false,\"x\":[121,121],\"y\":[1.0,-1.0],\"type\":\"scatter\"},{\"hoverinfo\":\"text\",\"hovertext\":\"Sokka: We're in serious trouble. This guy is nuts.\",\"line\":{\"color\":\"#81D3E8\",\"width\":2},\"mode\":\"lines\",\"showlegend\":false,\"x\":[123,123],\"y\":[4.0,-4.0],\"type\":\"scatter\"},{\"hoverinfo\":\"text\",\"hovertext\":\"Bumi: Tomorrow, the Avatar will  face three deadly challenges.  But for now, the guards will show you to your chamber.\",\"line\":{\"color\":\"#729F3D\",\"width\":2},\"mode\":\"lines\",\"showlegend\":false,\"x\":[125,125],\"y\":[9.5,-9.5],\"type\":\"scatter\"},{\"hoverinfo\":\"text\",\"hovertext\":\"Chamberlain: My liege, do you mean the good chamber or the bad chamber?\",\"line\":{\"color\":\"#848587\",\"width\":2},\"mode\":\"lines\",\"showlegend\":false,\"x\":[127,127],\"y\":[6.0,-6.0],\"type\":\"scatter\"},{\"hoverinfo\":\"text\",\"hovertext\":\"Bumi: The newly refurbished chamber.\",\"line\":{\"color\":\"#729F3D\",\"width\":2},\"mode\":\"lines\",\"showlegend\":false,\"x\":[129,129],\"y\":[2.0,-2.0],\"type\":\"scatter\"},{\"hoverinfo\":\"text\",\"hovertext\":\"Chamberlain: Wait, which one are we talking about?\",\"line\":{\"color\":\"#848587\",\"width\":2},\"mode\":\"lines\",\"showlegend\":false,\"x\":[131,131],\"y\":[3.5,-3.5],\"type\":\"scatter\"},{\"hoverinfo\":\"text\",\"hovertext\":\"Bumi: The one that used to be the bad chamber, until the recent refurbishing, that is. Of course, we've been calling it the new chamber, but we really should number them.  Uh, take them to the refurbished chamber that was once bad!\",\"line\":{\"color\":\"#729F3D\",\"width\":2},\"mode\":\"lines\",\"showlegend\":false,\"x\":[133,133],\"y\":[20.5,-20.5],\"type\":\"scatter\"},{\"hoverinfo\":\"text\",\"hovertext\":\"Katara: This is a prison cell? But it's so nice.\",\"line\":{\"color\":\"#81D3E8\",\"width\":2},\"mode\":\"lines\",\"showlegend\":false,\"x\":[135,135],\"y\":[4.5,-4.5],\"type\":\"scatter\"},{\"hoverinfo\":\"text\",\"hovertext\":\"Aang: He did say it was newly refurbished.\",\"line\":{\"color\":\"#F9D672\",\"width\":2},\"mode\":\"lines\",\"showlegend\":false,\"x\":[137,137],\"y\":[3.5,-3.5],\"type\":\"scatter\"},{\"hoverinfo\":\"text\",\"hovertext\":\"Sokka: Nice or not, we're prisoners!\",\"line\":{\"color\":\"#81D3E8\",\"width\":2},\"mode\":\"lines\",\"showlegend\":false,\"x\":[139,139],\"y\":[2.5,-2.5],\"type\":\"scatter\"},{\"hoverinfo\":\"text\",\"hovertext\":\"Aang: I wonder what these challenges are gonna to be.\",\"line\":{\"color\":\"#F9D672\",\"width\":2},\"mode\":\"lines\",\"showlegend\":false,\"x\":[141,141],\"y\":[4.5,-4.5],\"type\":\"scatter\"},{\"hoverinfo\":\"text\",\"hovertext\":\"Katara: We're not sticking around to find out. There's got to be some way out of here.\",\"line\":{\"color\":\"#81D3E8\",\"width\":2},\"mode\":\"lines\",\"showlegend\":false,\"x\":[143,143],\"y\":[8.0,-8.0],\"type\":\"scatter\"},{\"hoverinfo\":\"text\",\"hovertext\":\"Aang: The air vents!\",\"line\":{\"color\":\"#F9D672\",\"width\":2},\"mode\":\"lines\",\"showlegend\":false,\"x\":[145,145],\"y\":[1.5,-1.5],\"type\":\"scatter\"},{\"hoverinfo\":\"text\",\"hovertext\":\"Sokka: If you think we're going to fit through there, you're crazier than that king.\",\"line\":{\"color\":\"#81D3E8\",\"width\":2},\"mode\":\"lines\",\"showlegend\":false,\"x\":[147,147],\"y\":[7.0,-7.0],\"type\":\"scatter\"},{\"hoverinfo\":\"text\",\"hovertext\":\"Aang: We can't, but Momo can!\",\"line\":{\"color\":\"#F9D672\",\"width\":2},\"mode\":\"lines\",\"showlegend\":false,\"x\":[149,149],\"y\":[2.5,-2.5],\"type\":\"scatter\"},{\"hoverinfo\":\"text\",\"hovertext\":\"Aang: Momo, I need you to find Appa and bust us outta here!\",\"line\":{\"color\":\"#F9D672\",\"width\":2},\"mode\":\"lines\",\"showlegend\":false,\"x\":[151,151],\"y\":[6.0,-6.0],\"type\":\"scatter\"},{\"hoverinfo\":\"text\",\"hovertext\":\"Aang: Go on, boy, get Appa!\",\"line\":{\"color\":\"#F9D672\",\"width\":2},\"mode\":\"lines\",\"showlegend\":false,\"x\":[153,153],\"y\":[2.5,-2.5],\"type\":\"scatter\"},{\"hoverinfo\":\"text\",\"hovertext\":\"Sokka: Eh, how was Appa supposed to save us anyway?\",\"line\":{\"color\":\"#81D3E8\",\"width\":2},\"mode\":\"lines\",\"showlegend\":false,\"x\":[155,155],\"y\":[4.5,-4.5],\"type\":\"scatter\"},{\"hoverinfo\":\"text\",\"hovertext\":\"Aang: Appa's a ten-ton flying bison; I think he could figure something out.\",\"line\":{\"color\":\"#F9D672\",\"width\":2},\"mode\":\"lines\",\"showlegend\":false,\"x\":[157,157],\"y\":[6.0,-6.0],\"type\":\"scatter\"},{\"hoverinfo\":\"text\",\"hovertext\":\"Katara: Well, no point arguing about it now. Get some rest, Aang.  Looks like you'll need it for tomorrow.\",\"line\":{\"color\":\"#81D3E8\",\"width\":2},\"mode\":\"lines\",\"showlegend\":false,\"x\":[159,159],\"y\":[9.0,-9.0],\"type\":\"scatter\"},{\"hoverinfo\":\"text\",\"hovertext\":\"Aang: Sokka?  Katara?  Where are my friends?\",\"line\":{\"color\":\"#F9D672\",\"width\":2},\"mode\":\"lines\",\"showlegend\":false,\"x\":[161,161],\"y\":[3.0,-3.0],\"type\":\"scatter\"},{\"hoverinfo\":\"text\",\"hovertext\":\"Guard: The king will free them if you complete your challenges.\",\"line\":{\"color\":\"#848587\",\"width\":2},\"mode\":\"lines\",\"showlegend\":false,\"x\":[163,163],\"y\":[5.0,-5.0],\"type\":\"scatter\"},{\"hoverinfo\":\"text\",\"hovertext\":\"Aang: And if I fail?\",\"line\":{\"color\":\"#F9D672\",\"width\":2},\"mode\":\"lines\",\"showlegend\":false,\"x\":[165,165],\"y\":[2.0,-2.0],\"type\":\"scatter\"},{\"hoverinfo\":\"text\",\"hovertext\":\"Guard: He didn't say.  Your staff, please?\",\"line\":{\"color\":\"#848587\",\"width\":2},\"mode\":\"lines\",\"showlegend\":false,\"x\":[167,167],\"y\":[3.0,-3.0],\"type\":\"scatter\"},{\"hoverinfo\":\"text\",\"hovertext\":\"Bumi: First, Avatar,  what do you think of my new outfit? I want your honest opinion.  I'm waiting.\",\"line\":{\"color\":\"#729F3D\",\"width\":2},\"mode\":\"lines\",\"showlegend\":false,\"x\":[169,169],\"y\":[8.5,-8.5],\"type\":\"scatter\"},{\"hoverinfo\":\"text\",\"hovertext\":\"Aang: I ... guess it's fine.\",\"line\":{\"color\":\"#F9D672\",\"width\":2},\"mode\":\"lines\",\"showlegend\":false,\"x\":[171,171],\"y\":[2.5,-2.5],\"type\":\"scatter\"},{\"hoverinfo\":\"text\",\"hovertext\":\"Bumi: Excellent! You passed the first test.\",\"line\":{\"color\":\"#729F3D\",\"width\":2},\"mode\":\"lines\",\"showlegend\":false,\"x\":[173,173],\"y\":[3.0,-3.0],\"type\":\"scatter\"},{\"hoverinfo\":\"text\",\"hovertext\":\"Aang: Really?\",\"line\":{\"color\":\"#F9D672\",\"width\":2},\"mode\":\"lines\",\"showlegend\":false,\"x\":[175,175],\"y\":[0.5,-0.5],\"type\":\"scatter\"},{\"hoverinfo\":\"text\",\"hovertext\":\"Bumi: Well, not one of the deadly tests.  The real challenges are much more, uh, challenging.\",\"line\":{\"color\":\"#729F3D\",\"width\":2},\"mode\":\"lines\",\"showlegend\":false,\"x\":[177,177],\"y\":[7.5,-7.5],\"type\":\"scatter\"},{\"hoverinfo\":\"text\",\"hovertext\":\"Aang: I don't have time for your crazy games!  Give me my friends back! We're leaving!\",\"line\":{\"color\":\"#F9D672\",\"width\":2},\"mode\":\"lines\",\"showlegend\":false,\"x\":[179,179],\"y\":[7.5,-7.5],\"type\":\"scatter\"},{\"hoverinfo\":\"text\",\"hovertext\":\"Bumi: Oh, I thought you might refuse,  so I will give your friends some special souvenirs.\",\"line\":{\"color\":\"#729F3D\",\"width\":2},\"mode\":\"lines\",\"showlegend\":false,\"x\":[181,181],\"y\":[7.5,-7.5],\"type\":\"scatter\"},{\"hoverinfo\":\"text\",\"hovertext\":\"Bumi: Those delightful rings are made of pure jennamite, also known as creeping crystal. It's a crystal that grows remarkably fast.  By nightfall your friends will be completely covered in it.  Terrible thing, really.  I can stop it, but only if you cooperate.\",\"line\":{\"color\":\"#729F3D\",\"width\":2},\"mode\":\"lines\",\"showlegend\":false,\"x\":[183,183],\"y\":[21.0,-21.0],\"type\":\"scatter\"},{\"hoverinfo\":\"text\",\"hovertext\":\"Sokka: Ah! It's already creeping!\",\"line\":{\"color\":\"#81D3E8\",\"width\":2},\"mode\":\"lines\",\"showlegend\":false,\"x\":[185,185],\"y\":[2.0,-2.0],\"type\":\"scatter\"},{\"hoverinfo\":\"text\",\"hovertext\":\"Aang: I'll do what you want.\",\"line\":{\"color\":\"#F9D672\",\"width\":2},\"mode\":\"lines\",\"showlegend\":false,\"x\":[187,187],\"y\":[2.5,-2.5],\"type\":\"scatter\"},{\"hoverinfo\":\"text\",\"hovertext\":\"Bumi: It seems I've lost my lunch box key and I'm hungry. Ooh, there it is!  Would you mind fetching it for me?\",\"line\":{\"color\":\"#729F3D\",\"width\":2},\"mode\":\"lines\",\"showlegend\":false,\"x\":[189,189],\"y\":[11.0,-11.0],\"type\":\"scatter\"},{\"hoverinfo\":\"text\",\"hovertext\":\"Bumi: Ooh, climbing the ladder. No one's thought of that before.\",\"line\":{\"color\":\"#729F3D\",\"width\":2},\"mode\":\"lines\",\"showlegend\":false,\"x\":[191,191],\"y\":[5.0,-5.0],\"type\":\"scatter\"},{\"hoverinfo\":\"text\",\"hovertext\":\"Bumi: That's right. Keep diving head in. I'm sure it'll work eventually.\",\"line\":{\"color\":\"#729F3D\",\"width\":2},\"mode\":\"lines\",\"showlegend\":false,\"x\":[193,193],\"y\":[5.5,-5.5],\"type\":\"scatter\"},{\"hoverinfo\":\"text\",\"hovertext\":\"Aang: There! Enjoy your lunch! I want my friends back now !\",\"line\":{\"color\":\"#F9D672\",\"width\":2},\"mode\":\"lines\",\"showlegend\":false,\"x\":[195,195],\"y\":[5.5,-5.5],\"type\":\"scatter\"},{\"hoverinfo\":\"text\",\"hovertext\":\"Bumi: Ah, not yet. I need help with another matter. It seems I've lost my pet, Flopsie.\",\"line\":{\"color\":\"#729F3D\",\"width\":2},\"mode\":\"lines\",\"showlegend\":false,\"x\":[197,197],\"y\":[8.0,-8.0],\"type\":\"scatter\"},{\"hoverinfo\":\"text\",\"hovertext\":\"Aang: Okay! Found him!\",\"line\":{\"color\":\"#F9D672\",\"width\":2},\"mode\":\"lines\",\"showlegend\":false,\"x\":[199,199],\"y\":[1.5,-1.5],\"type\":\"scatter\"},{\"hoverinfo\":\"text\",\"hovertext\":\"Bumi: Bring him to me. Daddy wants a kiss from Flopsie!\",\"line\":{\"color\":\"#729F3D\",\"width\":2},\"mode\":\"lines\",\"showlegend\":false,\"x\":[201,201],\"y\":[5.0,-5.0],\"type\":\"scatter\"},{\"hoverinfo\":\"text\",\"hovertext\":\"Aang: Come here, Flopsie.  Huh?\",\"line\":{\"color\":\"#F9D672\",\"width\":2},\"mode\":\"lines\",\"showlegend\":false,\"x\":[203,203],\"y\":[2.0,-2.0],\"type\":\"scatter\"},{\"hoverinfo\":\"text\",\"hovertext\":\"Aang: Flopsie, wait! Flopsie!  Flopsie!\",\"line\":{\"color\":\"#F9D672\",\"width\":2},\"mode\":\"lines\",\"showlegend\":false,\"x\":[205,205],\"y\":[2.0,-2.0],\"type\":\"scatter\"},{\"hoverinfo\":\"text\",\"hovertext\":\"Aang: Wait a minute.  Flopsie?\",\"line\":{\"color\":\"#F9D672\",\"width\":2},\"mode\":\"lines\",\"showlegend\":false,\"x\":[207,207],\"y\":[2.0,-2.0],\"type\":\"scatter\"},{\"hoverinfo\":\"text\",\"hovertext\":\"Aang: Flopsie!\",\"line\":{\"color\":\"#F9D672\",\"width\":2},\"mode\":\"lines\",\"showlegend\":false,\"x\":[209,209],\"y\":[0.5,-0.5],\"type\":\"scatter\"},{\"hoverinfo\":\"text\",\"hovertext\":\"Bumi: Oh, that's a good boy. Yes, who has a soft belly?\",\"line\":{\"color\":\"#729F3D\",\"width\":2},\"mode\":\"lines\",\"showlegend\":false,\"x\":[211,211],\"y\":[5.5,-5.5],\"type\":\"scatter\"},{\"hoverinfo\":\"text\",\"hovertext\":\"Aang: Guys, are you okay?\",\"line\":{\"color\":\"#F9D672\",\"width\":2},\"mode\":\"lines\",\"showlegend\":false,\"x\":[213,213],\"y\":[2.0,-2.0],\"type\":\"scatter\"},{\"hoverinfo\":\"text\",\"hovertext\":\"Katara: Other than the crystals slowly encasing my entire body, doing great!\",\"line\":{\"color\":\"#81D3E8\",\"width\":2},\"mode\":\"lines\",\"showlegend\":false,\"x\":[215,215],\"y\":[5.5,-5.5],\"type\":\"scatter\"},{\"hoverinfo\":\"text\",\"hovertext\":\"Bumi: Oh, yes.\",\"line\":{\"color\":\"#729F3D\",\"width\":2},\"mode\":\"lines\",\"showlegend\":false,\"x\":[217,217],\"y\":[1.0,-1.0],\"type\":\"scatter\"},{\"hoverinfo\":\"text\",\"hovertext\":\"Aang: Come on! I'm ready for the next challenge.\",\"line\":{\"color\":\"#F9D672\",\"width\":2},\"mode\":\"lines\",\"showlegend\":false,\"x\":[219,219],\"y\":[4.0,-4.0],\"type\":\"scatter\"},{\"hoverinfo\":\"text\",\"hovertext\":\"Bumi: Your final test is a duel. And as a special treat, you may choose your opponent.\",\"line\":{\"color\":\"#729F3D\",\"width\":2},\"mode\":\"lines\",\"showlegend\":false,\"x\":[221,221],\"y\":[8.0,-8.0],\"type\":\"scatter\"},{\"hoverinfo\":\"text\",\"hovertext\":\"Bumi: Point and choose.\",\"line\":{\"color\":\"#729F3D\",\"width\":2},\"mode\":\"lines\",\"showlegend\":false,\"x\":[223,223],\"y\":[1.5,-1.5],\"type\":\"scatter\"},{\"hoverinfo\":\"text\",\"hovertext\":\"Aang: So ... you're saying whoever I point to, that's the person I get to fight?\",\"line\":{\"color\":\"#F9D672\",\"width\":2},\"mode\":\"lines\",\"showlegend\":false,\"x\":[225,225],\"y\":[7.5,-7.5],\"type\":\"scatter\"},{\"hoverinfo\":\"text\",\"hovertext\":\"Bumi: Choose wisely!\",\"line\":{\"color\":\"#729F3D\",\"width\":2},\"mode\":\"lines\",\"showlegend\":false,\"x\":[227,227],\"y\":[1.0,-1.0],\"type\":\"scatter\"},{\"hoverinfo\":\"text\",\"hovertext\":\"Aang: I ... choose ... you.\",\"line\":{\"color\":\"#F9D672\",\"width\":2},\"mode\":\"lines\",\"showlegend\":false,\"x\":[229,229],\"y\":[2.5,-2.5],\"type\":\"scatter\"},{\"hoverinfo\":\"text\",\"hovertext\":\"Bumi: Wrong choice!\",\"line\":{\"color\":\"#729F3D\",\"width\":2},\"mode\":\"lines\",\"showlegend\":false,\"x\":[231,231],\"y\":[1.0,-1.0],\"type\":\"scatter\"},{\"hoverinfo\":\"text\",\"hovertext\":\"Bumi: You thought I was a frail old man, but I'm the most powerful earthbender you'll ever see.\",\"line\":{\"color\":\"#729F3D\",\"width\":2},\"mode\":\"lines\",\"showlegend\":false,\"x\":[233,233],\"y\":[8.5,-8.5],\"type\":\"scatter\"},{\"hoverinfo\":\"text\",\"hovertext\":\"Aang: Can I fight the guy with the axe instead?\",\"line\":{\"color\":\"#F9D672\",\"width\":2},\"mode\":\"lines\",\"showlegend\":false,\"x\":[235,235],\"y\":[4.5,-4.5],\"type\":\"scatter\"},{\"hoverinfo\":\"text\",\"hovertext\":\"Bumi: There are no take-backsies in my kingdom. You might need this.\",\"line\":{\"color\":\"#729F3D\",\"width\":2},\"mode\":\"lines\",\"showlegend\":false,\"x\":[237,237],\"y\":[5.5,-5.5],\"type\":\"scatter\"},{\"hoverinfo\":\"text\",\"hovertext\":\"Bumi: Typical airbender tactic: avoid and evade. I hoped the Avatar would be less predictable.\",\"line\":{\"color\":\"#729F3D\",\"width\":2},\"mode\":\"lines\",\"showlegend\":false,\"x\":[239,239],\"y\":[7.0,-7.0],\"type\":\"scatter\"},{\"hoverinfo\":\"text\",\"hovertext\":\"Bumi: Don't you have any surprises for me? Sooner or later you'll have to strike back!\",\"line\":{\"color\":\"#729F3D\",\"width\":2},\"mode\":\"lines\",\"showlegend\":false,\"x\":[241,241],\"y\":[7.5,-7.5],\"type\":\"scatter\"},{\"hoverinfo\":\"text\",\"hovertext\":\"Bumi: You'll have to be a little more creative than that!\",\"line\":{\"color\":\"#729F3D\",\"width\":2},\"mode\":\"lines\",\"showlegend\":false,\"x\":[243,243],\"y\":[5.0,-5.0],\"type\":\"scatter\"},{\"hoverinfo\":\"text\",\"hovertext\":\"Bumi: Did someone leave the windows open? It feels a little drafty in here. Are you hoping I'll catch a cold?\",\"line\":{\"color\":\"#729F3D\",\"width\":2},\"mode\":\"lines\",\"showlegend\":false,\"x\":[245,245],\"y\":[10.0,-10.0],\"type\":\"scatter\"},{\"hoverinfo\":\"text\",\"hovertext\":\"Bumi: How are you going to get me from way over there?\",\"line\":{\"color\":\"#729F3D\",\"width\":2},\"mode\":\"lines\",\"showlegend\":false,\"x\":[247,247],\"y\":[5.5,-5.5],\"type\":\"scatter\"},{\"hoverinfo\":\"text\",\"hovertext\":\"Bumi: Well done, Avatar. You fight with much fire in your heart.  You've passed all my tests. Now, you must answer one question.\",\"line\":{\"color\":\"#729F3D\",\"width\":2},\"mode\":\"lines\",\"showlegend\":false,\"x\":[249,249],\"y\":[11.0,-11.0],\"type\":\"scatter\"},{\"hoverinfo\":\"text\",\"hovertext\":\"Aang: That's not fair! You said you would release my friends if I finished your tests.\",\"line\":{\"color\":\"#F9D672\",\"width\":2},\"mode\":\"lines\",\"showlegend\":false,\"x\":[251,251],\"y\":[7.5,-7.5],\"type\":\"scatter\"},{\"hoverinfo\":\"text\",\"hovertext\":\"Bumi: Oh, but what's the point of tests if you don't learn anything?\",\"line\":{\"color\":\"#729F3D\",\"width\":2},\"mode\":\"lines\",\"showlegend\":false,\"x\":[253,253],\"y\":[6.0,-6.0],\"type\":\"scatter\"},{\"hoverinfo\":\"text\",\"hovertext\":\"Sokka: Oh, come on!\",\"line\":{\"color\":\"#81D3E8\",\"width\":2},\"mode\":\"lines\",\"showlegend\":false,\"x\":[255,255],\"y\":[1.5,-1.5],\"type\":\"scatter\"},{\"hoverinfo\":\"text\",\"hovertext\":\"Bumi: Answer this one question and I will set your friends free. What ... is my name? From the looks of your friends I'd say you only have a few minutes.\",\"line\":{\"color\":\"#729F3D\",\"width\":2},\"mode\":\"lines\",\"showlegend\":false,\"x\":[257,257],\"y\":[15.0,-15.0],\"type\":\"scatter\"},{\"hoverinfo\":\"text\",\"hovertext\":\"Aang: How am I supposed to know his name?\",\"line\":{\"color\":\"#F9D672\",\"width\":2},\"mode\":\"lines\",\"showlegend\":false,\"x\":[259,259],\"y\":[4.0,-4.0],\"type\":\"scatter\"},{\"hoverinfo\":\"text\",\"hovertext\":\"Katara: Think about the challenges. Maybe it's some kind of riddle.\",\"line\":{\"color\":\"#81D3E8\",\"width\":2},\"mode\":\"lines\",\"showlegend\":false,\"x\":[261,261],\"y\":[5.0,-5.0],\"type\":\"scatter\"},{\"hoverinfo\":\"text\",\"hovertext\":\"Sokka: I got it!\",\"line\":{\"color\":\"#81D3E8\",\"width\":2},\"mode\":\"lines\",\"showlegend\":false,\"x\":[263,263],\"y\":[1.5,-1.5],\"type\":\"scatter\"},{\"hoverinfo\":\"text\",\"hovertext\":\"Aang: Yeah?\",\"line\":{\"color\":\"#F9D672\",\"width\":2},\"mode\":\"lines\",\"showlegend\":false,\"x\":[265,265],\"y\":[0.5,-0.5],\"type\":\"scatter\"},{\"hoverinfo\":\"text\",\"hovertext\":\"Sokka: He's an earthbender, right? Rocky. You know, because of all the rocks.\",\"line\":{\"color\":\"#81D3E8\",\"width\":2},\"mode\":\"lines\",\"showlegend\":false,\"x\":[267,267],\"y\":[6.0,-6.0],\"type\":\"scatter\"},{\"hoverinfo\":\"text\",\"hovertext\":\"Katara: We're going to keep trying, but that is a good back-up.\",\"line\":{\"color\":\"#81D3E8\",\"width\":2},\"mode\":\"lines\",\"showlegend\":false,\"x\":[269,269],\"y\":[5.5,-5.5],\"type\":\"scatter\"},{\"hoverinfo\":\"text\",\"hovertext\":\"Aang: Okay. So back to the challenges. I got a key from the waterfall, I saved his pet, and I had a duel.\",\"line\":{\"color\":\"#F9D672\",\"width\":2},\"mode\":\"lines\",\"showlegend\":false,\"x\":[271,271],\"y\":[11.0,-11.0],\"type\":\"scatter\"},{\"hoverinfo\":\"text\",\"hovertext\":\"Katara: And what did you learn?\",\"line\":{\"color\":\"#81D3E8\",\"width\":2},\"mode\":\"lines\",\"showlegend\":false,\"x\":[273,273],\"y\":[2.5,-2.5],\"type\":\"scatter\"},{\"hoverinfo\":\"text\",\"hovertext\":\"Aang: Well, everything was different than I expected.\",\"line\":{\"color\":\"#F9D672\",\"width\":2},\"mode\":\"lines\",\"showlegend\":false,\"x\":[275,275],\"y\":[3.5,-3.5],\"type\":\"scatter\"},{\"hoverinfo\":\"text\",\"hovertext\":\"Katara: And?\",\"line\":{\"color\":\"#81D3E8\",\"width\":2},\"mode\":\"lines\",\"showlegend\":false,\"x\":[277,277],\"y\":[0.5,-0.5],\"type\":\"scatter\"},{\"hoverinfo\":\"text\",\"hovertext\":\"Aang: Well, they weren't straight forward. To solve each test, I had to think differently than I usually would. I know his name.\",\"line\":{\"color\":\"#F9D672\",\"width\":2},\"mode\":\"lines\",\"showlegend\":false,\"x\":[279,279],\"y\":[11.0,-11.0],\"type\":\"scatter\"},{\"hoverinfo\":\"text\",\"hovertext\":\"Aang: I solved the question the same way I solved the challenges. As you said a long time ago, I had to open my brain to the possibilities.  Bumi, you're a mad genius.\",\"line\":{\"color\":\"#F9D672\",\"width\":2},\"mode\":\"lines\",\"showlegend\":false,\"x\":[281,281],\"y\":[16.0,-16.0],\"type\":\"scatter\"},{\"hoverinfo\":\"text\",\"hovertext\":\"Bumi: Oh Aang, it's good to see you. You haven't changed a bit. Literally.\",\"line\":{\"color\":\"#729F3D\",\"width\":2},\"mode\":\"lines\",\"showlegend\":false,\"x\":[283,283],\"y\":[6.5,-6.5],\"type\":\"scatter\"},{\"hoverinfo\":\"text\",\"hovertext\":\"Katara: Uh, over here!\",\"line\":{\"color\":\"#81D3E8\",\"width\":2},\"mode\":\"lines\",\"showlegend\":false,\"x\":[285,285],\"y\":[1.5,-1.5],\"type\":\"scatter\"},{\"hoverinfo\":\"text\",\"hovertext\":\"Sokka: Little help?\",\"line\":{\"color\":\"#81D3E8\",\"width\":2},\"mode\":\"lines\",\"showlegend\":false,\"x\":[287,287],\"y\":[1.0,-1.0],\"type\":\"scatter\"},{\"hoverinfo\":\"text\",\"hovertext\":\"Bumi: Jennamite is made of rock candy.  Delicious!\",\"line\":{\"color\":\"#729F3D\",\"width\":2},\"mode\":\"lines\",\"showlegend\":false,\"x\":[289,289],\"y\":[3.5,-3.5],\"type\":\"scatter\"},{\"hoverinfo\":\"text\",\"hovertext\":\"Katara: So this crazy king is your old friend Bumi?\",\"line\":{\"color\":\"#81D3E8\",\"width\":2},\"mode\":\"lines\",\"showlegend\":false,\"x\":[291,291],\"y\":[4.5,-4.5],\"type\":\"scatter\"},{\"hoverinfo\":\"text\",\"hovertext\":\"Bumi: Who are you calling old? Okay, I'm old.\",\"line\":{\"color\":\"#729F3D\",\"width\":2},\"mode\":\"lines\",\"showlegend\":false,\"x\":[293,293],\"y\":[4.0,-4.0],\"type\":\"scatter\"},{\"hoverinfo\":\"text\",\"hovertext\":\"Sokka: Why did you do all of this instead of just telling Aang who you were?\",\"line\":{\"color\":\"#81D3E8\",\"width\":2},\"mode\":\"lines\",\"showlegend\":false,\"x\":[295,295],\"y\":[7.5,-7.5],\"type\":\"scatter\"},{\"hoverinfo\":\"text\",\"hovertext\":\"Bumi: First of all, it's pretty fun messing with people.  But I do have a reason. Aang, you have a difficult task ahead. The world has changed in the hundred years that you've been gone. It's the duty of the Avatar to restore balance to the world by defeating Fire Lord Ozai. You have much to learn. You must master the four elements and confront the Fire Lord. And when you do, I hope you will think like a mad genius. And it looks like you're in good hands. You'll need your friends to help you defeat the Fire Nation.  And you'll need Momo, too.\",\"line\":{\"color\":\"#729F3D\",\"width\":2},\"mode\":\"lines\",\"showlegend\":false,\"x\":[297,297],\"y\":[52.0,-52.0],\"type\":\"scatter\"},{\"hoverinfo\":\"text\",\"hovertext\":\"Aang: Thank you for your wisdom, but before we leave, I have a challenge for you.\",\"line\":{\"color\":\"#F9D672\",\"width\":2},\"mode\":\"lines\",\"showlegend\":false,\"x\":[299,299],\"y\":[7.5,-7.5],\"type\":\"scatter\"},{\"hoverinfo\":\"text\",\"hovertext\":\"Cabbage merchant: My cabbages!\",\"line\":{\"color\":\"#848587\",\"width\":2},\"mode\":\"lines\",\"showlegend\":false,\"x\":[301,301],\"y\":[1.0,-1.0],\"type\":\"scatter\"}],                        {\"template\":{\"data\":{\"histogram2dcontour\":[{\"type\":\"histogram2dcontour\",\"colorbar\":{\"outlinewidth\":0,\"ticks\":\"\"},\"colorscale\":[[0.0,\"#0d0887\"],[0.1111111111111111,\"#46039f\"],[0.2222222222222222,\"#7201a8\"],[0.3333333333333333,\"#9c179e\"],[0.4444444444444444,\"#bd3786\"],[0.5555555555555556,\"#d8576b\"],[0.6666666666666666,\"#ed7953\"],[0.7777777777777778,\"#fb9f3a\"],[0.8888888888888888,\"#fdca26\"],[1.0,\"#f0f921\"]]}],\"choropleth\":[{\"type\":\"choropleth\",\"colorbar\":{\"outlinewidth\":0,\"ticks\":\"\"}}],\"histogram2d\":[{\"type\":\"histogram2d\",\"colorbar\":{\"outlinewidth\":0,\"ticks\":\"\"},\"colorscale\":[[0.0,\"#0d0887\"],[0.1111111111111111,\"#46039f\"],[0.2222222222222222,\"#7201a8\"],[0.3333333333333333,\"#9c179e\"],[0.4444444444444444,\"#bd3786\"],[0.5555555555555556,\"#d8576b\"],[0.6666666666666666,\"#ed7953\"],[0.7777777777777778,\"#fb9f3a\"],[0.8888888888888888,\"#fdca26\"],[1.0,\"#f0f921\"]]}],\"heatmap\":[{\"type\":\"heatmap\",\"colorbar\":{\"outlinewidth\":0,\"ticks\":\"\"},\"colorscale\":[[0.0,\"#0d0887\"],[0.1111111111111111,\"#46039f\"],[0.2222222222222222,\"#7201a8\"],[0.3333333333333333,\"#9c179e\"],[0.4444444444444444,\"#bd3786\"],[0.5555555555555556,\"#d8576b\"],[0.6666666666666666,\"#ed7953\"],[0.7777777777777778,\"#fb9f3a\"],[0.8888888888888888,\"#fdca26\"],[1.0,\"#f0f921\"]]}],\"heatmapgl\":[{\"type\":\"heatmapgl\",\"colorbar\":{\"outlinewidth\":0,\"ticks\":\"\"},\"colorscale\":[[0.0,\"#0d0887\"],[0.1111111111111111,\"#46039f\"],[0.2222222222222222,\"#7201a8\"],[0.3333333333333333,\"#9c179e\"],[0.4444444444444444,\"#bd3786\"],[0.5555555555555556,\"#d8576b\"],[0.6666666666666666,\"#ed7953\"],[0.7777777777777778,\"#fb9f3a\"],[0.8888888888888888,\"#fdca26\"],[1.0,\"#f0f921\"]]}],\"contourcarpet\":[{\"type\":\"contourcarpet\",\"colorbar\":{\"outlinewidth\":0,\"ticks\":\"\"}}],\"contour\":[{\"type\":\"contour\",\"colorbar\":{\"outlinewidth\":0,\"ticks\":\"\"},\"colorscale\":[[0.0,\"#0d0887\"],[0.1111111111111111,\"#46039f\"],[0.2222222222222222,\"#7201a8\"],[0.3333333333333333,\"#9c179e\"],[0.4444444444444444,\"#bd3786\"],[0.5555555555555556,\"#d8576b\"],[0.6666666666666666,\"#ed7953\"],[0.7777777777777778,\"#fb9f3a\"],[0.8888888888888888,\"#fdca26\"],[1.0,\"#f0f921\"]]}],\"surface\":[{\"type\":\"surface\",\"colorbar\":{\"outlinewidth\":0,\"ticks\":\"\"},\"colorscale\":[[0.0,\"#0d0887\"],[0.1111111111111111,\"#46039f\"],[0.2222222222222222,\"#7201a8\"],[0.3333333333333333,\"#9c179e\"],[0.4444444444444444,\"#bd3786\"],[0.5555555555555556,\"#d8576b\"],[0.6666666666666666,\"#ed7953\"],[0.7777777777777778,\"#fb9f3a\"],[0.8888888888888888,\"#fdca26\"],[1.0,\"#f0f921\"]]}],\"mesh3d\":[{\"type\":\"mesh3d\",\"colorbar\":{\"outlinewidth\":0,\"ticks\":\"\"}}],\"scatter\":[{\"fillpattern\":{\"fillmode\":\"overlay\",\"size\":10,\"solidity\":0.2},\"type\":\"scatter\"}],\"parcoords\":[{\"type\":\"parcoords\",\"line\":{\"colorbar\":{\"outlinewidth\":0,\"ticks\":\"\"}}}],\"scatterpolargl\":[{\"type\":\"scatterpolargl\",\"marker\":{\"colorbar\":{\"outlinewidth\":0,\"ticks\":\"\"}}}],\"bar\":[{\"error_x\":{\"color\":\"#2a3f5f\"},\"error_y\":{\"color\":\"#2a3f5f\"},\"marker\":{\"line\":{\"color\":\"#E5ECF6\",\"width\":0.5},\"pattern\":{\"fillmode\":\"overlay\",\"size\":10,\"solidity\":0.2}},\"type\":\"bar\"}],\"scattergeo\":[{\"type\":\"scattergeo\",\"marker\":{\"colorbar\":{\"outlinewidth\":0,\"ticks\":\"\"}}}],\"scatterpolar\":[{\"type\":\"scatterpolar\",\"marker\":{\"colorbar\":{\"outlinewidth\":0,\"ticks\":\"\"}}}],\"histogram\":[{\"marker\":{\"pattern\":{\"fillmode\":\"overlay\",\"size\":10,\"solidity\":0.2}},\"type\":\"histogram\"}],\"scattergl\":[{\"type\":\"scattergl\",\"marker\":{\"colorbar\":{\"outlinewidth\":0,\"ticks\":\"\"}}}],\"scatter3d\":[{\"type\":\"scatter3d\",\"line\":{\"colorbar\":{\"outlinewidth\":0,\"ticks\":\"\"}},\"marker\":{\"colorbar\":{\"outlinewidth\":0,\"ticks\":\"\"}}}],\"scattermapbox\":[{\"type\":\"scattermapbox\",\"marker\":{\"colorbar\":{\"outlinewidth\":0,\"ticks\":\"\"}}}],\"scatterternary\":[{\"type\":\"scatterternary\",\"marker\":{\"colorbar\":{\"outlinewidth\":0,\"ticks\":\"\"}}}],\"scattercarpet\":[{\"type\":\"scattercarpet\",\"marker\":{\"colorbar\":{\"outlinewidth\":0,\"ticks\":\"\"}}}],\"carpet\":[{\"aaxis\":{\"endlinecolor\":\"#2a3f5f\",\"gridcolor\":\"white\",\"linecolor\":\"white\",\"minorgridcolor\":\"white\",\"startlinecolor\":\"#2a3f5f\"},\"baxis\":{\"endlinecolor\":\"#2a3f5f\",\"gridcolor\":\"white\",\"linecolor\":\"white\",\"minorgridcolor\":\"white\",\"startlinecolor\":\"#2a3f5f\"},\"type\":\"carpet\"}],\"table\":[{\"cells\":{\"fill\":{\"color\":\"#EBF0F8\"},\"line\":{\"color\":\"white\"}},\"header\":{\"fill\":{\"color\":\"#C8D4E3\"},\"line\":{\"color\":\"white\"}},\"type\":\"table\"}],\"barpolar\":[{\"marker\":{\"line\":{\"color\":\"#E5ECF6\",\"width\":0.5},\"pattern\":{\"fillmode\":\"overlay\",\"size\":10,\"solidity\":0.2}},\"type\":\"barpolar\"}],\"pie\":[{\"automargin\":true,\"type\":\"pie\"}]},\"layout\":{\"autotypenumbers\":\"strict\",\"colorway\":[\"#636efa\",\"#EF553B\",\"#00cc96\",\"#ab63fa\",\"#FFA15A\",\"#19d3f3\",\"#FF6692\",\"#B6E880\",\"#FF97FF\",\"#FECB52\"],\"font\":{\"color\":\"#2a3f5f\"},\"hovermode\":\"closest\",\"hoverlabel\":{\"align\":\"left\"},\"paper_bgcolor\":\"white\",\"plot_bgcolor\":\"#E5ECF6\",\"polar\":{\"bgcolor\":\"#E5ECF6\",\"angularaxis\":{\"gridcolor\":\"white\",\"linecolor\":\"white\",\"ticks\":\"\"},\"radialaxis\":{\"gridcolor\":\"white\",\"linecolor\":\"white\",\"ticks\":\"\"}},\"ternary\":{\"bgcolor\":\"#E5ECF6\",\"aaxis\":{\"gridcolor\":\"white\",\"linecolor\":\"white\",\"ticks\":\"\"},\"baxis\":{\"gridcolor\":\"white\",\"linecolor\":\"white\",\"ticks\":\"\"},\"caxis\":{\"gridcolor\":\"white\",\"linecolor\":\"white\",\"ticks\":\"\"}},\"coloraxis\":{\"colorbar\":{\"outlinewidth\":0,\"ticks\":\"\"}},\"colorscale\":{\"sequential\":[[0.0,\"#0d0887\"],[0.1111111111111111,\"#46039f\"],[0.2222222222222222,\"#7201a8\"],[0.3333333333333333,\"#9c179e\"],[0.4444444444444444,\"#bd3786\"],[0.5555555555555556,\"#d8576b\"],[0.6666666666666666,\"#ed7953\"],[0.7777777777777778,\"#fb9f3a\"],[0.8888888888888888,\"#fdca26\"],[1.0,\"#f0f921\"]],\"sequentialminus\":[[0.0,\"#0d0887\"],[0.1111111111111111,\"#46039f\"],[0.2222222222222222,\"#7201a8\"],[0.3333333333333333,\"#9c179e\"],[0.4444444444444444,\"#bd3786\"],[0.5555555555555556,\"#d8576b\"],[0.6666666666666666,\"#ed7953\"],[0.7777777777777778,\"#fb9f3a\"],[0.8888888888888888,\"#fdca26\"],[1.0,\"#f0f921\"]],\"diverging\":[[0,\"#8e0152\"],[0.1,\"#c51b7d\"],[0.2,\"#de77ae\"],[0.3,\"#f1b6da\"],[0.4,\"#fde0ef\"],[0.5,\"#f7f7f7\"],[0.6,\"#e6f5d0\"],[0.7,\"#b8e186\"],[0.8,\"#7fbc41\"],[0.9,\"#4d9221\"],[1,\"#276419\"]]},\"xaxis\":{\"gridcolor\":\"white\",\"linecolor\":\"white\",\"ticks\":\"\",\"title\":{\"standoff\":15},\"zerolinecolor\":\"white\",\"automargin\":true,\"zerolinewidth\":2},\"yaxis\":{\"gridcolor\":\"white\",\"linecolor\":\"white\",\"ticks\":\"\",\"title\":{\"standoff\":15},\"zerolinecolor\":\"white\",\"automargin\":true,\"zerolinewidth\":2},\"scene\":{\"xaxis\":{\"backgroundcolor\":\"#E5ECF6\",\"gridcolor\":\"white\",\"linecolor\":\"white\",\"showbackground\":true,\"ticks\":\"\",\"zerolinecolor\":\"white\",\"gridwidth\":2},\"yaxis\":{\"backgroundcolor\":\"#E5ECF6\",\"gridcolor\":\"white\",\"linecolor\":\"white\",\"showbackground\":true,\"ticks\":\"\",\"zerolinecolor\":\"white\",\"gridwidth\":2},\"zaxis\":{\"backgroundcolor\":\"#E5ECF6\",\"gridcolor\":\"white\",\"linecolor\":\"white\",\"showbackground\":true,\"ticks\":\"\",\"zerolinecolor\":\"white\",\"gridwidth\":2}},\"shapedefaults\":{\"line\":{\"color\":\"#2a3f5f\"}},\"annotationdefaults\":{\"arrowcolor\":\"#2a3f5f\",\"arrowhead\":0,\"arrowwidth\":1},\"geo\":{\"bgcolor\":\"white\",\"landcolor\":\"#E5ECF6\",\"subunitcolor\":\"white\",\"showland\":true,\"showlakes\":true,\"lakecolor\":\"white\"},\"title\":{\"x\":0.05},\"mapbox\":{\"style\":\"light\"}}},\"title\":{\"text\":\"The King of Omashu\",\"font\":{\"size\":20},\"x\":0.5},\"xaxis\":{\"showgrid\":false,\"showticklabels\":false},\"yaxis\":{\"showgrid\":false,\"showticklabels\":false},\"margin\":{\"l\":50,\"r\":50,\"t\":50,\"b\":0},\"plot_bgcolor\":\"white\",\"hovermode\":\"closest\"},                        {\"responsive\": true}                    ).then(function(){\n",
       "                            \n",
       "var gd = document.getElementById('04e6ca5a-398b-4edd-951e-5f489ce9bd7f');\n",
       "var x = new MutationObserver(function (mutations, observer) {{\n",
       "        var display = window.getComputedStyle(gd).display;\n",
       "        if (!display || display === 'none') {{\n",
       "            console.log([gd, 'removed!']);\n",
       "            Plotly.purge(gd);\n",
       "            observer.disconnect();\n",
       "        }}\n",
       "}});\n",
       "\n",
       "// Listen for the removal of the full notebook cells\n",
       "var notebookContainer = gd.closest('#notebook-container');\n",
       "if (notebookContainer) {{\n",
       "    x.observe(notebookContainer, {childList: true});\n",
       "}}\n",
       "\n",
       "// Listen for the clearing of the current output cell\n",
       "var outputEl = gd.closest('.output');\n",
       "if (outputEl) {{\n",
       "    x.observe(outputEl, {childList: true});\n",
       "}}\n",
       "\n",
       "                        })                };                });            </script>        </div>"
      ]
     },
     "metadata": {},
     "output_type": "display_data"
    },
    {
     "data": {
      "application/vnd.plotly.v1+json": {
       "config": {
        "plotlyServerURL": "https://plot.ly"
       },
       "data": [
        {
         "hoverinfo": "text",
         "hovertext": "Aang: Great, you're back!",
         "line": {
          "color": "#F9D672",
          "width": 2
         },
         "mode": "lines",
         "showlegend": false,
         "type": "scatter",
         "x": [
          1,
          1
         ],
         "y": [
          1.5,
          -1.5
         ]
        },
        {
         "hoverinfo": "text",
         "hovertext": "Aang: What's for dinner?",
         "line": {
          "color": "#F9D672",
          "width": 2
         },
         "mode": "lines",
         "showlegend": false,
         "type": "scatter",
         "x": [
          3,
          3
         ],
         "y": [
          1.5,
          -1.5
         ]
        },
        {
         "hoverinfo": "text",
         "hovertext": "Sokka: We've got a few options. First; round nuts. And some kind of oval shaped nuts? And some rock-shaped nuts, that might just be rocks.  Dig in!",
         "line": {
          "color": "#81D3E8",
          "width": 2
         },
         "mode": "lines",
         "showlegend": false,
         "type": "scatter",
         "x": [
          5,
          5
         ],
         "y": [
          13,
          -13
         ]
        },
        {
         "hoverinfo": "text",
         "hovertext": "Katara: Seriously ... what else you got?",
         "line": {
          "color": "#81D3E8",
          "width": 2
         },
         "mode": "lines",
         "showlegend": false,
         "type": "scatter",
         "x": [
          7,
          7
         ],
         "y": [
          3,
          -3
         ]
        },
        {
         "hoverinfo": "text",
         "hovertext": "Sokka: What was that?",
         "line": {
          "color": "#81D3E8",
          "width": 2
         },
         "mode": "lines",
         "showlegend": false,
         "type": "scatter",
         "x": [
          9,
          9
         ],
         "y": [
          1.5,
          -1.5
         ]
        },
        {
         "hoverinfo": "text",
         "hovertext": "Aang: It's coming from over there!",
         "line": {
          "color": "#F9D672",
          "width": 2
         },
         "mode": "lines",
         "showlegend": false,
         "type": "scatter",
         "x": [
          11,
          11
         ],
         "y": [
          2.5,
          -2.5
         ]
        },
        {
         "hoverinfo": "text",
         "hovertext": "Sokka: Shouldn't we run away from huge booms? Not toward them?",
         "line": {
          "color": "#81D3E8",
          "width": 2
         },
         "mode": "lines",
         "showlegend": false,
         "type": "scatter",
         "x": [
          13,
          13
         ],
         "y": [
          5,
          -5
         ]
        },
        {
         "hoverinfo": "text",
         "hovertext": "Katara: An earthbender!",
         "line": {
          "color": "#81D3E8",
          "width": 2
         },
         "mode": "lines",
         "showlegend": false,
         "type": "scatter",
         "x": [
          15,
          15
         ],
         "y": [
          1,
          -1
         ]
        },
        {
         "hoverinfo": "text",
         "hovertext": "Aang: Let's go meet him!",
         "line": {
          "color": "#F9D672",
          "width": 2
         },
         "mode": "lines",
         "showlegend": false,
         "type": "scatter",
         "x": [
          17,
          17
         ],
         "y": [
          2,
          -2
         ]
        },
        {
         "hoverinfo": "text",
         "hovertext": "Sokka: He looks dangerous, so we better approach cautiously.",
         "line": {
          "color": "#81D3E8",
          "width": 2
         },
         "mode": "lines",
         "showlegend": false,
         "type": "scatter",
         "x": [
          19,
          19
         ],
         "y": [
          4,
          -4
         ]
        },
        {
         "hoverinfo": "text",
         "hovertext": "Katara: Hello there! I'm Katara! What's your name?",
         "line": {
          "color": "#81D3E8",
          "width": 2
         },
         "mode": "lines",
         "showlegend": false,
         "type": "scatter",
         "x": [
          21,
          21
         ],
         "y": [
          3.5,
          -3.5
         ]
        },
        {
         "hoverinfo": "text",
         "hovertext": "Aang: Nice to meet you!",
         "line": {
          "color": "#F9D672",
          "width": 2
         },
         "mode": "lines",
         "showlegend": false,
         "type": "scatter",
         "x": [
          23,
          23
         ],
         "y": [
          2,
          -2
         ]
        },
        {
         "hoverinfo": "text",
         "hovertext": "Katara: I just wanted to say hi.",
         "line": {
          "color": "#81D3E8",
          "width": 2
         },
         "mode": "lines",
         "showlegend": false,
         "type": "scatter",
         "x": [
          25,
          25
         ],
         "y": [
          3,
          -3
         ]
        },
        {
         "hoverinfo": "text",
         "hovertext": "Aang: Hey! That guy's gotta be running somewhere. Maybe we're near a village? And I bet that village has a market!",
         "line": {
          "color": "#F9D672",
          "width": 2
         },
         "mode": "lines",
         "showlegend": false,
         "type": "scatter",
         "x": [
          27,
          27
         ],
         "y": [
          10,
          -10
         ]
        },
        {
         "hoverinfo": "text",
         "hovertext": "Katara: Which means no nuts for dinner!",
         "line": {
          "color": "#81D3E8",
          "width": 2
         },
         "mode": "lines",
         "showlegend": false,
         "type": "scatter",
         "x": [
          29,
          29
         ],
         "y": [
          3,
          -3
         ]
        },
        {
         "hoverinfo": "text",
         "hovertext": "Sokka: Hey! I worked hard to get those nuts!  Yeah, I hate 'em too.",
         "line": {
          "color": "#81D3E8",
          "width": 2
         },
         "mode": "lines",
         "showlegend": false,
         "type": "scatter",
         "x": [
          31,
          31
         ],
         "y": [
          6.5,
          -6.5
         ]
        },
        {
         "hoverinfo": "text",
         "hovertext": "Aang: Great hat!  I'll trade you some nuts for it.",
         "line": {
          "color": "#F9D672",
          "width": 2
         },
         "mode": "lines",
         "showlegend": false,
         "type": "scatter",
         "x": [
          33,
          33
         ],
         "y": [
          4.5,
          -4.5
         ]
        },
        {
         "hoverinfo": "text",
         "hovertext": "Katara: Hey ...",
         "line": {
          "color": "#81D3E8",
          "width": 2
         },
         "mode": "lines",
         "showlegend": false,
         "type": "scatter",
         "x": [
          35,
          35
         ],
         "y": [
          1,
          -1
         ]
        },
        {
         "hoverinfo": "text",
         "hovertext": "Haru: Hi, Mom.",
         "line": {
          "color": "#848587",
          "width": 2
         },
         "mode": "lines",
         "showlegend": false,
         "type": "scatter",
         "x": [
          37,
          37
         ],
         "y": [
          1,
          -1
         ]
        },
        {
         "hoverinfo": "text",
         "hovertext": "Haru's mother: Where have you been, Haru? You're late! Get started on your chores.",
         "line": {
          "color": "#848587",
          "width": 2
         },
         "mode": "lines",
         "showlegend": false,
         "type": "scatter",
         "x": [
          39,
          39
         ],
         "y": [
          6,
          -6
         ]
        },
        {
         "hoverinfo": "text",
         "hovertext": "Katara: Hey. You're that kid. Why did you run away before?",
         "line": {
          "color": "#81D3E8",
          "width": 2
         },
         "mode": "lines",
         "showlegend": false,
         "type": "scatter",
         "x": [
          41,
          41
         ],
         "y": [
          5,
          -5
         ]
        },
        {
         "hoverinfo": "text",
         "hovertext": "Haru: Uh, you must have me confused with some other kid.",
         "line": {
          "color": "#848587",
          "width": 2
         },
         "mode": "lines",
         "showlegend": false,
         "type": "scatter",
         "x": [
          43,
          43
         ],
         "y": [
          5,
          -5
         ]
        },
        {
         "hoverinfo": "text",
         "hovertext": "Aang: No, she doesn't. We saw you earthbending.",
         "line": {
          "color": "#F9D672",
          "width": 2
         },
         "mode": "lines",
         "showlegend": false,
         "type": "scatter",
         "x": [
          45,
          45
         ],
         "y": [
          3.5,
          -3.5
         ]
        },
        {
         "hoverinfo": "text",
         "hovertext": "Haru's mother: They saw you doing what?!",
         "line": {
          "color": "#848587",
          "width": 2
         },
         "mode": "lines",
         "showlegend": false,
         "type": "scatter",
         "x": [
          47,
          47
         ],
         "y": [
          2.5,
          -2.5
         ]
        },
        {
         "hoverinfo": "text",
         "hovertext": "Haru: They're crazy, Mom! I mean, look at how they're dressed.",
         "line": {
          "color": "#848587",
          "width": 2
         },
         "mode": "lines",
         "showlegend": false,
         "type": "scatter",
         "x": [
          49,
          49
         ],
         "y": [
          5,
          -5
         ]
        },
        {
         "hoverinfo": "text",
         "hovertext": "Haru's mother: You know how dangerous that is! You know what would happen if they caught you earthbending!",
         "line": {
          "color": "#848587",
          "width": 2
         },
         "mode": "lines",
         "showlegend": false,
         "type": "scatter",
         "x": [
          51,
          51
         ],
         "y": [
          8,
          -8
         ]
        },
        {
         "hoverinfo": "text",
         "hovertext": "Tax collector: Open up!",
         "line": {
          "color": "#848587",
          "width": 2
         },
         "mode": "lines",
         "showlegend": false,
         "type": "scatter",
         "x": [
          53,
          53
         ],
         "y": [
          1,
          -1
         ]
        },
        {
         "hoverinfo": "text",
         "hovertext": "Sokka: Fire Nation! Act natural!",
         "line": {
          "color": "#81D3E8",
          "width": 2
         },
         "mode": "lines",
         "showlegend": false,
         "type": "scatter",
         "x": [
          55,
          55
         ],
         "y": [
          2,
          -2
         ]
        },
        {
         "hoverinfo": "text",
         "hovertext": "Haru's mother: What do you want? I've already paid you this week!",
         "line": {
          "color": "#848587",
          "width": 2
         },
         "mode": "lines",
         "showlegend": false,
         "type": "scatter",
         "x": [
          57,
          57
         ],
         "y": [
          5,
          -5
         ]
        },
        {
         "hoverinfo": "text",
         "hovertext": "Tax collector: The tax just doubled.  And we wouldn't want an accident, would we?  Fire is sometimes so hard to control.",
         "line": {
          "color": "#848587",
          "width": 2
         },
         "mode": "lines",
         "showlegend": false,
         "type": "scatter",
         "x": [
          59,
          59
         ],
         "y": [
          9.5,
          -9.5
         ]
        },
        {
         "hoverinfo": "text",
         "hovertext": "Tax collector: You can keep the copper ones.",
         "line": {
          "color": "#848587",
          "width": 2
         },
         "mode": "lines",
         "showlegend": false,
         "type": "scatter",
         "x": [
          61,
          61
         ],
         "y": [
          3,
          -3
         ]
        },
        {
         "hoverinfo": "text",
         "hovertext": "Sokka: Nice guy. How long has the Fire Nation been here?",
         "line": {
          "color": "#81D3E8",
          "width": 2
         },
         "mode": "lines",
         "showlegend": false,
         "type": "scatter",
         "x": [
          63,
          63
         ],
         "y": [
          5,
          -5
         ]
        },
        {
         "hoverinfo": "text",
         "hovertext": "Haru's mother: Five years. Fire Lord Ozai uses our town's coal mines to fuel his ships.",
         "line": {
          "color": "#848587",
          "width": 2
         },
         "mode": "lines",
         "showlegend": false,
         "type": "scatter",
         "x": [
          65,
          65
         ],
         "y": [
          7,
          -7
         ]
        },
        {
         "hoverinfo": "text",
         "hovertext": "Haru: They're thugs. They steal from us. And everyone here's too much of a coward to do anything about it.",
         "line": {
          "color": "#848587",
          "width": 2
         },
         "mode": "lines",
         "showlegend": false,
         "type": "scatter",
         "x": [
          67,
          67
         ],
         "y": [
          9.5,
          -9.5
         ]
        },
        {
         "hoverinfo": "text",
         "hovertext": "Haru's mother: Quiet, Haru! Don't talk like that.",
         "line": {
          "color": "#848587",
          "width": 2
         },
         "mode": "lines",
         "showlegend": false,
         "type": "scatter",
         "x": [
          69,
          69
         ],
         "y": [
          3,
          -3
         ]
        },
        {
         "hoverinfo": "text",
         "hovertext": "Katara: But, Haru's an earthbender? He can help!",
         "line": {
          "color": "#81D3E8",
          "width": 2
         },
         "mode": "lines",
         "showlegend": false,
         "type": "scatter",
         "x": [
          71,
          71
         ],
         "y": [
          3.5,
          -3.5
         ]
        },
        {
         "hoverinfo": "text",
         "hovertext": "Haru's mother: Earthbending is forbidden. It's caused nothing but misery for this village!  He must never use his abilities.",
         "line": {
          "color": "#848587",
          "width": 2
         },
         "mode": "lines",
         "showlegend": false,
         "type": "scatter",
         "x": [
          73,
          73
         ],
         "y": [
          8.5,
          -8.5
         ]
        },
        {
         "hoverinfo": "text",
         "hovertext": "Katara: How can you say that? Haru has a gift! Asking him not to earthbend is like asking me not to waterbend. It's a part of who we are.",
         "line": {
          "color": "#81D3E8",
          "width": 2
         },
         "mode": "lines",
         "showlegend": false,
         "type": "scatter",
         "x": [
          75,
          75
         ],
         "y": [
          14,
          -14
         ]
        },
        {
         "hoverinfo": "text",
         "hovertext": "Haru's mother: You don't understand.",
         "line": {
          "color": "#848587",
          "width": 2
         },
         "mode": "lines",
         "showlegend": false,
         "type": "scatter",
         "x": [
          77,
          77
         ],
         "y": [
          1.5,
          -1.5
         ]
        },
        {
         "hoverinfo": "text",
         "hovertext": "Katara: I understand that Haru can help you fight back. What can the Fire Nation do to you that they haven't done already?",
         "line": {
          "color": "#81D3E8",
          "width": 2
         },
         "mode": "lines",
         "showlegend": false,
         "type": "scatter",
         "x": [
          79,
          79
         ],
         "y": [
          11,
          -11
         ]
        },
        {
         "hoverinfo": "text",
         "hovertext": "Haru's mother: They could take Haru away! Like they took his father.",
         "line": {
          "color": "#848587",
          "width": 2
         },
         "mode": "lines",
         "showlegend": false,
         "type": "scatter",
         "x": [
          81,
          81
         ],
         "y": [
          5,
          -5
         ]
        },
        {
         "hoverinfo": "text",
         "hovertext": "Haru: My mom said you can sleep here tonight. But you should leave in the morning.",
         "line": {
          "color": "#848587",
          "width": 2
         },
         "mode": "lines",
         "showlegend": false,
         "type": "scatter",
         "x": [
          83,
          83
         ],
         "y": [
          7.5,
          -7.5
         ]
        },
        {
         "hoverinfo": "text",
         "hovertext": "Aang: Thanks. I'll make sure Appa doesn't eat all your hay.",
         "line": {
          "color": "#F9D672",
          "width": 2
         },
         "mode": "lines",
         "showlegend": false,
         "type": "scatter",
         "x": [
          85,
          85
         ],
         "y": [
          5,
          -5
         ]
        },
        {
         "hoverinfo": "text",
         "hovertext": "Katara: I'm sorry about what I said earlier. I didn't know about your father.",
         "line": {
          "color": "#81D3E8",
          "width": 2
         },
         "mode": "lines",
         "showlegend": false,
         "type": "scatter",
         "x": [
          87,
          87
         ],
         "y": [
          6.5,
          -6.5
         ]
        },
        {
         "hoverinfo": "text",
         "hovertext": "Haru: That's okay. It's funny, the way you were talking back in the store? It reminded me of him.",
         "line": {
          "color": "#848587",
          "width": 2
         },
         "mode": "lines",
         "showlegend": false,
         "type": "scatter",
         "x": [
          89,
          89
         ],
         "y": [
          9,
          -9
         ]
        },
        {
         "hoverinfo": "text",
         "hovertext": "Katara: Thanks.",
         "line": {
          "color": "#81D3E8",
          "width": 2
         },
         "mode": "lines",
         "showlegend": false,
         "type": "scatter",
         "x": [
          91,
          91
         ],
         "y": [
          0.5,
          -0.5
         ]
        },
        {
         "hoverinfo": "text",
         "hovertext": "Haru: My father was very courageous. When the Fire Nation invaded, he and the other earthbenders were outnumbered ten to one. But they fought back anyway.",
         "line": {
          "color": "#848587",
          "width": 2
         },
         "mode": "lines",
         "showlegend": false,
         "type": "scatter",
         "x": [
          93,
          93
         ],
         "y": [
          12.5,
          -12.5
         ]
        },
        {
         "hoverinfo": "text",
         "hovertext": "Katara: He sounds like a great man.",
         "line": {
          "color": "#81D3E8",
          "width": 2
         },
         "mode": "lines",
         "showlegend": false,
         "type": "scatter",
         "x": [
          95,
          95
         ],
         "y": [
          3,
          -3
         ]
        },
        {
         "hoverinfo": "text",
         "hovertext": "Haru: After the attack, they rounded up my father and every other earthbender, and took them away.  We haven't seen them since.",
         "line": {
          "color": "#848587",
          "width": 2
         },
         "mode": "lines",
         "showlegend": false,
         "type": "scatter",
         "x": [
          97,
          97
         ],
         "y": [
          10.5,
          -10.5
         ]
        },
        {
         "hoverinfo": "text",
         "hovertext": "Katara: So that's why you hide your earthbending.",
         "line": {
          "color": "#81D3E8",
          "width": 2
         },
         "mode": "lines",
         "showlegend": false,
         "type": "scatter",
         "x": [
          99,
          99
         ],
         "y": [
          3.5,
          -3.5
         ]
        },
        {
         "hoverinfo": "text",
         "hovertext": "Haru: Yeah. Problem is ...  the only way I can feel close to my father now  is when I practice my bending. He taught me everything I know.",
         "line": {
          "color": "#848587",
          "width": 2
         },
         "mode": "lines",
         "showlegend": false,
         "type": "scatter",
         "x": [
          101,
          101
         ],
         "y": [
          13.5,
          -13.5
         ]
        },
        {
         "hoverinfo": "text",
         "hovertext": "Katara: See this necklace? My mother gave it to me.",
         "line": {
          "color": "#81D3E8",
          "width": 2
         },
         "mode": "lines",
         "showlegend": false,
         "type": "scatter",
         "x": [
          103,
          103
         ],
         "y": [
          4.5,
          -4.5
         ]
        },
        {
         "hoverinfo": "text",
         "hovertext": "Haru: It's beautiful.",
         "line": {
          "color": "#848587",
          "width": 2
         },
         "mode": "lines",
         "showlegend": false,
         "type": "scatter",
         "x": [
          105,
          105
         ],
         "y": [
          1,
          -1
         ]
        },
        {
         "hoverinfo": "text",
         "hovertext": "Katara: I lost my mother in a Fire Nation raid.  This necklace is all I have left of her.",
         "line": {
          "color": "#81D3E8",
          "width": 2
         },
         "mode": "lines",
         "showlegend": false,
         "type": "scatter",
         "x": [
          107,
          107
         ],
         "y": [
          9,
          -9
         ]
        },
        {
         "hoverinfo": "text",
         "hovertext": "Haru: It's not enough, is it?",
         "line": {
          "color": "#848587",
          "width": 2
         },
         "mode": "lines",
         "showlegend": false,
         "type": "scatter",
         "x": [
          109,
          109
         ],
         "y": [
          2.5,
          -2.5
         ]
        },
        {
         "hoverinfo": "text",
         "hovertext": "Katara: No.",
         "line": {
          "color": "#81D3E8",
          "width": 2
         },
         "mode": "lines",
         "showlegend": false,
         "type": "scatter",
         "x": [
          111,
          111
         ],
         "y": [
          0.5,
          -0.5
         ]
        },
        {
         "hoverinfo": "text",
         "hovertext": "Old man: Help, help!",
         "line": {
          "color": "#848587",
          "width": 2
         },
         "mode": "lines",
         "showlegend": false,
         "type": "scatter",
         "x": [
          113,
          113
         ],
         "y": [
          1,
          -1
         ]
        },
        {
         "hoverinfo": "text",
         "hovertext": "Haru: The mine!",
         "line": {
          "color": "#848587",
          "width": 2
         },
         "mode": "lines",
         "showlegend": false,
         "type": "scatter",
         "x": [
          115,
          115
         ],
         "y": [
          1,
          -1
         ]
        },
        {
         "hoverinfo": "text",
         "hovertext": "Old man: Help me!",
         "line": {
          "color": "#848587",
          "width": 2
         },
         "mode": "lines",
         "showlegend": false,
         "type": "scatter",
         "x": [
          117,
          117
         ],
         "y": [
          1,
          -1
         ]
        },
        {
         "hoverinfo": "text",
         "hovertext": "Katara: Ugh! It's not working! We have to get help!",
         "line": {
          "color": "#81D3E8",
          "width": 2
         },
         "mode": "lines",
         "showlegend": false,
         "type": "scatter",
         "x": [
          119,
          119
         ],
         "y": [
          4.5,
          -4.5
         ]
        },
        {
         "hoverinfo": "text",
         "hovertext": "Haru: There's no time, pull harder!",
         "line": {
          "color": "#848587",
          "width": 2
         },
         "mode": "lines",
         "showlegend": false,
         "type": "scatter",
         "x": [
          121,
          121
         ],
         "y": [
          2.5,
          -2.5
         ]
        },
        {
         "hoverinfo": "text",
         "hovertext": "Katara: Haru. There's a way you can help him.",
         "line": {
          "color": "#81D3E8",
          "width": 2
         },
         "mode": "lines",
         "showlegend": false,
         "type": "scatter",
         "x": [
          123,
          123
         ],
         "y": [
          4,
          -4
         ]
        },
        {
         "hoverinfo": "text",
         "hovertext": "Haru: I can't.",
         "line": {
          "color": "#848587",
          "width": 2
         },
         "mode": "lines",
         "showlegend": false,
         "type": "scatter",
         "x": [
          125,
          125
         ],
         "y": [
          1,
          -1
         ]
        },
        {
         "hoverinfo": "text",
         "hovertext": "Katara: Please, there's no one around to see you. It's the only way!",
         "line": {
          "color": "#81D3E8",
          "width": 2
         },
         "mode": "lines",
         "showlegend": false,
         "type": "scatter",
         "x": [
          127,
          127
         ],
         "y": [
          6,
          -6
         ]
        },
        {
         "hoverinfo": "text",
         "hovertext": "Katara: Haru! You did it!",
         "line": {
          "color": "#81D3E8",
          "width": 2
         },
         "mode": "lines",
         "showlegend": false,
         "type": "scatter",
         "x": [
          129,
          129
         ],
         "y": [
          2,
          -2
         ]
        },
        {
         "hoverinfo": "text",
         "hovertext": "Katara: It was so brave of Haru to use his earthbending to help that old man.",
         "line": {
          "color": "#81D3E8",
          "width": 2
         },
         "mode": "lines",
         "showlegend": false,
         "type": "scatter",
         "x": [
          131,
          131
         ],
         "y": [
          7.5,
          -7.5
         ]
        },
        {
         "hoverinfo": "text",
         "hovertext": "Aang: You must have really inspired him.",
         "line": {
          "color": "#F9D672",
          "width": 2
         },
         "mode": "lines",
         "showlegend": false,
         "type": "scatter",
         "x": [
          133,
          133
         ],
         "y": [
          3,
          -3
         ]
        },
        {
         "hoverinfo": "text",
         "hovertext": "Katara: I guess so.",
         "line": {
          "color": "#81D3E8",
          "width": 2
         },
         "mode": "lines",
         "showlegend": false,
         "type": "scatter",
         "x": [
          135,
          135
         ],
         "y": [
          1.5,
          -1.5
         ]
        },
        {
         "hoverinfo": "text",
         "hovertext": "Sokka: Everyone should get some sleep, we're leaving at dawn.",
         "line": {
          "color": "#81D3E8",
          "width": 2
         },
         "mode": "lines",
         "showlegend": false,
         "type": "scatter",
         "x": [
          137,
          137
         ],
         "y": [
          4.5,
          -4.5
         ]
        },
        {
         "hoverinfo": "text",
         "hovertext": "Katara: Dawn?! Can't we sleep in for once?",
         "line": {
          "color": "#81D3E8",
          "width": 2
         },
         "mode": "lines",
         "showlegend": false,
         "type": "scatter",
         "x": [
          139,
          139
         ],
         "y": [
          3.5,
          -3.5
         ]
        },
        {
         "hoverinfo": "text",
         "hovertext": "Sokka: Absolutely not! This village is crawling with Fire Nation troops. If they discover you're here, Aang, we'll be eating fireballs for breakfast. Goodnight.",
         "line": {
          "color": "#81D3E8",
          "width": 2
         },
         "mode": "lines",
         "showlegend": false,
         "type": "scatter",
         "x": [
          141,
          141
         ],
         "y": [
          11.5,
          -11.5
         ]
        },
        {
         "hoverinfo": "text",
         "hovertext": "Katara: I'd rather eat fireballs than nuts.",
         "line": {
          "color": "#81D3E8",
          "width": 2
         },
         "mode": "lines",
         "showlegend": false,
         "type": "scatter",
         "x": [
          143,
          143
         ],
         "y": [
          3,
          -3
         ]
        },
        {
         "hoverinfo": "text",
         "hovertext": "Sokka: Goodnight!",
         "line": {
          "color": "#81D3E8",
          "width": 2
         },
         "mode": "lines",
         "showlegend": false,
         "type": "scatter",
         "x": [
          145,
          145
         ],
         "y": [
          0.5,
          -0.5
         ]
        },
        {
         "hoverinfo": "text",
         "hovertext": "Old man: That's him! That's the earthbender!",
         "line": {
          "color": "#848587",
          "width": 2
         },
         "mode": "lines",
         "showlegend": false,
         "type": "scatter",
         "x": [
          147,
          147
         ],
         "y": [
          2.5,
          -2.5
         ]
        },
        {
         "hoverinfo": "text",
         "hovertext": "Katara: They took him! They took Haru away!",
         "line": {
          "color": "#81D3E8",
          "width": 2
         },
         "mode": "lines",
         "showlegend": false,
         "type": "scatter",
         "x": [
          149,
          149
         ],
         "y": [
          3.5,
          -3.5
         ]
        },
        {
         "hoverinfo": "text",
         "hovertext": "Aang: What?",
         "line": {
          "color": "#F9D672",
          "width": 2
         },
         "mode": "lines",
         "showlegend": false,
         "type": "scatter",
         "x": [
          151,
          151
         ],
         "y": [
          0.5,
          -0.5
         ]
        },
        {
         "hoverinfo": "text",
         "hovertext": "Katara: The old man turned him in to the Fire Nation - it's all my fault - I forced him into earthbending!",
         "line": {
          "color": "#81D3E8",
          "width": 2
         },
         "mode": "lines",
         "showlegend": false,
         "type": "scatter",
         "x": [
          153,
          153
         ],
         "y": [
          10.5,
          -10.5
         ]
        },
        {
         "hoverinfo": "text",
         "hovertext": "Sokka: Slow down, Katara. When did this happen?",
         "line": {
          "color": "#81D3E8",
          "width": 2
         },
         "mode": "lines",
         "showlegend": false,
         "type": "scatter",
         "x": [
          155,
          155
         ],
         "y": [
          3.5,
          -3.5
         ]
        },
        {
         "hoverinfo": "text",
         "hovertext": "Katara: Haru's mother said they came for him at midnight.",
         "line": {
          "color": "#81D3E8",
          "width": 2
         },
         "mode": "lines",
         "showlegend": false,
         "type": "scatter",
         "x": [
          157,
          157
         ],
         "y": [
          4.5,
          -4.5
         ]
        },
        {
         "hoverinfo": "text",
         "hovertext": "Sokka: Then it's too late to track him, he's long gone.",
         "line": {
          "color": "#81D3E8",
          "width": 2
         },
         "mode": "lines",
         "showlegend": false,
         "type": "scatter",
         "x": [
          159,
          159
         ],
         "y": [
          5,
          -5
         ]
        },
        {
         "hoverinfo": "text",
         "hovertext": "Katara: We don't need to track him. The Fire Nation is going to take me right to Haru.",
         "line": {
          "color": "#81D3E8",
          "width": 2
         },
         "mode": "lines",
         "showlegend": false,
         "type": "scatter",
         "x": [
          161,
          161
         ],
         "y": [
          8.5,
          -8.5
         ]
        },
        {
         "hoverinfo": "text",
         "hovertext": "Aang: And ... why would they do that?",
         "line": {
          "color": "#F9D672",
          "width": 2
         },
         "mode": "lines",
         "showlegend": false,
         "type": "scatter",
         "x": [
          163,
          163
         ],
         "y": [
          3.5,
          -3.5
         ]
        },
        {
         "hoverinfo": "text",
         "hovertext": "Katara: Because they're going to arrest me for earthbending.",
         "line": {
          "color": "#81D3E8",
          "width": 2
         },
         "mode": "lines",
         "showlegend": false,
         "type": "scatter",
         "x": [
          165,
          165
         ],
         "y": [
          4,
          -4
         ]
        },
        {
         "hoverinfo": "text",
         "hovertext": "Sokka: I thought you were crazy at first, Katara, but this might work. There are ventilation shafts throughout these mines. All Aang has to do is send an air current from that vent to this one right here. The boulder levitates and ta-da! Fake earthbending.",
         "line": {
          "color": "#81D3E8",
          "width": 2
         },
         "mode": "lines",
         "showlegend": false,
         "type": "scatter",
         "x": [
          167,
          167
         ],
         "y": [
          22,
          -22
         ]
        },
        {
         "hoverinfo": "text",
         "hovertext": "Katara: Aang? Did you get all that?",
         "line": {
          "color": "#81D3E8",
          "width": 2
         },
         "mode": "lines",
         "showlegend": false,
         "type": "scatter",
         "x": [
          169,
          169
         ],
         "y": [
          3,
          -3
         ]
        },
        {
         "hoverinfo": "text",
         "hovertext": "Aang: Sure, sure. I got it.",
         "line": {
          "color": "#F9D672",
          "width": 2
         },
         "mode": "lines",
         "showlegend": false,
         "type": "scatter",
         "x": [
          171,
          171
         ],
         "y": [
          2.5,
          -2.5
         ]
        },
        {
         "hoverinfo": "text",
         "hovertext": "Sokka: Do you remember your cue?",
         "line": {
          "color": "#81D3E8",
          "width": 2
         },
         "mode": "lines",
         "showlegend": false,
         "type": "scatter",
         "x": [
          173,
          173
         ],
         "y": [
          2.5,
          -2.5
         ]
        },
        {
         "hoverinfo": "text",
         "hovertext": "Aang: Yeah, yeah. Just relax. You're taking all the fun out of this.",
         "line": {
          "color": "#F9D672",
          "width": 2
         },
         "mode": "lines",
         "showlegend": false,
         "type": "scatter",
         "x": [
          175,
          175
         ],
         "y": [
          6,
          -6
         ]
        },
        {
         "hoverinfo": "text",
         "hovertext": "Sokka: By this, do you mean intentionally being captured by a group of ruthless firebenders?",
         "line": {
          "color": "#81D3E8",
          "width": 2
         },
         "mode": "lines",
         "showlegend": false,
         "type": "scatter",
         "x": [
          177,
          177
         ],
         "y": [
          7,
          -7
         ]
        },
        {
         "hoverinfo": "text",
         "hovertext": "Aang: Exactly! That's fun stuff!",
         "line": {
          "color": "#F9D672",
          "width": 2
         },
         "mode": "lines",
         "showlegend": false,
         "type": "scatter",
         "x": [
          179,
          179
         ],
         "y": [
          2,
          -2
         ]
        },
        {
         "hoverinfo": "text",
         "hovertext": "Sokka: Here they come! Get in your places!",
         "line": {
          "color": "#81D3E8",
          "width": 2
         },
         "mode": "lines",
         "showlegend": false,
         "type": "scatter",
         "x": [
          181,
          181
         ],
         "y": [
          3.5,
          -3.5
         ]
        },
        {
         "hoverinfo": "text",
         "hovertext": "Sokka: Get out of my way, pipsqueak!",
         "line": {
          "color": "#81D3E8",
          "width": 2
         },
         "mode": "lines",
         "showlegend": false,
         "type": "scatter",
         "x": [
          183,
          183
         ],
         "y": [
          3,
          -3
         ]
        },
        {
         "hoverinfo": "text",
         "hovertext": "Katara: How dare you call me pipsqueak, you giant-eared cretin!",
         "line": {
          "color": "#81D3E8",
          "width": 2
         },
         "mode": "lines",
         "showlegend": false,
         "type": "scatter",
         "x": [
          185,
          185
         ],
         "y": [
          4.5,
          -4.5
         ]
        },
        {
         "hoverinfo": "text",
         "hovertext": "Sokka: What did you call me?",
         "line": {
          "color": "#81D3E8",
          "width": 2
         },
         "mode": "lines",
         "showlegend": false,
         "type": "scatter",
         "x": [
          187,
          187
         ],
         "y": [
          2.5,
          -2.5
         ]
        },
        {
         "hoverinfo": "text",
         "hovertext": "Katara: A giant-eared cretin! Look at those things! Do herds of animals use them for shade?!",
         "line": {
          "color": "#81D3E8",
          "width": 2
         },
         "mode": "lines",
         "showlegend": false,
         "type": "scatter",
         "x": [
          189,
          189
         ],
         "y": [
          7.5,
          -7.5
         ]
        },
        {
         "hoverinfo": "text",
         "hovertext": "Sokka: You better back off!  Seriously, back off.",
         "line": {
          "color": "#81D3E8",
          "width": 2
         },
         "mode": "lines",
         "showlegend": false,
         "type": "scatter",
         "x": [
          191,
          191
         ],
         "y": [
          3.5,
          -3.5
         ]
        },
        {
         "hoverinfo": "text",
         "hovertext": "Katara: I will not back off! I bet elephants get together and make fun of how large your ears are!",
         "line": {
          "color": "#81D3E8",
          "width": 2
         },
         "mode": "lines",
         "showlegend": false,
         "type": "scatter",
         "x": [
          193,
          193
         ],
         "y": [
          9.5,
          -9.5
         ]
        },
        {
         "hoverinfo": "text",
         "hovertext": "Sokka: That's it! You're going down!",
         "line": {
          "color": "#81D3E8",
          "width": 2
         },
         "mode": "lines",
         "showlegend": false,
         "type": "scatter",
         "x": [
          195,
          195
         ],
         "y": [
          2.5,
          -2.5
         ]
        },
        {
         "hoverinfo": "text",
         "hovertext": "Katara: I'll show you who's boss!  Earthbending style!  I said, earthbending style !",
         "line": {
          "color": "#81D3E8",
          "width": 2
         },
         "mode": "lines",
         "showlegend": false,
         "type": "scatter",
         "x": [
          197,
          197
         ],
         "y": [
          6,
          -6
         ]
        },
        {
         "hoverinfo": "text",
         "hovertext": "Guard: That lemur! He's earthbending!",
         "line": {
          "color": "#848587",
          "width": 2
         },
         "mode": "lines",
         "showlegend": false,
         "type": "scatter",
         "x": [
          199,
          199
         ],
         "y": [
          2,
          -2
         ]
        },
        {
         "hoverinfo": "text",
         "hovertext": "Sokka: No, you idiot, it's the girl!",
         "line": {
          "color": "#81D3E8",
          "width": 2
         },
         "mode": "lines",
         "showlegend": false,
         "type": "scatter",
         "x": [
          201,
          201
         ],
         "y": [
          3,
          -3
         ]
        },
        {
         "hoverinfo": "text",
         "hovertext": "Guard: Oh.  Of course.",
         "line": {
          "color": "#848587",
          "width": 2
         },
         "mode": "lines",
         "showlegend": false,
         "type": "scatter",
         "x": [
          203,
          203
         ],
         "y": [
          1.5,
          -1.5
         ]
        },
        {
         "hoverinfo": "text",
         "hovertext": "Sokka: I'll hold her.  You've got twelve hours to find Haru. We'll be right behind you.",
         "line": {
          "color": "#81D3E8",
          "width": 2
         },
         "mode": "lines",
         "showlegend": false,
         "type": "scatter",
         "x": [
          205,
          205
         ],
         "y": [
          7.5,
          -7.5
         ]
        },
        {
         "hoverinfo": "text",
         "hovertext": "Sokka: Momo, you have some big ears!",
         "line": {
          "color": "#81D3E8",
          "width": 2
         },
         "mode": "lines",
         "showlegend": false,
         "type": "scatter",
         "x": [
          207,
          207
         ],
         "y": [
          3,
          -3
         ]
        },
        {
         "hoverinfo": "text",
         "hovertext": "Sokka: She'll be fine, Aang. Katara knows what she's doing.",
         "line": {
          "color": "#81D3E8",
          "width": 2
         },
         "mode": "lines",
         "showlegend": false,
         "type": "scatter",
         "x": [
          209,
          209
         ],
         "y": [
          4.5,
          -4.5
         ]
        },
        {
         "hoverinfo": "text",
         "hovertext": "Warden: Earthbenders. It is my pleasure to welcome you aboard my modest shipyard. I am your warden. I prefer to think of you not as prisoners,  but as honored guests. And I hope you come to think of me as your humble and caring host.  You will succeed here, if you simply abide-",
         "line": {
          "color": "#D46627",
          "width": 2
         },
         "mode": "lines",
         "showlegend": false,
         "type": "scatter",
         "x": [
          211,
          211
         ],
         "y": [
          26,
          -26
         ]
        },
        {
         "hoverinfo": "text",
         "hovertext": "Warden: What kind of guest dishonors his host by interrupting him?! Take him below!  One week in solitary will improve his manners.  Simply treat me with the courtesy that I give you-",
         "line": {
          "color": "#D46627",
          "width": 2
         },
         "mode": "lines",
         "showlegend": false,
         "type": "scatter",
         "x": [
          213,
          213
         ],
         "y": [
          15.5,
          -15.5
         ]
        },
        {
         "hoverinfo": "text",
         "hovertext": "Warden: And we'll get along famously.",
         "line": {
          "color": "#D46627",
          "width": 2
         },
         "mode": "lines",
         "showlegend": false,
         "type": "scatter",
         "x": [
          215,
          215
         ],
         "y": [
          2.5,
          -2.5
         ]
        },
        {
         "hoverinfo": "text",
         "hovertext": "Warden: You will notice, earthbenders, that this rig is made entirely of metal. You are miles away from any rock or earth.  So, if you have any illusions about employing that brutish savagery that passes for bending among you people ...  forget them. It is impossible. Good day.",
         "line": {
          "color": "#D46627",
          "width": 2
         },
         "mode": "lines",
         "showlegend": false,
         "type": "scatter",
         "x": [
          217,
          217
         ],
         "y": [
          23.5,
          -23.5
         ]
        },
        {
         "hoverinfo": "text",
         "hovertext": "Haru: Katara?",
         "line": {
          "color": "#848587",
          "width": 2
         },
         "mode": "lines",
         "showlegend": false,
         "type": "scatter",
         "x": [
          219,
          219
         ],
         "y": [
          0.5,
          -0.5
         ]
        },
        {
         "hoverinfo": "text",
         "hovertext": "Katara: Haru!",
         "line": {
          "color": "#81D3E8",
          "width": 2
         },
         "mode": "lines",
         "showlegend": false,
         "type": "scatter",
         "x": [
          221,
          221
         ],
         "y": [
          0.5,
          -0.5
         ]
        },
        {
         "hoverinfo": "text",
         "hovertext": "Haru: What are you doing here?",
         "line": {
          "color": "#848587",
          "width": 2
         },
         "mode": "lines",
         "showlegend": false,
         "type": "scatter",
         "x": [
          223,
          223
         ],
         "y": [
          2.5,
          -2.5
         ]
        },
        {
         "hoverinfo": "text",
         "hovertext": "Katara: It's my fault you were captured. I came to rescue you.",
         "line": {
          "color": "#81D3E8",
          "width": 2
         },
         "mode": "lines",
         "showlegend": false,
         "type": "scatter",
         "x": [
          225,
          225
         ],
         "y": [
          5.5,
          -5.5
         ]
        },
        {
         "hoverinfo": "text",
         "hovertext": "Haru: So, you got yourself arrested?",
         "line": {
          "color": "#848587",
          "width": 2
         },
         "mode": "lines",
         "showlegend": false,
         "type": "scatter",
         "x": [
          227,
          227
         ],
         "y": [
          2.5,
          -2.5
         ]
        },
        {
         "hoverinfo": "text",
         "hovertext": "Katara: It was the only way to find you.",
         "line": {
          "color": "#81D3E8",
          "width": 2
         },
         "mode": "lines",
         "showlegend": false,
         "type": "scatter",
         "x": [
          229,
          229
         ],
         "y": [
          4,
          -4
         ]
        },
        {
         "hoverinfo": "text",
         "hovertext": "Haru: You've got guts, Katara. I'll give you that.  Come on. There's someone I want you to meet.",
         "line": {
          "color": "#848587",
          "width": 2
         },
         "mode": "lines",
         "showlegend": false,
         "type": "scatter",
         "x": [
          231,
          231
         ],
         "y": [
          8.5,
          -8.5
         ]
        },
        {
         "hoverinfo": "text",
         "hovertext": "Haru: Katara. This is my father, Tyro.  Dad. This is Katara.",
         "line": {
          "color": "#848587",
          "width": 2
         },
         "mode": "lines",
         "showlegend": false,
         "type": "scatter",
         "x": [
          233,
          233
         ],
         "y": [
          5,
          -5
         ]
        },
        {
         "hoverinfo": "text",
         "hovertext": "Katara: It's an honor to meet you.",
         "line": {
          "color": "#81D3E8",
          "width": 2
         },
         "mode": "lines",
         "showlegend": false,
         "type": "scatter",
         "x": [
          235,
          235
         ],
         "y": [
          3,
          -3
         ]
        },
        {
         "hoverinfo": "text",
         "hovertext": "Tyro: Have some dinner, Katara.  It's not as bad as it looks.  It's still pretty bad though.",
         "line": {
          "color": "#848587",
          "width": 2
         },
         "mode": "lines",
         "showlegend": false,
         "type": "scatter",
         "x": [
          237,
          237
         ],
         "y": [
          8,
          -8
         ]
        },
        {
         "hoverinfo": "text",
         "hovertext": "Prisoner: Tyro. The prisoners are complaining there aren't enough blankets to go around.",
         "line": {
          "color": "#848587",
          "width": 2
         },
         "mode": "lines",
         "showlegend": false,
         "type": "scatter",
         "x": [
          239,
          239
         ],
         "y": [
          6,
          -6
         ]
        },
        {
         "hoverinfo": "text",
         "hovertext": "Tyro: I'll talk to the guards. In the meantime, make sure the elderly are taken care of. The rest of us will simply have to hope for warmer weather.",
         "line": {
          "color": "#848587",
          "width": 2
         },
         "mode": "lines",
         "showlegend": false,
         "type": "scatter",
         "x": [
          241,
          241
         ],
         "y": [
          14,
          -14
         ]
        },
        {
         "hoverinfo": "text",
         "hovertext": "Katara: If you don't mind me asking, what's your escape plan?",
         "line": {
          "color": "#81D3E8",
          "width": 2
         },
         "mode": "lines",
         "showlegend": false,
         "type": "scatter",
         "x": [
          243,
          243
         ],
         "y": [
          5,
          -5
         ]
        },
        {
         "hoverinfo": "text",
         "hovertext": "Tyro: Excuse me?",
         "line": {
          "color": "#848587",
          "width": 2
         },
         "mode": "lines",
         "showlegend": false,
         "type": "scatter",
         "x": [
          245,
          245
         ],
         "y": [
          1,
          -1
         ]
        },
        {
         "hoverinfo": "text",
         "hovertext": "Katara: You know, the plan to get everyone off the rig? What is it? Mutiny, sabotage?",
         "line": {
          "color": "#81D3E8",
          "width": 2
         },
         "mode": "lines",
         "showlegend": false,
         "type": "scatter",
         "x": [
          247,
          247
         ],
         "y": [
          7.5,
          -7.5
         ]
        },
        {
         "hoverinfo": "text",
         "hovertext": "Tyro: The plan? The plan is to survive. Wait out this war. Hope that one day some of us can get back home and forget this ever happened.",
         "line": {
          "color": "#848587",
          "width": 2
         },
         "mode": "lines",
         "showlegend": false,
         "type": "scatter",
         "x": [
          249,
          249
         ],
         "y": [
          13.5,
          -13.5
         ]
        },
        {
         "hoverinfo": "text",
         "hovertext": "Katara: How can you say that? You sound like you've already given up!",
         "line": {
          "color": "#81D3E8",
          "width": 2
         },
         "mode": "lines",
         "showlegend": false,
         "type": "scatter",
         "x": [
          251,
          251
         ],
         "y": [
          6,
          -6
         ]
        },
        {
         "hoverinfo": "text",
         "hovertext": "Tyro: Katara, I admire your courage. And I envy your youth. But people's lives are at stake here. The warden is a ruthless man, and he won't stand for any rebellion. I'm sorry, but we're powerless.",
         "line": {
          "color": "#848587",
          "width": 2
         },
         "mode": "lines",
         "showlegend": false,
         "type": "scatter",
         "x": [
          253,
          253
         ],
         "y": [
          17.5,
          -17.5
         ]
        },
        {
         "hoverinfo": "text",
         "hovertext": "Katara: We'll see about that.",
         "line": {
          "color": "#81D3E8",
          "width": 2
         },
         "mode": "lines",
         "showlegend": false,
         "type": "scatter",
         "x": [
          255,
          255
         ],
         "y": [
          2,
          -2
         ]
        },
        {
         "hoverinfo": "text",
         "hovertext": "Katara: Earthbenders! You don't know me, but I know of you. Every child in my Water Tribe village was rocked to sleep with stories of the brave Earth Kingdom, and the courageous earthbenders who guard its borders.  Some of you may think that the Fire Nation has made you powerless. Yes, they have taken away your ability to bend. But they can't take away your courage . And it is your courage they should truly fear! Because it runs deeper than any mine you've been forced to dig, any ocean that keeps you far from home! It is the strength of your hearts that make you who you are. Hearts that will remain unbroken when all rock and stone has eroded away. The time to fight back is now! I can tell you the Avatar has returned! So remember your courage earthbenders,  let us fight for our freedom!",
         "line": {
          "color": "#81D3E8",
          "width": 2
         },
         "mode": "lines",
         "showlegend": false,
         "type": "scatter",
         "x": [
          257,
          257
         ],
         "y": [
          73.5,
          -73.5
         ]
        },
        {
         "hoverinfo": "text",
         "hovertext": "Sokka: Your twelve hours are up; where's Haru? We've gotta get outta here!",
         "line": {
          "color": "#81D3E8",
          "width": 2
         },
         "mode": "lines",
         "showlegend": false,
         "type": "scatter",
         "x": [
          259,
          259
         ],
         "y": [
          6,
          -6
         ]
        },
        {
         "hoverinfo": "text",
         "hovertext": "Katara: I can't.",
         "line": {
          "color": "#81D3E8",
          "width": 2
         },
         "mode": "lines",
         "showlegend": false,
         "type": "scatter",
         "x": [
          261,
          261
         ],
         "y": [
          1,
          -1
         ]
        },
        {
         "hoverinfo": "text",
         "hovertext": "Sokka: We don't have much time. There are guards everywhere. Get on!",
         "line": {
          "color": "#81D3E8",
          "width": 2
         },
         "mode": "lines",
         "showlegend": false,
         "type": "scatter",
         "x": [
          263,
          263
         ],
         "y": [
          5.5,
          -5.5
         ]
        },
        {
         "hoverinfo": "text",
         "hovertext": "Aang: Katara, what's wrong?",
         "line": {
          "color": "#F9D672",
          "width": 2
         },
         "mode": "lines",
         "showlegend": false,
         "type": "scatter",
         "x": [
          265,
          265
         ],
         "y": [
          1.5,
          -1.5
         ]
        },
        {
         "hoverinfo": "text",
         "hovertext": "Katara: I'm not leaving.  I'm not giving up on these people.",
         "line": {
          "color": "#81D3E8",
          "width": 2
         },
         "mode": "lines",
         "showlegend": false,
         "type": "scatter",
         "x": [
          267,
          267
         ],
         "y": [
          5,
          -5
         ]
        },
        {
         "hoverinfo": "text",
         "hovertext": "Sokka: What do you mean you're not leaving?",
         "line": {
          "color": "#81D3E8",
          "width": 2
         },
         "mode": "lines",
         "showlegend": false,
         "type": "scatter",
         "x": [
          269,
          269
         ],
         "y": [
          3.5,
          -3.5
         ]
        },
        {
         "hoverinfo": "text",
         "hovertext": "Katara: We can't abandon these people! There has to be a way to help them.",
         "line": {
          "color": "#81D3E8",
          "width": 2
         },
         "mode": "lines",
         "showlegend": false,
         "type": "scatter",
         "x": [
          271,
          271
         ],
         "y": [
          7,
          -7
         ]
        },
        {
         "hoverinfo": "text",
         "hovertext": "Aang: Maybe she's right. What do you say, Sokka?",
         "line": {
          "color": "#F9D672",
          "width": 2
         },
         "mode": "lines",
         "showlegend": false,
         "type": "scatter",
         "x": [
          273,
          273
         ],
         "y": [
          4,
          -4
         ]
        },
        {
         "hoverinfo": "text",
         "hovertext": "Sokka: I say you're both crazy!  Last chance! We need to leave, now!",
         "line": {
          "color": "#81D3E8",
          "width": 2
         },
         "mode": "lines",
         "showlegend": false,
         "type": "scatter",
         "x": [
          275,
          275
         ],
         "y": [
          6,
          -6
         ]
        },
        {
         "hoverinfo": "text",
         "hovertext": "Katara: No!",
         "line": {
          "color": "#81D3E8",
          "width": 2
         },
         "mode": "lines",
         "showlegend": false,
         "type": "scatter",
         "x": [
          277,
          277
         ],
         "y": [
          0.5,
          -0.5
         ]
        },
        {
         "hoverinfo": "text",
         "hovertext": "Sokka: I hate when you get like this. Come on, we better hide.",
         "line": {
          "color": "#81D3E8",
          "width": 2
         },
         "mode": "lines",
         "showlegend": false,
         "type": "scatter",
         "x": [
          279,
          279
         ],
         "y": [
          6,
          -6
         ]
        },
        {
         "hoverinfo": "text",
         "hovertext": "Aang: Go hide.",
         "line": {
          "color": "#F9D672",
          "width": 2
         },
         "mode": "lines",
         "showlegend": false,
         "type": "scatter",
         "x": [
          281,
          281
         ],
         "y": [
          1,
          -1
         ]
        },
        {
         "hoverinfo": "text",
         "hovertext": "Captain: Look!",
         "line": {
          "color": "#848587",
          "width": 2
         },
         "mode": "lines",
         "showlegend": false,
         "type": "scatter",
         "x": [
          283,
          283
         ],
         "y": [
          0.5,
          -0.5
         ]
        },
        {
         "hoverinfo": "text",
         "hovertext": "Warden: Tell me exactly what you saw.",
         "line": {
          "color": "#D46627",
          "width": 2
         },
         "mode": "lines",
         "showlegend": false,
         "type": "scatter",
         "x": [
          285,
          285
         ],
         "y": [
          3,
          -3
         ]
        },
        {
         "hoverinfo": "text",
         "hovertext": "Captain: Well, sir, it looked like a flying bison.",
         "line": {
          "color": "#848587",
          "width": 2
         },
         "mode": "lines",
         "showlegend": false,
         "type": "scatter",
         "x": [
          287,
          287
         ],
         "y": [
          4,
          -4
         ]
        },
        {
         "hoverinfo": "text",
         "hovertext": "Warden: What?",
         "line": {
          "color": "#D46627",
          "width": 2
         },
         "mode": "lines",
         "showlegend": false,
         "type": "scatter",
         "x": [
          289,
          289
         ],
         "y": [
          0.5,
          -0.5
         ]
        },
        {
         "hoverinfo": "text",
         "hovertext": "Guard: It was a giant flying buffalo, sir. With an empty saddle.",
         "line": {
          "color": "#848587",
          "width": 2
         },
         "mode": "lines",
         "showlegend": false,
         "type": "scatter",
         "x": [
          291,
          291
         ],
         "y": [
          5.5,
          -5.5
         ]
        },
        {
         "hoverinfo": "text",
         "hovertext": "Warden: Which was it? A buffalo or a bison?",
         "line": {
          "color": "#D46627",
          "width": 2
         },
         "mode": "lines",
         "showlegend": false,
         "type": "scatter",
         "x": [
          293,
          293
         ],
         "y": [
          4,
          -4
         ]
        },
        {
         "hoverinfo": "text",
         "hovertext": "Captain: Uh, I'm not sure what the difference is, but that's not really the point, is it, sir?",
         "line": {
          "color": "#848587",
          "width": 2
         },
         "mode": "lines",
         "showlegend": false,
         "type": "scatter",
         "x": [
          295,
          295
         ],
         "y": [
          8.5,
          -8.5
         ]
        },
        {
         "hoverinfo": "text",
         "hovertext": "Warden: I'll decide what the point is, fool!",
         "line": {
          "color": "#D46627",
          "width": 2
         },
         "mode": "lines",
         "showlegend": false,
         "type": "scatter",
         "x": [
          297,
          297
         ],
         "y": [
          3.5,
          -3.5
         ]
        },
        {
         "hoverinfo": "text",
         "hovertext": "Warden: You! Wake up the captain. Search the entire rig!",
         "line": {
          "color": "#D46627",
          "width": 2
         },
         "mode": "lines",
         "showlegend": false,
         "type": "scatter",
         "x": [
          299,
          299
         ],
         "y": [
          4.5,
          -4.5
         ]
        },
        {
         "hoverinfo": "text",
         "hovertext": "Guard: Uh, sir.",
         "line": {
          "color": "#848587",
          "width": 2
         },
         "mode": "lines",
         "showlegend": false,
         "type": "scatter",
         "x": [
          301,
          301
         ],
         "y": [
          1,
          -1
         ]
        },
        {
         "hoverinfo": "text",
         "hovertext": "Warden: What?",
         "line": {
          "color": "#D46627",
          "width": 2
         },
         "mode": "lines",
         "showlegend": false,
         "type": "scatter",
         "x": [
          303,
          303
         ],
         "y": [
          0.5,
          -0.5
         ]
        },
        {
         "hoverinfo": "text",
         "hovertext": "Guard: That was ... the captain you just threw overboard, so ...",
         "line": {
          "color": "#848587",
          "width": 2
         },
         "mode": "lines",
         "showlegend": false,
         "type": "scatter",
         "x": [
          305,
          305
         ],
         "y": [
          5.5,
          -5.5
         ]
        },
        {
         "hoverinfo": "text",
         "hovertext": "Warden: Then wake up someone I haven't thrown overboard and search the rig! There's something going on here and I don't like it.",
         "line": {
          "color": "#D46627",
          "width": 2
         },
         "mode": "lines",
         "showlegend": false,
         "type": "scatter",
         "x": [
          307,
          307
         ],
         "y": [
          11,
          -11
         ]
        },
        {
         "hoverinfo": "text",
         "hovertext": "Sokka: We don't have much time. What are we gonna do?",
         "line": {
          "color": "#81D3E8",
          "width": 2
         },
         "mode": "lines",
         "showlegend": false,
         "type": "scatter",
         "x": [
          309,
          309
         ],
         "y": [
          5,
          -5
         ]
        },
        {
         "hoverinfo": "text",
         "hovertext": "Aang: I wish I knew how to make a hurricane!",
         "line": {
          "color": "#F9D672",
          "width": 2
         },
         "mode": "lines",
         "showlegend": false,
         "type": "scatter",
         "x": [
          311,
          311
         ],
         "y": [
          4.5,
          -4.5
         ]
        },
        {
         "hoverinfo": "text",
         "hovertext": "Aang: The warden would run away and we'd steal his keys!",
         "line": {
          "color": "#F9D672",
          "width": 2
         },
         "mode": "lines",
         "showlegend": false,
         "type": "scatter",
         "x": [
          313,
          313
         ],
         "y": [
          5,
          -5
         ]
        },
        {
         "hoverinfo": "text",
         "hovertext": "Sokka: Wouldn't he just take his keys with him?",
         "line": {
          "color": "#81D3E8",
          "width": 2
         },
         "mode": "lines",
         "showlegend": false,
         "type": "scatter",
         "x": [
          315,
          315
         ],
         "y": [
          4,
          -4
         ]
        },
        {
         "hoverinfo": "text",
         "hovertext": "Aang: I'm just tossing ideas around.",
         "line": {
          "color": "#F9D672",
          "width": 2
         },
         "mode": "lines",
         "showlegend": false,
         "type": "scatter",
         "x": [
          317,
          317
         ],
         "y": [
          2.5,
          -2.5
         ]
        },
        {
         "hoverinfo": "text",
         "hovertext": "Katara: I tried talking the earthbenders into fighting back but, it didn't work! If there was just a way to help them help themselves.",
         "line": {
          "color": "#81D3E8",
          "width": 2
         },
         "mode": "lines",
         "showlegend": false,
         "type": "scatter",
         "x": [
          319,
          319
         ],
         "y": [
          11.5,
          -11.5
         ]
        },
        {
         "hoverinfo": "text",
         "hovertext": "Sokka: For that they'd need some kind of earth, or some rock. Something they can bend.",
         "line": {
          "color": "#81D3E8",
          "width": 2
         },
         "mode": "lines",
         "showlegend": false,
         "type": "scatter",
         "x": [
          321,
          321
         ],
         "y": [
          7.5,
          -7.5
         ]
        },
        {
         "hoverinfo": "text",
         "hovertext": "Katara: But this entire place is made of metal!",
         "line": {
          "color": "#81D3E8",
          "width": 2
         },
         "mode": "lines",
         "showlegend": false,
         "type": "scatter",
         "x": [
          323,
          323
         ],
         "y": [
          4,
          -4
         ]
        },
        {
         "hoverinfo": "text",
         "hovertext": "Aang: No, it's not.  Look at the smoke! I bet they're burning coal. In other words, earth.",
         "line": {
          "color": "#F9D672",
          "width": 2
         },
         "mode": "lines",
         "showlegend": false,
         "type": "scatter",
         "x": [
          325,
          325
         ],
         "y": [
          8,
          -8
         ]
        },
        {
         "hoverinfo": "text",
         "hovertext": "Katara: It's almost dawn. We're running out of time! You sure this is gonna work?",
         "line": {
          "color": "#81D3E8",
          "width": 2
         },
         "mode": "lines",
         "showlegend": false,
         "type": "scatter",
         "x": [
          327,
          327
         ],
         "y": [
          7,
          -7
         ]
        },
        {
         "hoverinfo": "text",
         "hovertext": "Sokka: It should. These vents reminded me of our little trick back at the village. We're gonna do the same thing, but on a much bigger scale.  There's a huge deposit of coal at the base of the silo. And the whole system is ventilated. Aang closed off all the vents except one. When he does his airbending the coal only has one place to go, right back here.",
         "line": {
          "color": "#81D3E8",
          "width": 2
         },
         "mode": "lines",
         "showlegend": false,
         "type": "scatter",
         "x": [
          329,
          329
         ],
         "y": [
          34,
          -34
         ]
        },
        {
         "hoverinfo": "text",
         "hovertext": "Guard: There's the intruder!",
         "line": {
          "color": "#848587",
          "width": 2
         },
         "mode": "lines",
         "showlegend": false,
         "type": "scatter",
         "x": [
          331,
          331
         ],
         "y": [
          1.5,
          -1.5
         ]
        },
        {
         "hoverinfo": "text",
         "hovertext": "Sokka: Stay back! I'm warning you!",
         "line": {
          "color": "#81D3E8",
          "width": 2
         },
         "mode": "lines",
         "showlegend": false,
         "type": "scatter",
         "x": [
          333,
          333
         ],
         "y": [
          2.5,
          -2.5
         ]
        },
        {
         "hoverinfo": "text",
         "hovertext": "Tyro: Katara, stop! You can't win this fight!",
         "line": {
          "color": "#848587",
          "width": 2
         },
         "mode": "lines",
         "showlegend": false,
         "type": "scatter",
         "x": [
          335,
          335
         ],
         "y": [
          3.5,
          -3.5
         ]
        },
        {
         "hoverinfo": "text",
         "hovertext": "Warden: Listen to him well, child. You're one mistake away from dying where you stand.",
         "line": {
          "color": "#D46627",
          "width": 2
         },
         "mode": "lines",
         "showlegend": false,
         "type": "scatter",
         "x": [
          337,
          337
         ],
         "y": [
          7,
          -7
         ]
        },
        {
         "hoverinfo": "text",
         "hovertext": "Katara: Here's your chance, earthbenders! Take it! Your fate is in your own hands!",
         "line": {
          "color": "#81D3E8",
          "width": 2
         },
         "mode": "lines",
         "showlegend": false,
         "type": "scatter",
         "x": [
          339,
          339
         ],
         "y": [
          6.5,
          -6.5
         ]
        },
        {
         "hoverinfo": "text",
         "hovertext": "Warden: Foolish girl. You thought a few inspirational words and some coal would change these people? Look at these blank, hopeless faces. Their spirits were broken a long time ago.  Oh, but you still believe in them. How sweet. They're a waste of your energy little girl. You failed.",
         "line": {
          "color": "#D46627",
          "width": 2
         },
         "mode": "lines",
         "showlegend": false,
         "type": "scatter",
         "x": [
          341,
          341
         ],
         "y": [
          24,
          -24
         ]
        },
        {
         "hoverinfo": "text",
         "hovertext": "Warden: Show no mercy!",
         "line": {
          "color": "#D46627",
          "width": 2
         },
         "mode": "lines",
         "showlegend": false,
         "type": "scatter",
         "x": [
          343,
          343
         ],
         "y": [
          1.5,
          -1.5
         ]
        },
        {
         "hoverinfo": "text",
         "hovertext": "Tyro: For the Earth Kingdom, attack!",
         "line": {
          "color": "#848587",
          "width": 2
         },
         "mode": "lines",
         "showlegend": false,
         "type": "scatter",
         "x": [
          345,
          345
         ],
         "y": [
          2.5,
          -2.5
         ]
        },
        {
         "hoverinfo": "text",
         "hovertext": "Tyro: Get to the ships! We'll hold them off!",
         "line": {
          "color": "#848587",
          "width": 2
         },
         "mode": "lines",
         "showlegend": false,
         "type": "scatter",
         "x": [
          347,
          347
         ],
         "y": [
          4,
          -4
         ]
        },
        {
         "hoverinfo": "text",
         "hovertext": "Warden: Do not let them escape!",
         "line": {
          "color": "#D46627",
          "width": 2
         },
         "mode": "lines",
         "showlegend": false,
         "type": "scatter",
         "x": [
          349,
          349
         ],
         "y": [
          2.5,
          -2.5
         ]
        },
        {
         "hoverinfo": "text",
         "hovertext": "Aang: Guys! Throw me some coal!",
         "line": {
          "color": "#F9D672",
          "width": 2
         },
         "mode": "lines",
         "showlegend": false,
         "type": "scatter",
         "x": [
          351,
          351
         ],
         "y": [
          2.5,
          -2.5
         ]
        },
        {
         "hoverinfo": "text",
         "hovertext": "Warden: No, please! I can't swim!",
         "line": {
          "color": "#D46627",
          "width": 2
         },
         "mode": "lines",
         "showlegend": false,
         "type": "scatter",
         "x": [
          353,
          353
         ],
         "y": [
          2.5,
          -2.5
         ]
        },
        {
         "hoverinfo": "text",
         "hovertext": "Tyro: Don't worry. I hear cowards float.",
         "line": {
          "color": "#848587",
          "width": 2
         },
         "mode": "lines",
         "showlegend": false,
         "type": "scatter",
         "x": [
          355,
          355
         ],
         "y": [
          3,
          -3
         ]
        },
        {
         "hoverinfo": "text",
         "hovertext": "Haru: I want to thank you for saving me. For saving us.",
         "line": {
          "color": "#848587",
          "width": 2
         },
         "mode": "lines",
         "showlegend": false,
         "type": "scatter",
         "x": [
          357,
          357
         ],
         "y": [
          5.5,
          -5.5
         ]
        },
        {
         "hoverinfo": "text",
         "hovertext": "Katara: All it took was a little coal.",
         "line": {
          "color": "#81D3E8",
          "width": 2
         },
         "mode": "lines",
         "showlegend": false,
         "type": "scatter",
         "x": [
          359,
          359
         ],
         "y": [
          3.5,
          -3.5
         ]
        },
        {
         "hoverinfo": "text",
         "hovertext": "Haru: It wasn't the coal, Katara. It was you.",
         "line": {
          "color": "#848587",
          "width": 2
         },
         "mode": "lines",
         "showlegend": false,
         "type": "scatter",
         "x": [
          361,
          361
         ],
         "y": [
          4,
          -4
         ]
        },
        {
         "hoverinfo": "text",
         "hovertext": "Tyro: Thank you for helping me find my courage, Katara of the Water Tribe. My family and everyone here owes you much.",
         "line": {
          "color": "#848587",
          "width": 2
         },
         "mode": "lines",
         "showlegend": false,
         "type": "scatter",
         "x": [
          363,
          363
         ],
         "y": [
          10.5,
          -10.5
         ]
        },
        {
         "hoverinfo": "text",
         "hovertext": "Katara: So, I guess you're going home now.",
         "line": {
          "color": "#81D3E8",
          "width": 2
         },
         "mode": "lines",
         "showlegend": false,
         "type": "scatter",
         "x": [
          365,
          365
         ],
         "y": [
          3.5,
          -3.5
         ]
        },
        {
         "hoverinfo": "text",
         "hovertext": "Tyro: Yes. To take back my village.  To take back all of our villages! The Fire Nation will regret the day they set foot on our land!",
         "line": {
          "color": "#848587",
          "width": 2
         },
         "mode": "lines",
         "showlegend": false,
         "type": "scatter",
         "x": [
          367,
          367
         ],
         "y": [
          13,
          -13
         ]
        },
        {
         "hoverinfo": "text",
         "hovertext": "Haru: Come with us.",
         "line": {
          "color": "#848587",
          "width": 2
         },
         "mode": "lines",
         "showlegend": false,
         "type": "scatter",
         "x": [
          369,
          369
         ],
         "y": [
          1.5,
          -1.5
         ]
        },
        {
         "hoverinfo": "text",
         "hovertext": "Katara: I can't. Your mission is to take back your home. Ours is to get Aang to the North Pole.",
         "line": {
          "color": "#81D3E8",
          "width": 2
         },
         "mode": "lines",
         "showlegend": false,
         "type": "scatter",
         "x": [
          371,
          371
         ],
         "y": [
          9.5,
          -9.5
         ]
        },
        {
         "hoverinfo": "text",
         "hovertext": "Haru: That's him, isn't it? The Avatar.  Katara, thank you for bringing my father back to me. I never thought I'd see him again. I only wish there was some way ...",
         "line": {
          "color": "#848587",
          "width": 2
         },
         "mode": "lines",
         "showlegend": false,
         "type": "scatter",
         "x": [
          373,
          373
         ],
         "y": [
          15.5,
          -15.5
         ]
        },
        {
         "hoverinfo": "text",
         "hovertext": "Katara: I know.  My mother's necklace! It's gone!",
         "line": {
          "color": "#81D3E8",
          "width": 2
         },
         "mode": "lines",
         "showlegend": false,
         "type": "scatter",
         "x": [
          375,
          375
         ],
         "y": [
          3.5,
          -3.5
         ]
        }
       ],
       "layout": {
        "autosize": true,
        "hovermode": "closest",
        "margin": {
         "b": 0,
         "l": 50,
         "r": 50,
         "t": 50
        },
        "plot_bgcolor": "white",
        "template": {
         "data": {
          "bar": [
           {
            "error_x": {
             "color": "#2a3f5f"
            },
            "error_y": {
             "color": "#2a3f5f"
            },
            "marker": {
             "line": {
              "color": "#E5ECF6",
              "width": 0.5
             },
             "pattern": {
              "fillmode": "overlay",
              "size": 10,
              "solidity": 0.2
             }
            },
            "type": "bar"
           }
          ],
          "barpolar": [
           {
            "marker": {
             "line": {
              "color": "#E5ECF6",
              "width": 0.5
             },
             "pattern": {
              "fillmode": "overlay",
              "size": 10,
              "solidity": 0.2
             }
            },
            "type": "barpolar"
           }
          ],
          "carpet": [
           {
            "aaxis": {
             "endlinecolor": "#2a3f5f",
             "gridcolor": "white",
             "linecolor": "white",
             "minorgridcolor": "white",
             "startlinecolor": "#2a3f5f"
            },
            "baxis": {
             "endlinecolor": "#2a3f5f",
             "gridcolor": "white",
             "linecolor": "white",
             "minorgridcolor": "white",
             "startlinecolor": "#2a3f5f"
            },
            "type": "carpet"
           }
          ],
          "choropleth": [
           {
            "colorbar": {
             "outlinewidth": 0,
             "ticks": ""
            },
            "type": "choropleth"
           }
          ],
          "contour": [
           {
            "colorbar": {
             "outlinewidth": 0,
             "ticks": ""
            },
            "colorscale": [
             [
              0,
              "#0d0887"
             ],
             [
              0.1111111111111111,
              "#46039f"
             ],
             [
              0.2222222222222222,
              "#7201a8"
             ],
             [
              0.3333333333333333,
              "#9c179e"
             ],
             [
              0.4444444444444444,
              "#bd3786"
             ],
             [
              0.5555555555555556,
              "#d8576b"
             ],
             [
              0.6666666666666666,
              "#ed7953"
             ],
             [
              0.7777777777777778,
              "#fb9f3a"
             ],
             [
              0.8888888888888888,
              "#fdca26"
             ],
             [
              1,
              "#f0f921"
             ]
            ],
            "type": "contour"
           }
          ],
          "contourcarpet": [
           {
            "colorbar": {
             "outlinewidth": 0,
             "ticks": ""
            },
            "type": "contourcarpet"
           }
          ],
          "heatmap": [
           {
            "colorbar": {
             "outlinewidth": 0,
             "ticks": ""
            },
            "colorscale": [
             [
              0,
              "#0d0887"
             ],
             [
              0.1111111111111111,
              "#46039f"
             ],
             [
              0.2222222222222222,
              "#7201a8"
             ],
             [
              0.3333333333333333,
              "#9c179e"
             ],
             [
              0.4444444444444444,
              "#bd3786"
             ],
             [
              0.5555555555555556,
              "#d8576b"
             ],
             [
              0.6666666666666666,
              "#ed7953"
             ],
             [
              0.7777777777777778,
              "#fb9f3a"
             ],
             [
              0.8888888888888888,
              "#fdca26"
             ],
             [
              1,
              "#f0f921"
             ]
            ],
            "type": "heatmap"
           }
          ],
          "heatmapgl": [
           {
            "colorbar": {
             "outlinewidth": 0,
             "ticks": ""
            },
            "colorscale": [
             [
              0,
              "#0d0887"
             ],
             [
              0.1111111111111111,
              "#46039f"
             ],
             [
              0.2222222222222222,
              "#7201a8"
             ],
             [
              0.3333333333333333,
              "#9c179e"
             ],
             [
              0.4444444444444444,
              "#bd3786"
             ],
             [
              0.5555555555555556,
              "#d8576b"
             ],
             [
              0.6666666666666666,
              "#ed7953"
             ],
             [
              0.7777777777777778,
              "#fb9f3a"
             ],
             [
              0.8888888888888888,
              "#fdca26"
             ],
             [
              1,
              "#f0f921"
             ]
            ],
            "type": "heatmapgl"
           }
          ],
          "histogram": [
           {
            "marker": {
             "pattern": {
              "fillmode": "overlay",
              "size": 10,
              "solidity": 0.2
             }
            },
            "type": "histogram"
           }
          ],
          "histogram2d": [
           {
            "colorbar": {
             "outlinewidth": 0,
             "ticks": ""
            },
            "colorscale": [
             [
              0,
              "#0d0887"
             ],
             [
              0.1111111111111111,
              "#46039f"
             ],
             [
              0.2222222222222222,
              "#7201a8"
             ],
             [
              0.3333333333333333,
              "#9c179e"
             ],
             [
              0.4444444444444444,
              "#bd3786"
             ],
             [
              0.5555555555555556,
              "#d8576b"
             ],
             [
              0.6666666666666666,
              "#ed7953"
             ],
             [
              0.7777777777777778,
              "#fb9f3a"
             ],
             [
              0.8888888888888888,
              "#fdca26"
             ],
             [
              1,
              "#f0f921"
             ]
            ],
            "type": "histogram2d"
           }
          ],
          "histogram2dcontour": [
           {
            "colorbar": {
             "outlinewidth": 0,
             "ticks": ""
            },
            "colorscale": [
             [
              0,
              "#0d0887"
             ],
             [
              0.1111111111111111,
              "#46039f"
             ],
             [
              0.2222222222222222,
              "#7201a8"
             ],
             [
              0.3333333333333333,
              "#9c179e"
             ],
             [
              0.4444444444444444,
              "#bd3786"
             ],
             [
              0.5555555555555556,
              "#d8576b"
             ],
             [
              0.6666666666666666,
              "#ed7953"
             ],
             [
              0.7777777777777778,
              "#fb9f3a"
             ],
             [
              0.8888888888888888,
              "#fdca26"
             ],
             [
              1,
              "#f0f921"
             ]
            ],
            "type": "histogram2dcontour"
           }
          ],
          "mesh3d": [
           {
            "colorbar": {
             "outlinewidth": 0,
             "ticks": ""
            },
            "type": "mesh3d"
           }
          ],
          "parcoords": [
           {
            "line": {
             "colorbar": {
              "outlinewidth": 0,
              "ticks": ""
             }
            },
            "type": "parcoords"
           }
          ],
          "pie": [
           {
            "automargin": true,
            "type": "pie"
           }
          ],
          "scatter": [
           {
            "fillpattern": {
             "fillmode": "overlay",
             "size": 10,
             "solidity": 0.2
            },
            "type": "scatter"
           }
          ],
          "scatter3d": [
           {
            "line": {
             "colorbar": {
              "outlinewidth": 0,
              "ticks": ""
             }
            },
            "marker": {
             "colorbar": {
              "outlinewidth": 0,
              "ticks": ""
             }
            },
            "type": "scatter3d"
           }
          ],
          "scattercarpet": [
           {
            "marker": {
             "colorbar": {
              "outlinewidth": 0,
              "ticks": ""
             }
            },
            "type": "scattercarpet"
           }
          ],
          "scattergeo": [
           {
            "marker": {
             "colorbar": {
              "outlinewidth": 0,
              "ticks": ""
             }
            },
            "type": "scattergeo"
           }
          ],
          "scattergl": [
           {
            "marker": {
             "colorbar": {
              "outlinewidth": 0,
              "ticks": ""
             }
            },
            "type": "scattergl"
           }
          ],
          "scattermapbox": [
           {
            "marker": {
             "colorbar": {
              "outlinewidth": 0,
              "ticks": ""
             }
            },
            "type": "scattermapbox"
           }
          ],
          "scatterpolar": [
           {
            "marker": {
             "colorbar": {
              "outlinewidth": 0,
              "ticks": ""
             }
            },
            "type": "scatterpolar"
           }
          ],
          "scatterpolargl": [
           {
            "marker": {
             "colorbar": {
              "outlinewidth": 0,
              "ticks": ""
             }
            },
            "type": "scatterpolargl"
           }
          ],
          "scatterternary": [
           {
            "marker": {
             "colorbar": {
              "outlinewidth": 0,
              "ticks": ""
             }
            },
            "type": "scatterternary"
           }
          ],
          "surface": [
           {
            "colorbar": {
             "outlinewidth": 0,
             "ticks": ""
            },
            "colorscale": [
             [
              0,
              "#0d0887"
             ],
             [
              0.1111111111111111,
              "#46039f"
             ],
             [
              0.2222222222222222,
              "#7201a8"
             ],
             [
              0.3333333333333333,
              "#9c179e"
             ],
             [
              0.4444444444444444,
              "#bd3786"
             ],
             [
              0.5555555555555556,
              "#d8576b"
             ],
             [
              0.6666666666666666,
              "#ed7953"
             ],
             [
              0.7777777777777778,
              "#fb9f3a"
             ],
             [
              0.8888888888888888,
              "#fdca26"
             ],
             [
              1,
              "#f0f921"
             ]
            ],
            "type": "surface"
           }
          ],
          "table": [
           {
            "cells": {
             "fill": {
              "color": "#EBF0F8"
             },
             "line": {
              "color": "white"
             }
            },
            "header": {
             "fill": {
              "color": "#C8D4E3"
             },
             "line": {
              "color": "white"
             }
            },
            "type": "table"
           }
          ]
         },
         "layout": {
          "annotationdefaults": {
           "arrowcolor": "#2a3f5f",
           "arrowhead": 0,
           "arrowwidth": 1
          },
          "autotypenumbers": "strict",
          "coloraxis": {
           "colorbar": {
            "outlinewidth": 0,
            "ticks": ""
           }
          },
          "colorscale": {
           "diverging": [
            [
             0,
             "#8e0152"
            ],
            [
             0.1,
             "#c51b7d"
            ],
            [
             0.2,
             "#de77ae"
            ],
            [
             0.3,
             "#f1b6da"
            ],
            [
             0.4,
             "#fde0ef"
            ],
            [
             0.5,
             "#f7f7f7"
            ],
            [
             0.6,
             "#e6f5d0"
            ],
            [
             0.7,
             "#b8e186"
            ],
            [
             0.8,
             "#7fbc41"
            ],
            [
             0.9,
             "#4d9221"
            ],
            [
             1,
             "#276419"
            ]
           ],
           "sequential": [
            [
             0,
             "#0d0887"
            ],
            [
             0.1111111111111111,
             "#46039f"
            ],
            [
             0.2222222222222222,
             "#7201a8"
            ],
            [
             0.3333333333333333,
             "#9c179e"
            ],
            [
             0.4444444444444444,
             "#bd3786"
            ],
            [
             0.5555555555555556,
             "#d8576b"
            ],
            [
             0.6666666666666666,
             "#ed7953"
            ],
            [
             0.7777777777777778,
             "#fb9f3a"
            ],
            [
             0.8888888888888888,
             "#fdca26"
            ],
            [
             1,
             "#f0f921"
            ]
           ],
           "sequentialminus": [
            [
             0,
             "#0d0887"
            ],
            [
             0.1111111111111111,
             "#46039f"
            ],
            [
             0.2222222222222222,
             "#7201a8"
            ],
            [
             0.3333333333333333,
             "#9c179e"
            ],
            [
             0.4444444444444444,
             "#bd3786"
            ],
            [
             0.5555555555555556,
             "#d8576b"
            ],
            [
             0.6666666666666666,
             "#ed7953"
            ],
            [
             0.7777777777777778,
             "#fb9f3a"
            ],
            [
             0.8888888888888888,
             "#fdca26"
            ],
            [
             1,
             "#f0f921"
            ]
           ]
          },
          "colorway": [
           "#636efa",
           "#EF553B",
           "#00cc96",
           "#ab63fa",
           "#FFA15A",
           "#19d3f3",
           "#FF6692",
           "#B6E880",
           "#FF97FF",
           "#FECB52"
          ],
          "font": {
           "color": "#2a3f5f"
          },
          "geo": {
           "bgcolor": "white",
           "lakecolor": "white",
           "landcolor": "#E5ECF6",
           "showlakes": true,
           "showland": true,
           "subunitcolor": "white"
          },
          "hoverlabel": {
           "align": "left"
          },
          "hovermode": "closest",
          "mapbox": {
           "style": "light"
          },
          "paper_bgcolor": "white",
          "plot_bgcolor": "#E5ECF6",
          "polar": {
           "angularaxis": {
            "gridcolor": "white",
            "linecolor": "white",
            "ticks": ""
           },
           "bgcolor": "#E5ECF6",
           "radialaxis": {
            "gridcolor": "white",
            "linecolor": "white",
            "ticks": ""
           }
          },
          "scene": {
           "xaxis": {
            "backgroundcolor": "#E5ECF6",
            "gridcolor": "white",
            "gridwidth": 2,
            "linecolor": "white",
            "showbackground": true,
            "ticks": "",
            "zerolinecolor": "white"
           },
           "yaxis": {
            "backgroundcolor": "#E5ECF6",
            "gridcolor": "white",
            "gridwidth": 2,
            "linecolor": "white",
            "showbackground": true,
            "ticks": "",
            "zerolinecolor": "white"
           },
           "zaxis": {
            "backgroundcolor": "#E5ECF6",
            "gridcolor": "white",
            "gridwidth": 2,
            "linecolor": "white",
            "showbackground": true,
            "ticks": "",
            "zerolinecolor": "white"
           }
          },
          "shapedefaults": {
           "line": {
            "color": "#2a3f5f"
           }
          },
          "ternary": {
           "aaxis": {
            "gridcolor": "white",
            "linecolor": "white",
            "ticks": ""
           },
           "baxis": {
            "gridcolor": "white",
            "linecolor": "white",
            "ticks": ""
           },
           "bgcolor": "#E5ECF6",
           "caxis": {
            "gridcolor": "white",
            "linecolor": "white",
            "ticks": ""
           }
          },
          "title": {
           "x": 0.05
          },
          "xaxis": {
           "automargin": true,
           "gridcolor": "white",
           "linecolor": "white",
           "ticks": "",
           "title": {
            "standoff": 15
           },
           "zerolinecolor": "white",
           "zerolinewidth": 2
          },
          "yaxis": {
           "automargin": true,
           "gridcolor": "white",
           "linecolor": "white",
           "ticks": "",
           "title": {
            "standoff": 15
           },
           "zerolinecolor": "white",
           "zerolinewidth": 2
          }
         }
        },
        "title": {
         "font": {
          "size": 20
         },
         "text": "Imprisoned",
         "x": 0.5
        },
        "xaxis": {
         "autorange": true,
         "range": [
          1,
          375
         ],
         "showgrid": false,
         "showticklabels": false,
         "type": "linear"
        },
        "yaxis": {
         "autorange": true,
         "range": [
          -81.66666666666667,
          81.66666666666667
         ],
         "showgrid": false,
         "showticklabels": false,
         "type": "linear"
        }
       }
      },
      "image/png": "[encoded data removed]",
      "text/html": [
       "<div>                            <div id=\"32ae0993-2466-42d2-a6fe-19263aef5ab3\" class=\"plotly-graph-div\" style=\"height:525px; width:100%;\"></div>            <script type=\"text/javascript\">                require([\"plotly\"], function(Plotly) {                    window.PLOTLYENV=window.PLOTLYENV || {};                                    if (document.getElementById(\"32ae0993-2466-42d2-a6fe-19263aef5ab3\")) {                    Plotly.newPlot(                        \"32ae0993-2466-42d2-a6fe-19263aef5ab3\",                        [{\"hoverinfo\":\"text\",\"hovertext\":\"Aang: Great, you're back!\",\"line\":{\"color\":\"#F9D672\",\"width\":2},\"mode\":\"lines\",\"showlegend\":false,\"x\":[1,1],\"y\":[1.5,-1.5],\"type\":\"scatter\"},{\"hoverinfo\":\"text\",\"hovertext\":\"Aang: What's for dinner?\",\"line\":{\"color\":\"#F9D672\",\"width\":2},\"mode\":\"lines\",\"showlegend\":false,\"x\":[3,3],\"y\":[1.5,-1.5],\"type\":\"scatter\"},{\"hoverinfo\":\"text\",\"hovertext\":\"Sokka: We've got a few options. First; round nuts. And some kind of oval shaped nuts? And some rock-shaped nuts, that might just be rocks.  Dig in!\",\"line\":{\"color\":\"#81D3E8\",\"width\":2},\"mode\":\"lines\",\"showlegend\":false,\"x\":[5,5],\"y\":[13.0,-13.0],\"type\":\"scatter\"},{\"hoverinfo\":\"text\",\"hovertext\":\"Katara: Seriously ... what else you got?\",\"line\":{\"color\":\"#81D3E8\",\"width\":2},\"mode\":\"lines\",\"showlegend\":false,\"x\":[7,7],\"y\":[3.0,-3.0],\"type\":\"scatter\"},{\"hoverinfo\":\"text\",\"hovertext\":\"Sokka: What was that?\",\"line\":{\"color\":\"#81D3E8\",\"width\":2},\"mode\":\"lines\",\"showlegend\":false,\"x\":[9,9],\"y\":[1.5,-1.5],\"type\":\"scatter\"},{\"hoverinfo\":\"text\",\"hovertext\":\"Aang: It's coming from over there!\",\"line\":{\"color\":\"#F9D672\",\"width\":2},\"mode\":\"lines\",\"showlegend\":false,\"x\":[11,11],\"y\":[2.5,-2.5],\"type\":\"scatter\"},{\"hoverinfo\":\"text\",\"hovertext\":\"Sokka: Shouldn't we run away from huge booms? Not toward them?\",\"line\":{\"color\":\"#81D3E8\",\"width\":2},\"mode\":\"lines\",\"showlegend\":false,\"x\":[13,13],\"y\":[5.0,-5.0],\"type\":\"scatter\"},{\"hoverinfo\":\"text\",\"hovertext\":\"Katara: An earthbender!\",\"line\":{\"color\":\"#81D3E8\",\"width\":2},\"mode\":\"lines\",\"showlegend\":false,\"x\":[15,15],\"y\":[1.0,-1.0],\"type\":\"scatter\"},{\"hoverinfo\":\"text\",\"hovertext\":\"Aang: Let's go meet him!\",\"line\":{\"color\":\"#F9D672\",\"width\":2},\"mode\":\"lines\",\"showlegend\":false,\"x\":[17,17],\"y\":[2.0,-2.0],\"type\":\"scatter\"},{\"hoverinfo\":\"text\",\"hovertext\":\"Sokka: He looks dangerous, so we better approach cautiously.\",\"line\":{\"color\":\"#81D3E8\",\"width\":2},\"mode\":\"lines\",\"showlegend\":false,\"x\":[19,19],\"y\":[4.0,-4.0],\"type\":\"scatter\"},{\"hoverinfo\":\"text\",\"hovertext\":\"Katara: Hello there! I'm Katara! What's your name?\",\"line\":{\"color\":\"#81D3E8\",\"width\":2},\"mode\":\"lines\",\"showlegend\":false,\"x\":[21,21],\"y\":[3.5,-3.5],\"type\":\"scatter\"},{\"hoverinfo\":\"text\",\"hovertext\":\"Aang: Nice to meet you!\",\"line\":{\"color\":\"#F9D672\",\"width\":2},\"mode\":\"lines\",\"showlegend\":false,\"x\":[23,23],\"y\":[2.0,-2.0],\"type\":\"scatter\"},{\"hoverinfo\":\"text\",\"hovertext\":\"Katara: I just wanted to say hi.\",\"line\":{\"color\":\"#81D3E8\",\"width\":2},\"mode\":\"lines\",\"showlegend\":false,\"x\":[25,25],\"y\":[3.0,-3.0],\"type\":\"scatter\"},{\"hoverinfo\":\"text\",\"hovertext\":\"Aang: Hey! That guy's gotta be running somewhere. Maybe we're near a village? And I bet that village has a market!\",\"line\":{\"color\":\"#F9D672\",\"width\":2},\"mode\":\"lines\",\"showlegend\":false,\"x\":[27,27],\"y\":[10.0,-10.0],\"type\":\"scatter\"},{\"hoverinfo\":\"text\",\"hovertext\":\"Katara: Which means no nuts for dinner!\",\"line\":{\"color\":\"#81D3E8\",\"width\":2},\"mode\":\"lines\",\"showlegend\":false,\"x\":[29,29],\"y\":[3.0,-3.0],\"type\":\"scatter\"},{\"hoverinfo\":\"text\",\"hovertext\":\"Sokka: Hey! I worked hard to get those nuts!  Yeah, I hate 'em too.\",\"line\":{\"color\":\"#81D3E8\",\"width\":2},\"mode\":\"lines\",\"showlegend\":false,\"x\":[31,31],\"y\":[6.5,-6.5],\"type\":\"scatter\"},{\"hoverinfo\":\"text\",\"hovertext\":\"Aang: Great hat!  I'll trade you some nuts for it.\",\"line\":{\"color\":\"#F9D672\",\"width\":2},\"mode\":\"lines\",\"showlegend\":false,\"x\":[33,33],\"y\":[4.5,-4.5],\"type\":\"scatter\"},{\"hoverinfo\":\"text\",\"hovertext\":\"Katara: Hey ...\",\"line\":{\"color\":\"#81D3E8\",\"width\":2},\"mode\":\"lines\",\"showlegend\":false,\"x\":[35,35],\"y\":[1.0,-1.0],\"type\":\"scatter\"},{\"hoverinfo\":\"text\",\"hovertext\":\"Haru: Hi, Mom.\",\"line\":{\"color\":\"#848587\",\"width\":2},\"mode\":\"lines\",\"showlegend\":false,\"x\":[37,37],\"y\":[1.0,-1.0],\"type\":\"scatter\"},{\"hoverinfo\":\"text\",\"hovertext\":\"Haru's mother: Where have you been, Haru? You're late! Get started on your chores.\",\"line\":{\"color\":\"#848587\",\"width\":2},\"mode\":\"lines\",\"showlegend\":false,\"x\":[39,39],\"y\":[6.0,-6.0],\"type\":\"scatter\"},{\"hoverinfo\":\"text\",\"hovertext\":\"Katara: Hey. You're that kid. Why did you run away before?\",\"line\":{\"color\":\"#81D3E8\",\"width\":2},\"mode\":\"lines\",\"showlegend\":false,\"x\":[41,41],\"y\":[5.0,-5.0],\"type\":\"scatter\"},{\"hoverinfo\":\"text\",\"hovertext\":\"Haru: Uh, you must have me confused with some other kid.\",\"line\":{\"color\":\"#848587\",\"width\":2},\"mode\":\"lines\",\"showlegend\":false,\"x\":[43,43],\"y\":[5.0,-5.0],\"type\":\"scatter\"},{\"hoverinfo\":\"text\",\"hovertext\":\"Aang: No, she doesn't. We saw you earthbending.\",\"line\":{\"color\":\"#F9D672\",\"width\":2},\"mode\":\"lines\",\"showlegend\":false,\"x\":[45,45],\"y\":[3.5,-3.5],\"type\":\"scatter\"},{\"hoverinfo\":\"text\",\"hovertext\":\"Haru's mother: They saw you doing what?!\",\"line\":{\"color\":\"#848587\",\"width\":2},\"mode\":\"lines\",\"showlegend\":false,\"x\":[47,47],\"y\":[2.5,-2.5],\"type\":\"scatter\"},{\"hoverinfo\":\"text\",\"hovertext\":\"Haru: They're crazy, Mom! I mean, look at how they're dressed.\",\"line\":{\"color\":\"#848587\",\"width\":2},\"mode\":\"lines\",\"showlegend\":false,\"x\":[49,49],\"y\":[5.0,-5.0],\"type\":\"scatter\"},{\"hoverinfo\":\"text\",\"hovertext\":\"Haru's mother: You know how dangerous that is! You know what would happen if they caught you earthbending!\",\"line\":{\"color\":\"#848587\",\"width\":2},\"mode\":\"lines\",\"showlegend\":false,\"x\":[51,51],\"y\":[8.0,-8.0],\"type\":\"scatter\"},{\"hoverinfo\":\"text\",\"hovertext\":\"Tax collector: Open up!\",\"line\":{\"color\":\"#848587\",\"width\":2},\"mode\":\"lines\",\"showlegend\":false,\"x\":[53,53],\"y\":[1.0,-1.0],\"type\":\"scatter\"},{\"hoverinfo\":\"text\",\"hovertext\":\"Sokka: Fire Nation! Act natural!\",\"line\":{\"color\":\"#81D3E8\",\"width\":2},\"mode\":\"lines\",\"showlegend\":false,\"x\":[55,55],\"y\":[2.0,-2.0],\"type\":\"scatter\"},{\"hoverinfo\":\"text\",\"hovertext\":\"Haru's mother: What do you want? I've already paid you this week!\",\"line\":{\"color\":\"#848587\",\"width\":2},\"mode\":\"lines\",\"showlegend\":false,\"x\":[57,57],\"y\":[5.0,-5.0],\"type\":\"scatter\"},{\"hoverinfo\":\"text\",\"hovertext\":\"Tax collector: The tax just doubled.  And we wouldn't want an accident, would we?  Fire is sometimes so hard to control.\",\"line\":{\"color\":\"#848587\",\"width\":2},\"mode\":\"lines\",\"showlegend\":false,\"x\":[59,59],\"y\":[9.5,-9.5],\"type\":\"scatter\"},{\"hoverinfo\":\"text\",\"hovertext\":\"Tax collector: You can keep the copper ones.\",\"line\":{\"color\":\"#848587\",\"width\":2},\"mode\":\"lines\",\"showlegend\":false,\"x\":[61,61],\"y\":[3.0,-3.0],\"type\":\"scatter\"},{\"hoverinfo\":\"text\",\"hovertext\":\"Sokka: Nice guy. How long has the Fire Nation been here?\",\"line\":{\"color\":\"#81D3E8\",\"width\":2},\"mode\":\"lines\",\"showlegend\":false,\"x\":[63,63],\"y\":[5.0,-5.0],\"type\":\"scatter\"},{\"hoverinfo\":\"text\",\"hovertext\":\"Haru's mother: Five years. Fire Lord Ozai uses our town's coal mines to fuel his ships.\",\"line\":{\"color\":\"#848587\",\"width\":2},\"mode\":\"lines\",\"showlegend\":false,\"x\":[65,65],\"y\":[7.0,-7.0],\"type\":\"scatter\"},{\"hoverinfo\":\"text\",\"hovertext\":\"Haru: They're thugs. They steal from us. And everyone here's too much of a coward to do anything about it.\",\"line\":{\"color\":\"#848587\",\"width\":2},\"mode\":\"lines\",\"showlegend\":false,\"x\":[67,67],\"y\":[9.5,-9.5],\"type\":\"scatter\"},{\"hoverinfo\":\"text\",\"hovertext\":\"Haru's mother: Quiet, Haru! Don't talk like that.\",\"line\":{\"color\":\"#848587\",\"width\":2},\"mode\":\"lines\",\"showlegend\":false,\"x\":[69,69],\"y\":[3.0,-3.0],\"type\":\"scatter\"},{\"hoverinfo\":\"text\",\"hovertext\":\"Katara: But, Haru's an earthbender? He can help!\",\"line\":{\"color\":\"#81D3E8\",\"width\":2},\"mode\":\"lines\",\"showlegend\":false,\"x\":[71,71],\"y\":[3.5,-3.5],\"type\":\"scatter\"},{\"hoverinfo\":\"text\",\"hovertext\":\"Haru's mother: Earthbending is forbidden. It's caused nothing but misery for this village!  He must never use his abilities.\",\"line\":{\"color\":\"#848587\",\"width\":2},\"mode\":\"lines\",\"showlegend\":false,\"x\":[73,73],\"y\":[8.5,-8.5],\"type\":\"scatter\"},{\"hoverinfo\":\"text\",\"hovertext\":\"Katara: How can you say that? Haru has a gift! Asking him not to earthbend is like asking me not to waterbend. It's a part of who we are.\",\"line\":{\"color\":\"#81D3E8\",\"width\":2},\"mode\":\"lines\",\"showlegend\":false,\"x\":[75,75],\"y\":[14.0,-14.0],\"type\":\"scatter\"},{\"hoverinfo\":\"text\",\"hovertext\":\"Haru's mother: You don't understand.\",\"line\":{\"color\":\"#848587\",\"width\":2},\"mode\":\"lines\",\"showlegend\":false,\"x\":[77,77],\"y\":[1.5,-1.5],\"type\":\"scatter\"},{\"hoverinfo\":\"text\",\"hovertext\":\"Katara: I understand that Haru can help you fight back. What can the Fire Nation do to you that they haven't done already?\",\"line\":{\"color\":\"#81D3E8\",\"width\":2},\"mode\":\"lines\",\"showlegend\":false,\"x\":[79,79],\"y\":[11.0,-11.0],\"type\":\"scatter\"},{\"hoverinfo\":\"text\",\"hovertext\":\"Haru's mother: They could take Haru away! Like they took his father.\",\"line\":{\"color\":\"#848587\",\"width\":2},\"mode\":\"lines\",\"showlegend\":false,\"x\":[81,81],\"y\":[5.0,-5.0],\"type\":\"scatter\"},{\"hoverinfo\":\"text\",\"hovertext\":\"Haru: My mom said you can sleep here tonight. But you should leave in the morning.\",\"line\":{\"color\":\"#848587\",\"width\":2},\"mode\":\"lines\",\"showlegend\":false,\"x\":[83,83],\"y\":[7.5,-7.5],\"type\":\"scatter\"},{\"hoverinfo\":\"text\",\"hovertext\":\"Aang: Thanks. I'll make sure Appa doesn't eat all your hay.\",\"line\":{\"color\":\"#F9D672\",\"width\":2},\"mode\":\"lines\",\"showlegend\":false,\"x\":[85,85],\"y\":[5.0,-5.0],\"type\":\"scatter\"},{\"hoverinfo\":\"text\",\"hovertext\":\"Katara: I'm sorry about what I said earlier. I didn't know about your father.\",\"line\":{\"color\":\"#81D3E8\",\"width\":2},\"mode\":\"lines\",\"showlegend\":false,\"x\":[87,87],\"y\":[6.5,-6.5],\"type\":\"scatter\"},{\"hoverinfo\":\"text\",\"hovertext\":\"Haru: That's okay. It's funny, the way you were talking back in the store? It reminded me of him.\",\"line\":{\"color\":\"#848587\",\"width\":2},\"mode\":\"lines\",\"showlegend\":false,\"x\":[89,89],\"y\":[9.0,-9.0],\"type\":\"scatter\"},{\"hoverinfo\":\"text\",\"hovertext\":\"Katara: Thanks.\",\"line\":{\"color\":\"#81D3E8\",\"width\":2},\"mode\":\"lines\",\"showlegend\":false,\"x\":[91,91],\"y\":[0.5,-0.5],\"type\":\"scatter\"},{\"hoverinfo\":\"text\",\"hovertext\":\"Haru: My father was very courageous. When the Fire Nation invaded, he and the other earthbenders were outnumbered ten to one. But they fought back anyway.\",\"line\":{\"color\":\"#848587\",\"width\":2},\"mode\":\"lines\",\"showlegend\":false,\"x\":[93,93],\"y\":[12.5,-12.5],\"type\":\"scatter\"},{\"hoverinfo\":\"text\",\"hovertext\":\"Katara: He sounds like a great man.\",\"line\":{\"color\":\"#81D3E8\",\"width\":2},\"mode\":\"lines\",\"showlegend\":false,\"x\":[95,95],\"y\":[3.0,-3.0],\"type\":\"scatter\"},{\"hoverinfo\":\"text\",\"hovertext\":\"Haru: After the attack, they rounded up my father and every other earthbender, and took them away.  We haven't seen them since.\",\"line\":{\"color\":\"#848587\",\"width\":2},\"mode\":\"lines\",\"showlegend\":false,\"x\":[97,97],\"y\":[10.5,-10.5],\"type\":\"scatter\"},{\"hoverinfo\":\"text\",\"hovertext\":\"Katara: So that's why you hide your earthbending.\",\"line\":{\"color\":\"#81D3E8\",\"width\":2},\"mode\":\"lines\",\"showlegend\":false,\"x\":[99,99],\"y\":[3.5,-3.5],\"type\":\"scatter\"},{\"hoverinfo\":\"text\",\"hovertext\":\"Haru: Yeah. Problem is ...  the only way I can feel close to my father now  is when I practice my bending. He taught me everything I know.\",\"line\":{\"color\":\"#848587\",\"width\":2},\"mode\":\"lines\",\"showlegend\":false,\"x\":[101,101],\"y\":[13.5,-13.5],\"type\":\"scatter\"},{\"hoverinfo\":\"text\",\"hovertext\":\"Katara: See this necklace? My mother gave it to me.\",\"line\":{\"color\":\"#81D3E8\",\"width\":2},\"mode\":\"lines\",\"showlegend\":false,\"x\":[103,103],\"y\":[4.5,-4.5],\"type\":\"scatter\"},{\"hoverinfo\":\"text\",\"hovertext\":\"Haru: It's beautiful.\",\"line\":{\"color\":\"#848587\",\"width\":2},\"mode\":\"lines\",\"showlegend\":false,\"x\":[105,105],\"y\":[1.0,-1.0],\"type\":\"scatter\"},{\"hoverinfo\":\"text\",\"hovertext\":\"Katara: I lost my mother in a Fire Nation raid.  This necklace is all I have left of her.\",\"line\":{\"color\":\"#81D3E8\",\"width\":2},\"mode\":\"lines\",\"showlegend\":false,\"x\":[107,107],\"y\":[9.0,-9.0],\"type\":\"scatter\"},{\"hoverinfo\":\"text\",\"hovertext\":\"Haru: It's not enough, is it?\",\"line\":{\"color\":\"#848587\",\"width\":2},\"mode\":\"lines\",\"showlegend\":false,\"x\":[109,109],\"y\":[2.5,-2.5],\"type\":\"scatter\"},{\"hoverinfo\":\"text\",\"hovertext\":\"Katara: No.\",\"line\":{\"color\":\"#81D3E8\",\"width\":2},\"mode\":\"lines\",\"showlegend\":false,\"x\":[111,111],\"y\":[0.5,-0.5],\"type\":\"scatter\"},{\"hoverinfo\":\"text\",\"hovertext\":\"Old man: Help, help!\",\"line\":{\"color\":\"#848587\",\"width\":2},\"mode\":\"lines\",\"showlegend\":false,\"x\":[113,113],\"y\":[1.0,-1.0],\"type\":\"scatter\"},{\"hoverinfo\":\"text\",\"hovertext\":\"Haru: The mine!\",\"line\":{\"color\":\"#848587\",\"width\":2},\"mode\":\"lines\",\"showlegend\":false,\"x\":[115,115],\"y\":[1.0,-1.0],\"type\":\"scatter\"},{\"hoverinfo\":\"text\",\"hovertext\":\"Old man: Help me!\",\"line\":{\"color\":\"#848587\",\"width\":2},\"mode\":\"lines\",\"showlegend\":false,\"x\":[117,117],\"y\":[1.0,-1.0],\"type\":\"scatter\"},{\"hoverinfo\":\"text\",\"hovertext\":\"Katara: Ugh! It's not working! We have to get help!\",\"line\":{\"color\":\"#81D3E8\",\"width\":2},\"mode\":\"lines\",\"showlegend\":false,\"x\":[119,119],\"y\":[4.5,-4.5],\"type\":\"scatter\"},{\"hoverinfo\":\"text\",\"hovertext\":\"Haru: There's no time, pull harder!\",\"line\":{\"color\":\"#848587\",\"width\":2},\"mode\":\"lines\",\"showlegend\":false,\"x\":[121,121],\"y\":[2.5,-2.5],\"type\":\"scatter\"},{\"hoverinfo\":\"text\",\"hovertext\":\"Katara: Haru. There's a way you can help him.\",\"line\":{\"color\":\"#81D3E8\",\"width\":2},\"mode\":\"lines\",\"showlegend\":false,\"x\":[123,123],\"y\":[4.0,-4.0],\"type\":\"scatter\"},{\"hoverinfo\":\"text\",\"hovertext\":\"Haru: I can't.\",\"line\":{\"color\":\"#848587\",\"width\":2},\"mode\":\"lines\",\"showlegend\":false,\"x\":[125,125],\"y\":[1.0,-1.0],\"type\":\"scatter\"},{\"hoverinfo\":\"text\",\"hovertext\":\"Katara: Please, there's no one around to see you. It's the only way!\",\"line\":{\"color\":\"#81D3E8\",\"width\":2},\"mode\":\"lines\",\"showlegend\":false,\"x\":[127,127],\"y\":[6.0,-6.0],\"type\":\"scatter\"},{\"hoverinfo\":\"text\",\"hovertext\":\"Katara: Haru! You did it!\",\"line\":{\"color\":\"#81D3E8\",\"width\":2},\"mode\":\"lines\",\"showlegend\":false,\"x\":[129,129],\"y\":[2.0,-2.0],\"type\":\"scatter\"},{\"hoverinfo\":\"text\",\"hovertext\":\"Katara: It was so brave of Haru to use his earthbending to help that old man.\",\"line\":{\"color\":\"#81D3E8\",\"width\":2},\"mode\":\"lines\",\"showlegend\":false,\"x\":[131,131],\"y\":[7.5,-7.5],\"type\":\"scatter\"},{\"hoverinfo\":\"text\",\"hovertext\":\"Aang: You must have really inspired him.\",\"line\":{\"color\":\"#F9D672\",\"width\":2},\"mode\":\"lines\",\"showlegend\":false,\"x\":[133,133],\"y\":[3.0,-3.0],\"type\":\"scatter\"},{\"hoverinfo\":\"text\",\"hovertext\":\"Katara: I guess so.\",\"line\":{\"color\":\"#81D3E8\",\"width\":2},\"mode\":\"lines\",\"showlegend\":false,\"x\":[135,135],\"y\":[1.5,-1.5],\"type\":\"scatter\"},{\"hoverinfo\":\"text\",\"hovertext\":\"Sokka: Everyone should get some sleep, we're leaving at dawn.\",\"line\":{\"color\":\"#81D3E8\",\"width\":2},\"mode\":\"lines\",\"showlegend\":false,\"x\":[137,137],\"y\":[4.5,-4.5],\"type\":\"scatter\"},{\"hoverinfo\":\"text\",\"hovertext\":\"Katara: Dawn?! Can't we sleep in for once?\",\"line\":{\"color\":\"#81D3E8\",\"width\":2},\"mode\":\"lines\",\"showlegend\":false,\"x\":[139,139],\"y\":[3.5,-3.5],\"type\":\"scatter\"},{\"hoverinfo\":\"text\",\"hovertext\":\"Sokka: Absolutely not! This village is crawling with Fire Nation troops. If they discover you're here, Aang, we'll be eating fireballs for breakfast. Goodnight.\",\"line\":{\"color\":\"#81D3E8\",\"width\":2},\"mode\":\"lines\",\"showlegend\":false,\"x\":[141,141],\"y\":[11.5,-11.5],\"type\":\"scatter\"},{\"hoverinfo\":\"text\",\"hovertext\":\"Katara: I'd rather eat fireballs than nuts.\",\"line\":{\"color\":\"#81D3E8\",\"width\":2},\"mode\":\"lines\",\"showlegend\":false,\"x\":[143,143],\"y\":[3.0,-3.0],\"type\":\"scatter\"},{\"hoverinfo\":\"text\",\"hovertext\":\"Sokka: Goodnight!\",\"line\":{\"color\":\"#81D3E8\",\"width\":2},\"mode\":\"lines\",\"showlegend\":false,\"x\":[145,145],\"y\":[0.5,-0.5],\"type\":\"scatter\"},{\"hoverinfo\":\"text\",\"hovertext\":\"Old man: That's him! That's the earthbender!\",\"line\":{\"color\":\"#848587\",\"width\":2},\"mode\":\"lines\",\"showlegend\":false,\"x\":[147,147],\"y\":[2.5,-2.5],\"type\":\"scatter\"},{\"hoverinfo\":\"text\",\"hovertext\":\"Katara: They took him! They took Haru away!\",\"line\":{\"color\":\"#81D3E8\",\"width\":2},\"mode\":\"lines\",\"showlegend\":false,\"x\":[149,149],\"y\":[3.5,-3.5],\"type\":\"scatter\"},{\"hoverinfo\":\"text\",\"hovertext\":\"Aang: What?\",\"line\":{\"color\":\"#F9D672\",\"width\":2},\"mode\":\"lines\",\"showlegend\":false,\"x\":[151,151],\"y\":[0.5,-0.5],\"type\":\"scatter\"},{\"hoverinfo\":\"text\",\"hovertext\":\"Katara: The old man turned him in to the Fire Nation - it's all my fault - I forced him into earthbending!\",\"line\":{\"color\":\"#81D3E8\",\"width\":2},\"mode\":\"lines\",\"showlegend\":false,\"x\":[153,153],\"y\":[10.5,-10.5],\"type\":\"scatter\"},{\"hoverinfo\":\"text\",\"hovertext\":\"Sokka: Slow down, Katara. When did this happen?\",\"line\":{\"color\":\"#81D3E8\",\"width\":2},\"mode\":\"lines\",\"showlegend\":false,\"x\":[155,155],\"y\":[3.5,-3.5],\"type\":\"scatter\"},{\"hoverinfo\":\"text\",\"hovertext\":\"Katara: Haru's mother said they came for him at midnight.\",\"line\":{\"color\":\"#81D3E8\",\"width\":2},\"mode\":\"lines\",\"showlegend\":false,\"x\":[157,157],\"y\":[4.5,-4.5],\"type\":\"scatter\"},{\"hoverinfo\":\"text\",\"hovertext\":\"Sokka: Then it's too late to track him, he's long gone.\",\"line\":{\"color\":\"#81D3E8\",\"width\":2},\"mode\":\"lines\",\"showlegend\":false,\"x\":[159,159],\"y\":[5.0,-5.0],\"type\":\"scatter\"},{\"hoverinfo\":\"text\",\"hovertext\":\"Katara: We don't need to track him. The Fire Nation is going to take me right to Haru.\",\"line\":{\"color\":\"#81D3E8\",\"width\":2},\"mode\":\"lines\",\"showlegend\":false,\"x\":[161,161],\"y\":[8.5,-8.5],\"type\":\"scatter\"},{\"hoverinfo\":\"text\",\"hovertext\":\"Aang: And ... why would they do that?\",\"line\":{\"color\":\"#F9D672\",\"width\":2},\"mode\":\"lines\",\"showlegend\":false,\"x\":[163,163],\"y\":[3.5,-3.5],\"type\":\"scatter\"},{\"hoverinfo\":\"text\",\"hovertext\":\"Katara: Because they're going to arrest me for earthbending.\",\"line\":{\"color\":\"#81D3E8\",\"width\":2},\"mode\":\"lines\",\"showlegend\":false,\"x\":[165,165],\"y\":[4.0,-4.0],\"type\":\"scatter\"},{\"hoverinfo\":\"text\",\"hovertext\":\"Sokka: I thought you were crazy at first, Katara, but this might work. There are ventilation shafts throughout these mines. All Aang has to do is send an air current from that vent to this one right here. The boulder levitates and ta-da! Fake earthbending.\",\"line\":{\"color\":\"#81D3E8\",\"width\":2},\"mode\":\"lines\",\"showlegend\":false,\"x\":[167,167],\"y\":[22.0,-22.0],\"type\":\"scatter\"},{\"hoverinfo\":\"text\",\"hovertext\":\"Katara: Aang? Did you get all that?\",\"line\":{\"color\":\"#81D3E8\",\"width\":2},\"mode\":\"lines\",\"showlegend\":false,\"x\":[169,169],\"y\":[3.0,-3.0],\"type\":\"scatter\"},{\"hoverinfo\":\"text\",\"hovertext\":\"Aang: Sure, sure. I got it.\",\"line\":{\"color\":\"#F9D672\",\"width\":2},\"mode\":\"lines\",\"showlegend\":false,\"x\":[171,171],\"y\":[2.5,-2.5],\"type\":\"scatter\"},{\"hoverinfo\":\"text\",\"hovertext\":\"Sokka: Do you remember your cue?\",\"line\":{\"color\":\"#81D3E8\",\"width\":2},\"mode\":\"lines\",\"showlegend\":false,\"x\":[173,173],\"y\":[2.5,-2.5],\"type\":\"scatter\"},{\"hoverinfo\":\"text\",\"hovertext\":\"Aang: Yeah, yeah. Just relax. You're taking all the fun out of this.\",\"line\":{\"color\":\"#F9D672\",\"width\":2},\"mode\":\"lines\",\"showlegend\":false,\"x\":[175,175],\"y\":[6.0,-6.0],\"type\":\"scatter\"},{\"hoverinfo\":\"text\",\"hovertext\":\"Sokka: By this, do you mean intentionally being captured by a group of ruthless firebenders?\",\"line\":{\"color\":\"#81D3E8\",\"width\":2},\"mode\":\"lines\",\"showlegend\":false,\"x\":[177,177],\"y\":[7.0,-7.0],\"type\":\"scatter\"},{\"hoverinfo\":\"text\",\"hovertext\":\"Aang: Exactly! That's fun stuff!\",\"line\":{\"color\":\"#F9D672\",\"width\":2},\"mode\":\"lines\",\"showlegend\":false,\"x\":[179,179],\"y\":[2.0,-2.0],\"type\":\"scatter\"},{\"hoverinfo\":\"text\",\"hovertext\":\"Sokka: Here they come! Get in your places!\",\"line\":{\"color\":\"#81D3E8\",\"width\":2},\"mode\":\"lines\",\"showlegend\":false,\"x\":[181,181],\"y\":[3.5,-3.5],\"type\":\"scatter\"},{\"hoverinfo\":\"text\",\"hovertext\":\"Sokka: Get out of my way, pipsqueak!\",\"line\":{\"color\":\"#81D3E8\",\"width\":2},\"mode\":\"lines\",\"showlegend\":false,\"x\":[183,183],\"y\":[3.0,-3.0],\"type\":\"scatter\"},{\"hoverinfo\":\"text\",\"hovertext\":\"Katara: How dare you call me pipsqueak, you giant-eared cretin!\",\"line\":{\"color\":\"#81D3E8\",\"width\":2},\"mode\":\"lines\",\"showlegend\":false,\"x\":[185,185],\"y\":[4.5,-4.5],\"type\":\"scatter\"},{\"hoverinfo\":\"text\",\"hovertext\":\"Sokka: What did you call me?\",\"line\":{\"color\":\"#81D3E8\",\"width\":2},\"mode\":\"lines\",\"showlegend\":false,\"x\":[187,187],\"y\":[2.5,-2.5],\"type\":\"scatter\"},{\"hoverinfo\":\"text\",\"hovertext\":\"Katara: A giant-eared cretin! Look at those things! Do herds of animals use them for shade?!\",\"line\":{\"color\":\"#81D3E8\",\"width\":2},\"mode\":\"lines\",\"showlegend\":false,\"x\":[189,189],\"y\":[7.5,-7.5],\"type\":\"scatter\"},{\"hoverinfo\":\"text\",\"hovertext\":\"Sokka: You better back off!  Seriously, back off.\",\"line\":{\"color\":\"#81D3E8\",\"width\":2},\"mode\":\"lines\",\"showlegend\":false,\"x\":[191,191],\"y\":[3.5,-3.5],\"type\":\"scatter\"},{\"hoverinfo\":\"text\",\"hovertext\":\"Katara: I will not back off! I bet elephants get together and make fun of how large your ears are!\",\"line\":{\"color\":\"#81D3E8\",\"width\":2},\"mode\":\"lines\",\"showlegend\":false,\"x\":[193,193],\"y\":[9.5,-9.5],\"type\":\"scatter\"},{\"hoverinfo\":\"text\",\"hovertext\":\"Sokka: That's it! You're going down!\",\"line\":{\"color\":\"#81D3E8\",\"width\":2},\"mode\":\"lines\",\"showlegend\":false,\"x\":[195,195],\"y\":[2.5,-2.5],\"type\":\"scatter\"},{\"hoverinfo\":\"text\",\"hovertext\":\"Katara: I'll show you who's boss!  Earthbending style!  I said, earthbending style !\",\"line\":{\"color\":\"#81D3E8\",\"width\":2},\"mode\":\"lines\",\"showlegend\":false,\"x\":[197,197],\"y\":[6.0,-6.0],\"type\":\"scatter\"},{\"hoverinfo\":\"text\",\"hovertext\":\"Guard: That lemur! He's earthbending!\",\"line\":{\"color\":\"#848587\",\"width\":2},\"mode\":\"lines\",\"showlegend\":false,\"x\":[199,199],\"y\":[2.0,-2.0],\"type\":\"scatter\"},{\"hoverinfo\":\"text\",\"hovertext\":\"Sokka: No, you idiot, it's the girl!\",\"line\":{\"color\":\"#81D3E8\",\"width\":2},\"mode\":\"lines\",\"showlegend\":false,\"x\":[201,201],\"y\":[3.0,-3.0],\"type\":\"scatter\"},{\"hoverinfo\":\"text\",\"hovertext\":\"Guard: Oh.  Of course.\",\"line\":{\"color\":\"#848587\",\"width\":2},\"mode\":\"lines\",\"showlegend\":false,\"x\":[203,203],\"y\":[1.5,-1.5],\"type\":\"scatter\"},{\"hoverinfo\":\"text\",\"hovertext\":\"Sokka: I'll hold her.  You've got twelve hours to find Haru. We'll be right behind you.\",\"line\":{\"color\":\"#81D3E8\",\"width\":2},\"mode\":\"lines\",\"showlegend\":false,\"x\":[205,205],\"y\":[7.5,-7.5],\"type\":\"scatter\"},{\"hoverinfo\":\"text\",\"hovertext\":\"Sokka: Momo, you have some big ears!\",\"line\":{\"color\":\"#81D3E8\",\"width\":2},\"mode\":\"lines\",\"showlegend\":false,\"x\":[207,207],\"y\":[3.0,-3.0],\"type\":\"scatter\"},{\"hoverinfo\":\"text\",\"hovertext\":\"Sokka: She'll be fine, Aang. Katara knows what she's doing.\",\"line\":{\"color\":\"#81D3E8\",\"width\":2},\"mode\":\"lines\",\"showlegend\":false,\"x\":[209,209],\"y\":[4.5,-4.5],\"type\":\"scatter\"},{\"hoverinfo\":\"text\",\"hovertext\":\"Warden: Earthbenders. It is my pleasure to welcome you aboard my modest shipyard. I am your warden. I prefer to think of you not as prisoners,  but as honored guests. And I hope you come to think of me as your humble and caring host.  You will succeed here, if you simply abide-\",\"line\":{\"color\":\"#D46627\",\"width\":2},\"mode\":\"lines\",\"showlegend\":false,\"x\":[211,211],\"y\":[26.0,-26.0],\"type\":\"scatter\"},{\"hoverinfo\":\"text\",\"hovertext\":\"Warden: What kind of guest dishonors his host by interrupting him?! Take him below!  One week in solitary will improve his manners.  Simply treat me with the courtesy that I give you-\",\"line\":{\"color\":\"#D46627\",\"width\":2},\"mode\":\"lines\",\"showlegend\":false,\"x\":[213,213],\"y\":[15.5,-15.5],\"type\":\"scatter\"},{\"hoverinfo\":\"text\",\"hovertext\":\"Warden: And we'll get along famously.\",\"line\":{\"color\":\"#D46627\",\"width\":2},\"mode\":\"lines\",\"showlegend\":false,\"x\":[215,215],\"y\":[2.5,-2.5],\"type\":\"scatter\"},{\"hoverinfo\":\"text\",\"hovertext\":\"Warden: You will notice, earthbenders, that this rig is made entirely of metal. You are miles away from any rock or earth.  So, if you have any illusions about employing that brutish savagery that passes for bending among you people ...  forget them. It is impossible. Good day.\",\"line\":{\"color\":\"#D46627\",\"width\":2},\"mode\":\"lines\",\"showlegend\":false,\"x\":[217,217],\"y\":[23.5,-23.5],\"type\":\"scatter\"},{\"hoverinfo\":\"text\",\"hovertext\":\"Haru: Katara?\",\"line\":{\"color\":\"#848587\",\"width\":2},\"mode\":\"lines\",\"showlegend\":false,\"x\":[219,219],\"y\":[0.5,-0.5],\"type\":\"scatter\"},{\"hoverinfo\":\"text\",\"hovertext\":\"Katara: Haru!\",\"line\":{\"color\":\"#81D3E8\",\"width\":2},\"mode\":\"lines\",\"showlegend\":false,\"x\":[221,221],\"y\":[0.5,-0.5],\"type\":\"scatter\"},{\"hoverinfo\":\"text\",\"hovertext\":\"Haru: What are you doing here?\",\"line\":{\"color\":\"#848587\",\"width\":2},\"mode\":\"lines\",\"showlegend\":false,\"x\":[223,223],\"y\":[2.5,-2.5],\"type\":\"scatter\"},{\"hoverinfo\":\"text\",\"hovertext\":\"Katara: It's my fault you were captured. I came to rescue you.\",\"line\":{\"color\":\"#81D3E8\",\"width\":2},\"mode\":\"lines\",\"showlegend\":false,\"x\":[225,225],\"y\":[5.5,-5.5],\"type\":\"scatter\"},{\"hoverinfo\":\"text\",\"hovertext\":\"Haru: So, you got yourself arrested?\",\"line\":{\"color\":\"#848587\",\"width\":2},\"mode\":\"lines\",\"showlegend\":false,\"x\":[227,227],\"y\":[2.5,-2.5],\"type\":\"scatter\"},{\"hoverinfo\":\"text\",\"hovertext\":\"Katara: It was the only way to find you.\",\"line\":{\"color\":\"#81D3E8\",\"width\":2},\"mode\":\"lines\",\"showlegend\":false,\"x\":[229,229],\"y\":[4.0,-4.0],\"type\":\"scatter\"},{\"hoverinfo\":\"text\",\"hovertext\":\"Haru: You've got guts, Katara. I'll give you that.  Come on. There's someone I want you to meet.\",\"line\":{\"color\":\"#848587\",\"width\":2},\"mode\":\"lines\",\"showlegend\":false,\"x\":[231,231],\"y\":[8.5,-8.5],\"type\":\"scatter\"},{\"hoverinfo\":\"text\",\"hovertext\":\"Haru: Katara. This is my father, Tyro.  Dad. This is Katara.\",\"line\":{\"color\":\"#848587\",\"width\":2},\"mode\":\"lines\",\"showlegend\":false,\"x\":[233,233],\"y\":[5.0,-5.0],\"type\":\"scatter\"},{\"hoverinfo\":\"text\",\"hovertext\":\"Katara: It's an honor to meet you.\",\"line\":{\"color\":\"#81D3E8\",\"width\":2},\"mode\":\"lines\",\"showlegend\":false,\"x\":[235,235],\"y\":[3.0,-3.0],\"type\":\"scatter\"},{\"hoverinfo\":\"text\",\"hovertext\":\"Tyro: Have some dinner, Katara.  It's not as bad as it looks.  It's still pretty bad though.\",\"line\":{\"color\":\"#848587\",\"width\":2},\"mode\":\"lines\",\"showlegend\":false,\"x\":[237,237],\"y\":[8.0,-8.0],\"type\":\"scatter\"},{\"hoverinfo\":\"text\",\"hovertext\":\"Prisoner: Tyro. The prisoners are complaining there aren't enough blankets to go around.\",\"line\":{\"color\":\"#848587\",\"width\":2},\"mode\":\"lines\",\"showlegend\":false,\"x\":[239,239],\"y\":[6.0,-6.0],\"type\":\"scatter\"},{\"hoverinfo\":\"text\",\"hovertext\":\"Tyro: I'll talk to the guards. In the meantime, make sure the elderly are taken care of. The rest of us will simply have to hope for warmer weather.\",\"line\":{\"color\":\"#848587\",\"width\":2},\"mode\":\"lines\",\"showlegend\":false,\"x\":[241,241],\"y\":[14.0,-14.0],\"type\":\"scatter\"},{\"hoverinfo\":\"text\",\"hovertext\":\"Katara: If you don't mind me asking, what's your escape plan?\",\"line\":{\"color\":\"#81D3E8\",\"width\":2},\"mode\":\"lines\",\"showlegend\":false,\"x\":[243,243],\"y\":[5.0,-5.0],\"type\":\"scatter\"},{\"hoverinfo\":\"text\",\"hovertext\":\"Tyro: Excuse me?\",\"line\":{\"color\":\"#848587\",\"width\":2},\"mode\":\"lines\",\"showlegend\":false,\"x\":[245,245],\"y\":[1.0,-1.0],\"type\":\"scatter\"},{\"hoverinfo\":\"text\",\"hovertext\":\"Katara: You know, the plan to get everyone off the rig? What is it? Mutiny, sabotage?\",\"line\":{\"color\":\"#81D3E8\",\"width\":2},\"mode\":\"lines\",\"showlegend\":false,\"x\":[247,247],\"y\":[7.5,-7.5],\"type\":\"scatter\"},{\"hoverinfo\":\"text\",\"hovertext\":\"Tyro: The plan? The plan is to survive. Wait out this war. Hope that one day some of us can get back home and forget this ever happened.\",\"line\":{\"color\":\"#848587\",\"width\":2},\"mode\":\"lines\",\"showlegend\":false,\"x\":[249,249],\"y\":[13.5,-13.5],\"type\":\"scatter\"},{\"hoverinfo\":\"text\",\"hovertext\":\"Katara: How can you say that? You sound like you've already given up!\",\"line\":{\"color\":\"#81D3E8\",\"width\":2},\"mode\":\"lines\",\"showlegend\":false,\"x\":[251,251],\"y\":[6.0,-6.0],\"type\":\"scatter\"},{\"hoverinfo\":\"text\",\"hovertext\":\"Tyro: Katara, I admire your courage. And I envy your youth. But people's lives are at stake here. The warden is a ruthless man, and he won't stand for any rebellion. I'm sorry, but we're powerless.\",\"line\":{\"color\":\"#848587\",\"width\":2},\"mode\":\"lines\",\"showlegend\":false,\"x\":[253,253],\"y\":[17.5,-17.5],\"type\":\"scatter\"},{\"hoverinfo\":\"text\",\"hovertext\":\"Katara: We'll see about that.\",\"line\":{\"color\":\"#81D3E8\",\"width\":2},\"mode\":\"lines\",\"showlegend\":false,\"x\":[255,255],\"y\":[2.0,-2.0],\"type\":\"scatter\"},{\"hoverinfo\":\"text\",\"hovertext\":\"Katara: Earthbenders! You don't know me, but I know of you. Every child in my Water Tribe village was rocked to sleep with stories of the brave Earth Kingdom, and the courageous earthbenders who guard its borders.  Some of you may think that the Fire Nation has made you powerless. Yes, they have taken away your ability to bend. But they can't take away your courage . And it is your courage they should truly fear! Because it runs deeper than any mine you've been forced to dig, any ocean that keeps you far from home! It is the strength of your hearts that make you who you are. Hearts that will remain unbroken when all rock and stone has eroded away. The time to fight back is now! I can tell you the Avatar has returned! So remember your courage earthbenders,  let us fight for our freedom!\",\"line\":{\"color\":\"#81D3E8\",\"width\":2},\"mode\":\"lines\",\"showlegend\":false,\"x\":[257,257],\"y\":[73.5,-73.5],\"type\":\"scatter\"},{\"hoverinfo\":\"text\",\"hovertext\":\"Sokka: Your twelve hours are up; where's Haru? We've gotta get outta here!\",\"line\":{\"color\":\"#81D3E8\",\"width\":2},\"mode\":\"lines\",\"showlegend\":false,\"x\":[259,259],\"y\":[6.0,-6.0],\"type\":\"scatter\"},{\"hoverinfo\":\"text\",\"hovertext\":\"Katara: I can't.\",\"line\":{\"color\":\"#81D3E8\",\"width\":2},\"mode\":\"lines\",\"showlegend\":false,\"x\":[261,261],\"y\":[1.0,-1.0],\"type\":\"scatter\"},{\"hoverinfo\":\"text\",\"hovertext\":\"Sokka: We don't have much time. There are guards everywhere. Get on!\",\"line\":{\"color\":\"#81D3E8\",\"width\":2},\"mode\":\"lines\",\"showlegend\":false,\"x\":[263,263],\"y\":[5.5,-5.5],\"type\":\"scatter\"},{\"hoverinfo\":\"text\",\"hovertext\":\"Aang: Katara, what's wrong?\",\"line\":{\"color\":\"#F9D672\",\"width\":2},\"mode\":\"lines\",\"showlegend\":false,\"x\":[265,265],\"y\":[1.5,-1.5],\"type\":\"scatter\"},{\"hoverinfo\":\"text\",\"hovertext\":\"Katara: I'm not leaving.  I'm not giving up on these people.\",\"line\":{\"color\":\"#81D3E8\",\"width\":2},\"mode\":\"lines\",\"showlegend\":false,\"x\":[267,267],\"y\":[5.0,-5.0],\"type\":\"scatter\"},{\"hoverinfo\":\"text\",\"hovertext\":\"Sokka: What do you mean you're not leaving?\",\"line\":{\"color\":\"#81D3E8\",\"width\":2},\"mode\":\"lines\",\"showlegend\":false,\"x\":[269,269],\"y\":[3.5,-3.5],\"type\":\"scatter\"},{\"hoverinfo\":\"text\",\"hovertext\":\"Katara: We can't abandon these people! There has to be a way to help them.\",\"line\":{\"color\":\"#81D3E8\",\"width\":2},\"mode\":\"lines\",\"showlegend\":false,\"x\":[271,271],\"y\":[7.0,-7.0],\"type\":\"scatter\"},{\"hoverinfo\":\"text\",\"hovertext\":\"Aang: Maybe she's right. What do you say, Sokka?\",\"line\":{\"color\":\"#F9D672\",\"width\":2},\"mode\":\"lines\",\"showlegend\":false,\"x\":[273,273],\"y\":[4.0,-4.0],\"type\":\"scatter\"},{\"hoverinfo\":\"text\",\"hovertext\":\"Sokka: I say you're both crazy!  Last chance! We need to leave, now!\",\"line\":{\"color\":\"#81D3E8\",\"width\":2},\"mode\":\"lines\",\"showlegend\":false,\"x\":[275,275],\"y\":[6.0,-6.0],\"type\":\"scatter\"},{\"hoverinfo\":\"text\",\"hovertext\":\"Katara: No!\",\"line\":{\"color\":\"#81D3E8\",\"width\":2},\"mode\":\"lines\",\"showlegend\":false,\"x\":[277,277],\"y\":[0.5,-0.5],\"type\":\"scatter\"},{\"hoverinfo\":\"text\",\"hovertext\":\"Sokka: I hate when you get like this. Come on, we better hide.\",\"line\":{\"color\":\"#81D3E8\",\"width\":2},\"mode\":\"lines\",\"showlegend\":false,\"x\":[279,279],\"y\":[6.0,-6.0],\"type\":\"scatter\"},{\"hoverinfo\":\"text\",\"hovertext\":\"Aang: Go hide.\",\"line\":{\"color\":\"#F9D672\",\"width\":2},\"mode\":\"lines\",\"showlegend\":false,\"x\":[281,281],\"y\":[1.0,-1.0],\"type\":\"scatter\"},{\"hoverinfo\":\"text\",\"hovertext\":\"Captain: Look!\",\"line\":{\"color\":\"#848587\",\"width\":2},\"mode\":\"lines\",\"showlegend\":false,\"x\":[283,283],\"y\":[0.5,-0.5],\"type\":\"scatter\"},{\"hoverinfo\":\"text\",\"hovertext\":\"Warden: Tell me exactly what you saw.\",\"line\":{\"color\":\"#D46627\",\"width\":2},\"mode\":\"lines\",\"showlegend\":false,\"x\":[285,285],\"y\":[3.0,-3.0],\"type\":\"scatter\"},{\"hoverinfo\":\"text\",\"hovertext\":\"Captain: Well, sir, it looked like a flying bison.\",\"line\":{\"color\":\"#848587\",\"width\":2},\"mode\":\"lines\",\"showlegend\":false,\"x\":[287,287],\"y\":[4.0,-4.0],\"type\":\"scatter\"},{\"hoverinfo\":\"text\",\"hovertext\":\"Warden: What?\",\"line\":{\"color\":\"#D46627\",\"width\":2},\"mode\":\"lines\",\"showlegend\":false,\"x\":[289,289],\"y\":[0.5,-0.5],\"type\":\"scatter\"},{\"hoverinfo\":\"text\",\"hovertext\":\"Guard: It was a giant flying buffalo, sir. With an empty saddle.\",\"line\":{\"color\":\"#848587\",\"width\":2},\"mode\":\"lines\",\"showlegend\":false,\"x\":[291,291],\"y\":[5.5,-5.5],\"type\":\"scatter\"},{\"hoverinfo\":\"text\",\"hovertext\":\"Warden: Which was it? A buffalo or a bison?\",\"line\":{\"color\":\"#D46627\",\"width\":2},\"mode\":\"lines\",\"showlegend\":false,\"x\":[293,293],\"y\":[4.0,-4.0],\"type\":\"scatter\"},{\"hoverinfo\":\"text\",\"hovertext\":\"Captain: Uh, I'm not sure what the difference is, but that's not really the point, is it, sir?\",\"line\":{\"color\":\"#848587\",\"width\":2},\"mode\":\"lines\",\"showlegend\":false,\"x\":[295,295],\"y\":[8.5,-8.5],\"type\":\"scatter\"},{\"hoverinfo\":\"text\",\"hovertext\":\"Warden: I'll decide what the point is, fool!\",\"line\":{\"color\":\"#D46627\",\"width\":2},\"mode\":\"lines\",\"showlegend\":false,\"x\":[297,297],\"y\":[3.5,-3.5],\"type\":\"scatter\"},{\"hoverinfo\":\"text\",\"hovertext\":\"Warden: You! Wake up the captain. Search the entire rig!\",\"line\":{\"color\":\"#D46627\",\"width\":2},\"mode\":\"lines\",\"showlegend\":false,\"x\":[299,299],\"y\":[4.5,-4.5],\"type\":\"scatter\"},{\"hoverinfo\":\"text\",\"hovertext\":\"Guard: Uh, sir.\",\"line\":{\"color\":\"#848587\",\"width\":2},\"mode\":\"lines\",\"showlegend\":false,\"x\":[301,301],\"y\":[1.0,-1.0],\"type\":\"scatter\"},{\"hoverinfo\":\"text\",\"hovertext\":\"Warden: What?\",\"line\":{\"color\":\"#D46627\",\"width\":2},\"mode\":\"lines\",\"showlegend\":false,\"x\":[303,303],\"y\":[0.5,-0.5],\"type\":\"scatter\"},{\"hoverinfo\":\"text\",\"hovertext\":\"Guard: That was ... the captain you just threw overboard, so ...\",\"line\":{\"color\":\"#848587\",\"width\":2},\"mode\":\"lines\",\"showlegend\":false,\"x\":[305,305],\"y\":[5.5,-5.5],\"type\":\"scatter\"},{\"hoverinfo\":\"text\",\"hovertext\":\"Warden: Then wake up someone I haven't thrown overboard and search the rig! There's something going on here and I don't like it.\",\"line\":{\"color\":\"#D46627\",\"width\":2},\"mode\":\"lines\",\"showlegend\":false,\"x\":[307,307],\"y\":[11.0,-11.0],\"type\":\"scatter\"},{\"hoverinfo\":\"text\",\"hovertext\":\"Sokka: We don't have much time. What are we gonna do?\",\"line\":{\"color\":\"#81D3E8\",\"width\":2},\"mode\":\"lines\",\"showlegend\":false,\"x\":[309,309],\"y\":[5.0,-5.0],\"type\":\"scatter\"},{\"hoverinfo\":\"text\",\"hovertext\":\"Aang: I wish I knew how to make a hurricane!\",\"line\":{\"color\":\"#F9D672\",\"width\":2},\"mode\":\"lines\",\"showlegend\":false,\"x\":[311,311],\"y\":[4.5,-4.5],\"type\":\"scatter\"},{\"hoverinfo\":\"text\",\"hovertext\":\"Aang: The warden would run away and we'd steal his keys!\",\"line\":{\"color\":\"#F9D672\",\"width\":2},\"mode\":\"lines\",\"showlegend\":false,\"x\":[313,313],\"y\":[5.0,-5.0],\"type\":\"scatter\"},{\"hoverinfo\":\"text\",\"hovertext\":\"Sokka: Wouldn't he just take his keys with him?\",\"line\":{\"color\":\"#81D3E8\",\"width\":2},\"mode\":\"lines\",\"showlegend\":false,\"x\":[315,315],\"y\":[4.0,-4.0],\"type\":\"scatter\"},{\"hoverinfo\":\"text\",\"hovertext\":\"Aang: I'm just tossing ideas around.\",\"line\":{\"color\":\"#F9D672\",\"width\":2},\"mode\":\"lines\",\"showlegend\":false,\"x\":[317,317],\"y\":[2.5,-2.5],\"type\":\"scatter\"},{\"hoverinfo\":\"text\",\"hovertext\":\"Katara: I tried talking the earthbenders into fighting back but, it didn't work! If there was just a way to help them help themselves.\",\"line\":{\"color\":\"#81D3E8\",\"width\":2},\"mode\":\"lines\",\"showlegend\":false,\"x\":[319,319],\"y\":[11.5,-11.5],\"type\":\"scatter\"},{\"hoverinfo\":\"text\",\"hovertext\":\"Sokka: For that they'd need some kind of earth, or some rock. Something they can bend.\",\"line\":{\"color\":\"#81D3E8\",\"width\":2},\"mode\":\"lines\",\"showlegend\":false,\"x\":[321,321],\"y\":[7.5,-7.5],\"type\":\"scatter\"},{\"hoverinfo\":\"text\",\"hovertext\":\"Katara: But this entire place is made of metal!\",\"line\":{\"color\":\"#81D3E8\",\"width\":2},\"mode\":\"lines\",\"showlegend\":false,\"x\":[323,323],\"y\":[4.0,-4.0],\"type\":\"scatter\"},{\"hoverinfo\":\"text\",\"hovertext\":\"Aang: No, it's not.  Look at the smoke! I bet they're burning coal. In other words, earth.\",\"line\":{\"color\":\"#F9D672\",\"width\":2},\"mode\":\"lines\",\"showlegend\":false,\"x\":[325,325],\"y\":[8.0,-8.0],\"type\":\"scatter\"},{\"hoverinfo\":\"text\",\"hovertext\":\"Katara: It's almost dawn. We're running out of time! You sure this is gonna work?\",\"line\":{\"color\":\"#81D3E8\",\"width\":2},\"mode\":\"lines\",\"showlegend\":false,\"x\":[327,327],\"y\":[7.0,-7.0],\"type\":\"scatter\"},{\"hoverinfo\":\"text\",\"hovertext\":\"Sokka: It should. These vents reminded me of our little trick back at the village. We're gonna do the same thing, but on a much bigger scale.  There's a huge deposit of coal at the base of the silo. And the whole system is ventilated. Aang closed off all the vents except one. When he does his airbending the coal only has one place to go, right back here.\",\"line\":{\"color\":\"#81D3E8\",\"width\":2},\"mode\":\"lines\",\"showlegend\":false,\"x\":[329,329],\"y\":[34.0,-34.0],\"type\":\"scatter\"},{\"hoverinfo\":\"text\",\"hovertext\":\"Guard: There's the intruder!\",\"line\":{\"color\":\"#848587\",\"width\":2},\"mode\":\"lines\",\"showlegend\":false,\"x\":[331,331],\"y\":[1.5,-1.5],\"type\":\"scatter\"},{\"hoverinfo\":\"text\",\"hovertext\":\"Sokka: Stay back! I'm warning you!\",\"line\":{\"color\":\"#81D3E8\",\"width\":2},\"mode\":\"lines\",\"showlegend\":false,\"x\":[333,333],\"y\":[2.5,-2.5],\"type\":\"scatter\"},{\"hoverinfo\":\"text\",\"hovertext\":\"Tyro: Katara, stop! You can't win this fight!\",\"line\":{\"color\":\"#848587\",\"width\":2},\"mode\":\"lines\",\"showlegend\":false,\"x\":[335,335],\"y\":[3.5,-3.5],\"type\":\"scatter\"},{\"hoverinfo\":\"text\",\"hovertext\":\"Warden: Listen to him well, child. You're one mistake away from dying where you stand.\",\"line\":{\"color\":\"#D46627\",\"width\":2},\"mode\":\"lines\",\"showlegend\":false,\"x\":[337,337],\"y\":[7.0,-7.0],\"type\":\"scatter\"},{\"hoverinfo\":\"text\",\"hovertext\":\"Katara: Here's your chance, earthbenders! Take it! Your fate is in your own hands!\",\"line\":{\"color\":\"#81D3E8\",\"width\":2},\"mode\":\"lines\",\"showlegend\":false,\"x\":[339,339],\"y\":[6.5,-6.5],\"type\":\"scatter\"},{\"hoverinfo\":\"text\",\"hovertext\":\"Warden: Foolish girl. You thought a few inspirational words and some coal would change these people? Look at these blank, hopeless faces. Their spirits were broken a long time ago.  Oh, but you still believe in them. How sweet. They're a waste of your energy little girl. You failed.\",\"line\":{\"color\":\"#D46627\",\"width\":2},\"mode\":\"lines\",\"showlegend\":false,\"x\":[341,341],\"y\":[24.0,-24.0],\"type\":\"scatter\"},{\"hoverinfo\":\"text\",\"hovertext\":\"Warden: Show no mercy!\",\"line\":{\"color\":\"#D46627\",\"width\":2},\"mode\":\"lines\",\"showlegend\":false,\"x\":[343,343],\"y\":[1.5,-1.5],\"type\":\"scatter\"},{\"hoverinfo\":\"text\",\"hovertext\":\"Tyro: For the Earth Kingdom, attack!\",\"line\":{\"color\":\"#848587\",\"width\":2},\"mode\":\"lines\",\"showlegend\":false,\"x\":[345,345],\"y\":[2.5,-2.5],\"type\":\"scatter\"},{\"hoverinfo\":\"text\",\"hovertext\":\"Tyro: Get to the ships! We'll hold them off!\",\"line\":{\"color\":\"#848587\",\"width\":2},\"mode\":\"lines\",\"showlegend\":false,\"x\":[347,347],\"y\":[4.0,-4.0],\"type\":\"scatter\"},{\"hoverinfo\":\"text\",\"hovertext\":\"Warden: Do not let them escape!\",\"line\":{\"color\":\"#D46627\",\"width\":2},\"mode\":\"lines\",\"showlegend\":false,\"x\":[349,349],\"y\":[2.5,-2.5],\"type\":\"scatter\"},{\"hoverinfo\":\"text\",\"hovertext\":\"Aang: Guys! Throw me some coal!\",\"line\":{\"color\":\"#F9D672\",\"width\":2},\"mode\":\"lines\",\"showlegend\":false,\"x\":[351,351],\"y\":[2.5,-2.5],\"type\":\"scatter\"},{\"hoverinfo\":\"text\",\"hovertext\":\"Warden: No, please! I can't swim!\",\"line\":{\"color\":\"#D46627\",\"width\":2},\"mode\":\"lines\",\"showlegend\":false,\"x\":[353,353],\"y\":[2.5,-2.5],\"type\":\"scatter\"},{\"hoverinfo\":\"text\",\"hovertext\":\"Tyro: Don't worry. I hear cowards float.\",\"line\":{\"color\":\"#848587\",\"width\":2},\"mode\":\"lines\",\"showlegend\":false,\"x\":[355,355],\"y\":[3.0,-3.0],\"type\":\"scatter\"},{\"hoverinfo\":\"text\",\"hovertext\":\"Haru: I want to thank you for saving me. For saving us.\",\"line\":{\"color\":\"#848587\",\"width\":2},\"mode\":\"lines\",\"showlegend\":false,\"x\":[357,357],\"y\":[5.5,-5.5],\"type\":\"scatter\"},{\"hoverinfo\":\"text\",\"hovertext\":\"Katara: All it took was a little coal.\",\"line\":{\"color\":\"#81D3E8\",\"width\":2},\"mode\":\"lines\",\"showlegend\":false,\"x\":[359,359],\"y\":[3.5,-3.5],\"type\":\"scatter\"},{\"hoverinfo\":\"text\",\"hovertext\":\"Haru: It wasn't the coal, Katara. It was you.\",\"line\":{\"color\":\"#848587\",\"width\":2},\"mode\":\"lines\",\"showlegend\":false,\"x\":[361,361],\"y\":[4.0,-4.0],\"type\":\"scatter\"},{\"hoverinfo\":\"text\",\"hovertext\":\"Tyro: Thank you for helping me find my courage, Katara of the Water Tribe. My family and everyone here owes you much.\",\"line\":{\"color\":\"#848587\",\"width\":2},\"mode\":\"lines\",\"showlegend\":false,\"x\":[363,363],\"y\":[10.5,-10.5],\"type\":\"scatter\"},{\"hoverinfo\":\"text\",\"hovertext\":\"Katara: So, I guess you're going home now.\",\"line\":{\"color\":\"#81D3E8\",\"width\":2},\"mode\":\"lines\",\"showlegend\":false,\"x\":[365,365],\"y\":[3.5,-3.5],\"type\":\"scatter\"},{\"hoverinfo\":\"text\",\"hovertext\":\"Tyro: Yes. To take back my village.  To take back all of our villages! The Fire Nation will regret the day they set foot on our land!\",\"line\":{\"color\":\"#848587\",\"width\":2},\"mode\":\"lines\",\"showlegend\":false,\"x\":[367,367],\"y\":[13.0,-13.0],\"type\":\"scatter\"},{\"hoverinfo\":\"text\",\"hovertext\":\"Haru: Come with us.\",\"line\":{\"color\":\"#848587\",\"width\":2},\"mode\":\"lines\",\"showlegend\":false,\"x\":[369,369],\"y\":[1.5,-1.5],\"type\":\"scatter\"},{\"hoverinfo\":\"text\",\"hovertext\":\"Katara: I can't. Your mission is to take back your home. Ours is to get Aang to the North Pole.\",\"line\":{\"color\":\"#81D3E8\",\"width\":2},\"mode\":\"lines\",\"showlegend\":false,\"x\":[371,371],\"y\":[9.5,-9.5],\"type\":\"scatter\"},{\"hoverinfo\":\"text\",\"hovertext\":\"Haru: That's him, isn't it? The Avatar.  Katara, thank you for bringing my father back to me. I never thought I'd see him again. I only wish there was some way ...\",\"line\":{\"color\":\"#848587\",\"width\":2},\"mode\":\"lines\",\"showlegend\":false,\"x\":[373,373],\"y\":[15.5,-15.5],\"type\":\"scatter\"},{\"hoverinfo\":\"text\",\"hovertext\":\"Katara: I know.  My mother's necklace! It's gone!\",\"line\":{\"color\":\"#81D3E8\",\"width\":2},\"mode\":\"lines\",\"showlegend\":false,\"x\":[375,375],\"y\":[3.5,-3.5],\"type\":\"scatter\"}],                        {\"template\":{\"data\":{\"histogram2dcontour\":[{\"type\":\"histogram2dcontour\",\"colorbar\":{\"outlinewidth\":0,\"ticks\":\"\"},\"colorscale\":[[0.0,\"#0d0887\"],[0.1111111111111111,\"#46039f\"],[0.2222222222222222,\"#7201a8\"],[0.3333333333333333,\"#9c179e\"],[0.4444444444444444,\"#bd3786\"],[0.5555555555555556,\"#d8576b\"],[0.6666666666666666,\"#ed7953\"],[0.7777777777777778,\"#fb9f3a\"],[0.8888888888888888,\"#fdca26\"],[1.0,\"#f0f921\"]]}],\"choropleth\":[{\"type\":\"choropleth\",\"colorbar\":{\"outlinewidth\":0,\"ticks\":\"\"}}],\"histogram2d\":[{\"type\":\"histogram2d\",\"colorbar\":{\"outlinewidth\":0,\"ticks\":\"\"},\"colorscale\":[[0.0,\"#0d0887\"],[0.1111111111111111,\"#46039f\"],[0.2222222222222222,\"#7201a8\"],[0.3333333333333333,\"#9c179e\"],[0.4444444444444444,\"#bd3786\"],[0.5555555555555556,\"#d8576b\"],[0.6666666666666666,\"#ed7953\"],[0.7777777777777778,\"#fb9f3a\"],[0.8888888888888888,\"#fdca26\"],[1.0,\"#f0f921\"]]}],\"heatmap\":[{\"type\":\"heatmap\",\"colorbar\":{\"outlinewidth\":0,\"ticks\":\"\"},\"colorscale\":[[0.0,\"#0d0887\"],[0.1111111111111111,\"#46039f\"],[0.2222222222222222,\"#7201a8\"],[0.3333333333333333,\"#9c179e\"],[0.4444444444444444,\"#bd3786\"],[0.5555555555555556,\"#d8576b\"],[0.6666666666666666,\"#ed7953\"],[0.7777777777777778,\"#fb9f3a\"],[0.8888888888888888,\"#fdca26\"],[1.0,\"#f0f921\"]]}],\"heatmapgl\":[{\"type\":\"heatmapgl\",\"colorbar\":{\"outlinewidth\":0,\"ticks\":\"\"},\"colorscale\":[[0.0,\"#0d0887\"],[0.1111111111111111,\"#46039f\"],[0.2222222222222222,\"#7201a8\"],[0.3333333333333333,\"#9c179e\"],[0.4444444444444444,\"#bd3786\"],[0.5555555555555556,\"#d8576b\"],[0.6666666666666666,\"#ed7953\"],[0.7777777777777778,\"#fb9f3a\"],[0.8888888888888888,\"#fdca26\"],[1.0,\"#f0f921\"]]}],\"contourcarpet\":[{\"type\":\"contourcarpet\",\"colorbar\":{\"outlinewidth\":0,\"ticks\":\"\"}}],\"contour\":[{\"type\":\"contour\",\"colorbar\":{\"outlinewidth\":0,\"ticks\":\"\"},\"colorscale\":[[0.0,\"#0d0887\"],[0.1111111111111111,\"#46039f\"],[0.2222222222222222,\"#7201a8\"],[0.3333333333333333,\"#9c179e\"],[0.4444444444444444,\"#bd3786\"],[0.5555555555555556,\"#d8576b\"],[0.6666666666666666,\"#ed7953\"],[0.7777777777777778,\"#fb9f3a\"],[0.8888888888888888,\"#fdca26\"],[1.0,\"#f0f921\"]]}],\"surface\":[{\"type\":\"surface\",\"colorbar\":{\"outlinewidth\":0,\"ticks\":\"\"},\"colorscale\":[[0.0,\"#0d0887\"],[0.1111111111111111,\"#46039f\"],[0.2222222222222222,\"#7201a8\"],[0.3333333333333333,\"#9c179e\"],[0.4444444444444444,\"#bd3786\"],[0.5555555555555556,\"#d8576b\"],[0.6666666666666666,\"#ed7953\"],[0.7777777777777778,\"#fb9f3a\"],[0.8888888888888888,\"#fdca26\"],[1.0,\"#f0f921\"]]}],\"mesh3d\":[{\"type\":\"mesh3d\",\"colorbar\":{\"outlinewidth\":0,\"ticks\":\"\"}}],\"scatter\":[{\"fillpattern\":{\"fillmode\":\"overlay\",\"size\":10,\"solidity\":0.2},\"type\":\"scatter\"}],\"parcoords\":[{\"type\":\"parcoords\",\"line\":{\"colorbar\":{\"outlinewidth\":0,\"ticks\":\"\"}}}],\"scatterpolargl\":[{\"type\":\"scatterpolargl\",\"marker\":{\"colorbar\":{\"outlinewidth\":0,\"ticks\":\"\"}}}],\"bar\":[{\"error_x\":{\"color\":\"#2a3f5f\"},\"error_y\":{\"color\":\"#2a3f5f\"},\"marker\":{\"line\":{\"color\":\"#E5ECF6\",\"width\":0.5},\"pattern\":{\"fillmode\":\"overlay\",\"size\":10,\"solidity\":0.2}},\"type\":\"bar\"}],\"scattergeo\":[{\"type\":\"scattergeo\",\"marker\":{\"colorbar\":{\"outlinewidth\":0,\"ticks\":\"\"}}}],\"scatterpolar\":[{\"type\":\"scatterpolar\",\"marker\":{\"colorbar\":{\"outlinewidth\":0,\"ticks\":\"\"}}}],\"histogram\":[{\"marker\":{\"pattern\":{\"fillmode\":\"overlay\",\"size\":10,\"solidity\":0.2}},\"type\":\"histogram\"}],\"scattergl\":[{\"type\":\"scattergl\",\"marker\":{\"colorbar\":{\"outlinewidth\":0,\"ticks\":\"\"}}}],\"scatter3d\":[{\"type\":\"scatter3d\",\"line\":{\"colorbar\":{\"outlinewidth\":0,\"ticks\":\"\"}},\"marker\":{\"colorbar\":{\"outlinewidth\":0,\"ticks\":\"\"}}}],\"scattermapbox\":[{\"type\":\"scattermapbox\",\"marker\":{\"colorbar\":{\"outlinewidth\":0,\"ticks\":\"\"}}}],\"scatterternary\":[{\"type\":\"scatterternary\",\"marker\":{\"colorbar\":{\"outlinewidth\":0,\"ticks\":\"\"}}}],\"scattercarpet\":[{\"type\":\"scattercarpet\",\"marker\":{\"colorbar\":{\"outlinewidth\":0,\"ticks\":\"\"}}}],\"carpet\":[{\"aaxis\":{\"endlinecolor\":\"#2a3f5f\",\"gridcolor\":\"white\",\"linecolor\":\"white\",\"minorgridcolor\":\"white\",\"startlinecolor\":\"#2a3f5f\"},\"baxis\":{\"endlinecolor\":\"#2a3f5f\",\"gridcolor\":\"white\",\"linecolor\":\"white\",\"minorgridcolor\":\"white\",\"startlinecolor\":\"#2a3f5f\"},\"type\":\"carpet\"}],\"table\":[{\"cells\":{\"fill\":{\"color\":\"#EBF0F8\"},\"line\":{\"color\":\"white\"}},\"header\":{\"fill\":{\"color\":\"#C8D4E3\"},\"line\":{\"color\":\"white\"}},\"type\":\"table\"}],\"barpolar\":[{\"marker\":{\"line\":{\"color\":\"#E5ECF6\",\"width\":0.5},\"pattern\":{\"fillmode\":\"overlay\",\"size\":10,\"solidity\":0.2}},\"type\":\"barpolar\"}],\"pie\":[{\"automargin\":true,\"type\":\"pie\"}]},\"layout\":{\"autotypenumbers\":\"strict\",\"colorway\":[\"#636efa\",\"#EF553B\",\"#00cc96\",\"#ab63fa\",\"#FFA15A\",\"#19d3f3\",\"#FF6692\",\"#B6E880\",\"#FF97FF\",\"#FECB52\"],\"font\":{\"color\":\"#2a3f5f\"},\"hovermode\":\"closest\",\"hoverlabel\":{\"align\":\"left\"},\"paper_bgcolor\":\"white\",\"plot_bgcolor\":\"#E5ECF6\",\"polar\":{\"bgcolor\":\"#E5ECF6\",\"angularaxis\":{\"gridcolor\":\"white\",\"linecolor\":\"white\",\"ticks\":\"\"},\"radialaxis\":{\"gridcolor\":\"white\",\"linecolor\":\"white\",\"ticks\":\"\"}},\"ternary\":{\"bgcolor\":\"#E5ECF6\",\"aaxis\":{\"gridcolor\":\"white\",\"linecolor\":\"white\",\"ticks\":\"\"},\"baxis\":{\"gridcolor\":\"white\",\"linecolor\":\"white\",\"ticks\":\"\"},\"caxis\":{\"gridcolor\":\"white\",\"linecolor\":\"white\",\"ticks\":\"\"}},\"coloraxis\":{\"colorbar\":{\"outlinewidth\":0,\"ticks\":\"\"}},\"colorscale\":{\"sequential\":[[0.0,\"#0d0887\"],[0.1111111111111111,\"#46039f\"],[0.2222222222222222,\"#7201a8\"],[0.3333333333333333,\"#9c179e\"],[0.4444444444444444,\"#bd3786\"],[0.5555555555555556,\"#d8576b\"],[0.6666666666666666,\"#ed7953\"],[0.7777777777777778,\"#fb9f3a\"],[0.8888888888888888,\"#fdca26\"],[1.0,\"#f0f921\"]],\"sequentialminus\":[[0.0,\"#0d0887\"],[0.1111111111111111,\"#46039f\"],[0.2222222222222222,\"#7201a8\"],[0.3333333333333333,\"#9c179e\"],[0.4444444444444444,\"#bd3786\"],[0.5555555555555556,\"#d8576b\"],[0.6666666666666666,\"#ed7953\"],[0.7777777777777778,\"#fb9f3a\"],[0.8888888888888888,\"#fdca26\"],[1.0,\"#f0f921\"]],\"diverging\":[[0,\"#8e0152\"],[0.1,\"#c51b7d\"],[0.2,\"#de77ae\"],[0.3,\"#f1b6da\"],[0.4,\"#fde0ef\"],[0.5,\"#f7f7f7\"],[0.6,\"#e6f5d0\"],[0.7,\"#b8e186\"],[0.8,\"#7fbc41\"],[0.9,\"#4d9221\"],[1,\"#276419\"]]},\"xaxis\":{\"gridcolor\":\"white\",\"linecolor\":\"white\",\"ticks\":\"\",\"title\":{\"standoff\":15},\"zerolinecolor\":\"white\",\"automargin\":true,\"zerolinewidth\":2},\"yaxis\":{\"gridcolor\":\"white\",\"linecolor\":\"white\",\"ticks\":\"\",\"title\":{\"standoff\":15},\"zerolinecolor\":\"white\",\"automargin\":true,\"zerolinewidth\":2},\"scene\":{\"xaxis\":{\"backgroundcolor\":\"#E5ECF6\",\"gridcolor\":\"white\",\"linecolor\":\"white\",\"showbackground\":true,\"ticks\":\"\",\"zerolinecolor\":\"white\",\"gridwidth\":2},\"yaxis\":{\"backgroundcolor\":\"#E5ECF6\",\"gridcolor\":\"white\",\"linecolor\":\"white\",\"showbackground\":true,\"ticks\":\"\",\"zerolinecolor\":\"white\",\"gridwidth\":2},\"zaxis\":{\"backgroundcolor\":\"#E5ECF6\",\"gridcolor\":\"white\",\"linecolor\":\"white\",\"showbackground\":true,\"ticks\":\"\",\"zerolinecolor\":\"white\",\"gridwidth\":2}},\"shapedefaults\":{\"line\":{\"color\":\"#2a3f5f\"}},\"annotationdefaults\":{\"arrowcolor\":\"#2a3f5f\",\"arrowhead\":0,\"arrowwidth\":1},\"geo\":{\"bgcolor\":\"white\",\"landcolor\":\"#E5ECF6\",\"subunitcolor\":\"white\",\"showland\":true,\"showlakes\":true,\"lakecolor\":\"white\"},\"title\":{\"x\":0.05},\"mapbox\":{\"style\":\"light\"}}},\"title\":{\"text\":\"Imprisoned\",\"font\":{\"size\":20},\"x\":0.5},\"xaxis\":{\"showgrid\":false,\"showticklabels\":false},\"yaxis\":{\"showgrid\":false,\"showticklabels\":false},\"margin\":{\"l\":50,\"r\":50,\"t\":50,\"b\":0},\"plot_bgcolor\":\"white\",\"hovermode\":\"closest\"},                        {\"responsive\": true}                    ).then(function(){\n",
       "                            \n",
       "var gd = document.getElementById('32ae0993-2466-42d2-a6fe-19263aef5ab3');\n",
       "var x = new MutationObserver(function (mutations, observer) {{\n",
       "        var display = window.getComputedStyle(gd).display;\n",
       "        if (!display || display === 'none') {{\n",
       "            console.log([gd, 'removed!']);\n",
       "            Plotly.purge(gd);\n",
       "            observer.disconnect();\n",
       "        }}\n",
       "}});\n",
       "\n",
       "// Listen for the removal of the full notebook cells\n",
       "var notebookContainer = gd.closest('#notebook-container');\n",
       "if (notebookContainer) {{\n",
       "    x.observe(notebookContainer, {childList: true});\n",
       "}}\n",
       "\n",
       "// Listen for the clearing of the current output cell\n",
       "var outputEl = gd.closest('.output');\n",
       "if (outputEl) {{\n",
       "    x.observe(outputEl, {childList: true});\n",
       "}}\n",
       "\n",
       "                        })                };                });            </script>        </div>"
      ]
     },
     "metadata": {},
     "output_type": "display_data"
    }
   ],
   "source": [
    "for episode_num in transcript_df['abs_episode'].unique()[3:6]:\n",
    "    fig = transcript_viz(episode_num)\n",
    "    fig.show()"
   ]
  },
  {
   "cell_type": "code",
   "execution_count": null,
   "id": "80d8794d-b96f-45bf-8a62-c03228ba0d60",
   "metadata": {},
   "outputs": [],
   "source": []
  }
 ],
 "metadata": {
  "kernelspec": {
   "display_name": "Python 3 (ipykernel)",
   "language": "python",
   "name": "python3"
  },
  "language_info": {
   "codemirror_mode": {
    "name": "ipython",
    "version": 3
   },
   "file_extension": ".py",
   "mimetype": "text/x-python",
   "name": "python",
   "nbconvert_exporter": "python",
   "pygments_lexer": "ipython3",
   "version": "3.9.13"
  }
 },
 "nbformat": 4,
 "nbformat_minor": 5
}
